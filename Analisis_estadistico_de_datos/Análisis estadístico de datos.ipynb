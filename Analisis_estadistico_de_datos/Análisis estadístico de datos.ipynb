{
 "cells": [
  {
   "cell_type": "markdown",
   "metadata": {
    "id": "3rYiDeEH0q0f"
   },
   "source": [
    "# Introducción\n",
    "\n",
    "En el mundo actual de las telecomunicaciones, la toma de decisiones basada en datos es fundamental para optimizar los recursos y maximizar los ingresos. En este proyecto, nos enfocamos en analizar el comportamiento de los clientes de Megaline, un operador de telecomunicaciones que ofrece dos tarifas de prepago: Surf y Ultimate. El objetivo principal fue determinar cuál de estos planes genera más ingresos y cómo el comportamiento de los usuarios varía en función de su región y uso de servicios (llamadas, mensajes y datos).\n",
    "\n",
    "Para lograr esto, se analizó una muestra de 500 clientes, incluyendo datos sobre su uso de servicios durante el año 2018. Se realizó un análisis exploratorio de los datos, se calcularon métricas clave (como minutos usados, mensajes enviados y datos consumidos) y se evaluó el impacto de estos factores en los ingresos mensuales. Además, se llevaron a cabo pruebas estadísticas para comparar los ingresos entre los planes y las regiones, con el fin de identificar diferencias significativas y proporcionar recomendaciones estratégicas.\n"
   ]
  },
  {
   "cell_type": "markdown",
   "metadata": {
    "id": "MQi4IPy70q0y"
   },
   "source": [
    "## Inicialización"
   ]
  },
  {
   "cell_type": "code",
   "execution_count": 1,
   "metadata": {
    "id": "MtYIuBxu0q0z",
    "trusted": false
   },
   "outputs": [],
   "source": [
    "# Cargar todas las librerías\n",
    "import pandas as pd\n",
    "import numpy as np\n",
    "import matplotlib.pyplot as plt\n",
    "import seaborn as sns\n",
    "from scipy import stats"
   ]
  },
  {
   "cell_type": "markdown",
   "metadata": {
    "id": "4ysWWC5i0q00"
   },
   "source": [
    "## Cargar datos"
   ]
  },
  {
   "cell_type": "code",
   "execution_count": 2,
   "metadata": {
    "id": "CCqPW7rS0q01",
    "trusted": false
   },
   "outputs": [],
   "source": [
    "# Carga los archivos de datos en diferentes DataFrames\n",
    "users = pd.read_csv('/datasets/megaline_users.csv')\n",
    "calls = pd.read_csv('/datasets/megaline_calls.csv')\n",
    "messages = pd.read_csv('/datasets/megaline_messages.csv')\n",
    "internet = pd.read_csv('/datasets/megaline_internet.csv')\n",
    "plans = pd.read_csv('/datasets/megaline_plans.csv')"
   ]
  },
  {
   "cell_type": "markdown",
   "metadata": {
    "id": "69qqoJ3r0q01"
   },
   "source": [
    "## Preparar los datos"
   ]
  },
  {
   "cell_type": "markdown",
   "metadata": {
    "id": "ohBhimvH0q01"
   },
   "source": [
    "## Tarifas"
   ]
  },
  {
   "cell_type": "code",
   "execution_count": 3,
   "metadata": {
    "id": "GptqP3Q40q02",
    "scrolled": false,
    "trusted": false
   },
   "outputs": [
    {
     "name": "stdout",
     "output_type": "stream",
     "text": [
      "\n",
      "Información de tarifas:\n",
      "<class 'pandas.core.frame.DataFrame'>\n",
      "RangeIndex: 2 entries, 0 to 1\n",
      "Data columns (total 8 columns):\n",
      " #   Column                 Non-Null Count  Dtype  \n",
      "---  ------                 --------------  -----  \n",
      " 0   messages_included      2 non-null      int64  \n",
      " 1   mb_per_month_included  2 non-null      int64  \n",
      " 2   minutes_included       2 non-null      int64  \n",
      " 3   usd_monthly_pay        2 non-null      int64  \n",
      " 4   usd_per_gb             2 non-null      int64  \n",
      " 5   usd_per_message        2 non-null      float64\n",
      " 6   usd_per_minute         2 non-null      float64\n",
      " 7   plan_name              2 non-null      object \n",
      "dtypes: float64(2), int64(5), object(1)\n",
      "memory usage: 256.0+ bytes\n",
      "None\n"
     ]
    }
   ],
   "source": [
    "# Imprime la información general/resumida sobre el DataFrame de las tarifas\n",
    "print(\"\\nInformación de tarifas:\")\n",
    "print(plans.info())"
   ]
  },
  {
   "cell_type": "code",
   "execution_count": 4,
   "metadata": {
    "id": "64xzjwL70q02",
    "trusted": false
   },
   "outputs": [
    {
     "name": "stdout",
     "output_type": "stream",
     "text": [
      "\n",
      "Muestra de tarifas:\n",
      "   messages_included  mb_per_month_included  minutes_included  \\\n",
      "0                 50                  15360               500   \n",
      "1               1000                  30720              3000   \n",
      "\n",
      "   usd_monthly_pay  usd_per_gb  usd_per_message  usd_per_minute plan_name  \n",
      "0               20          10             0.03            0.03      surf  \n",
      "1               70           7             0.01            0.01  ultimate  \n"
     ]
    }
   ],
   "source": [
    "# Imprime una muestra de los datos para las tarifas\n",
    "print(\"\\nMuestra de tarifas:\")\n",
    "print(plans.head())"
   ]
  },
  {
   "cell_type": "markdown",
   "metadata": {
    "id": "mEc_3_hs0q02"
   },
   "source": [
    "Observaciones:\n",
    "- Todos los campos numéricos están como float64 o int64 (correcto)\n",
    "- No hay valores nulos\n",
    "- Los nombres de planes coinciden con los descritos (Surf y Ultimate)\n"
   ]
  },
  {
   "cell_type": "markdown",
   "metadata": {
    "id": "R3C05i1l0q03"
   },
   "source": [
    "## Corregir datos"
   ]
  },
  {
   "cell_type": "markdown",
   "metadata": {
    "id": "bIi8StZI0q03"
   },
   "source": [
    "No se necesitan correcciones para planes"
   ]
  },
  {
   "cell_type": "markdown",
   "metadata": {
    "id": "LJir7bml0q03"
   },
   "source": [
    "## Enriquecer los datos"
   ]
  },
  {
   "cell_type": "markdown",
   "metadata": {
    "id": "eqADpCfg0q04"
   },
   "source": [
    "No es necesario para este Data frame"
   ]
  },
  {
   "cell_type": "markdown",
   "metadata": {
    "id": "1n2X6WXf0q04"
   },
   "source": [
    "## Usuarios/as"
   ]
  },
  {
   "cell_type": "code",
   "execution_count": 5,
   "metadata": {
    "id": "2NgjWFqx0q05",
    "trusted": false
   },
   "outputs": [
    {
     "name": "stdout",
     "output_type": "stream",
     "text": [
      "\n",
      "Información de usuarios:\n",
      "<class 'pandas.core.frame.DataFrame'>\n",
      "RangeIndex: 500 entries, 0 to 499\n",
      "Data columns (total 8 columns):\n",
      " #   Column      Non-Null Count  Dtype \n",
      "---  ------      --------------  ----- \n",
      " 0   user_id     500 non-null    int64 \n",
      " 1   first_name  500 non-null    object\n",
      " 2   last_name   500 non-null    object\n",
      " 3   age         500 non-null    int64 \n",
      " 4   city        500 non-null    object\n",
      " 5   reg_date    500 non-null    object\n",
      " 6   plan        500 non-null    object\n",
      " 7   churn_date  34 non-null     object\n",
      "dtypes: int64(2), object(6)\n",
      "memory usage: 31.4+ KB\n",
      "None\n"
     ]
    }
   ],
   "source": [
    "# Imprime la información general/resumida sobre el DataFrame de usuarios\n",
    "print(\"\\nInformación de usuarios:\")\n",
    "print(users.info())\n"
   ]
  },
  {
   "cell_type": "code",
   "execution_count": 6,
   "metadata": {
    "id": "1IN1L9uh0q05",
    "trusted": false
   },
   "outputs": [
    {
     "name": "stdout",
     "output_type": "stream",
     "text": [
      "\n",
      "Muestra de usuarios:\n",
      "   user_id first_name  last_name  age                                   city  \\\n",
      "0     1000   Anamaria      Bauer   45  Atlanta-Sandy Springs-Roswell, GA MSA   \n",
      "1     1001     Mickey  Wilkerson   28        Seattle-Tacoma-Bellevue, WA MSA   \n",
      "2     1002     Carlee    Hoffman   36   Las Vegas-Henderson-Paradise, NV MSA   \n",
      "3     1003   Reynaldo    Jenkins   52                          Tulsa, OK MSA   \n",
      "4     1004    Leonila   Thompson   40        Seattle-Tacoma-Bellevue, WA MSA   \n",
      "\n",
      "     reg_date      plan churn_date  \n",
      "0  2018-12-24  ultimate        NaN  \n",
      "1  2018-08-13      surf        NaN  \n",
      "2  2018-10-21      surf        NaN  \n",
      "3  2018-01-28      surf        NaN  \n",
      "4  2018-05-23      surf        NaN  \n"
     ]
    }
   ],
   "source": [
    "# Imprime una muestra de datos para usuarios\n",
    "print(\"\\nMuestra de usuarios:\")\n",
    "print(users.head())\n"
   ]
  },
  {
   "cell_type": "markdown",
   "metadata": {
    "id": "dCZoUq4f0q06"
   },
   "source": [
    "Observaciones:\n",
    "- churn_date tiene muchos valores nulos (esperado)\n",
    "- reg_date y churn_date como object (deben ser datetime)\n",
    "- city como string (correcto)\n",
    "- plan tiene solo Surf y Ultimate (correcto)\n"
   ]
  },
  {
   "cell_type": "markdown",
   "metadata": {
    "id": "BX5FQh_I0q06"
   },
   "source": [
    "### Corregir los datos"
   ]
  },
  {
   "cell_type": "code",
   "execution_count": 7,
   "metadata": {
    "id": "yUqX-K0C0q07",
    "trusted": false
   },
   "outputs": [],
   "source": [
    "users['reg_date'] = pd.to_datetime(users['reg_date'], format='%Y-%m-%d')\n",
    "users['churn_date'] = pd.to_datetime(users['churn_date'], format='%Y-%m-%d', errors='coerce')\n"
   ]
  },
  {
   "cell_type": "markdown",
   "metadata": {
    "id": "ycwuARJp0q07"
   },
   "source": [
    "### Enriquecer los datos\n",
    "\n",
    "Objetivo: Clasificar a los usuarios como \"activos\" o \"inactivos\" (que dejaron el servicio) basándose en la presencia de una fecha de baja (churn_date).\n",
    "\n",
    "Razón: Esta columna permite diferenciar entre usuarios que siguen usando el servicio y aquellos que lo abandonaron. Esto es crucial para:\n",
    "\n",
    "Analizar patrones de retención.\n",
    "\n",
    "Evaluar si el comportamiento de los usuarios activos difiere significativamente de los inactivos.\n",
    "\n",
    "Impacto en el análisis:\n",
    "\n",
    "Permite filtrar datos por estado del usuario (útil para calcular ingresos recurrentes o identificar causas de abandono).\n",
    "\n",
    "Facilita comparar el uso de servicios (llamadas, mensajes, datos) entre usuarios activos e inactivos."
   ]
  },
  {
   "cell_type": "code",
   "execution_count": 8,
   "metadata": {
    "id": "iq0AaBS90q08",
    "scrolled": true,
    "trusted": false
   },
   "outputs": [
    {
     "name": "stdout",
     "output_type": "stream",
     "text": [
      "0   2018-12-24\n",
      "1   2018-08-13\n",
      "2   2018-10-21\n",
      "Name: reg_date, dtype: datetime64[ns]\n"
     ]
    }
   ],
   "source": [
    "users['active_status'] = np.where(users['churn_date'].isna(), 'active', 'churned')\n",
    "print(users['reg_date'].head(3))"
   ]
  },
  {
   "cell_type": "markdown",
   "metadata": {
    "id": "o7MeKCid0q08"
   },
   "source": [
    "## Llamadas"
   ]
  },
  {
   "cell_type": "code",
   "execution_count": 9,
   "metadata": {
    "id": "6dDlnoDm0q08",
    "trusted": false
   },
   "outputs": [
    {
     "name": "stdout",
     "output_type": "stream",
     "text": [
      "\n",
      "Información de llamadas:\n",
      "<class 'pandas.core.frame.DataFrame'>\n",
      "RangeIndex: 137735 entries, 0 to 137734\n",
      "Data columns (total 4 columns):\n",
      " #   Column     Non-Null Count   Dtype  \n",
      "---  ------     --------------   -----  \n",
      " 0   id         137735 non-null  object \n",
      " 1   user_id    137735 non-null  int64  \n",
      " 2   call_date  137735 non-null  object \n",
      " 3   duration   137735 non-null  float64\n",
      "dtypes: float64(1), int64(1), object(2)\n",
      "memory usage: 4.2+ MB\n",
      "None\n"
     ]
    }
   ],
   "source": [
    "# Imprime la información general/resumida sobre el DataFrame de las llamadas\n",
    "print(\"\\nInformación de llamadas:\")\n",
    "print(calls.info())\n"
   ]
  },
  {
   "cell_type": "code",
   "execution_count": 10,
   "metadata": {
    "id": "kuh1vlNB0q09",
    "trusted": false
   },
   "outputs": [
    {
     "name": "stdout",
     "output_type": "stream",
     "text": [
      "\n",
      "Muestra de llamadas:\n",
      "         id  user_id   call_date  duration\n",
      "0   1000_93     1000  2018-12-27      8.52\n",
      "1  1000_145     1000  2018-12-27     13.66\n",
      "2  1000_247     1000  2018-12-27     14.48\n",
      "3  1000_309     1000  2018-12-28      5.76\n",
      "4  1000_380     1000  2018-12-30      4.22\n"
     ]
    }
   ],
   "source": [
    "# Imprime una muestra de datos para las llamadas\n",
    "print(\"\\nMuestra de llamadas:\")\n",
    "print(calls.head())\n",
    "\n"
   ]
  },
  {
   "cell_type": "markdown",
   "metadata": {
    "id": "DOAxYJSx0q09"
   },
   "source": [
    "Observaciones:\n",
    "- call_date como object (debe ser datetime)\n",
    "- duration como float (correcto)\n",
    "- Sin valores nulos"
   ]
  },
  {
   "cell_type": "markdown",
   "metadata": {
    "id": "S7hzxmbX0q0-"
   },
   "source": [
    "### Corregir los datos"
   ]
  },
  {
   "cell_type": "code",
   "execution_count": 11,
   "metadata": {
    "id": "S2r8xA4f0q0-",
    "trusted": false
   },
   "outputs": [],
   "source": [
    "calls['call_date'] = pd.to_datetime(calls['call_date'], format='%Y-%m-%d')\n"
   ]
  },
  {
   "cell_type": "markdown",
   "metadata": {
    "id": "KrMgTrlG0q0_"
   },
   "source": [
    "### Enriquecer los datos\n",
    "\n",
    "Objetivo: Crear una columna month que represente el período mensual de cada registro (ej: \"2018-01\" para enero de 2018).\n",
    "\n",
    "Razón:\n",
    "\n",
    "Permite agregar datos por usuario y mes, lo que es esencial para calcular el uso mensual (requerido por las tarifas de Megaline).\n",
    "\n",
    "Facilita el análisis temporal (ej: comparar el comportamiento entre meses).\n",
    "\n",
    "Impacto en el análisis:\n",
    "\n",
    "Sin esta columna, no sería posible calcular métricas mensuales como:\n",
    "\n",
    "Minutos totales usados por mes.\n",
    "\n",
    "Es fundamental para el cálculo de ingresos mensuales, ya que los planes de Megaline tienen límites mensuales."
   ]
  },
  {
   "cell_type": "code",
   "execution_count": 12,
   "metadata": {
    "id": "iZ1avpA_0q0_",
    "trusted": false
   },
   "outputs": [],
   "source": [
    "calls['month'] = calls['call_date'].dt.to_period('M')\n"
   ]
  },
  {
   "cell_type": "markdown",
   "metadata": {
    "id": "mOUZSi180q0_"
   },
   "source": [
    "## Mensajes"
   ]
  },
  {
   "cell_type": "code",
   "execution_count": 13,
   "metadata": {
    "id": "R-bYJpdV0q1A",
    "trusted": false
   },
   "outputs": [
    {
     "name": "stdout",
     "output_type": "stream",
     "text": [
      "\n",
      "Información de mensajes:\n",
      "<class 'pandas.core.frame.DataFrame'>\n",
      "RangeIndex: 76051 entries, 0 to 76050\n",
      "Data columns (total 3 columns):\n",
      " #   Column        Non-Null Count  Dtype \n",
      "---  ------        --------------  ----- \n",
      " 0   id            76051 non-null  object\n",
      " 1   user_id       76051 non-null  int64 \n",
      " 2   message_date  76051 non-null  object\n",
      "dtypes: int64(1), object(2)\n",
      "memory usage: 1.7+ MB\n",
      "None\n"
     ]
    }
   ],
   "source": [
    "# Imprime la información general/resumida sobre el DataFrame de los mensajes\n",
    "\n",
    "print(\"\\nInformación de mensajes:\")\n",
    "print(messages.info())"
   ]
  },
  {
   "cell_type": "code",
   "execution_count": 14,
   "metadata": {
    "id": "mCEl2iGE0q1A",
    "trusted": false
   },
   "outputs": [
    {
     "name": "stdout",
     "output_type": "stream",
     "text": [
      "\n",
      "Muestra de mensajes:\n",
      "         id  user_id message_date\n",
      "0  1000_125     1000   2018-12-27\n",
      "1  1000_160     1000   2018-12-31\n",
      "2  1000_223     1000   2018-12-31\n",
      "3  1000_251     1000   2018-12-27\n",
      "4  1000_255     1000   2018-12-26\n"
     ]
    }
   ],
   "source": [
    "# Imprime una muestra de datos para los mensajes\n",
    "print(\"\\nMuestra de mensajes:\")\n",
    "print(messages.head())\n"
   ]
  },
  {
   "cell_type": "markdown",
   "metadata": {
    "id": "04xDj7KH0q1A"
   },
   "source": [
    "Observaciones:\n",
    "- message_date como object (debe ser datetime)\n",
    "- Sin valores nulos"
   ]
  },
  {
   "cell_type": "markdown",
   "metadata": {
    "id": "Sprfak900q1B"
   },
   "source": [
    "### Corregir los datos"
   ]
  },
  {
   "cell_type": "code",
   "execution_count": 15,
   "metadata": {
    "id": "vsllvkoa0q1B",
    "trusted": false
   },
   "outputs": [],
   "source": [
    "messages['message_date'] = pd.to_datetime(messages['message_date'], format='%Y-%m-%d')"
   ]
  },
  {
   "cell_type": "markdown",
   "metadata": {
    "id": "HvLid7iD0q1B"
   },
   "source": [
    "### Enriquecer los datos\n",
    "\n",
    "Objetivo: Crear una columna month que represente el período mensual de cada registro (ej: \"2018-01\" para enero de 2018).\n",
    "\n",
    "Razón:\n",
    "\n",
    "Permite agregar datos por usuario y mes, lo que es esencial para calcular el uso mensual (requerido por las tarifas de Megaline).\n",
    "\n",
    "Facilita el análisis temporal (ej: comparar el comportamiento entre meses).\n",
    "\n",
    "Impacto en el análisis:\n",
    "\n",
    "Sin esta columna, no sería posible calcular métricas mensuales como:\n",
    "\n",
    "Mensajes enviados por mes.\n",
    "\n",
    "Es fundamental para el cálculo de ingresos mensuales, ya que los planes de Megaline tienen límites mensuales."
   ]
  },
  {
   "cell_type": "code",
   "execution_count": 16,
   "metadata": {
    "id": "zYEXZac10q1C",
    "trusted": false
   },
   "outputs": [],
   "source": [
    "messages['month'] = messages['message_date'].dt.to_period('M')\n"
   ]
  },
  {
   "cell_type": "markdown",
   "metadata": {
    "id": "bStkaxn40q1C"
   },
   "source": [
    "## Internet"
   ]
  },
  {
   "cell_type": "code",
   "execution_count": 17,
   "metadata": {
    "id": "e-Uz5qyn0q1C",
    "trusted": false
   },
   "outputs": [
    {
     "name": "stdout",
     "output_type": "stream",
     "text": [
      "\n",
      "Información de internet:\n",
      "<class 'pandas.core.frame.DataFrame'>\n",
      "RangeIndex: 104825 entries, 0 to 104824\n",
      "Data columns (total 4 columns):\n",
      " #   Column        Non-Null Count   Dtype  \n",
      "---  ------        --------------   -----  \n",
      " 0   id            104825 non-null  object \n",
      " 1   user_id       104825 non-null  int64  \n",
      " 2   session_date  104825 non-null  object \n",
      " 3   mb_used       104825 non-null  float64\n",
      "dtypes: float64(1), int64(1), object(2)\n",
      "memory usage: 3.2+ MB\n",
      "None\n"
     ]
    }
   ],
   "source": [
    "# Imprime la información general/resumida sobre el DataFrame de internet\n",
    "print(\"\\nInformación de internet:\")\n",
    "print(internet.info())\n"
   ]
  },
  {
   "cell_type": "code",
   "execution_count": 18,
   "metadata": {
    "id": "9r3x_XLw0q1C",
    "trusted": false
   },
   "outputs": [
    {
     "name": "stdout",
     "output_type": "stream",
     "text": [
      "\n",
      "Muestra de internet:\n",
      "         id  user_id session_date  mb_used\n",
      "0   1000_13     1000   2018-12-29    89.86\n",
      "1  1000_204     1000   2018-12-31     0.00\n",
      "2  1000_379     1000   2018-12-28   660.40\n",
      "3  1000_413     1000   2018-12-26   270.99\n",
      "4  1000_442     1000   2018-12-27   880.22\n"
     ]
    }
   ],
   "source": [
    "# Imprime una muestra de datos para el tráfico de internet\n",
    "print(\"\\nMuestra de internet:\")\n",
    "print(internet.head())\n"
   ]
  },
  {
   "cell_type": "markdown",
   "metadata": {
    "id": "EzOG5ik30q1D"
   },
   "source": [
    "Observaciones:\n",
    "- session_date como object (debe ser datetime)\n",
    "- Sin valores nulos"
   ]
  },
  {
   "cell_type": "markdown",
   "metadata": {
    "id": "yA0tkPFg0q1D"
   },
   "source": [
    "### Corregir los datos"
   ]
  },
  {
   "cell_type": "code",
   "execution_count": 19,
   "metadata": {
    "id": "zVeanzdd0q1E",
    "trusted": false
   },
   "outputs": [],
   "source": [
    "internet['session_date'] = pd.to_datetime(internet['session_date'], format='%Y-%m-%d')"
   ]
  },
  {
   "cell_type": "markdown",
   "metadata": {
    "id": "e8_mLF4a0q1E"
   },
   "source": [
    "### Enriquecer los datos\n",
    "\n",
    "Objetivo: Crear una columna month que represente el período mensual de cada registro (ej: \"2018-01\" para enero de 2018).\n",
    "\n",
    "Razón:\n",
    "\n",
    "Permite agregar datos por usuario y mes, lo que es esencial para calcular el uso mensual (requerido por las tarifas de Megaline).\n",
    "\n",
    "Facilita el análisis temporal (ej: comparar el comportamiento entre meses).\n",
    "\n",
    "Impacto en el análisis:\n",
    "\n",
    "Sin esta columna, no sería posible calcular métricas mensuales como:\n",
    "\n",
    "Datos consumidos por mes.\n",
    "\n",
    "Es fundamental para el cálculo de ingresos mensuales, ya que los planes de Megaline tienen límites mensuales."
   ]
  },
  {
   "cell_type": "code",
   "execution_count": 20,
   "metadata": {
    "id": "ESiYPIEK0q1E",
    "trusted": false
   },
   "outputs": [],
   "source": [
    "internet['month'] = internet['session_date'].dt.to_period('M')"
   ]
  },
  {
   "cell_type": "markdown",
   "metadata": {
    "id": "3UA2cqIW0q1E"
   },
   "source": [
    "## Estudiar las condiciones de las tarifas"
   ]
  },
  {
   "cell_type": "code",
   "execution_count": 21,
   "metadata": {
    "id": "i409op8p0q1F",
    "trusted": false
   },
   "outputs": [
    {
     "name": "stdout",
     "output_type": "stream",
     "text": [
      "\n",
      "Condiciones de tarifas:\n",
      "   messages_included  mb_per_month_included  minutes_included  \\\n",
      "0                 50                  15360               500   \n",
      "1               1000                  30720              3000   \n",
      "\n",
      "   usd_monthly_pay  usd_per_gb  usd_per_message  usd_per_minute plan_name  \n",
      "0               20          10             0.03            0.03      surf  \n",
      "1               70           7             0.01            0.01  ultimate  \n"
     ]
    }
   ],
   "source": [
    "# Imprime las condiciones de la tarifa y asegúrate de que te quedan claras\n",
    "print(\"\\nCondiciones de tarifas:\")\n",
    "print(plans)\n"
   ]
  },
  {
   "cell_type": "markdown",
   "metadata": {
    "id": "hMR1tP5d0q1F"
   },
   "source": [
    "## Agregar datos por usuario"
   ]
  },
  {
   "cell_type": "code",
   "execution_count": 22,
   "metadata": {
    "id": "A332cedB0q1G",
    "trusted": false
   },
   "outputs": [],
   "source": [
    "# Calcula el número de llamadas hechas por cada usuario al mes. Guarda el resultado.\n",
    "\n",
    "calls_per_month = calls.groupby(['user_id', 'month']).agg(\n",
    "    total_calls=('duration', 'count')\n",
    ").reset_index()"
   ]
  },
  {
   "cell_type": "code",
   "execution_count": 23,
   "metadata": {
    "id": "aw2cmuql0q1G",
    "trusted": false
   },
   "outputs": [],
   "source": [
    "# Calcula la cantidad de minutos usados por cada usuario al mes. Guarda el resultado.\n",
    "minutes_per_month = calls.groupby(['user_id', 'month']).agg(\n",
    "    total_minutes=('duration', 'sum')\n",
    ").reset_index()\n"
   ]
  },
  {
   "cell_type": "code",
   "execution_count": 24,
   "metadata": {
    "id": "CcQvNHn60q1G",
    "trusted": false
   },
   "outputs": [],
   "source": [
    "# Calcula el número de mensajes enviados por cada usuario al mes. Guarda el resultado.\n",
    "messages_per_month = messages.groupby(['user_id', 'month']).agg(\n",
    "    total_messages=('message_date', 'count')\n",
    ").reset_index()"
   ]
  },
  {
   "cell_type": "code",
   "execution_count": 25,
   "metadata": {
    "id": "H1AqN2eG0q1H",
    "trusted": false
   },
   "outputs": [],
   "source": [
    "# Calcula el volumen del tráfico de Internet usado por cada usuario al mes. Guarda el resultado.\n",
    "internet_per_month = internet.groupby(['user_id', 'month']).agg(\n",
    "    total_mb=('mb_used', 'sum')\n",
    ").reset_index()"
   ]
  },
  {
   "cell_type": "code",
   "execution_count": 26,
   "metadata": {
    "id": "FW99ykyf0q1H",
    "trusted": false
   },
   "outputs": [],
   "source": [
    "# Fusiona los datos de llamadas, minutos, mensajes e Internet con base en user_id y month\n",
    "\n",
    "merged_data = calls_per_month.merge(\n",
    "    minutes_per_month,\n",
    "    on=['user_id', 'month'],\n",
    "    how='outer'\n",
    ").merge(\n",
    "    messages_per_month,\n",
    "    on=['user_id', 'month'],\n",
    "    how='outer'\n",
    ").merge(\n",
    "    internet_per_month,\n",
    "    on=['user_id', 'month'],\n",
    "    how='outer'\n",
    ")"
   ]
  },
  {
   "cell_type": "markdown",
   "metadata": {},
   "source": [
    "<div class=\"alert alert-block alert-warning\"> <b>Atención</b> <a class=\"tocSkip\"></a><br> El `merge` de diferentes DataFrames es correcto, pero puede mejorarse en eficiencia eliminando la columna `plan_name` después de la fusión, ya que `plan` ya proporciona la información.</div>"
   ]
  },
  {
   "cell_type": "code",
   "execution_count": 27,
   "metadata": {
    "id": "0dNOXHag0q1H",
    "trusted": false
   },
   "outputs": [
    {
     "name": "stdout",
     "output_type": "stream",
     "text": [
      "\n",
      "Columnas en plans:\n",
      "['messages_included', 'mb_per_month_included', 'minutes_included', 'usd_monthly_pay', 'usd_per_gb', 'usd_per_message', 'usd_per_minute', 'plan_name']\n",
      "\n",
      "Columnas después del merge:\n",
      "['user_id', 'month', 'total_calls', 'total_minutes', 'total_messages', 'total_mb', 'plan', 'messages_included', 'mb_per_month_included', 'minutes_included', 'usd_monthly_pay', 'usd_per_gb', 'usd_per_message', 'usd_per_minute', 'plan_name']\n"
     ]
    }
   ],
   "source": [
    "# Añade la información de la tarifa\n",
    "\n",
    "# Verifica los nombres de las columnas en plans\n",
    "print(\"\\nColumnas en plans:\")\n",
    "print(plans.columns.tolist())\n",
    "\n",
    "# Fusión corregida con plans\n",
    "merged_data = merged_data.merge(\n",
    "    users[['user_id', 'plan']],\n",
    "    on='user_id',\n",
    "    how='left'\n",
    ").merge(\n",
    "    plans,\n",
    "    left_on='plan',\n",
    "    right_on='plan_name',  # Asegúrate de que 'plan_name' sea la columna correcta\n",
    "    how='left'\n",
    ")\n",
    "\n",
    "# Verifica las columnas después del merge\n",
    "print(\"\\nColumnas después del merge:\")\n",
    "print(merged_data.columns.tolist())\n",
    "\n",
    "# Renombra las columnas si es necesario\n",
    "# (Ajusta los nombres según los nombres reales en plans)\n",
    "merged_data.rename(columns={\n",
    "    'usd_monthly_pay': 'usd_monthly_fee',  # Ejemplo: si la columna se llama 'usd_monthly_pay'\n",
    "    'minutes_incl': 'minutes_included',    # Ajusta según los nombres reales\n",
    "    'messages_incl': 'messages_included',\n",
    "    'mb_per_month_incl': 'mb_per_month_included',\n",
    "    'usd_per_min': 'usd_per_minute',\n",
    "    'usd_per_msg': 'usd_per_message',\n",
    "    'usd_per_gb_data': 'usd_per_gb'\n",
    "}, inplace=True)\n",
    "\n",
    "# Llena los valores NaN con 0 (para usuarios sin actividad en algún mes)\n",
    "merged_data = merged_data.fillna({\n",
    "    'total_calls': 0,\n",
    "    'total_minutes': 0,\n",
    "    'total_messages': 0,\n",
    "    'total_mb': 0\n",
    "})"
   ]
  },
  {
   "cell_type": "code",
   "execution_count": 28,
   "metadata": {
    "id": "5FGCf_c60q1I",
    "trusted": false
   },
   "outputs": [
    {
     "name": "stdout",
     "output_type": "stream",
     "text": [
      "\n",
      "Datos agregados por usuario:\n",
      "   user_id    month  total_calls  total_minutes  total_messages  total_mb  \\\n",
      "0     1000  2018-12         16.0         116.83            11.0   1901.47   \n",
      "1     1001  2018-08         27.0         171.14            30.0   6919.15   \n",
      "2     1001  2018-09         49.0         297.69            44.0  13314.82   \n",
      "3     1001  2018-10         65.0         374.11            53.0  22330.49   \n",
      "4     1001  2018-11         64.0         404.59            36.0  18504.30   \n",
      "5     1001  2018-12         56.0         392.93            44.0  19369.18   \n",
      "6     1002  2018-10         11.0          54.13            15.0   6552.01   \n",
      "7     1002  2018-11         55.0         359.76            32.0  19345.08   \n",
      "8     1002  2018-12         47.0         363.24            41.0  14396.24   \n",
      "9     1003  2018-12        149.0        1041.00            50.0  27044.14   \n",
      "\n",
      "       plan  messages_included  mb_per_month_included  minutes_included  \\\n",
      "0  ultimate               1000                  30720              3000   \n",
      "1      surf                 50                  15360               500   \n",
      "2      surf                 50                  15360               500   \n",
      "3      surf                 50                  15360               500   \n",
      "4      surf                 50                  15360               500   \n",
      "5      surf                 50                  15360               500   \n",
      "6      surf                 50                  15360               500   \n",
      "7      surf                 50                  15360               500   \n",
      "8      surf                 50                  15360               500   \n",
      "9      surf                 50                  15360               500   \n",
      "\n",
      "   usd_monthly_fee  usd_per_gb  usd_per_message  usd_per_minute plan_name  \\\n",
      "0               70           7             0.01            0.01  ultimate   \n",
      "1               20          10             0.03            0.03      surf   \n",
      "2               20          10             0.03            0.03      surf   \n",
      "3               20          10             0.03            0.03      surf   \n",
      "4               20          10             0.03            0.03      surf   \n",
      "5               20          10             0.03            0.03      surf   \n",
      "6               20          10             0.03            0.03      surf   \n",
      "7               20          10             0.03            0.03      surf   \n",
      "8               20          10             0.03            0.03      surf   \n",
      "9               20          10             0.03            0.03      surf   \n",
      "\n",
      "   monthly_revenue  \n",
      "0            70.00  \n",
      "1            20.00  \n",
      "2            20.00  \n",
      "3            90.09  \n",
      "4            60.00  \n",
      "5            60.00  \n",
      "6            20.00  \n",
      "7            60.00  \n",
      "8            20.00  \n",
      "9           156.23  \n"
     ]
    }
   ],
   "source": [
    "# Calcula el ingreso mensual para cada usuario\n",
    "def calculate_monthly_revenue(row):\n",
    "    # Cálculo de excedentes\n",
    "    extra_minutes = max(0, row['total_minutes'] - row['minutes_included'])\n",
    "    extra_messages = max(0, row['total_messages'] - row['messages_included'])\n",
    "    extra_data_gb = max(0, np.ceil((row['total_mb'] - row['mb_per_month_included']) / 1024))\n",
    "    \n",
    "    # Cálculo de ingresos\n",
    "    base_fee = row['usd_monthly_fee']\n",
    "    minute_charge = extra_minutes * row['usd_per_minute']\n",
    "    message_charge = extra_messages * row['usd_per_message']\n",
    "    data_charge = extra_data_gb * row['usd_per_gb']\n",
    "    \n",
    "    return base_fee + minute_charge + message_charge + data_charge\n",
    "\n",
    "merged_data['monthly_revenue'] = merged_data.apply(calculate_monthly_revenue, axis=1)\n",
    "\n",
    "# 11. Resultado final\n",
    "print(\"\\nDatos agregados por usuario:\")\n",
    "print(merged_data.head(10))\n"
   ]
  },
  {
   "cell_type": "markdown",
   "metadata": {},
   "source": [
    "<div class=\"alert alert-block alert-success\"> <b>Éxito</b> <a class=\"tocSkip\"></a><br> El cálculo de `extra_data_gb` usa `np.ceil()`.\n",
    "</div>"
   ]
  },
  {
   "cell_type": "markdown",
   "metadata": {
    "id": "-jtyHzJb0q1I"
   },
   "source": [
    "## Estudia el comportamiento de usuario"
   ]
  },
  {
   "cell_type": "markdown",
   "metadata": {
    "id": "vtW4CJEe0q1J"
   },
   "source": [
    "### Llamadas"
   ]
  },
  {
   "cell_type": "code",
   "execution_count": 29,
   "metadata": {
    "id": "Jf5v5--k0q1J",
    "trusted": false
   },
   "outputs": [
    {
     "data": {
      "image/png": "[encoded data removed]",
      "text/plain": [
       "<Figure size 1200x600 with 1 Axes>"
      ]
     },
     "metadata": {},
     "output_type": "display_data"
    }
   ],
   "source": [
    "# Compara la duración promedio de llamadas por cada plan y por cada mes. Traza un gráfico de barras para visualizarla.\n",
    "avg_call_duration = merged_data.groupby(['plan', 'month'])['total_minutes'].mean().reset_index()\n",
    "\n",
    "# Gráfico de barras\n",
    "plt.figure(figsize=(12, 6))\n",
    "sns.barplot(x='month', y='total_minutes', hue='plan', data=avg_call_duration)\n",
    "plt.title('Duración promedio de llamadas por plan y mes')\n",
    "plt.xlabel('Mes')\n",
    "plt.ylabel('Duración promedio (minutos)')\n",
    "plt.legend(title='Plan')\n",
    "plt.show()\n"
   ]
  },
  {
   "cell_type": "markdown",
   "metadata": {},
   "source": [
    "<div class=\"alert alert-block alert-warning\"> <b>Atención</b> <a class=\"tocSkip\"></a><br> El gráfico de barras de duración promedio de llamadas está bien, pero el eje `x` podría beneficiarse de una mejor rotación de etiquetas para mejorar la legibilidad:</br>\n",
    "\n",
    "plt.xticks(rotation=45)\n",
    "</div>"
   ]
  },
  {
   "cell_type": "code",
   "execution_count": 30,
   "metadata": {
    "id": "QoLqW1S_0q1J",
    "trusted": false
   },
   "outputs": [
    {
     "data": {
      "image/png": "[encoded data removed]",
      "text/plain": [
       "<Figure size 1200x600 with 1 Axes>"
      ]
     },
     "metadata": {},
     "output_type": "display_data"
    }
   ],
   "source": [
    "# Compara el número de minutos mensuales que necesitan los usuarios de cada plan. Traza un histograma.\n",
    "plt.figure(figsize=(12, 6))\n",
    "sns.histplot(data=merged_data, x='total_minutes', hue='plan', kde=True, bins=30)\n",
    "plt.title('Distribución de minutos mensuales por plan')\n",
    "plt.xlabel('Minutos mensuales')\n",
    "plt.ylabel('Frecuencia')\n",
    "plt.show()\n"
   ]
  },
  {
   "cell_type": "code",
   "execution_count": 31,
   "metadata": {
    "id": "oSndbAnt0q1K",
    "trusted": false
   },
   "outputs": [
    {
     "name": "stdout",
     "output_type": "stream",
     "text": [
      "\n",
      "Media de minutos por plan:\n",
      "plan\n",
      "surf        404.762390\n",
      "ultimate    406.193083\n",
      "Name: total_minutes, dtype: float64\n",
      "\n",
      "Varianza de minutos por plan:\n",
      "plan\n",
      "surf        49135.104891\n",
      "ultimate    51640.971402\n",
      "Name: total_minutes, dtype: float64\n"
     ]
    }
   ],
   "source": [
    "# Calcula la media y la varianza de la duración mensual de llamadas.\n",
    "mean_minutes = merged_data.groupby('plan')['total_minutes'].mean()\n",
    "variance_minutes = merged_data.groupby('plan')['total_minutes'].var()\n",
    "print(\"\\nMedia de minutos por plan:\")\n",
    "print(mean_minutes)\n",
    "print(\"\\nVarianza de minutos por plan:\")\n",
    "print(variance_minutes)\n"
   ]
  },
  {
   "cell_type": "code",
   "execution_count": 32,
   "metadata": {
    "id": "nZzoRUKc0q1K",
    "trusted": false
   },
   "outputs": [
    {
     "data": {
      "image/png": "[encoded data removed]",
      "text/plain": [
       "<Figure size 1200x600 with 1 Axes>"
      ]
     },
     "metadata": {},
     "output_type": "display_data"
    }
   ],
   "source": [
    "# Traza un diagrama de caja para visualizar la distribución de la duración mensual de llamadas\n",
    "plt.figure(figsize=(12, 6))\n",
    "sns.boxplot(x='plan', y='total_minutes', data=merged_data)\n",
    "plt.title('Distribución de minutos mensuales por plan')\n",
    "plt.xlabel('Plan')\n",
    "plt.ylabel('Minutos mensuales')\n",
    "plt.show()\n"
   ]
  },
  {
   "cell_type": "markdown",
   "metadata": {
    "id": "r627zBO50q1K"
   },
   "source": [
    "Conclusión: \n",
    "- Los usuarios del plan Ultimate tienden a usar más minutos que los del plan Surf.\n",
    "- La varianza es mayor en el plan Surf, lo que indica un comportamiento más variable.\n"
   ]
  },
  {
   "cell_type": "markdown",
   "metadata": {
    "id": "8idKy8Wh0q1L"
   },
   "source": [
    "### Mensajes"
   ]
  },
  {
   "cell_type": "code",
   "execution_count": 33,
   "metadata": {
    "id": "NXLxiTit0q1L",
    "trusted": false
   },
   "outputs": [
    {
     "name": "stdout",
     "output_type": "stream",
     "text": [
      "\n",
      "Promedio de mensajes enviados por plan:\n",
      "plan\n",
      "surf        31.159568\n",
      "ultimate    37.551389\n",
      "Name: total_messages, dtype: float64\n"
     ]
    }
   ],
   "source": [
    "# Comprara el número de mensajes que tienden a enviar cada mes los usuarios de cada plan\n",
    "avg_messages = merged_data.groupby('plan')['total_messages'].mean()\n",
    "print(\"\\nPromedio de mensajes enviados por plan:\")\n",
    "print(avg_messages)\n"
   ]
  },
  {
   "cell_type": "code",
   "execution_count": 34,
   "metadata": {
    "id": "GRI_R7xF0q1L",
    "trusted": false
   },
   "outputs": [],
   "source": [
    "# Compara la cantidad de tráfico de Internet consumido por usuarios por plan\n",
    "avg_internet = merged_data.groupby('plan')['total_mb'].mean()\n",
    "\n"
   ]
  },
  {
   "cell_type": "code",
   "execution_count": 35,
   "metadata": {
    "id": "dtFwCGAp0q1M",
    "trusted": false
   },
   "outputs": [
    {
     "name": "stdout",
     "output_type": "stream",
     "text": [
      "\n",
      "Promedio de tráfico de Internet por plan (MB):\n",
      "plan\n",
      "surf        16558.283490\n",
      "ultimate    17214.699694\n",
      "Name: total_mb, dtype: float64\n"
     ]
    }
   ],
   "source": [
    "print(\"\\nPromedio de tráfico de Internet por plan (MB):\")\n",
    "print(avg_internet)\n"
   ]
  },
  {
   "cell_type": "markdown",
   "metadata": {
    "id": "390SSL480q1M"
   },
   "source": [
    "Conclusiones: \n",
    "- Los usuarios del plan Ultimate envían más mensajes y consumen más datos que los del plan Surf.\n",
    "- El comportamiento varía significativamente entre los planes."
   ]
  },
  {
   "cell_type": "markdown",
   "metadata": {
    "id": "42YSypXz0q1M"
   },
   "source": [
    "### Internet"
   ]
  },
  {
   "cell_type": "code",
   "execution_count": 36,
   "metadata": {
    "id": "lSuKPtjh0q1M",
    "trusted": false
   },
   "outputs": [
    {
     "data": {
      "image/png": "[encoded data removed]",
      "text/plain": [
       "<Figure size 1200x600 with 1 Axes>"
      ]
     },
     "metadata": {},
     "output_type": "display_data"
    }
   ],
   "source": [
    "plt.figure(figsize=(12, 6))\n",
    "sns.boxplot(x='plan', y='total_mb', data=merged_data)\n",
    "plt.title('Distribución de consumo de Internet por plan')\n",
    "plt.xlabel('Plan')\n",
    "plt.ylabel('Consumo de Internet (MB)')\n",
    "plt.show()"
   ]
  },
  {
   "cell_type": "markdown",
   "metadata": {
    "id": "UN9zwuMP0q1N"
   },
   "source": [
    "Conclusiones: \n",
    "- Los usuarios del plan Ultimate consumen más datos que los del plan Surf.\n",
    "- El consumo de datos es más consistente en el plan Ultimate."
   ]
  },
  {
   "cell_type": "markdown",
   "metadata": {
    "id": "tCijq3260q1N"
   },
   "source": [
    "## Ingreso"
   ]
  },
  {
   "cell_type": "code",
   "execution_count": 37,
   "metadata": {
    "id": "tz-dq_V00q1O",
    "trusted": false
   },
   "outputs": [
    {
     "name": "stdout",
     "output_type": "stream",
     "text": [
      "\n",
      "Estadísticas de ingresos por plan:\n",
      "           count       mean        std   min   25%    50%   75%       max\n",
      "plan                                                                     \n",
      "surf      1573.0  60.327346  55.262605  20.0  20.0  40.15  80.0  588.6372\n",
      "ultimate   720.0  72.313889  11.395108  70.0  70.0  70.00  70.0  182.0000\n"
     ]
    }
   ],
   "source": [
    "income_stats = merged_data.groupby('plan')['monthly_revenue'].describe()\n",
    "\n",
    "print(\"\\nEstadísticas de ingresos por plan:\")\n",
    "print(income_stats)"
   ]
  },
  {
   "cell_type": "code",
   "execution_count": 38,
   "metadata": {
    "id": "0Y1v8ZUz0q1P",
    "trusted": false
   },
   "outputs": [
    {
     "data": {
      "image/png": "[encoded data removed]",
      "text/plain": [
       "<Figure size 1200x600 with 1 Axes>"
      ]
     },
     "metadata": {},
     "output_type": "display_data"
    }
   ],
   "source": [
    "#Gráfico de ingresos por plan\n",
    "plt.figure(figsize=(12, 6))\n",
    "sns.boxplot(x='plan', y='monthly_revenue', data=merged_data)\n",
    "plt.title('Distribución de ingresos mensuales por plan')\n",
    "plt.xlabel('Plan')\n",
    "plt.ylabel('Ingresos mensuales (USD)')\n",
    "plt.show()"
   ]
  },
  {
   "cell_type": "markdown",
   "metadata": {
    "id": "KAFidcXZ0q1P"
   },
   "source": [
    "Conclusiones: \n",
    "- El plan Ultimate genera mayores ingresos en promedio que el plan Surf.\n",
    "- La variabilidad de ingresos es mayor en el plan Surf debido a los cargos adicionales."
   ]
  },
  {
   "cell_type": "markdown",
   "metadata": {
    "id": "ajJ7VKeI0q1Q"
   },
   "source": [
    "## Prueba las hipótesis estadísticas"
   ]
  },
  {
   "cell_type": "markdown",
   "metadata": {
    "id": "IQwa_hsh0q1Q"
   },
   "source": [
    "- H0: Los ingresos promedio de los planes Ultimate y Surf son iguales.\n",
    "- H1: Los ingresos promedio de los planes Ultimate y Surf son diferentes."
   ]
  },
  {
   "cell_type": "code",
   "execution_count": 39,
   "metadata": {
    "id": "nFoPNlPq0q1R",
    "trusted": false
   },
   "outputs": [
    {
     "name": "stdout",
     "output_type": "stream",
     "text": [
      "\n",
      "Prueba de hipótesis para ingresos entre planes:\n",
      "T-statistic: nan\n",
      "P-value: nan\n",
      "No rechazamos H0: No hay una diferencia significativa en los ingresos entre los planes.\n"
     ]
    }
   ],
   "source": [
    "# Prueba las hipótesis\n",
    "# Hipótesis\n",
    "'''\n",
    "H0: Los ingresos promedio de los planes Ultimate y Surf son iguales.\n",
    "H1: Los ingresos promedio de los planes Ultimate y Surf son diferentes.\n",
    "'''\n",
    "\n",
    "# Datos\n",
    "income_surf = merged_data[merged_data['plan'] == 'Surf']['monthly_revenue']\n",
    "income_ultimate = merged_data[merged_data['plan'] == 'Ultimate']['monthly_revenue']\n",
    "\n",
    "# Prueba t de Student\n",
    "alpha = 0.05\n",
    "t_stat, p_value = stats.ttest_ind(income_surf, income_ultimate, equal_var=False)\n",
    "\n",
    "print(\"\\nPrueba de hipótesis para ingresos entre planes:\")\n",
    "print(f\"T-statistic: {t_stat:.2f}\")\n",
    "print(f\"P-value: {p_value:.4f}\")\n",
    "\n",
    "if p_value < alpha:\n",
    "    print(\"Rechazamos H0: Hay una diferencia significativa en los ingresos entre los planes.\")\n",
    "else:\n",
    "    print(\"No rechazamos H0: No hay una diferencia significativa en los ingresos entre los planes.\")\n"
   ]
  },
  {
   "cell_type": "markdown",
   "metadata": {},
   "source": [
    "<div class=\"alert alert-block alert-danger\"> <b>A resolver</b> <a class=\"tocSkip\"></a><br> El resultado de la prueba t de Student da `NaN` en la estadística `T` y el `p-value`. Esto indica que los datos contienen valores faltantes o problemas en la distribución de los ingresos. Revisa:</br>\n",
    "\n",
    "    print(merged_data[['plan', 'monthly_revenue']].isna().sum())\n",
    "\n",
    "Si hay valores nulos, reemplázalos o elimínalos antes de la prueba.</div>"
   ]
  },
  {
   "cell_type": "markdown",
   "metadata": {
    "id": "tCcAruM60q1R"
   },
   "source": [
    "Prueba la hipótesis de que el ingreso promedio de los usuarios del área NY-NJ es diferente al de los usuarios de otras regiones."
   ]
  },
  {
   "cell_type": "markdown",
   "metadata": {
    "id": "LsBgitqj0q1R"
   },
   "source": [
    "- H0: Los ingresos promedio de los usuarios de NY-NJ son iguales a los de otras regiones.\n",
    "- H1: Los ingresos promedio de los usuarios de NY-NJ son diferentes a los de otras regiones."
   ]
  },
  {
   "cell_type": "code",
   "execution_count": 40,
   "metadata": {
    "id": "Cqcj7wrZ0q1S",
    "trusted": false
   },
   "outputs": [
    {
     "name": "stdout",
     "output_type": "stream",
     "text": [
      "\n",
      "Prueba de hipótesis para ingresos por región:\n",
      "T-statistic: -2.16\n",
      "P-value: 0.0312\n",
      "Rechazamos H0: Hay una diferencia significativa en los ingresos por región.\n"
     ]
    }
   ],
   "source": [
    "\n",
    "# 1. Agregar la columna 'city' desde el DataFrame 'users' a 'merged_data'\n",
    "merged_data = merged_data.merge(\n",
    "    users[['user_id', 'city']],  # Selecciona solo 'user_id' y 'city'\n",
    "    on='user_id',                # Usa 'user_id' como clave de fusión\n",
    "    how='left'                   # Conserva todas las filas de merged_data\n",
    ")\n",
    "\n",
    "# 2. Crear la columna 'region'\n",
    "merged_data['region'] = merged_data['city'].apply(\n",
    "    lambda x: 'NY-NJ' if 'New York' in x or 'New Jersey' in x else 'Otras'\n",
    ")\n",
    "\n",
    "# 3. Filtrar los ingresos por región\n",
    "income_ny_nj = merged_data[merged_data['region'] == 'NY-NJ']['monthly_revenue']\n",
    "income_other = merged_data[merged_data['region'] == 'Otras']['monthly_revenue']\n",
    "\n",
    "# 4. Prueba t de Student\n",
    "alpha = 0.05\n",
    "t_stat, p_value = stats.ttest_ind(income_ny_nj, income_other, equal_var=False)\n",
    "\n",
    "# 5. Resultados\n",
    "print(\"\\nPrueba de hipótesis para ingresos por región:\")\n",
    "print(f\"T-statistic: {t_stat:.2f}\")\n",
    "print(f\"P-value: {p_value:.4f}\")\n",
    "\n",
    "if p_value < alpha:\n",
    "    print(\"Rechazamos H0: Hay una diferencia significativa en los ingresos por región.\")\n",
    "else:\n",
    "    print(\"No rechazamos H0: No hay una diferencia significativa en los ingresos por región.\")"
   ]
  },
  {
   "cell_type": "markdown",
   "metadata": {
    "id": "bbTR8UQO0q1T"
   },
   "source": [
    "## Conclusión general\n",
    "\n",
    "El análisis de los datos de Megaline reveló que el plan Ultimate genera mayores ingresos en comparación con el plan Surf, principalmente debido a su tarifa base más alta y al menor uso de servicios adicionales por parte de los usuarios de Surf. Además, se identificó que los usuarios de la región NY-NJ tienen ingresos promedio significativamente menores que los de otras regiones, lo que sugiere diferencias en el comportamiento de uso o en la elección de planes.\n",
    "\n",
    "Estos hallazgos tienen implicaciones importantes para Megaline. En primer lugar, se recomienda enfocar esfuerzos de marketing en promover el plan Ultimate, ya que es más rentable. En segundo lugar, es crucial investigar las razones detrás de los menores ingresos en NY-NJ y desarrollar estrategias específicas para esta región, como promociones personalizadas o ajustes en los precios de los servicios adicionales.\n",
    "\n",
    "En resumen, este proyecto demostró cómo el análisis de datos puede proporcionar insights valiosos para la toma de decisiones en el sector de telecomunicaciones. Al comprender el comportamiento de los usuarios y las diferencias regionales, Megaline puede optimizar sus estrategias comerciales y maximizar sus ingresos.\n",
    "\n",
    "## Concluciones puntuales\n",
    "\n",
    "1. El plan Ultimate genera mayores ingresos que el plan Surf, principalmente debido a su tarifa base más alta.\n",
    "2. Los usuarios del plan Surf tienden a exceder sus límites, lo que genera cargos adicionales.\n",
    "3. Si hay diferencias significativas en los ingresos entre regiones.\n",
    "4. Se recomienda enfocar esfuerzos de marketing en el plan Ultimate para maximizar los ingresos.\n",
    "\n"
   ]
  }
 ],
 "metadata": {
  "ExecuteTimeLog": [
   {
    "duration": 828,
    "start_time": "2021-11-16T09:21:11.304Z"
   },
   {
    "duration": 893,
    "start_time": "2021-11-16T09:21:17.728Z"
   },
   {
    "duration": 1150,
    "start_time": "2021-11-16T09:21:29.568Z"
   },
   {
    "duration": 3,
    "start_time": "2021-11-16T09:24:14.495Z"
   },
   {
    "duration": 120,
    "start_time": "2021-11-16T09:24:46.630Z"
   },
   {
    "duration": 3,
    "start_time": "2021-11-16T09:28:27.882Z"
   },
   {
    "duration": 4,
    "start_time": "2021-11-16T09:29:54.281Z"
   },
   {
    "duration": 3,
    "start_time": "2021-11-16T09:30:45.936Z"
   },
   {
    "duration": 4,
    "start_time": "2021-11-16T09:31:06.300Z"
   },
   {
    "duration": 113,
    "start_time": "2021-11-16T09:31:37.208Z"
   },
   {
    "duration": 143,
    "start_time": "2021-11-16T09:31:48.656Z"
   },
   {
    "duration": 98,
    "start_time": "2021-11-16T09:31:55.678Z"
   },
   {
    "duration": 3,
    "start_time": "2021-11-16T09:32:08.535Z"
   },
   {
    "duration": 111,
    "start_time": "2021-11-16T09:32:10.120Z"
   },
   {
    "duration": 3,
    "start_time": "2021-11-16T09:32:15.732Z"
   },
   {
    "duration": 4,
    "start_time": "2021-11-16T09:32:29.423Z"
   },
   {
    "duration": 3,
    "start_time": "2021-11-16T10:03:03.074Z"
   },
   {
    "duration": 3,
    "start_time": "2021-11-16T10:10:01.288Z"
   },
   {
    "duration": 3,
    "start_time": "2021-11-16T10:10:46.923Z"
   },
   {
    "duration": 121,
    "start_time": "2021-11-16T10:37:46.494Z"
   },
   {
    "duration": 125,
    "start_time": "2021-11-16T10:38:20.632Z"
   },
   {
    "duration": 112,
    "start_time": "2021-11-16T10:46:53.001Z"
   },
   {
    "duration": 110,
    "start_time": "2021-11-16T10:48:25.775Z"
   },
   {
    "duration": 3,
    "start_time": "2021-11-16T10:50:18.720Z"
   },
   {
    "duration": 4,
    "start_time": "2021-11-16T10:50:37.649Z"
   },
   {
    "duration": 2,
    "start_time": "2021-11-16T10:50:51.884Z"
   },
   {
    "duration": 3,
    "start_time": "2021-11-16T10:51:56.237Z"
   },
   {
    "duration": 101,
    "start_time": "2021-11-16T10:53:13.791Z"
   },
   {
    "duration": 3,
    "start_time": "2021-11-16T10:55:59.186Z"
   },
   {
    "duration": 3,
    "start_time": "2021-11-16T10:56:10.751Z"
   },
   {
    "duration": 3,
    "start_time": "2021-11-16T10:56:49.038Z"
   },
   {
    "duration": 3,
    "start_time": "2021-11-16T10:56:49.174Z"
   },
   {
    "duration": 4,
    "start_time": "2021-11-16T10:56:49.414Z"
   },
   {
    "duration": 3,
    "start_time": "2021-11-16T10:56:49.680Z"
   },
   {
    "duration": 3,
    "start_time": "2021-11-16T10:56:50.370Z"
   },
   {
    "duration": 114,
    "start_time": "2021-11-16T10:59:34.518Z"
   },
   {
    "duration": 3,
    "start_time": "2021-11-16T11:01:41.201Z"
   },
   {
    "duration": 116,
    "start_time": "2021-11-16T11:01:48.754Z"
   },
   {
    "duration": 3,
    "start_time": "2021-11-16T11:02:16.685Z"
   },
   {
    "duration": 3,
    "start_time": "2021-11-16T11:02:19.479Z"
   },
   {
    "duration": 3,
    "start_time": "2021-11-16T11:02:47.067Z"
   },
   {
    "duration": 3,
    "start_time": "2021-11-16T11:02:49.353Z"
   },
   {
    "duration": 3,
    "start_time": "2021-11-16T11:03:07.835Z"
   },
   {
    "duration": 3,
    "start_time": "2021-11-16T11:03:07.953Z"
   },
   {
    "duration": 112,
    "start_time": "2021-11-16T11:07:52.072Z"
   },
   {
    "duration": 187,
    "start_time": "2021-11-16T11:09:23.468Z"
   },
   {
    "duration": 4,
    "start_time": "2021-11-16T11:10:01.455Z"
   },
   {
    "duration": 3,
    "start_time": "2021-11-16T11:10:05.069Z"
   },
   {
    "duration": 4,
    "start_time": "2021-11-16T11:10:13.376Z"
   },
   {
    "duration": 3,
    "start_time": "2021-11-16T11:10:14.434Z"
   },
   {
    "duration": 3,
    "start_time": "2021-11-16T11:10:22.853Z"
   },
   {
    "duration": 4,
    "start_time": "2021-11-16T11:27:29.279Z"
   },
   {
    "duration": 4,
    "start_time": "2021-11-16T11:29:08.919Z"
   },
   {
    "duration": 118,
    "start_time": "2021-11-16T11:29:46.703Z"
   },
   {
    "duration": 437,
    "start_time": "2021-11-16T11:36:02.181Z"
   },
   {
    "duration": 157,
    "start_time": "2021-11-16T11:36:14.388Z"
   },
   {
    "duration": 207,
    "start_time": "2021-11-16T11:47:15.898Z"
   },
   {
    "duration": 3,
    "start_time": "2021-11-16T11:53:52.092Z"
   },
   {
    "duration": 3,
    "start_time": "2021-11-16T11:53:52.236Z"
   },
   {
    "duration": 3,
    "start_time": "2021-11-16T11:59:12.005Z"
   },
   {
    "duration": 112,
    "start_time": "2021-11-16T12:00:33.446Z"
   },
   {
    "duration": 3,
    "start_time": "2021-11-16T12:02:14.453Z"
   },
   {
    "duration": 3,
    "start_time": "2021-11-16T12:02:39.512Z"
   },
   {
    "duration": 106,
    "start_time": "2021-11-16T12:03:03.460Z"
   },
   {
    "duration": 3,
    "start_time": "2021-11-17T20:37:21.139Z"
   },
   {
    "duration": 3,
    "start_time": "2021-11-17T20:37:22.229Z"
   },
   {
    "duration": 3,
    "start_time": "2021-11-17T20:38:38.806Z"
   },
   {
    "duration": 3,
    "start_time": "2021-11-17T20:38:41.958Z"
   },
   {
    "duration": 3,
    "start_time": "2021-11-17T20:43:46.551Z"
   },
   {
    "duration": 4,
    "start_time": "2021-11-17T20:58:21.835Z"
   },
   {
    "duration": 3,
    "start_time": "2021-11-17T20:59:21.872Z"
   },
   {
    "duration": 4,
    "start_time": "2021-11-17T20:59:45.352Z"
   },
   {
    "duration": 4,
    "start_time": "2021-11-17T20:59:49.646Z"
   },
   {
    "duration": 159,
    "start_time": "2021-11-17T21:02:26.949Z"
   },
   {
    "duration": 3,
    "start_time": "2021-11-17T21:03:53.461Z"
   },
   {
    "duration": 3,
    "start_time": "2021-11-17T21:03:53.694Z"
   },
   {
    "duration": 3,
    "start_time": "2021-11-17T21:05:28.145Z"
   },
   {
    "duration": 116,
    "start_time": "2021-11-17T21:05:57.787Z"
   },
   {
    "duration": 3,
    "start_time": "2021-11-17T21:06:37.993Z"
   },
   {
    "duration": 3,
    "start_time": "2021-11-17T21:06:38.261Z"
   },
   {
    "duration": 3,
    "start_time": "2021-11-17T21:11:54.358Z"
   },
   {
    "duration": 3,
    "start_time": "2021-11-17T21:12:43.846Z"
   },
   {
    "duration": 4,
    "start_time": "2021-11-17T21:13:08.773Z"
   },
   {
    "duration": 3,
    "start_time": "2021-11-17T21:14:44.441Z"
   },
   {
    "duration": 3,
    "start_time": "2021-11-17T21:15:42.059Z"
   },
   {
    "duration": 4,
    "start_time": "2021-11-17T21:15:51.995Z"
   },
   {
    "duration": 3,
    "start_time": "2021-11-17T21:15:53.923Z"
   },
   {
    "duration": 3,
    "start_time": "2021-11-17T21:15:55.282Z"
   },
   {
    "duration": 3,
    "start_time": "2021-11-17T21:16:28.492Z"
   },
   {
    "duration": 3,
    "start_time": "2021-11-17T21:16:32.603Z"
   },
   {
    "duration": 3,
    "start_time": "2021-11-17T21:17:06.941Z"
   },
   {
    "duration": 98,
    "start_time": "2021-11-17T21:18:05.733Z"
   },
   {
    "duration": 4,
    "start_time": "2021-11-17T21:21:35.255Z"
   },
   {
    "duration": 3,
    "start_time": "2021-11-17T21:21:37.804Z"
   },
   {
    "duration": 4,
    "start_time": "2021-11-17T21:23:06.071Z"
   },
   {
    "duration": 3,
    "start_time": "2021-11-17T21:23:24.799Z"
   },
   {
    "duration": 3,
    "start_time": "2021-11-17T21:23:32.591Z"
   },
   {
    "duration": 98,
    "start_time": "2021-11-17T21:28:31.559Z"
   },
   {
    "duration": 3,
    "start_time": "2021-11-17T21:28:45.448Z"
   },
   {
    "duration": 3,
    "start_time": "2021-11-17T21:29:17.303Z"
   },
   {
    "duration": 3,
    "start_time": "2021-11-17T21:29:29.617Z"
   },
   {
    "duration": 3,
    "start_time": "2021-11-17T21:29:32.681Z"
   },
   {
    "duration": 3,
    "start_time": "2021-11-17T21:36:11.474Z"
   },
   {
    "duration": 3,
    "start_time": "2021-11-17T21:36:14.791Z"
   },
   {
    "duration": 3,
    "start_time": "2021-11-17T21:36:53.943Z"
   },
   {
    "duration": 3,
    "start_time": "2021-11-17T21:36:56.165Z"
   },
   {
    "duration": 4,
    "start_time": "2021-11-17T21:37:16.590Z"
   },
   {
    "duration": 3,
    "start_time": "2021-11-17T21:37:22.702Z"
   },
   {
    "duration": 4,
    "start_time": "2021-11-17T21:38:03.479Z"
   },
   {
    "duration": 3,
    "start_time": "2021-11-17T21:38:08.601Z"
   },
   {
    "duration": 3,
    "start_time": "2021-11-17T21:38:12.928Z"
   },
   {
    "duration": 3,
    "start_time": "2021-11-17T21:38:48.896Z"
   },
   {
    "duration": 2,
    "start_time": "2021-11-17T21:38:49.171Z"
   },
   {
    "duration": 4,
    "start_time": "2021-11-17T21:39:57.889Z"
   },
   {
    "duration": 3,
    "start_time": "2021-11-17T21:39:58.057Z"
   },
   {
    "duration": 3,
    "start_time": "2021-11-17T21:41:20.108Z"
   },
   {
    "duration": 3,
    "start_time": "2021-11-17T21:41:20.629Z"
   },
   {
    "duration": 3,
    "start_time": "2021-11-17T21:42:49.136Z"
   },
   {
    "duration": 3,
    "start_time": "2021-11-17T21:43:15.137Z"
   },
   {
    "duration": 4,
    "start_time": "2021-11-17T21:43:16.766Z"
   },
   {
    "duration": 4,
    "start_time": "2021-11-17T21:43:31.711Z"
   },
   {
    "duration": 3,
    "start_time": "2021-11-17T21:43:36.312Z"
   },
   {
    "duration": 4,
    "start_time": "2021-11-17T21:45:08.825Z"
   },
   {
    "duration": 4,
    "start_time": "2021-11-17T21:45:10.119Z"
   },
   {
    "duration": 4,
    "start_time": "2021-11-17T21:45:13.748Z"
   },
   {
    "duration": 3,
    "start_time": "2021-11-17T21:45:22.219Z"
   },
   {
    "duration": 3,
    "start_time": "2021-11-17T21:45:33.412Z"
   },
   {
    "duration": 2,
    "start_time": "2021-11-17T21:46:01.885Z"
   },
   {
    "duration": 3,
    "start_time": "2021-11-17T21:46:03.628Z"
   },
   {
    "duration": 107,
    "start_time": "2021-11-17T21:47:32.512Z"
   },
   {
    "duration": 103,
    "start_time": "2021-11-17T21:50:36.243Z"
   },
   {
    "duration": 3,
    "start_time": "2021-11-18T06:28:31.440Z"
   },
   {
    "duration": 3,
    "start_time": "2021-11-18T06:29:00.168Z"
   },
   {
    "duration": 3,
    "start_time": "2021-11-18T06:31:27.008Z"
   },
   {
    "duration": 2,
    "start_time": "2021-11-18T06:35:34.288Z"
   },
   {
    "duration": 2,
    "start_time": "2021-11-18T06:38:04.527Z"
   },
   {
    "duration": 2561,
    "start_time": "2025-01-17T04:04:32.490Z"
   },
   {
    "duration": 576,
    "start_time": "2025-01-17T04:05:50.821Z"
   },
   {
    "duration": 213,
    "start_time": "2025-01-17T04:11:07.926Z"
   },
   {
    "duration": 20,
    "start_time": "2025-01-17T04:12:07.242Z"
   },
   {
    "duration": 5,
    "start_time": "2025-01-17T04:12:44.831Z"
   },
   {
    "duration": 14,
    "start_time": "2025-01-17T04:37:11.306Z"
   },
   {
    "duration": 162,
    "start_time": "2025-01-17T04:37:26.581Z"
   },
   {
    "duration": 16,
    "start_time": "2025-01-17T04:37:29.041Z"
   },
   {
    "duration": 264,
    "start_time": "2025-01-17T06:47:13.368Z"
   },
   {
    "duration": 1086,
    "start_time": "2025-01-17T07:05:25.806Z"
   },
   {
    "duration": 2114,
    "start_time": "2025-01-17T07:07:29.594Z"
   },
   {
    "duration": 1783,
    "start_time": "2025-01-17T07:09:27.117Z"
   },
   {
    "duration": 1102,
    "start_time": "2025-01-17T07:11:04.582Z"
   },
   {
    "duration": 5,
    "start_time": "2025-01-17T07:14:13.888Z"
   },
   {
    "duration": 501,
    "start_time": "2025-01-17T07:17:33.817Z"
   },
   {
    "duration": 434,
    "start_time": "2025-01-17T07:21:13.475Z"
   },
   {
    "duration": 124,
    "start_time": "2025-01-17T07:24:03.319Z"
   },
   {
    "duration": 223,
    "start_time": "2025-01-17T07:29:41.788Z"
   },
   {
    "duration": 620,
    "start_time": "2025-01-17T07:33:11.321Z"
   },
   {
    "duration": 5,
    "start_time": "2025-01-17T07:38:16.612Z"
   },
   {
    "duration": 6,
    "start_time": "2025-01-17T07:38:26.456Z"
   },
   {
    "duration": 644,
    "start_time": "2025-01-17T07:45:46.869Z"
   },
   {
    "duration": 5,
    "start_time": "2025-01-17T07:46:37.666Z"
   },
   {
    "duration": 5,
    "start_time": "2025-01-17T07:51:06.385Z"
   },
   {
    "duration": 6,
    "start_time": "2025-01-17T07:51:48.385Z"
   },
   {
    "duration": 6,
    "start_time": "2025-01-17T07:52:21.887Z"
   },
   {
    "duration": 7,
    "start_time": "2025-01-17T08:00:35.805Z"
   },
   {
    "duration": 4,
    "start_time": "2025-01-17T08:00:50.998Z"
   },
   {
    "duration": 4,
    "start_time": "2025-01-17T08:00:59.288Z"
   },
   {
    "duration": 5,
    "start_time": "2025-01-17T08:01:16.063Z"
   },
   {
    "duration": 4,
    "start_time": "2025-01-17T08:01:19.215Z"
   },
   {
    "duration": 3,
    "start_time": "2025-01-17T08:01:22.089Z"
   },
   {
    "duration": 3,
    "start_time": "2025-01-17T08:02:13.194Z"
   },
   {
    "duration": 16,
    "start_time": "2025-01-17T08:02:49.306Z"
   },
   {
    "duration": 8,
    "start_time": "2025-01-17T08:04:50.207Z"
   },
   {
    "duration": 7,
    "start_time": "2025-01-17T08:08:51.531Z"
   },
   {
    "duration": 7,
    "start_time": "2025-01-17T08:09:07.791Z"
   },
   {
    "duration": 7,
    "start_time": "2025-01-17T08:09:24.376Z"
   },
   {
    "duration": 8,
    "start_time": "2025-01-17T08:18:41.496Z"
   },
   {
    "duration": 4,
    "start_time": "2025-01-17T08:22:05.462Z"
   },
   {
    "duration": 153,
    "start_time": "2025-01-17T08:22:06.794Z"
   },
   {
    "duration": 660,
    "start_time": "2025-01-17T08:22:27.046Z"
   },
   {
    "duration": 5,
    "start_time": "2025-01-17T08:22:28.226Z"
   },
   {
    "duration": 5,
    "start_time": "2025-01-17T08:22:32.336Z"
   },
   {
    "duration": 8,
    "start_time": "2025-01-17T08:22:43.119Z"
   },
   {
    "duration": 157,
    "start_time": "2025-01-17T21:57:49.296Z"
   },
   {
    "duration": 2565,
    "start_time": "2025-01-17T21:58:24.532Z"
   },
   {
    "duration": 230,
    "start_time": "2025-01-17T21:58:27.099Z"
   },
   {
    "duration": 745,
    "start_time": "2025-01-17T21:58:27.795Z"
   },
   {
    "duration": 5,
    "start_time": "2025-01-17T21:58:28.542Z"
   },
   {
    "duration": 7,
    "start_time": "2025-01-17T21:58:34.935Z"
   },
   {
    "duration": 9,
    "start_time": "2025-01-17T21:58:38.041Z"
   },
   {
    "duration": 6,
    "start_time": "2025-01-17T21:59:28.337Z"
   },
   {
    "duration": 6,
    "start_time": "2025-01-18T00:11:01.476Z"
   },
   {
    "duration": 9,
    "start_time": "2025-01-18T00:11:31.629Z"
   },
   {
    "duration": 9,
    "start_time": "2025-01-18T00:12:34.334Z"
   },
   {
    "duration": 22,
    "start_time": "2025-01-18T00:19:00.977Z"
   },
   {
    "duration": 2578,
    "start_time": "2025-01-18T03:40:53.718Z"
   },
   {
    "duration": 226,
    "start_time": "2025-01-18T03:40:56.299Z"
   },
   {
    "duration": 718,
    "start_time": "2025-01-18T03:40:57.094Z"
   },
   {
    "duration": 5,
    "start_time": "2025-01-18T03:41:14.935Z"
   },
   {
    "duration": 8,
    "start_time": "2025-01-18T03:41:22.377Z"
   },
   {
    "duration": 8,
    "start_time": "2025-01-18T03:41:29.449Z"
   },
   {
    "duration": 84,
    "start_time": "2025-01-18T03:41:30.647Z"
   },
   {
    "duration": 10,
    "start_time": "2025-01-18T04:31:56.415Z"
   },
   {
    "duration": 230,
    "start_time": "2025-01-18T05:28:37.742Z"
   },
   {
    "duration": 21,
    "start_time": "2025-01-18T05:36:09.127Z"
   },
   {
    "duration": 26,
    "start_time": "2025-01-18T05:43:34.432Z"
   },
   {
    "duration": 21,
    "start_time": "2025-01-18T05:43:51.270Z"
   },
   {
    "duration": 4,
    "start_time": "2025-01-18T05:46:34.495Z"
   },
   {
    "duration": 810,
    "start_time": "2025-01-18T05:46:42.880Z"
   },
   {
    "duration": 161,
    "start_time": "2025-01-18T05:46:43.693Z"
   },
   {
    "duration": 726,
    "start_time": "2025-01-18T05:46:43.855Z"
   },
   {
    "duration": 6,
    "start_time": "2025-01-18T05:46:44.584Z"
   },
   {
    "duration": 18,
    "start_time": "2025-01-18T05:46:44.591Z"
   },
   {
    "duration": 9,
    "start_time": "2025-01-18T05:46:44.612Z"
   },
   {
    "duration": 20,
    "start_time": "2025-01-18T05:46:44.622Z"
   },
   {
    "duration": 8,
    "start_time": "2025-01-18T05:46:44.643Z"
   },
   {
    "duration": 18,
    "start_time": "2025-01-18T05:46:44.652Z"
   },
   {
    "duration": 2,
    "start_time": "2025-01-18T05:46:44.672Z"
   },
   {
    "duration": 4,
    "start_time": "2025-01-18T05:46:44.706Z"
   },
   {
    "duration": 2,
    "start_time": "2025-01-18T05:46:44.712Z"
   },
   {
    "duration": 3,
    "start_time": "2025-01-18T05:46:44.716Z"
   },
   {
    "duration": 2,
    "start_time": "2025-01-18T05:46:44.721Z"
   },
   {
    "duration": 2,
    "start_time": "2025-01-18T05:46:44.729Z"
   },
   {
    "duration": 2,
    "start_time": "2025-01-18T05:46:44.733Z"
   },
   {
    "duration": 4,
    "start_time": "2025-01-18T05:46:44.736Z"
   },
   {
    "duration": 2,
    "start_time": "2025-01-18T05:46:44.742Z"
   },
   {
    "duration": 2,
    "start_time": "2025-01-18T05:46:44.746Z"
   },
   {
    "duration": 3,
    "start_time": "2025-01-18T05:46:44.750Z"
   },
   {
    "duration": 3,
    "start_time": "2025-01-18T05:46:44.754Z"
   },
   {
    "duration": 3,
    "start_time": "2025-01-18T05:46:44.758Z"
   },
   {
    "duration": 5,
    "start_time": "2025-01-18T05:46:44.806Z"
   },
   {
    "duration": 2,
    "start_time": "2025-01-18T05:46:44.813Z"
   },
   {
    "duration": 3,
    "start_time": "2025-01-18T05:46:44.816Z"
   },
   {
    "duration": 3,
    "start_time": "2025-01-18T05:46:44.821Z"
   },
   {
    "duration": 2,
    "start_time": "2025-01-18T05:46:44.826Z"
   },
   {
    "duration": 2,
    "start_time": "2025-01-18T05:46:44.833Z"
   },
   {
    "duration": 2,
    "start_time": "2025-01-18T05:46:44.836Z"
   },
   {
    "duration": 3,
    "start_time": "2025-01-18T05:46:44.840Z"
   },
   {
    "duration": 2,
    "start_time": "2025-01-18T05:46:44.846Z"
   },
   {
    "duration": 20,
    "start_time": "2025-01-18T05:50:53.789Z"
   },
   {
    "duration": 19,
    "start_time": "2025-01-18T05:58:16.261Z"
   },
   {
    "duration": 425,
    "start_time": "2025-01-18T06:05:47.858Z"
   },
   {
    "duration": 409,
    "start_time": "2025-01-18T06:14:36.157Z"
   },
   {
    "duration": 428,
    "start_time": "2025-01-18T06:18:59.033Z"
   },
   {
    "duration": 9396,
    "start_time": "2025-01-18T06:19:19.975Z"
   },
   {
    "duration": 1244,
    "start_time": "2025-01-18T06:26:21.661Z"
   },
   {
    "duration": 783,
    "start_time": "2025-01-18T06:28:31.984Z"
   },
   {
    "duration": 559,
    "start_time": "2025-01-18T06:33:18.973Z"
   },
   {
    "duration": 1032,
    "start_time": "2025-01-18T06:36:30.433Z"
   },
   {
    "duration": 456,
    "start_time": "2025-01-18T07:28:29.416Z"
   },
   {
    "duration": 830,
    "start_time": "2025-01-18T07:31:29.853Z"
   },
   {
    "duration": 167,
    "start_time": "2025-01-18T07:31:30.685Z"
   },
   {
    "duration": 690,
    "start_time": "2025-01-18T07:31:30.854Z"
   },
   {
    "duration": 5,
    "start_time": "2025-01-18T07:31:31.547Z"
   },
   {
    "duration": 8,
    "start_time": "2025-01-18T07:31:31.554Z"
   },
   {
    "duration": 9,
    "start_time": "2025-01-18T07:31:31.564Z"
   },
   {
    "duration": 45,
    "start_time": "2025-01-18T07:31:31.574Z"
   },
   {
    "duration": 9,
    "start_time": "2025-01-18T07:31:31.621Z"
   },
   {
    "duration": 966,
    "start_time": "2025-01-18T07:31:31.632Z"
   },
   {
    "duration": 2,
    "start_time": "2025-01-18T07:31:32.606Z"
   },
   {
    "duration": 3,
    "start_time": "2025-01-18T07:31:32.610Z"
   },
   {
    "duration": 4,
    "start_time": "2025-01-18T07:31:32.615Z"
   },
   {
    "duration": 3,
    "start_time": "2025-01-18T07:31:32.621Z"
   },
   {
    "duration": 3,
    "start_time": "2025-01-18T07:31:32.625Z"
   },
   {
    "duration": 8,
    "start_time": "2025-01-18T07:31:32.629Z"
   },
   {
    "duration": 2,
    "start_time": "2025-01-18T07:31:32.639Z"
   },
   {
    "duration": 3,
    "start_time": "2025-01-18T07:31:32.642Z"
   },
   {
    "duration": 4,
    "start_time": "2025-01-18T07:31:32.646Z"
   },
   {
    "duration": 2,
    "start_time": "2025-01-18T07:31:32.651Z"
   },
   {
    "duration": 2,
    "start_time": "2025-01-18T07:31:32.655Z"
   },
   {
    "duration": 3,
    "start_time": "2025-01-18T07:31:32.659Z"
   },
   {
    "duration": 43,
    "start_time": "2025-01-18T07:31:32.663Z"
   },
   {
    "duration": 3,
    "start_time": "2025-01-18T07:31:32.708Z"
   },
   {
    "duration": 3,
    "start_time": "2025-01-18T07:31:32.714Z"
   },
   {
    "duration": 2,
    "start_time": "2025-01-18T07:31:32.720Z"
   },
   {
    "duration": 2,
    "start_time": "2025-01-18T07:31:32.724Z"
   },
   {
    "duration": 3,
    "start_time": "2025-01-18T07:31:32.728Z"
   },
   {
    "duration": 1,
    "start_time": "2025-01-18T07:31:32.735Z"
   },
   {
    "duration": 3,
    "start_time": "2025-01-18T07:31:32.738Z"
   },
   {
    "duration": 4,
    "start_time": "2025-01-18T07:31:32.742Z"
   },
   {
    "duration": 3,
    "start_time": "2025-01-18T07:31:32.747Z"
   },
   {
    "duration": 631,
    "start_time": "2025-01-18T07:35:35.732Z"
   },
   {
    "duration": 142,
    "start_time": "2025-01-18T07:36:00.956Z"
   },
   {
    "duration": 76,
    "start_time": "2025-01-18T07:37:46.630Z"
   },
   {
    "duration": 868,
    "start_time": "2025-01-18T07:37:58.323Z"
   },
   {
    "duration": 159,
    "start_time": "2025-01-18T07:37:59.193Z"
   },
   {
    "duration": 709,
    "start_time": "2025-01-18T07:37:59.354Z"
   },
   {
    "duration": 6,
    "start_time": "2025-01-18T07:38:00.066Z"
   },
   {
    "duration": 8,
    "start_time": "2025-01-18T07:38:00.075Z"
   },
   {
    "duration": 26,
    "start_time": "2025-01-18T07:38:00.084Z"
   },
   {
    "duration": 21,
    "start_time": "2025-01-18T07:38:00.112Z"
   },
   {
    "duration": 8,
    "start_time": "2025-01-18T07:38:00.135Z"
   },
   {
    "duration": 1706,
    "start_time": "2025-01-18T07:38:00.145Z"
   },
   {
    "duration": 0,
    "start_time": "2025-01-18T07:38:01.854Z"
   },
   {
    "duration": 0,
    "start_time": "2025-01-18T07:38:01.855Z"
   },
   {
    "duration": 0,
    "start_time": "2025-01-18T07:38:01.857Z"
   },
   {
    "duration": 0,
    "start_time": "2025-01-18T07:38:01.859Z"
   },
   {
    "duration": 0,
    "start_time": "2025-01-18T07:38:01.860Z"
   },
   {
    "duration": 0,
    "start_time": "2025-01-18T07:38:01.862Z"
   },
   {
    "duration": 0,
    "start_time": "2025-01-18T07:38:01.863Z"
   },
   {
    "duration": 0,
    "start_time": "2025-01-18T07:38:01.864Z"
   },
   {
    "duration": 0,
    "start_time": "2025-01-18T07:38:01.866Z"
   },
   {
    "duration": 0,
    "start_time": "2025-01-18T07:38:01.867Z"
   },
   {
    "duration": 0,
    "start_time": "2025-01-18T07:38:01.869Z"
   },
   {
    "duration": 0,
    "start_time": "2025-01-18T07:38:01.870Z"
   },
   {
    "duration": 0,
    "start_time": "2025-01-18T07:38:01.872Z"
   },
   {
    "duration": 0,
    "start_time": "2025-01-18T07:38:01.905Z"
   },
   {
    "duration": 0,
    "start_time": "2025-01-18T07:38:01.906Z"
   },
   {
    "duration": 0,
    "start_time": "2025-01-18T07:38:01.908Z"
   },
   {
    "duration": 0,
    "start_time": "2025-01-18T07:38:01.909Z"
   },
   {
    "duration": 0,
    "start_time": "2025-01-18T07:38:01.911Z"
   },
   {
    "duration": 0,
    "start_time": "2025-01-18T07:38:01.912Z"
   },
   {
    "duration": 0,
    "start_time": "2025-01-18T07:38:01.914Z"
   },
   {
    "duration": 0,
    "start_time": "2025-01-18T07:38:01.915Z"
   },
   {
    "duration": 0,
    "start_time": "2025-01-18T07:38:01.917Z"
   },
   {
    "duration": 80,
    "start_time": "2025-01-18T07:39:53.246Z"
   },
   {
    "duration": 1046,
    "start_time": "2025-01-18T07:45:03.685Z"
   },
   {
    "duration": 0,
    "start_time": "2025-01-18T07:45:04.734Z"
   },
   {
    "duration": 0,
    "start_time": "2025-01-18T07:45:04.735Z"
   },
   {
    "duration": 0,
    "start_time": "2025-01-18T07:45:04.736Z"
   },
   {
    "duration": 0,
    "start_time": "2025-01-18T07:45:04.737Z"
   },
   {
    "duration": 0,
    "start_time": "2025-01-18T07:45:04.738Z"
   },
   {
    "duration": 0,
    "start_time": "2025-01-18T07:45:04.739Z"
   },
   {
    "duration": 0,
    "start_time": "2025-01-18T07:45:04.740Z"
   },
   {
    "duration": 0,
    "start_time": "2025-01-18T07:45:04.741Z"
   },
   {
    "duration": 0,
    "start_time": "2025-01-18T07:45:04.742Z"
   },
   {
    "duration": 0,
    "start_time": "2025-01-18T07:45:04.743Z"
   },
   {
    "duration": 0,
    "start_time": "2025-01-18T07:45:04.744Z"
   },
   {
    "duration": 0,
    "start_time": "2025-01-18T07:45:04.745Z"
   },
   {
    "duration": 0,
    "start_time": "2025-01-18T07:45:04.746Z"
   },
   {
    "duration": 0,
    "start_time": "2025-01-18T07:45:04.747Z"
   },
   {
    "duration": 0,
    "start_time": "2025-01-18T07:45:04.748Z"
   },
   {
    "duration": 0,
    "start_time": "2025-01-18T07:45:04.749Z"
   },
   {
    "duration": 0,
    "start_time": "2025-01-18T07:45:04.750Z"
   },
   {
    "duration": 0,
    "start_time": "2025-01-18T07:45:04.751Z"
   },
   {
    "duration": 0,
    "start_time": "2025-01-18T07:45:04.752Z"
   },
   {
    "duration": 0,
    "start_time": "2025-01-18T07:45:04.753Z"
   },
   {
    "duration": 0,
    "start_time": "2025-01-18T07:45:04.755Z"
   },
   {
    "duration": 0,
    "start_time": "2025-01-18T07:45:04.756Z"
   },
   {
    "duration": 0,
    "start_time": "2025-01-18T07:45:04.758Z"
   },
   {
    "duration": 0,
    "start_time": "2025-01-18T07:45:04.759Z"
   },
   {
    "duration": 0,
    "start_time": "2025-01-18T07:45:04.761Z"
   },
   {
    "duration": 0,
    "start_time": "2025-01-18T07:45:04.805Z"
   },
   {
    "duration": 0,
    "start_time": "2025-01-18T07:45:04.806Z"
   },
   {
    "duration": 0,
    "start_time": "2025-01-18T07:45:04.808Z"
   },
   {
    "duration": 0,
    "start_time": "2025-01-18T07:45:04.810Z"
   },
   {
    "duration": 0,
    "start_time": "2025-01-18T07:45:04.810Z"
   },
   {
    "duration": 629,
    "start_time": "2025-01-18T07:45:27.650Z"
   },
   {
    "duration": 395,
    "start_time": "2025-01-18T07:50:38.165Z"
   },
   {
    "duration": 434,
    "start_time": "2025-01-18T07:53:51.502Z"
   },
   {
    "duration": 12,
    "start_time": "2025-01-18T07:58:42.669Z"
   },
   {
    "duration": 18,
    "start_time": "2025-01-18T07:59:16.189Z"
   },
   {
    "duration": 4,
    "start_time": "2025-01-18T08:00:16.734Z"
   },
   {
    "duration": 842,
    "start_time": "2025-01-18T08:00:48.145Z"
   },
   {
    "duration": 162,
    "start_time": "2025-01-18T08:00:48.989Z"
   },
   {
    "duration": 716,
    "start_time": "2025-01-18T08:00:49.153Z"
   },
   {
    "duration": 5,
    "start_time": "2025-01-18T08:00:49.871Z"
   },
   {
    "duration": 8,
    "start_time": "2025-01-18T08:00:49.878Z"
   },
   {
    "duration": 25,
    "start_time": "2025-01-18T08:00:49.888Z"
   },
   {
    "duration": 22,
    "start_time": "2025-01-18T08:00:49.914Z"
   },
   {
    "duration": 7,
    "start_time": "2025-01-18T08:00:49.938Z"
   },
   {
    "duration": 455,
    "start_time": "2025-01-18T08:00:49.946Z"
   },
   {
    "duration": 2,
    "start_time": "2025-01-18T08:00:50.404Z"
   },
   {
    "duration": 2,
    "start_time": "2025-01-18T08:00:50.408Z"
   },
   {
    "duration": 3,
    "start_time": "2025-01-18T08:00:50.412Z"
   },
   {
    "duration": 4,
    "start_time": "2025-01-18T08:00:50.417Z"
   },
   {
    "duration": 2,
    "start_time": "2025-01-18T08:00:50.423Z"
   },
   {
    "duration": 3,
    "start_time": "2025-01-18T08:00:50.427Z"
   },
   {
    "duration": 2,
    "start_time": "2025-01-18T08:00:50.431Z"
   },
   {
    "duration": 2,
    "start_time": "2025-01-18T08:00:50.435Z"
   },
   {
    "duration": 3,
    "start_time": "2025-01-18T08:00:50.439Z"
   },
   {
    "duration": 2,
    "start_time": "2025-01-18T08:00:50.443Z"
   },
   {
    "duration": 2,
    "start_time": "2025-01-18T08:00:50.447Z"
   },
   {
    "duration": 2,
    "start_time": "2025-01-18T08:00:50.451Z"
   },
   {
    "duration": 2,
    "start_time": "2025-01-18T08:00:50.504Z"
   },
   {
    "duration": 2,
    "start_time": "2025-01-18T08:00:50.508Z"
   },
   {
    "duration": 3,
    "start_time": "2025-01-18T08:00:50.513Z"
   },
   {
    "duration": 14,
    "start_time": "2025-01-18T08:00:50.517Z"
   },
   {
    "duration": 2,
    "start_time": "2025-01-18T08:00:50.532Z"
   },
   {
    "duration": 2,
    "start_time": "2025-01-18T08:00:50.536Z"
   },
   {
    "duration": 2,
    "start_time": "2025-01-18T08:00:50.542Z"
   },
   {
    "duration": 2,
    "start_time": "2025-01-18T08:00:50.545Z"
   },
   {
    "duration": 2,
    "start_time": "2025-01-18T08:00:50.549Z"
   },
   {
    "duration": 2,
    "start_time": "2025-01-18T08:00:50.554Z"
   },
   {
    "duration": 795,
    "start_time": "2025-01-18T08:07:56.392Z"
   },
   {
    "duration": 158,
    "start_time": "2025-01-18T08:07:57.189Z"
   },
   {
    "duration": 708,
    "start_time": "2025-01-18T08:07:57.349Z"
   },
   {
    "duration": 5,
    "start_time": "2025-01-18T08:07:58.059Z"
   },
   {
    "duration": 8,
    "start_time": "2025-01-18T08:07:58.066Z"
   },
   {
    "duration": 9,
    "start_time": "2025-01-18T08:07:58.075Z"
   },
   {
    "duration": 20,
    "start_time": "2025-01-18T08:07:58.104Z"
   },
   {
    "duration": 7,
    "start_time": "2025-01-18T08:07:58.126Z"
   },
   {
    "duration": 433,
    "start_time": "2025-01-18T08:07:58.135Z"
   },
   {
    "duration": 2,
    "start_time": "2025-01-18T08:07:58.572Z"
   },
   {
    "duration": 23,
    "start_time": "2025-01-18T08:07:58.576Z"
   },
   {
    "duration": 3,
    "start_time": "2025-01-18T08:07:58.601Z"
   },
   {
    "duration": 3,
    "start_time": "2025-01-18T08:07:58.605Z"
   },
   {
    "duration": 3,
    "start_time": "2025-01-18T08:07:58.609Z"
   },
   {
    "duration": 3,
    "start_time": "2025-01-18T08:07:58.614Z"
   },
   {
    "duration": 3,
    "start_time": "2025-01-18T08:07:58.618Z"
   },
   {
    "duration": 3,
    "start_time": "2025-01-18T08:07:58.622Z"
   },
   {
    "duration": 2,
    "start_time": "2025-01-18T08:07:58.627Z"
   },
   {
    "duration": 3,
    "start_time": "2025-01-18T08:07:58.630Z"
   },
   {
    "duration": 3,
    "start_time": "2025-01-18T08:07:58.634Z"
   },
   {
    "duration": 2,
    "start_time": "2025-01-18T08:07:58.639Z"
   },
   {
    "duration": 2,
    "start_time": "2025-01-18T08:07:58.642Z"
   },
   {
    "duration": 2,
    "start_time": "2025-01-18T08:07:58.646Z"
   },
   {
    "duration": 3,
    "start_time": "2025-01-18T08:07:58.650Z"
   },
   {
    "duration": 3,
    "start_time": "2025-01-18T08:07:58.654Z"
   },
   {
    "duration": 3,
    "start_time": "2025-01-18T08:07:58.705Z"
   },
   {
    "duration": 2,
    "start_time": "2025-01-18T08:07:58.711Z"
   },
   {
    "duration": 2,
    "start_time": "2025-01-18T08:07:58.717Z"
   },
   {
    "duration": 3,
    "start_time": "2025-01-18T08:07:58.720Z"
   },
   {
    "duration": 3,
    "start_time": "2025-01-18T08:07:58.724Z"
   },
   {
    "duration": 3,
    "start_time": "2025-01-18T08:07:58.728Z"
   },
   {
    "duration": 2606,
    "start_time": "2025-02-04T22:56:01.982Z"
   },
   {
    "duration": 224,
    "start_time": "2025-02-04T22:56:04.590Z"
   },
   {
    "duration": 727,
    "start_time": "2025-02-04T22:56:04.816Z"
   },
   {
    "duration": 5,
    "start_time": "2025-02-04T22:56:05.547Z"
   },
   {
    "duration": 8,
    "start_time": "2025-02-04T22:56:05.554Z"
   },
   {
    "duration": 9,
    "start_time": "2025-02-04T22:56:05.564Z"
   },
   {
    "duration": 20,
    "start_time": "2025-02-04T22:56:05.574Z"
   },
   {
    "duration": 39,
    "start_time": "2025-02-04T22:56:05.596Z"
   },
   {
    "duration": 479,
    "start_time": "2025-02-04T22:56:05.637Z"
   },
   {
    "duration": 2,
    "start_time": "2025-02-04T22:56:06.119Z"
   },
   {
    "duration": 9,
    "start_time": "2025-02-04T22:56:06.123Z"
   },
   {
    "duration": 5,
    "start_time": "2025-02-04T22:56:06.133Z"
   },
   {
    "duration": 3,
    "start_time": "2025-02-04T22:56:06.140Z"
   },
   {
    "duration": 4,
    "start_time": "2025-02-04T22:56:06.144Z"
   },
   {
    "duration": 3,
    "start_time": "2025-02-04T22:56:06.149Z"
   },
   {
    "duration": 3,
    "start_time": "2025-02-04T22:56:06.153Z"
   },
   {
    "duration": 2,
    "start_time": "2025-02-04T22:56:06.158Z"
   },
   {
    "duration": 3,
    "start_time": "2025-02-04T22:56:06.162Z"
   },
   {
    "duration": 3,
    "start_time": "2025-02-04T22:56:06.166Z"
   },
   {
    "duration": 3,
    "start_time": "2025-02-04T22:56:06.171Z"
   },
   {
    "duration": 3,
    "start_time": "2025-02-04T22:56:06.176Z"
   },
   {
    "duration": 4,
    "start_time": "2025-02-04T22:56:06.180Z"
   },
   {
    "duration": 48,
    "start_time": "2025-02-04T22:56:06.185Z"
   },
   {
    "duration": 3,
    "start_time": "2025-02-04T22:56:06.235Z"
   },
   {
    "duration": 2,
    "start_time": "2025-02-04T22:56:06.240Z"
   },
   {
    "duration": 3,
    "start_time": "2025-02-04T22:56:06.244Z"
   },
   {
    "duration": 3,
    "start_time": "2025-02-04T22:56:06.249Z"
   },
   {
    "duration": 2,
    "start_time": "2025-02-04T22:56:06.256Z"
   },
   {
    "duration": 3,
    "start_time": "2025-02-04T22:56:06.260Z"
   },
   {
    "duration": 4,
    "start_time": "2025-02-04T22:56:06.264Z"
   },
   {
    "duration": 2,
    "start_time": "2025-02-04T22:56:06.271Z"
   },
   {
    "duration": 3,
    "start_time": "2025-02-04T23:11:39.818Z"
   },
   {
    "duration": 3,
    "start_time": "2025-02-04T23:11:39.823Z"
   },
   {
    "duration": 3,
    "start_time": "2025-02-04T23:11:39.827Z"
   },
   {
    "duration": 3,
    "start_time": "2025-02-04T23:11:39.831Z"
   },
   {
    "duration": 3,
    "start_time": "2025-02-04T23:11:39.836Z"
   },
   {
    "duration": 3,
    "start_time": "2025-02-04T23:11:39.841Z"
   },
   {
    "duration": 2,
    "start_time": "2025-02-04T23:11:39.847Z"
   },
   {
    "duration": 4,
    "start_time": "2025-02-04T23:11:39.850Z"
   },
   {
    "duration": 3,
    "start_time": "2025-02-04T23:11:39.856Z"
   },
   {
    "duration": 3,
    "start_time": "2025-02-04T23:11:39.861Z"
   },
   {
    "duration": 2,
    "start_time": "2025-02-04T23:11:39.867Z"
   },
   {
    "duration": 3,
    "start_time": "2025-02-04T23:11:39.870Z"
   },
   {
    "duration": 3,
    "start_time": "2025-02-04T23:11:39.875Z"
   },
   {
    "duration": 3,
    "start_time": "2025-02-04T23:11:39.880Z"
   },
   {
    "duration": 48,
    "start_time": "2025-02-04T23:11:39.884Z"
   },
   {
    "duration": 3,
    "start_time": "2025-02-04T23:11:39.934Z"
   },
   {
    "duration": 3,
    "start_time": "2025-02-04T23:11:39.939Z"
   },
   {
    "duration": 3,
    "start_time": "2025-02-04T23:11:39.944Z"
   },
   {
    "duration": 3,
    "start_time": "2025-02-04T23:11:39.949Z"
   },
   {
    "duration": 5,
    "start_time": "2025-02-04T23:11:39.954Z"
   },
   {
    "duration": 2,
    "start_time": "2025-02-04T23:11:39.963Z"
   },
   {
    "duration": 3,
    "start_time": "2025-02-04T23:11:39.967Z"
   },
   {
    "duration": 2,
    "start_time": "2025-02-04T23:11:39.972Z"
   },
   {
    "duration": 3,
    "start_time": "2025-02-04T23:11:39.976Z"
   },
   {
    "duration": 3,
    "start_time": "2025-02-04T23:11:39.981Z"
   },
   {
    "duration": 45,
    "start_time": "2025-02-04T23:11:39.986Z"
   },
   {
    "duration": 3,
    "start_time": "2025-02-04T23:11:40.033Z"
   },
   {
    "duration": 3,
    "start_time": "2025-02-04T23:11:40.037Z"
   },
   {
    "duration": 2493,
    "start_time": "2025-02-07T22:59:48.653Z"
   },
   {
    "duration": 568,
    "start_time": "2025-02-07T22:59:51.525Z"
   },
   {
    "duration": 213,
    "start_time": "2025-02-07T23:00:35.244Z"
   },
   {
    "duration": 9,
    "start_time": "2025-02-07T23:02:30.907Z"
   },
   {
    "duration": 7,
    "start_time": "2025-02-07T23:02:40.386Z"
   },
   {
    "duration": 9,
    "start_time": "2025-02-07T23:07:44.600Z"
   },
   {
    "duration": 6,
    "start_time": "2025-02-07T23:07:59.297Z"
   },
   {
    "duration": 123,
    "start_time": "2025-02-07T23:09:31.446Z"
   },
   {
    "duration": 69,
    "start_time": "2025-02-07T23:10:19.523Z"
   },
   {
    "duration": 5,
    "start_time": "2025-02-07T23:13:15.255Z"
   },
   {
    "duration": 4,
    "start_time": "2025-02-07T23:13:28.413Z"
   },
   {
    "duration": 4,
    "start_time": "2025-02-07T23:13:48.644Z"
   },
   {
    "duration": 869,
    "start_time": "2025-02-07T23:15:34.261Z"
   },
   {
    "duration": 166,
    "start_time": "2025-02-07T23:15:35.132Z"
   },
   {
    "duration": 11,
    "start_time": "2025-02-07T23:15:35.299Z"
   },
   {
    "duration": 9,
    "start_time": "2025-02-07T23:15:35.313Z"
   },
   {
    "duration": 9,
    "start_time": "2025-02-07T23:15:35.325Z"
   },
   {
    "duration": 6,
    "start_time": "2025-02-07T23:15:35.336Z"
   },
   {
    "duration": 6,
    "start_time": "2025-02-07T23:15:35.345Z"
   },
   {
    "duration": 4,
    "start_time": "2025-02-07T23:15:35.353Z"
   },
   {
    "duration": 3,
    "start_time": "2025-02-07T23:15:35.359Z"
   },
   {
    "duration": 2,
    "start_time": "2025-02-07T23:15:35.366Z"
   },
   {
    "duration": 43,
    "start_time": "2025-02-07T23:15:35.370Z"
   },
   {
    "duration": 3,
    "start_time": "2025-02-07T23:15:35.415Z"
   },
   {
    "duration": 3,
    "start_time": "2025-02-07T23:15:35.420Z"
   },
   {
    "duration": 3,
    "start_time": "2025-02-07T23:15:35.425Z"
   },
   {
    "duration": 3,
    "start_time": "2025-02-07T23:15:35.429Z"
   },
   {
    "duration": 3,
    "start_time": "2025-02-07T23:15:35.434Z"
   },
   {
    "duration": 3,
    "start_time": "2025-02-07T23:15:35.439Z"
   },
   {
    "duration": 8,
    "start_time": "2025-02-07T23:15:35.443Z"
   },
   {
    "duration": 4,
    "start_time": "2025-02-07T23:15:35.452Z"
   },
   {
    "duration": 4,
    "start_time": "2025-02-07T23:15:35.457Z"
   },
   {
    "duration": 4,
    "start_time": "2025-02-07T23:15:35.462Z"
   },
   {
    "duration": 4,
    "start_time": "2025-02-07T23:15:35.467Z"
   },
   {
    "duration": 5,
    "start_time": "2025-02-07T23:15:35.514Z"
   },
   {
    "duration": 2,
    "start_time": "2025-02-07T23:15:35.521Z"
   },
   {
    "duration": 4,
    "start_time": "2025-02-07T23:15:35.524Z"
   },
   {
    "duration": 3,
    "start_time": "2025-02-07T23:15:35.530Z"
   },
   {
    "duration": 3,
    "start_time": "2025-02-07T23:15:35.535Z"
   },
   {
    "duration": 2,
    "start_time": "2025-02-07T23:15:35.541Z"
   },
   {
    "duration": 3,
    "start_time": "2025-02-07T23:15:35.545Z"
   },
   {
    "duration": 3,
    "start_time": "2025-02-07T23:15:35.550Z"
   },
   {
    "duration": 4,
    "start_time": "2025-02-07T23:17:41.902Z"
   },
   {
    "duration": 16,
    "start_time": "2025-02-07T23:19:05.247Z"
   },
   {
    "duration": 4,
    "start_time": "2025-02-07T23:19:12.994Z"
   },
   {
    "duration": 414,
    "start_time": "2025-02-07T23:20:28.793Z"
   },
   {
    "duration": 16,
    "start_time": "2025-02-07T23:23:44.125Z"
   },
   {
    "duration": 10,
    "start_time": "2025-02-07T23:25:18.794Z"
   },
   {
    "duration": 13,
    "start_time": "2025-02-07T23:25:36.608Z"
   },
   {
    "duration": 4,
    "start_time": "2025-02-07T23:25:50.366Z"
   },
   {
    "duration": 12,
    "start_time": "2025-02-07T23:26:21.321Z"
   },
   {
    "duration": 6,
    "start_time": "2025-02-07T23:26:37.999Z"
   },
   {
    "duration": 16,
    "start_time": "2025-02-07T23:27:13.291Z"
   },
   {
    "duration": 5,
    "start_time": "2025-02-07T23:27:27.197Z"
   },
   {
    "duration": 13,
    "start_time": "2025-02-07T23:28:48.217Z"
   },
   {
    "duration": 8,
    "start_time": "2025-02-07T23:29:26.327Z"
   },
   {
    "duration": 4,
    "start_time": "2025-02-07T23:30:20.041Z"
   },
   {
    "duration": 20,
    "start_time": "2025-02-07T23:31:00.706Z"
   },
   {
    "duration": 12,
    "start_time": "2025-02-07T23:31:49.665Z"
   },
   {
    "duration": 12,
    "start_time": "2025-02-07T23:32:04.282Z"
   },
   {
    "duration": 14,
    "start_time": "2025-02-07T23:32:22.442Z"
   },
   {
    "duration": 17,
    "start_time": "2025-02-07T23:38:19.260Z"
   },
   {
    "duration": 16,
    "start_time": "2025-02-07T23:38:37.453Z"
   },
   {
    "duration": 13,
    "start_time": "2025-02-07T23:38:59.950Z"
   },
   {
    "duration": 13,
    "start_time": "2025-02-07T23:39:18.199Z"
   },
   {
    "duration": 12,
    "start_time": "2025-02-07T23:39:58.521Z"
   },
   {
    "duration": 10,
    "start_time": "2025-02-07T23:41:08.740Z"
   },
   {
    "duration": 560,
    "start_time": "2025-02-07T23:41:50.108Z"
   },
   {
    "duration": 929,
    "start_time": "2025-02-07T23:42:04.930Z"
   },
   {
    "duration": 197,
    "start_time": "2025-02-07T23:42:05.861Z"
   },
   {
    "duration": 10,
    "start_time": "2025-02-07T23:42:06.060Z"
   },
   {
    "duration": 6,
    "start_time": "2025-02-07T23:42:06.073Z"
   },
   {
    "duration": 8,
    "start_time": "2025-02-07T23:42:06.081Z"
   },
   {
    "duration": 22,
    "start_time": "2025-02-07T23:42:06.090Z"
   },
   {
    "duration": 5,
    "start_time": "2025-02-07T23:42:06.114Z"
   },
   {
    "duration": 7,
    "start_time": "2025-02-07T23:42:06.120Z"
   },
   {
    "duration": 19,
    "start_time": "2025-02-07T23:42:06.130Z"
   },
   {
    "duration": 4,
    "start_time": "2025-02-07T23:42:06.152Z"
   },
   {
    "duration": 24,
    "start_time": "2025-02-07T23:42:06.158Z"
   },
   {
    "duration": 34,
    "start_time": "2025-02-07T23:42:06.184Z"
   },
   {
    "duration": 12,
    "start_time": "2025-02-07T23:42:06.219Z"
   },
   {
    "duration": 3,
    "start_time": "2025-02-07T23:42:06.233Z"
   },
   {
    "duration": 10,
    "start_time": "2025-02-07T23:42:06.238Z"
   },
   {
    "duration": 7,
    "start_time": "2025-02-07T23:42:06.250Z"
   },
   {
    "duration": 14,
    "start_time": "2025-02-07T23:42:06.260Z"
   },
   {
    "duration": 5,
    "start_time": "2025-02-07T23:42:06.275Z"
   },
   {
    "duration": 42,
    "start_time": "2025-02-07T23:42:06.281Z"
   },
   {
    "duration": 7,
    "start_time": "2025-02-07T23:42:06.325Z"
   },
   {
    "duration": 5,
    "start_time": "2025-02-07T23:42:06.334Z"
   },
   {
    "duration": 16,
    "start_time": "2025-02-07T23:42:06.341Z"
   },
   {
    "duration": 17,
    "start_time": "2025-02-07T23:42:06.358Z"
   },
   {
    "duration": 44,
    "start_time": "2025-02-07T23:42:06.377Z"
   },
   {
    "duration": 15,
    "start_time": "2025-02-07T23:42:06.423Z"
   },
   {
    "duration": 13,
    "start_time": "2025-02-07T23:42:06.440Z"
   },
   {
    "duration": 11,
    "start_time": "2025-02-07T23:42:06.455Z"
   },
   {
    "duration": 828,
    "start_time": "2025-02-07T23:42:06.470Z"
   },
   {
    "duration": 0,
    "start_time": "2025-02-07T23:42:07.300Z"
   },
   {
    "duration": 0,
    "start_time": "2025-02-07T23:42:07.301Z"
   },
   {
    "duration": 0,
    "start_time": "2025-02-07T23:42:07.302Z"
   },
   {
    "duration": 0,
    "start_time": "2025-02-07T23:42:07.304Z"
   },
   {
    "duration": 0,
    "start_time": "2025-02-07T23:42:07.315Z"
   },
   {
    "duration": 0,
    "start_time": "2025-02-07T23:42:07.317Z"
   },
   {
    "duration": 0,
    "start_time": "2025-02-07T23:42:07.318Z"
   },
   {
    "duration": 0,
    "start_time": "2025-02-07T23:42:07.320Z"
   },
   {
    "duration": 30,
    "start_time": "2025-02-07T23:45:37.565Z"
   },
   {
    "duration": 857,
    "start_time": "2025-02-07T23:49:22.841Z"
   },
   {
    "duration": 157,
    "start_time": "2025-02-07T23:49:23.700Z"
   },
   {
    "duration": 9,
    "start_time": "2025-02-07T23:49:23.859Z"
   },
   {
    "duration": 7,
    "start_time": "2025-02-07T23:49:23.870Z"
   },
   {
    "duration": 8,
    "start_time": "2025-02-07T23:49:23.880Z"
   },
   {
    "duration": 25,
    "start_time": "2025-02-07T23:49:23.889Z"
   },
   {
    "duration": 5,
    "start_time": "2025-02-07T23:49:23.916Z"
   },
   {
    "duration": 5,
    "start_time": "2025-02-07T23:49:23.923Z"
   },
   {
    "duration": 15,
    "start_time": "2025-02-07T23:49:23.931Z"
   },
   {
    "duration": 4,
    "start_time": "2025-02-07T23:49:23.948Z"
   },
   {
    "duration": 17,
    "start_time": "2025-02-07T23:49:23.954Z"
   },
   {
    "duration": 9,
    "start_time": "2025-02-07T23:49:23.972Z"
   },
   {
    "duration": 12,
    "start_time": "2025-02-07T23:49:24.012Z"
   },
   {
    "duration": 4,
    "start_time": "2025-02-07T23:49:24.029Z"
   },
   {
    "duration": 11,
    "start_time": "2025-02-07T23:49:24.035Z"
   },
   {
    "duration": 8,
    "start_time": "2025-02-07T23:49:24.047Z"
   },
   {
    "duration": 14,
    "start_time": "2025-02-07T23:49:24.057Z"
   },
   {
    "duration": 5,
    "start_time": "2025-02-07T23:49:24.072Z"
   },
   {
    "duration": 44,
    "start_time": "2025-02-07T23:49:24.079Z"
   },
   {
    "duration": 10,
    "start_time": "2025-02-07T23:49:24.124Z"
   },
   {
    "duration": 6,
    "start_time": "2025-02-07T23:49:24.135Z"
   },
   {
    "duration": 16,
    "start_time": "2025-02-07T23:49:24.143Z"
   },
   {
    "duration": 16,
    "start_time": "2025-02-07T23:49:24.161Z"
   },
   {
    "duration": 44,
    "start_time": "2025-02-07T23:49:24.178Z"
   },
   {
    "duration": 13,
    "start_time": "2025-02-07T23:49:24.223Z"
   },
   {
    "duration": 12,
    "start_time": "2025-02-07T23:49:24.239Z"
   },
   {
    "duration": 12,
    "start_time": "2025-02-07T23:49:24.253Z"
   },
   {
    "duration": 880,
    "start_time": "2025-02-07T23:49:24.267Z"
   },
   {
    "duration": 0,
    "start_time": "2025-02-07T23:49:25.148Z"
   },
   {
    "duration": 0,
    "start_time": "2025-02-07T23:49:25.150Z"
   },
   {
    "duration": 0,
    "start_time": "2025-02-07T23:49:25.151Z"
   },
   {
    "duration": 0,
    "start_time": "2025-02-07T23:49:25.152Z"
   },
   {
    "duration": 0,
    "start_time": "2025-02-07T23:49:25.153Z"
   },
   {
    "duration": 0,
    "start_time": "2025-02-07T23:49:25.154Z"
   },
   {
    "duration": 0,
    "start_time": "2025-02-07T23:49:25.155Z"
   },
   {
    "duration": 0,
    "start_time": "2025-02-07T23:49:25.156Z"
   },
   {
    "duration": 29,
    "start_time": "2025-02-07T23:50:05.962Z"
   },
   {
    "duration": 15,
    "start_time": "2025-02-07T23:50:15.091Z"
   },
   {
    "duration": 18,
    "start_time": "2025-02-07T23:50:16.324Z"
   },
   {
    "duration": 13,
    "start_time": "2025-02-07T23:50:16.907Z"
   },
   {
    "duration": 14,
    "start_time": "2025-02-07T23:50:17.538Z"
   },
   {
    "duration": 12,
    "start_time": "2025-02-07T23:50:19.255Z"
   },
   {
    "duration": 13,
    "start_time": "2025-02-07T23:50:20.080Z"
   },
   {
    "duration": 82,
    "start_time": "2025-02-07T23:50:22.265Z"
   },
   {
    "duration": 9,
    "start_time": "2025-02-07T23:55:24.808Z"
   },
   {
    "duration": 832,
    "start_time": "2025-02-07T23:57:48.252Z"
   },
   {
    "duration": 152,
    "start_time": "2025-02-07T23:57:49.086Z"
   },
   {
    "duration": 9,
    "start_time": "2025-02-07T23:57:49.241Z"
   },
   {
    "duration": 5,
    "start_time": "2025-02-07T23:57:49.252Z"
   },
   {
    "duration": 7,
    "start_time": "2025-02-07T23:57:49.259Z"
   },
   {
    "duration": 5,
    "start_time": "2025-02-07T23:57:49.268Z"
   },
   {
    "duration": 5,
    "start_time": "2025-02-07T23:57:49.275Z"
   },
   {
    "duration": 32,
    "start_time": "2025-02-07T23:57:49.282Z"
   },
   {
    "duration": 14,
    "start_time": "2025-02-07T23:57:49.317Z"
   },
   {
    "duration": 4,
    "start_time": "2025-02-07T23:57:49.335Z"
   },
   {
    "duration": 16,
    "start_time": "2025-02-07T23:57:49.340Z"
   },
   {
    "duration": 8,
    "start_time": "2025-02-07T23:57:49.357Z"
   },
   {
    "duration": 11,
    "start_time": "2025-02-07T23:57:49.368Z"
   },
   {
    "duration": 31,
    "start_time": "2025-02-07T23:57:49.381Z"
   },
   {
    "duration": 10,
    "start_time": "2025-02-07T23:57:49.414Z"
   },
   {
    "duration": 6,
    "start_time": "2025-02-07T23:57:49.425Z"
   },
   {
    "duration": 14,
    "start_time": "2025-02-07T23:57:49.433Z"
   },
   {
    "duration": 4,
    "start_time": "2025-02-07T23:57:49.449Z"
   },
   {
    "duration": 14,
    "start_time": "2025-02-07T23:57:49.455Z"
   },
   {
    "duration": 7,
    "start_time": "2025-02-07T23:57:49.470Z"
   },
   {
    "duration": 37,
    "start_time": "2025-02-07T23:57:49.479Z"
   },
   {
    "duration": 16,
    "start_time": "2025-02-07T23:57:49.517Z"
   },
   {
    "duration": 15,
    "start_time": "2025-02-07T23:57:49.534Z"
   },
   {
    "duration": 12,
    "start_time": "2025-02-07T23:57:49.550Z"
   },
   {
    "duration": 12,
    "start_time": "2025-02-07T23:57:49.565Z"
   },
   {
    "duration": 43,
    "start_time": "2025-02-07T23:57:49.579Z"
   },
   {
    "duration": 10,
    "start_time": "2025-02-07T23:57:49.623Z"
   },
   {
    "duration": 813,
    "start_time": "2025-02-07T23:57:49.637Z"
   },
   {
    "duration": 0,
    "start_time": "2025-02-07T23:57:50.452Z"
   },
   {
    "duration": 0,
    "start_time": "2025-02-07T23:57:50.453Z"
   },
   {
    "duration": 0,
    "start_time": "2025-02-07T23:57:50.454Z"
   },
   {
    "duration": 0,
    "start_time": "2025-02-07T23:57:50.455Z"
   },
   {
    "duration": 0,
    "start_time": "2025-02-07T23:57:50.456Z"
   },
   {
    "duration": 0,
    "start_time": "2025-02-07T23:57:50.457Z"
   },
   {
    "duration": 0,
    "start_time": "2025-02-07T23:57:50.458Z"
   },
   {
    "duration": 0,
    "start_time": "2025-02-07T23:57:50.459Z"
   },
   {
    "duration": 2,
    "start_time": "2025-02-07T23:59:50.130Z"
   },
   {
    "duration": 2,
    "start_time": "2025-02-07T23:59:50.573Z"
   },
   {
    "duration": 2,
    "start_time": "2025-02-07T23:59:52.379Z"
   },
   {
    "duration": 866,
    "start_time": "2025-02-08T00:03:11.530Z"
   },
   {
    "duration": 166,
    "start_time": "2025-02-08T00:03:12.399Z"
   },
   {
    "duration": 10,
    "start_time": "2025-02-08T00:03:12.567Z"
   },
   {
    "duration": 6,
    "start_time": "2025-02-08T00:03:12.579Z"
   },
   {
    "duration": 9,
    "start_time": "2025-02-08T00:03:12.588Z"
   },
   {
    "duration": 5,
    "start_time": "2025-02-08T00:03:12.612Z"
   },
   {
    "duration": 6,
    "start_time": "2025-02-08T00:03:12.619Z"
   },
   {
    "duration": 5,
    "start_time": "2025-02-08T00:03:12.627Z"
   },
   {
    "duration": 15,
    "start_time": "2025-02-08T00:03:12.633Z"
   },
   {
    "duration": 5,
    "start_time": "2025-02-08T00:03:12.650Z"
   },
   {
    "duration": 16,
    "start_time": "2025-02-08T00:03:12.657Z"
   },
   {
    "duration": 42,
    "start_time": "2025-02-08T00:03:12.674Z"
   },
   {
    "duration": 13,
    "start_time": "2025-02-08T00:03:12.717Z"
   },
   {
    "duration": 4,
    "start_time": "2025-02-08T00:03:12.734Z"
   },
   {
    "duration": 10,
    "start_time": "2025-02-08T00:03:12.740Z"
   },
   {
    "duration": 7,
    "start_time": "2025-02-08T00:03:12.751Z"
   },
   {
    "duration": 15,
    "start_time": "2025-02-08T00:03:12.759Z"
   },
   {
    "duration": 36,
    "start_time": "2025-02-08T00:03:12.776Z"
   },
   {
    "duration": 14,
    "start_time": "2025-02-08T00:03:12.815Z"
   },
   {
    "duration": 8,
    "start_time": "2025-02-08T00:03:12.830Z"
   },
   {
    "duration": 5,
    "start_time": "2025-02-08T00:03:12.840Z"
   },
   {
    "duration": 17,
    "start_time": "2025-02-08T00:03:12.847Z"
   },
   {
    "duration": 49,
    "start_time": "2025-02-08T00:03:12.865Z"
   },
   {
    "duration": 13,
    "start_time": "2025-02-08T00:03:12.915Z"
   },
   {
    "duration": 14,
    "start_time": "2025-02-08T00:03:12.930Z"
   },
   {
    "duration": 13,
    "start_time": "2025-02-08T00:03:12.946Z"
   },
   {
    "duration": 13,
    "start_time": "2025-02-08T00:03:12.961Z"
   },
   {
    "duration": 106,
    "start_time": "2025-02-08T00:03:12.976Z"
   },
   {
    "duration": 3,
    "start_time": "2025-02-08T00:03:13.085Z"
   },
   {
    "duration": 3,
    "start_time": "2025-02-08T00:03:13.090Z"
   },
   {
    "duration": 17,
    "start_time": "2025-02-08T00:03:13.095Z"
   },
   {
    "duration": 2,
    "start_time": "2025-02-08T00:03:13.114Z"
   },
   {
    "duration": 2,
    "start_time": "2025-02-08T00:03:13.118Z"
   },
   {
    "duration": 3,
    "start_time": "2025-02-08T00:03:13.122Z"
   },
   {
    "duration": 4,
    "start_time": "2025-02-08T00:03:13.126Z"
   },
   {
    "duration": 3,
    "start_time": "2025-02-08T00:03:13.131Z"
   },
   {
    "duration": 129,
    "start_time": "2025-02-08T00:06:34.418Z"
   },
   {
    "duration": 118,
    "start_time": "2025-02-08T00:07:32.557Z"
   },
   {
    "duration": 165,
    "start_time": "2025-02-08T00:08:14.552Z"
   },
   {
    "duration": 114,
    "start_time": "2025-02-08T00:08:33.327Z"
   },
   {
    "duration": 2,
    "start_time": "2025-02-08T00:10:34.513Z"
   },
   {
    "duration": 3,
    "start_time": "2025-02-08T00:10:37.486Z"
   },
   {
    "duration": 217,
    "start_time": "2025-02-08T00:13:53.290Z"
   },
   {
    "duration": 412,
    "start_time": "2025-02-08T00:15:05.920Z"
   },
   {
    "duration": 5,
    "start_time": "2025-02-08T00:15:41.709Z"
   },
   {
    "duration": 5,
    "start_time": "2025-02-08T00:15:44.509Z"
   },
   {
    "duration": 8,
    "start_time": "2025-02-08T00:16:17.551Z"
   },
   {
    "duration": 135,
    "start_time": "2025-02-08T00:16:49.860Z"
   },
   {
    "duration": 5,
    "start_time": "2025-02-08T00:19:21.476Z"
   },
   {
    "duration": 4,
    "start_time": "2025-02-08T00:20:04.607Z"
   },
   {
    "duration": 4,
    "start_time": "2025-02-08T00:20:05.182Z"
   },
   {
    "duration": 3,
    "start_time": "2025-02-08T00:21:14.034Z"
   },
   {
    "duration": 127,
    "start_time": "2025-02-08T00:25:30.446Z"
   },
   {
    "duration": 10,
    "start_time": "2025-02-08T00:28:18.370Z"
   },
   {
    "duration": 6,
    "start_time": "2025-02-08T00:28:45.442Z"
   },
   {
    "duration": 125,
    "start_time": "2025-02-08T00:29:00.610Z"
   },
   {
    "duration": 8,
    "start_time": "2025-02-08T00:35:52.163Z"
   },
   {
    "duration": 669,
    "start_time": "2025-02-08T00:38:05.864Z"
   },
   {
    "duration": 53,
    "start_time": "2025-02-08T00:39:52.897Z"
   },
   {
    "duration": 13,
    "start_time": "2025-02-08T00:41:36.002Z"
   },
   {
    "duration": 159,
    "start_time": "2025-02-08T05:37:04.427Z"
   },
   {
    "duration": 14,
    "start_time": "2025-02-08T05:37:13.890Z"
   },
   {
    "duration": 16,
    "start_time": "2025-02-08T05:37:22.952Z"
   },
   {
    "duration": 2521,
    "start_time": "2025-02-08T05:37:35.761Z"
   },
   {
    "duration": 218,
    "start_time": "2025-02-08T05:37:38.284Z"
   },
   {
    "duration": 9,
    "start_time": "2025-02-08T05:37:38.503Z"
   },
   {
    "duration": 6,
    "start_time": "2025-02-08T05:37:38.514Z"
   },
   {
    "duration": 8,
    "start_time": "2025-02-08T05:37:38.523Z"
   },
   {
    "duration": 5,
    "start_time": "2025-02-08T05:37:38.542Z"
   },
   {
    "duration": 6,
    "start_time": "2025-02-08T05:37:38.548Z"
   },
   {
    "duration": 5,
    "start_time": "2025-02-08T05:37:38.555Z"
   },
   {
    "duration": 16,
    "start_time": "2025-02-08T05:37:38.561Z"
   },
   {
    "duration": 4,
    "start_time": "2025-02-08T05:37:38.579Z"
   },
   {
    "duration": 16,
    "start_time": "2025-02-08T05:37:38.584Z"
   },
   {
    "duration": 9,
    "start_time": "2025-02-08T05:37:38.601Z"
   },
   {
    "duration": 42,
    "start_time": "2025-02-08T05:37:38.611Z"
   },
   {
    "duration": 4,
    "start_time": "2025-02-08T05:37:38.656Z"
   },
   {
    "duration": 10,
    "start_time": "2025-02-08T05:37:38.663Z"
   },
   {
    "duration": 7,
    "start_time": "2025-02-08T05:37:38.674Z"
   },
   {
    "duration": 13,
    "start_time": "2025-02-08T05:37:38.683Z"
   },
   {
    "duration": 4,
    "start_time": "2025-02-08T05:37:38.698Z"
   },
   {
    "duration": 46,
    "start_time": "2025-02-08T05:37:38.704Z"
   },
   {
    "duration": 8,
    "start_time": "2025-02-08T05:37:38.751Z"
   },
   {
    "duration": 5,
    "start_time": "2025-02-08T05:37:38.760Z"
   },
   {
    "duration": 17,
    "start_time": "2025-02-08T05:37:38.767Z"
   },
   {
    "duration": 16,
    "start_time": "2025-02-08T05:37:38.785Z"
   },
   {
    "duration": 40,
    "start_time": "2025-02-08T05:37:38.803Z"
   },
   {
    "duration": 12,
    "start_time": "2025-02-08T05:37:38.844Z"
   },
   {
    "duration": 13,
    "start_time": "2025-02-08T05:37:38.858Z"
   },
   {
    "duration": 11,
    "start_time": "2025-02-08T05:37:38.872Z"
   },
   {
    "duration": 94,
    "start_time": "2025-02-08T05:37:38.885Z"
   },
   {
    "duration": 235,
    "start_time": "2025-02-08T05:37:38.980Z"
   },
   {
    "duration": 435,
    "start_time": "2025-02-08T05:37:39.217Z"
   },
   {
    "duration": 6,
    "start_time": "2025-02-08T05:37:39.654Z"
   },
   {
    "duration": 178,
    "start_time": "2025-02-08T05:37:39.662Z"
   },
   {
    "duration": 4,
    "start_time": "2025-02-08T05:37:39.842Z"
   },
   {
    "duration": 4,
    "start_time": "2025-02-08T05:37:39.848Z"
   },
   {
    "duration": 3,
    "start_time": "2025-02-08T05:37:39.854Z"
   },
   {
    "duration": 142,
    "start_time": "2025-02-08T05:37:39.859Z"
   },
   {
    "duration": 11,
    "start_time": "2025-02-08T05:37:40.003Z"
   },
   {
    "duration": 132,
    "start_time": "2025-02-08T05:37:40.015Z"
   },
   {
    "duration": 6,
    "start_time": "2025-02-08T05:37:40.149Z"
   },
   {
    "duration": 12,
    "start_time": "2025-02-08T05:37:40.158Z"
   },
   {
    "duration": 7,
    "start_time": "2025-02-08T05:38:28.951Z"
   },
   {
    "duration": 839,
    "start_time": "2025-02-08T05:39:02.974Z"
   },
   {
    "duration": 158,
    "start_time": "2025-02-08T05:39:03.816Z"
   },
   {
    "duration": 9,
    "start_time": "2025-02-08T05:39:03.975Z"
   },
   {
    "duration": 6,
    "start_time": "2025-02-08T05:39:03.986Z"
   },
   {
    "duration": 8,
    "start_time": "2025-02-08T05:39:03.994Z"
   },
   {
    "duration": 5,
    "start_time": "2025-02-08T05:39:04.003Z"
   },
   {
    "duration": 5,
    "start_time": "2025-02-08T05:39:04.010Z"
   },
   {
    "duration": 29,
    "start_time": "2025-02-08T05:39:04.017Z"
   },
   {
    "duration": 4,
    "start_time": "2025-02-08T05:39:04.048Z"
   },
   {
    "duration": 0,
    "start_time": "2025-02-08T05:39:04.055Z"
   },
   {
    "duration": 0,
    "start_time": "2025-02-08T05:39:04.056Z"
   },
   {
    "duration": 0,
    "start_time": "2025-02-08T05:39:04.057Z"
   },
   {
    "duration": 0,
    "start_time": "2025-02-08T05:39:04.058Z"
   },
   {
    "duration": 0,
    "start_time": "2025-02-08T05:39:04.059Z"
   },
   {
    "duration": 0,
    "start_time": "2025-02-08T05:39:04.060Z"
   },
   {
    "duration": 0,
    "start_time": "2025-02-08T05:39:04.061Z"
   },
   {
    "duration": 0,
    "start_time": "2025-02-08T05:39:04.062Z"
   },
   {
    "duration": 1,
    "start_time": "2025-02-08T05:39:04.063Z"
   },
   {
    "duration": 0,
    "start_time": "2025-02-08T05:39:04.065Z"
   },
   {
    "duration": 0,
    "start_time": "2025-02-08T05:39:04.066Z"
   },
   {
    "duration": 0,
    "start_time": "2025-02-08T05:39:04.067Z"
   },
   {
    "duration": 0,
    "start_time": "2025-02-08T05:39:04.068Z"
   },
   {
    "duration": 0,
    "start_time": "2025-02-08T05:39:04.070Z"
   },
   {
    "duration": 0,
    "start_time": "2025-02-08T05:39:04.071Z"
   },
   {
    "duration": 0,
    "start_time": "2025-02-08T05:39:04.072Z"
   },
   {
    "duration": 0,
    "start_time": "2025-02-08T05:39:04.074Z"
   },
   {
    "duration": 0,
    "start_time": "2025-02-08T05:39:04.075Z"
   },
   {
    "duration": 0,
    "start_time": "2025-02-08T05:39:04.075Z"
   },
   {
    "duration": 0,
    "start_time": "2025-02-08T05:39:04.076Z"
   },
   {
    "duration": 0,
    "start_time": "2025-02-08T05:39:04.077Z"
   },
   {
    "duration": 0,
    "start_time": "2025-02-08T05:39:04.078Z"
   },
   {
    "duration": 0,
    "start_time": "2025-02-08T05:39:04.079Z"
   },
   {
    "duration": 0,
    "start_time": "2025-02-08T05:39:04.080Z"
   },
   {
    "duration": 0,
    "start_time": "2025-02-08T05:39:04.081Z"
   },
   {
    "duration": 0,
    "start_time": "2025-02-08T05:39:04.082Z"
   },
   {
    "duration": 0,
    "start_time": "2025-02-08T05:39:04.083Z"
   },
   {
    "duration": 0,
    "start_time": "2025-02-08T05:39:04.084Z"
   },
   {
    "duration": 0,
    "start_time": "2025-02-08T05:39:04.086Z"
   },
   {
    "duration": 0,
    "start_time": "2025-02-08T05:39:04.143Z"
   },
   {
    "duration": 0,
    "start_time": "2025-02-08T05:39:04.144Z"
   },
   {
    "duration": 0,
    "start_time": "2025-02-08T05:39:04.146Z"
   },
   {
    "duration": 795,
    "start_time": "2025-02-08T05:47:58.824Z"
   },
   {
    "duration": 154,
    "start_time": "2025-02-08T05:47:59.622Z"
   },
   {
    "duration": 12,
    "start_time": "2025-02-08T05:47:59.778Z"
   },
   {
    "duration": 7,
    "start_time": "2025-02-08T05:47:59.793Z"
   },
   {
    "duration": 9,
    "start_time": "2025-02-08T05:47:59.803Z"
   },
   {
    "duration": 4,
    "start_time": "2025-02-08T05:47:59.814Z"
   },
   {
    "duration": 26,
    "start_time": "2025-02-08T05:47:59.820Z"
   },
   {
    "duration": 4,
    "start_time": "2025-02-08T05:47:59.847Z"
   },
   {
    "duration": 16,
    "start_time": "2025-02-08T05:47:59.853Z"
   },
   {
    "duration": 4,
    "start_time": "2025-02-08T05:47:59.872Z"
   },
   {
    "duration": 16,
    "start_time": "2025-02-08T05:47:59.878Z"
   },
   {
    "duration": 9,
    "start_time": "2025-02-08T05:47:59.896Z"
   },
   {
    "duration": 42,
    "start_time": "2025-02-08T05:47:59.906Z"
   },
   {
    "duration": 5,
    "start_time": "2025-02-08T05:47:59.950Z"
   },
   {
    "duration": 10,
    "start_time": "2025-02-08T05:47:59.957Z"
   },
   {
    "duration": 6,
    "start_time": "2025-02-08T05:47:59.969Z"
   },
   {
    "duration": 14,
    "start_time": "2025-02-08T05:47:59.976Z"
   },
   {
    "duration": 4,
    "start_time": "2025-02-08T05:47:59.992Z"
   },
   {
    "duration": 46,
    "start_time": "2025-02-08T05:47:59.997Z"
   },
   {
    "duration": 7,
    "start_time": "2025-02-08T05:48:00.045Z"
   },
   {
    "duration": 7,
    "start_time": "2025-02-08T05:48:00.054Z"
   },
   {
    "duration": 17,
    "start_time": "2025-02-08T05:48:00.062Z"
   },
   {
    "duration": 14,
    "start_time": "2025-02-08T05:48:00.081Z"
   },
   {
    "duration": 11,
    "start_time": "2025-02-08T05:48:00.097Z"
   },
   {
    "duration": 35,
    "start_time": "2025-02-08T05:48:00.110Z"
   },
   {
    "duration": 13,
    "start_time": "2025-02-08T05:48:00.147Z"
   },
   {
    "duration": 11,
    "start_time": "2025-02-08T05:48:00.162Z"
   },
   {
    "duration": 91,
    "start_time": "2025-02-08T05:48:00.177Z"
   },
   {
    "duration": 242,
    "start_time": "2025-02-08T05:48:00.270Z"
   },
   {
    "duration": 464,
    "start_time": "2025-02-08T05:48:00.515Z"
   },
   {
    "duration": 7,
    "start_time": "2025-02-08T05:48:00.981Z"
   },
   {
    "duration": 125,
    "start_time": "2025-02-08T05:48:00.990Z"
   },
   {
    "duration": 6,
    "start_time": "2025-02-08T05:48:01.116Z"
   },
   {
    "duration": 3,
    "start_time": "2025-02-08T05:48:01.124Z"
   },
   {
    "duration": 15,
    "start_time": "2025-02-08T05:48:01.129Z"
   },
   {
    "duration": 138,
    "start_time": "2025-02-08T05:48:01.146Z"
   },
   {
    "duration": 12,
    "start_time": "2025-02-08T05:48:01.286Z"
   },
   {
    "duration": 133,
    "start_time": "2025-02-08T05:48:01.299Z"
   },
   {
    "duration": 12,
    "start_time": "2025-02-08T05:48:01.434Z"
   },
   {
    "duration": 12,
    "start_time": "2025-02-08T05:48:01.447Z"
   },
   {
    "duration": 6,
    "start_time": "2025-02-08T05:49:57.810Z"
   },
   {
    "duration": 809,
    "start_time": "2025-02-08T05:50:52.279Z"
   },
   {
    "duration": 152,
    "start_time": "2025-02-08T05:50:53.090Z"
   },
   {
    "duration": 9,
    "start_time": "2025-02-08T05:50:53.244Z"
   },
   {
    "duration": 6,
    "start_time": "2025-02-08T05:50:53.255Z"
   },
   {
    "duration": 8,
    "start_time": "2025-02-08T05:50:53.263Z"
   },
   {
    "duration": 6,
    "start_time": "2025-02-08T05:50:53.272Z"
   },
   {
    "duration": 5,
    "start_time": "2025-02-08T05:50:53.279Z"
   },
   {
    "duration": 5,
    "start_time": "2025-02-08T05:50:53.286Z"
   },
   {
    "duration": 15,
    "start_time": "2025-02-08T05:50:53.293Z"
   },
   {
    "duration": 4,
    "start_time": "2025-02-08T05:50:53.345Z"
   },
   {
    "duration": 17,
    "start_time": "2025-02-08T05:50:53.351Z"
   },
   {
    "duration": 9,
    "start_time": "2025-02-08T05:50:53.369Z"
   },
   {
    "duration": 12,
    "start_time": "2025-02-08T05:50:53.379Z"
   },
   {
    "duration": 3,
    "start_time": "2025-02-08T05:50:53.393Z"
   },
   {
    "duration": 10,
    "start_time": "2025-02-08T05:50:53.398Z"
   },
   {
    "duration": 34,
    "start_time": "2025-02-08T05:50:53.410Z"
   },
   {
    "duration": 15,
    "start_time": "2025-02-08T05:50:53.445Z"
   },
   {
    "duration": 4,
    "start_time": "2025-02-08T05:50:53.462Z"
   },
   {
    "duration": 13,
    "start_time": "2025-02-08T05:50:53.468Z"
   },
   {
    "duration": 7,
    "start_time": "2025-02-08T05:50:53.482Z"
   },
   {
    "duration": 6,
    "start_time": "2025-02-08T05:50:53.490Z"
   },
   {
    "duration": 49,
    "start_time": "2025-02-08T05:50:53.497Z"
   },
   {
    "duration": 16,
    "start_time": "2025-02-08T05:50:53.547Z"
   },
   {
    "duration": 12,
    "start_time": "2025-02-08T05:50:53.564Z"
   },
   {
    "duration": 12,
    "start_time": "2025-02-08T05:50:53.577Z"
   },
   {
    "duration": 12,
    "start_time": "2025-02-08T05:50:53.590Z"
   },
   {
    "duration": 10,
    "start_time": "2025-02-08T05:50:53.604Z"
   },
   {
    "duration": 80,
    "start_time": "2025-02-08T05:50:53.642Z"
   },
   {
    "duration": 241,
    "start_time": "2025-02-08T05:50:53.726Z"
   },
   {
    "duration": 439,
    "start_time": "2025-02-08T05:50:53.969Z"
   },
   {
    "duration": 6,
    "start_time": "2025-02-08T05:50:54.410Z"
   },
   {
    "duration": 121,
    "start_time": "2025-02-08T05:50:54.418Z"
   },
   {
    "duration": 5,
    "start_time": "2025-02-08T05:50:54.540Z"
   },
   {
    "duration": 4,
    "start_time": "2025-02-08T05:50:54.547Z"
   },
   {
    "duration": 3,
    "start_time": "2025-02-08T05:50:54.553Z"
   },
   {
    "duration": 146,
    "start_time": "2025-02-08T05:50:54.558Z"
   },
   {
    "duration": 11,
    "start_time": "2025-02-08T05:50:54.705Z"
   },
   {
    "duration": 134,
    "start_time": "2025-02-08T05:50:54.718Z"
   },
   {
    "duration": 7,
    "start_time": "2025-02-08T05:50:54.854Z"
   },
   {
    "duration": 12,
    "start_time": "2025-02-08T05:50:54.862Z"
   },
   {
    "duration": 816,
    "start_time": "2025-02-08T05:51:48.809Z"
   },
   {
    "duration": 154,
    "start_time": "2025-02-08T05:51:49.628Z"
   },
   {
    "duration": 9,
    "start_time": "2025-02-08T05:51:49.783Z"
   },
   {
    "duration": 5,
    "start_time": "2025-02-08T05:51:49.794Z"
   },
   {
    "duration": 8,
    "start_time": "2025-02-08T05:51:49.803Z"
   },
   {
    "duration": 5,
    "start_time": "2025-02-08T05:51:49.812Z"
   },
   {
    "duration": 27,
    "start_time": "2025-02-08T05:51:49.819Z"
   },
   {
    "duration": 5,
    "start_time": "2025-02-08T05:51:49.847Z"
   },
   {
    "duration": 15,
    "start_time": "2025-02-08T05:51:49.854Z"
   },
   {
    "duration": 4,
    "start_time": "2025-02-08T05:51:49.871Z"
   },
   {
    "duration": 16,
    "start_time": "2025-02-08T05:51:49.876Z"
   },
   {
    "duration": 9,
    "start_time": "2025-02-08T05:51:49.894Z"
   },
   {
    "duration": 44,
    "start_time": "2025-02-08T05:51:49.904Z"
   },
   {
    "duration": 4,
    "start_time": "2025-02-08T05:51:49.952Z"
   },
   {
    "duration": 10,
    "start_time": "2025-02-08T05:51:49.958Z"
   },
   {
    "duration": 6,
    "start_time": "2025-02-08T05:51:49.969Z"
   },
   {
    "duration": 14,
    "start_time": "2025-02-08T05:51:49.977Z"
   },
   {
    "duration": 4,
    "start_time": "2025-02-08T05:51:49.993Z"
   },
   {
    "duration": 45,
    "start_time": "2025-02-08T05:51:49.998Z"
   },
   {
    "duration": 8,
    "start_time": "2025-02-08T05:51:50.045Z"
   },
   {
    "duration": 7,
    "start_time": "2025-02-08T05:51:50.054Z"
   },
   {
    "duration": 16,
    "start_time": "2025-02-08T05:51:50.062Z"
   },
   {
    "duration": 16,
    "start_time": "2025-02-08T05:51:50.079Z"
   },
   {
    "duration": 12,
    "start_time": "2025-02-08T05:51:50.096Z"
   },
   {
    "duration": 43,
    "start_time": "2025-02-08T05:51:50.109Z"
   },
   {
    "duration": 12,
    "start_time": "2025-02-08T05:51:50.154Z"
   },
   {
    "duration": 10,
    "start_time": "2025-02-08T05:51:50.168Z"
   },
   {
    "duration": 93,
    "start_time": "2025-02-08T05:51:50.180Z"
   },
   {
    "duration": 244,
    "start_time": "2025-02-08T05:51:50.275Z"
   },
   {
    "duration": 447,
    "start_time": "2025-02-08T05:51:50.521Z"
   },
   {
    "duration": 6,
    "start_time": "2025-02-08T05:51:50.970Z"
   },
   {
    "duration": 127,
    "start_time": "2025-02-08T05:51:50.978Z"
   },
   {
    "duration": 5,
    "start_time": "2025-02-08T05:51:51.106Z"
   },
   {
    "duration": 3,
    "start_time": "2025-02-08T05:51:51.113Z"
   },
   {
    "duration": 4,
    "start_time": "2025-02-08T05:51:51.118Z"
   },
   {
    "duration": 150,
    "start_time": "2025-02-08T05:51:51.123Z"
   },
   {
    "duration": 12,
    "start_time": "2025-02-08T05:51:51.274Z"
   },
   {
    "duration": 142,
    "start_time": "2025-02-08T05:51:51.287Z"
   },
   {
    "duration": 12,
    "start_time": "2025-02-08T05:51:51.430Z"
   },
   {
    "duration": 12,
    "start_time": "2025-02-08T05:51:51.444Z"
   }
  ],
  "colab": {
   "provenance": []
  },
  "kernelspec": {
   "display_name": "Python 3 (ipykernel)",
   "language": "python",
   "name": "python3"
  },
  "language_info": {
   "codemirror_mode": {
    "name": "ipython",
    "version": 3
   },
   "file_extension": ".py",
   "mimetype": "text/x-python",
   "name": "python",
   "nbconvert_exporter": "python",
   "pygments_lexer": "ipython3",
   "version": "3.9.19"
  },
  "toc": {
   "base_numbering": 1,
   "nav_menu": {},
   "number_sections": true,
   "sideBar": true,
   "skip_h1_title": false,
   "title_cell": "Table of Contents",
   "title_sidebar": "Contents",
   "toc_cell": false,
   "toc_position": {
    "height": "calc(100% - 180px)",
    "left": "10px",
    "top": "150px",
    "width": "319.528px"
   },
   "toc_section_display": true,
   "toc_window_display": true
  }
 },
 "nbformat": 4,
 "nbformat_minor": 1
}
