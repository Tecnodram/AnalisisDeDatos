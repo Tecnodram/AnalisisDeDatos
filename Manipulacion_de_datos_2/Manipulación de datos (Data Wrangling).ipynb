{
 "cells": [
  {
   "cell_type": "markdown",
   "id": "3Xg_RQfnafXz",
   "metadata": {
    "id": "3Xg_RQfnafXz"
   },
   "source": [
    "# ¡Llena ese carrito!"
   ]
  },
  {
   "cell_type": "markdown",
   "id": "mhIvmmkW414q",
   "metadata": {
    "id": "mhIvmmkW414q"
   },
   "source": [
    "# Introducción\n",
    "\n",
    "Instacart es una plataforma de entregas de comestibles donde la clientela puede registrar un pedido y hacer que se lo entreguen, similar a Uber Eats y Door Dash.\n",
    "El conjunto de datos que te hemos proporcionado tiene modificaciones del original. Redujimos el tamaño del conjunto para que tus cálculos se hicieran más rápido e introdujimos valores ausentes y duplicados. Tuvimos cuidado de conservar las distribuciones de los datos originales cuando hicimos los cambios.\n",
    "\n",
    "Debes completar tres pasos. Para cada uno de ellos, escribe una breve introducción que refleje con claridad cómo pretendes resolver cada paso, y escribe párrafos explicatorios que justifiquen tus decisiones al tiempo que avanzas en tu solución.  También escribe una conclusión que resuma tus hallazgos y elecciones. En la empresa nos interesa enteder el proceso del análisis para tomar deciciones adecuadas. \n"
   ]
  },
  {
   "cell_type": "markdown",
   "id": "3MbyzpOQZ5Or",
   "metadata": {
    "id": "3MbyzpOQZ5Or"
   },
   "source": [
    "## Diccionario de datos\n",
    "\n",
    "Hay cinco tablas en el conjunto de datos, y tendrás que usarlas todas para hacer el preprocesamiento de datos y el análisis exploratorio de datos. A continuación se muestra un diccionario de datos que enumera las columnas de cada tabla y describe los datos que contienen.\n",
    "\n",
    "- `instacart_orders.csv`: cada fila corresponde a un pedido en la aplicación Instacart.\n",
    "    - `'order_id'`: número de ID que identifica de manera única cada pedido.\n",
    "    - `'user_id'`: número de ID que identifica de manera única la cuenta de cada cliente.\n",
    "    - `'order_number'`: el número de veces que este cliente ha hecho un pedido.\n",
    "    - `'order_dow'`: día de la semana en que se hizo el pedido (0 si es domingo).\n",
    "    - `'order_hour_of_day'`: hora del día en que se hizo el pedido.\n",
    "    - `'days_since_prior_order'`: número de días transcurridos desde que este cliente hizo su pedido anterior.\n",
    "- `products.csv`: cada fila corresponde a un producto único que pueden comprar los clientes.\n",
    "    - `'product_id'`: número ID que identifica de manera única cada producto.\n",
    "    - `'product_name'`: nombre del producto.\n",
    "    - `'aisle_id'`: número ID que identifica de manera única cada categoría de pasillo de víveres.\n",
    "    - `'department_id'`: número ID que identifica de manera única cada departamento de víveres.\n",
    "- `order_products.csv`: cada fila corresponde a un artículo pedido en un pedido.\n",
    "    - `'order_id'`: número de ID que identifica de manera única cada pedido.\n",
    "    - `'product_id'`: número ID que identifica de manera única cada producto.\n",
    "    - `'add_to_cart_order'`: el orden secuencial en el que se añadió cada artículo en el carrito.\n",
    "    - `'reordered'`: 0 si el cliente nunca ha pedido este producto antes, 1 si lo ha pedido.\n",
    "- `aisles.csv`\n",
    "    - `'aisle_id'`: número ID que identifica de manera única cada categoría de pasillo de víveres.\n",
    "    - `'aisle'`: nombre del pasillo.\n",
    "- `departments.csv`\n",
    "    - `'department_id'`: número ID que identifica de manera única cada departamento de víveres.\n",
    "    - `'department'`: nombre del departamento."
   ]
  },
  {
   "cell_type": "markdown",
   "id": "n3Ha_cNSZ8lK",
   "metadata": {
    "id": "n3Ha_cNSZ8lK"
   },
   "source": [
    "# Paso 1. Descripción de los datos\n",
    "\n",
    "Lee los archivos de datos (`/datasets/instacart_orders.csv`, `/datasets/products.csv`, `/datasets/aisles.csv`, `/datasets/departments.csv` y `/datasets/order_products.csv`) con `pd.read_csv()` usando los parámetros adecuados para leer los datos correctamente. Verifica la información para cada DataFrame creado.\n"
   ]
  },
  {
   "cell_type": "markdown",
   "id": "OmlQPLlyaAfR",
   "metadata": {
    "id": "OmlQPLlyaAfR"
   },
   "source": [
    "## Plan de solución\n",
    "\n",
    "Escribe aquí tu plan de solución para el Paso 1. Descripción de los datos."
   ]
  },
  {
   "cell_type": "code",
   "execution_count": 1,
   "id": "fbf1adab",
   "metadata": {
    "id": "fbf1adab",
    "trusted": false
   },
   "outputs": [],
   "source": [
    "# Importar librerías\n",
    "import pandas as pd# Importar librerías\n",
    "import matplotlib.pyplot as plt"
   ]
  },
  {
   "cell_type": "code",
   "execution_count": 2,
   "id": "ad36396d",
   "metadata": {
    "id": "ad36396d",
    "trusted": false
   },
   "outputs": [],
   "source": [
    "# Leer conjuntos de datos en los DataFrames\n",
    "orders = pd.read_csv('/datasets/instacart_orders.csv')\n",
    "products = pd.read_csv('/datasets/products.csv')\n",
    "aisles = pd.read_csv('/datasets/aisles.csv')\n",
    "departments = pd.read_csv('/datasets/departments.csv')\n",
    "order_products = pd.read_csv('/datasets/order_products.csv')\n"
   ]
  },
  {
   "cell_type": "code",
   "execution_count": 3,
   "id": "ad6a1efa",
   "metadata": {
    "id": "ad6a1efa",
    "trusted": false
   },
   "outputs": [
    {
     "name": "stdout",
     "output_type": "stream",
     "text": [
      "Información del DataFrame orders:\n",
      "<class 'pandas.core.frame.DataFrame'>\n",
      "RangeIndex: 478967 entries, 0 to 478966\n",
      "Data columns (total 1 columns):\n",
      " #   Column                                                                            Non-Null Count   Dtype \n",
      "---  ------                                                                            --------------   ----- \n",
      " 0   order_id;user_id;order_number;order_dow;order_hour_of_day;days_since_prior_order  478967 non-null  object\n",
      "dtypes: object(1)\n",
      "memory usage: 3.7+ MB\n"
     ]
    }
   ],
   "source": [
    "# Mostrar información del DataFrame orders\n",
    "print(\"Información del DataFrame orders:\")\n",
    "orders.info()"
   ]
  },
  {
   "cell_type": "code",
   "execution_count": 4,
   "id": "5130e05e",
   "metadata": {
    "id": "5130e05e",
    "trusted": false
   },
   "outputs": [
    {
     "name": "stdout",
     "output_type": "stream",
     "text": [
      "\n",
      "Información del DataFrame products:\n",
      "<class 'pandas.core.frame.DataFrame'>\n",
      "RangeIndex: 49694 entries, 0 to 49693\n",
      "Data columns (total 1 columns):\n",
      " #   Column                                          Non-Null Count  Dtype \n",
      "---  ------                                          --------------  ----- \n",
      " 0   product_id;product_name;aisle_id;department_id  49694 non-null  object\n",
      "dtypes: object(1)\n",
      "memory usage: 388.4+ KB\n"
     ]
    }
   ],
   "source": [
    "# Mostrar información del DataFrame products\n",
    "print(\"\\nInformación del DataFrame products:\")\n",
    "products.info()"
   ]
  },
  {
   "cell_type": "code",
   "execution_count": 5,
   "id": "d8370c05",
   "metadata": {
    "id": "d8370c05",
    "trusted": false
   },
   "outputs": [
    {
     "name": "stdout",
     "output_type": "stream",
     "text": [
      "\n",
      "Información del DataFrame aisles:\n",
      "<class 'pandas.core.frame.DataFrame'>\n",
      "RangeIndex: 134 entries, 0 to 133\n",
      "Data columns (total 1 columns):\n",
      " #   Column          Non-Null Count  Dtype \n",
      "---  ------          --------------  ----- \n",
      " 0   aisle_id;aisle  134 non-null    object\n",
      "dtypes: object(1)\n",
      "memory usage: 1.2+ KB\n"
     ]
    }
   ],
   "source": [
    "# Mostrar información del DataFrame aisles\n",
    "print(\"\\nInformación del DataFrame aisles:\")\n",
    "aisles.info()"
   ]
  },
  {
   "cell_type": "code",
   "execution_count": 6,
   "id": "59e2090f",
   "metadata": {
    "id": "59e2090f",
    "trusted": false
   },
   "outputs": [
    {
     "name": "stdout",
     "output_type": "stream",
     "text": [
      "\n",
      "Información del DataFrame departments:\n",
      "<class 'pandas.core.frame.DataFrame'>\n",
      "RangeIndex: 21 entries, 0 to 20\n",
      "Data columns (total 1 columns):\n",
      " #   Column                    Non-Null Count  Dtype \n",
      "---  ------                    --------------  ----- \n",
      " 0   department_id;department  21 non-null     object\n",
      "dtypes: object(1)\n",
      "memory usage: 296.0+ bytes\n"
     ]
    }
   ],
   "source": [
    "# Mostrar información del DataFrame departments\n",
    "print(\"\\nInformación del DataFrame departments:\")\n",
    "departments.info()"
   ]
  },
  {
   "cell_type": "code",
   "execution_count": 7,
   "id": "6fc81694",
   "metadata": {
    "id": "6fc81694",
    "trusted": false
   },
   "outputs": [
    {
     "name": "stdout",
     "output_type": "stream",
     "text": [
      "\n",
      "Información del DataFrame order_products:\n",
      "<class 'pandas.core.frame.DataFrame'>\n",
      "RangeIndex: 4545007 entries, 0 to 4545006\n",
      "Data columns (total 1 columns):\n",
      " #   Column                                           Dtype \n",
      "---  ------                                           ----- \n",
      " 0   order_id;product_id;add_to_cart_order;reordered  object\n",
      "dtypes: object(1)\n",
      "memory usage: 34.7+ MB\n"
     ]
    }
   ],
   "source": [
    "# Mostrar información del DataFrame order_products\n",
    "print(\"\\nInformación del DataFrame order_products:\")\n",
    "order_products.info()"
   ]
  },
  {
   "cell_type": "markdown",
   "id": "t75BD19oaR5f",
   "metadata": {
    "id": "t75BD19oaR5f"
   },
   "source": [
    "## Conclusiones\n",
    "\n",
    "Escribe aquí tus conclusiones intermedias sobre el Paso 1. Descripción de los datos.\n",
    "\n",
    "orders DataFrame:\n",
    "Contiene información sobre los pedidos realizados en la aplicación Instacart.\n",
    "Columnas relevantes incluyen: order_id, user_id, order_number, order_dow, order_hour_of_day, y days_since_prior_order.\n",
    "Necesitaremos verificar si hay valores nulos en days_since_prior_order.\n",
    "\n",
    "products DataFrame:\n",
    "Contiene información sobre los productos disponibles en la aplicación Instacart.\n",
    "Columnas relevantes incluyen: product_id, product_name, aisle_id, y department_id.\n",
    "\n",
    "aisles DataFrame:\n",
    "Contiene información sobre los pasillos de víveres.\n",
    "Columnas relevantes incluyen: aisle_id y aisle.\n",
    "\n",
    "departments DataFrame:\n",
    "Contiene información sobre los departamentos de víveres.\n",
    "Columnas relevantes incluyen: department_id y department.\n",
    "\n",
    "order_products DataFrame:\n",
    "Contiene información sobre los productos pedidos en cada pedido.\n",
    "Columnas relevantes incluyen: order_id, product_id, add_to_cart_order, y reordered.\n",
    "\n",
    "A partir de esta información, podremos realizar el preprocesamiento de datos y el análisis exploratorio de datos, asegurándonos de manejar adecuadamente los datos faltantes y las relaciones entre las diferentes tablas.\n"
   ]
  },
  {
   "cell_type": "markdown",
   "id": "8RJHqxVmaVsF",
   "metadata": {
    "id": "8RJHqxVmaVsF"
   },
   "source": [
    "# Paso 2. Preprocesamiento de los datos\n",
    "\n",
    "Preprocesa los datos de la siguiente manera:\n",
    "\n",
    "- Verifica y corrige los tipos de datos (por ejemplo, asegúrate de que las columnas de ID sean números enteros).\n",
    "- Identifica y completa los valores ausentes.\n",
    "- Identifica y elimina los valores duplicados.\n",
    "\n",
    "Asegúrate de explicar qué tipos de valores ausentes y duplicados encontraste, cómo los completaste o eliminaste y por qué usaste esos métodos. ¿Por qué crees que estos valores ausentes y duplicados pueden haber estado presentes en el conjunto de datos?"
   ]
  },
  {
   "cell_type": "markdown",
   "id": "p6poABZQaZYb",
   "metadata": {
    "id": "p6poABZQaZYb"
   },
   "source": [
    "## Plan de solución\n",
    "\n",
    "Escribe aquí tu plan para el Paso 2. Preprocesamiento de los datos.\n",
    "\n",
    "Plan de solución:\n",
    "\n",
    "1. Verificar y corregir los tipos de datos:\n",
    "    Revisar los tipos de datos de todas las columnas.\n",
    "    Asegurarnos de que las columnas de ID sean números enteros (int).\n",
    "\n",
    "2. Identificar y completar los valores ausentes:\n",
    "    Verificar si hay valores ausentes en las columnas.\n",
    "    Decidir cómo tratar los valores ausentes en función de la naturaleza de los datos.\n",
    "\n",
    "3. Identificar y eliminar los valores duplicados:\n",
    "    Verificar si hay filas duplicadas en los DataFrames.\n",
    "    Eliminar las filas duplicadas si las encontramos.\n",
    "\n",
    "4. Explicación de valores ausentes y duplicados:\n",
    "    Describir los tipos de valores ausentes y duplicados encontrados.\n",
    "    Explicar cómo se completaron o eliminaron y la razón de los métodos utilizados.\n",
    "    Considerar por qué estos valores ausentes y duplicados pueden haber estado presentes en el conjunto de datos."
   ]
  },
  {
   "cell_type": "markdown",
   "id": "07357848-dc64-4156-9cc3-01ff4365226d",
   "metadata": {
    "id": "07357848-dc64-4156-9cc3-01ff4365226d"
   },
   "source": [
    "## Encuentra y elimina los valores duplicados (y describe cómo tomaste tus decisiones)."
   ]
  },
  {
   "cell_type": "markdown",
   "id": "f179f0a9",
   "metadata": {
    "id": "f179f0a9"
   },
   "source": [
    "### `instacart_orders` data frame"
   ]
  },
  {
   "cell_type": "code",
   "execution_count": 8,
   "id": "b99297a5-405a-463d-8535-9adc3da4ad74",
   "metadata": {
    "id": "b99297a5-405a-463d-8535-9adc3da4ad74",
    "trusted": false
   },
   "outputs": [
    {
     "name": "stdout",
     "output_type": "stream",
     "text": [
      "Número de pedidos duplicados: 15\n",
      "Ejemplos de pedidos duplicados:\n",
      "       order_id;user_id;order_number;order_dow;order_hour_of_day;days_since_prior_order\n",
      "145574                            794638;50898;24;3;2;2.0                              \n",
      "223105                         2160484;107525;16;3;2;30.0                              \n",
      "230807                         1918001;188546;14;3;2;16.0                              \n",
      "266232                              1782114;106752;1;3;2;                              \n",
      "273805                          1112182;202304;84;3;2;6.0                              \n"
     ]
    }
   ],
   "source": [
    "# Revisa si hay pedidos duplicados\n",
    "# Verificar duplicados en el DataFrame 'orders'\n",
    "duplicated_orders = orders[orders.duplicated()]\n",
    "\n",
    "# Contar el número de duplicados\n",
    "num_duplicated_orders = len(duplicated_orders)\n",
    "\n",
    "# Mostrar resultados\n",
    "print(f\"Número de pedidos duplicados: {num_duplicated_orders}\")\n",
    "\n",
    "# Si hay duplicados, mostrar algunos ejemplos\n",
    "if num_duplicated_orders > 0:\n",
    "    print(\"Ejemplos de pedidos duplicados:\")\n",
    "    print(duplicated_orders.head())"
   ]
  },
  {
   "cell_type": "markdown",
   "id": "PEkwUX_gvt5A",
   "metadata": {
    "id": "PEkwUX_gvt5A"
   },
   "source": [
    "¿Tienes líneas duplicadas? Si sí, ¿qué tienen en común?\n",
    "Inicialmente, se encontraron filas duplicadas en el DataFrame instacart_orders.\n",
    "Al revisar las filas duplicadas, se observó que podrían compartir patrones comunes."
   ]
  },
  {
   "cell_type": "code",
   "execution_count": 9,
   "id": "0d44de5d",
   "metadata": {
    "id": "0d44de5d",
    "trusted": false
   },
   "outputs": [
    {
     "name": "stdout",
     "output_type": "stream",
     "text": [
      "Pedidos realizados a las 2 de la mañana el día miércoles: 121\n",
      "       order_id  user_id  order_number  order_dow  order_hour_of_day  \\\n",
      "4838    2766110   162084            41          3                  2   \n",
      "5156    2190225   138285            18          3                  2   \n",
      "15506    553049    58599            13          3                  2   \n",
      "18420    382357   120200            19          3                  2   \n",
      "24691    690242    77357             2          3                  2   \n",
      "\n",
      "       days_since_prior_order  \n",
      "4838                     16.0  \n",
      "5156                     11.0  \n",
      "15506                     7.0  \n",
      "18420                    11.0  \n",
      "24691                     9.0  \n"
     ]
    }
   ],
   "source": [
    "# Basándote en tus hallazgos,\n",
    "# Filtrar los pedidos realizados a las 2 de la mañana del día miércoles \n",
    "\n",
    "# Leer conjuntos de datos en los DataFrames con el delimitador correcto\n",
    "orders = pd.read_csv('/datasets/instacart_orders.csv', delimiter=';')\n",
    "products = pd.read_csv('/datasets/products.csv', delimiter=';')\n",
    "aisles = pd.read_csv('/datasets/aisles.csv', delimiter=';')\n",
    "departments = pd.read_csv('/datasets/departments.csv', delimiter=';')\n",
    "order_products = pd.read_csv('/datasets/order_products.csv', delimiter=';')\n",
    "\n",
    "\n",
    "# Filtrar los pedidos realizados a las 2 de la mañana (hora 2) los miércoles (día 3)\n",
    "wednesday_2am_orders = orders[(orders['order_dow'] == 3) & (orders['order_hour_of_day'] == 2)]\n",
    "\n",
    "# Mostrar el resultado de los pedidos realizados a las 2 de la mañana los miércoles\n",
    "print(f\"Pedidos realizados a las 2 de la mañana el día miércoles: {len(wednesday_2am_orders)}\")\n",
    "print(wednesday_2am_orders.head())\n"
   ]
  },
  {
   "cell_type": "markdown",
   "id": "vu2OWyoqwOx5",
   "metadata": {
    "id": "vu2OWyoqwOx5"
   },
   "source": [
    "¿Qué sugiere este resultado? \n",
    "El resultado sugiere que hay un total de 121 pedidos realizados a las 2 de la mañana los días miércoles en el conjunto de datos proporcionado. Esto indica que existe una actividad notable de pedidos en ese horario y día específico.\n",
    "\n",
    "Patrones de Consumo Nocturno:\n",
    "\n",
    "Los datos muestran que hay usuarios que hacen pedidos a altas horas de la noche. Podríamos investigar si estos usuarios tienen un patrón específico de comportamiento, como trabajar en turnos nocturnos o tener hábitos de compra nocturnos.\n",
    "\n",
    "Segmentación de Usuarios:\n",
    "\n",
    "Identificar si ciertos usuarios realizan pedidos recurrentes a esta hora podría ayudar a segmentar a los clientes y ofrecer promociones o servicios especiales para este grupo.\n",
    "\n",
    "Logística y Operaciones:\n",
    "\n",
    "Para el equipo logístico, estos pedidos pueden indicar la necesidad de recursos adicionales en horas no convencionales. Podríamos analizar si hay un aumento en los costos operativos o en la eficiencia del servicio durante estas horas.\n",
    "\n",
    "Comparación con Otros Horarios:\n",
    "\n",
    "Comparar la frecuencia de pedidos en otros horarios y días de la semana para ver si las 2 de la mañana los miércoles es un punto fuera de lo común o si hay otros patrones similares.\n",
    "\n",
    "Análisis de Satisfacción del Cliente:\n",
    "\n",
    "Evaluar la satisfacción de los clientes que realizan pedidos a esta hora para entender si están satisfechos con el servicio nocturno y si hay áreas de mejora.\n",
    "\n",
    "Investigación de Productos Comprados:\n",
    "\n",
    "Examinar los productos comprados en estos pedidos para ver si hay tendencias en el tipo de productos que los usuarios tienden a comprar a esa hora."
   ]
  },
  {
   "cell_type": "code",
   "execution_count": 10,
   "id": "480563c7",
   "metadata": {
    "id": "480563c7",
    "trusted": false
   },
   "outputs": [],
   "source": [
    "# Elimina los pedidos duplicados\n",
    "orders_cleaned = orders.drop_duplicates()"
   ]
  },
  {
   "cell_type": "code",
   "execution_count": 11,
   "id": "0b2396a2",
   "metadata": {
    "id": "0b2396a2",
    "trusted": false
   },
   "outputs": [
    {
     "name": "stdout",
     "output_type": "stream",
     "text": [
      "Número de pedidos duplicados después de la limpieza: 0\n"
     ]
    }
   ],
   "source": [
    "# Vuelve a verificar si hay filas duplicadas\n",
    "# Verificar que los duplicados han sido eliminados\n",
    "num_duplicated_orders_after = orders_cleaned[orders_cleaned.duplicated()].shape[0]\n",
    "print(f\"Número de pedidos duplicados después de la limpieza: {num_duplicated_orders_after}\")"
   ]
  },
  {
   "cell_type": "code",
   "execution_count": 12,
   "id": "f6113ef1",
   "metadata": {
    "id": "f6113ef1",
    "trusted": false
   },
   "outputs": [
    {
     "name": "stdout",
     "output_type": "stream",
     "text": [
      "Número de IDs de pedidos duplicados después de la limpieza: 0\n"
     ]
    }
   ],
   "source": [
    "# Vuelve a verificar si hay IDs duplicados de pedidos\n",
    "duplicated_order_ids = orders_cleaned[orders_cleaned['order_id'].duplicated()]\n",
    "\n",
    "# Contar el número de IDs duplicados\n",
    "num_duplicated_order_ids = len(duplicated_order_ids)\n",
    "\n",
    "# Mostrar resultados\n",
    "print(f\"Número de IDs de pedidos duplicados después de la limpieza: {num_duplicated_order_ids}\")\n",
    "\n",
    "# Si hay IDs duplicados, mostrar algunos ejemplos\n",
    "if num_duplicated_order_ids > 0:\n",
    "    print(\"Ejemplos de IDs de pedidos duplicados después de la limpieza:\")\n",
    "    print(duplicated_order_ids.head())"
   ]
  },
  {
   "cell_type": "markdown",
   "id": "5e8905ae",
   "metadata": {
    "id": "5e8905ae"
   },
   "source": [
    "Describe brevemente tus hallazgos y lo que hiciste con ellos:\n",
    "\n",
    "Hallazgos y Acciones Realizadas:\n",
    "\n",
    "1. Detección de Duplicados Inicial:\n",
    "\n",
    "Hallazgo: Se encontraron 15 pedidos duplicados en el DataFrame orders.\n",
    "Acción: Se mostraron algunos ejemplos de estos pedidos duplicados para verificar la existencia y naturaleza de los duplicados.\n",
    "\n",
    "2. Filtrado de Pedidos Específicos:\n",
    "\n",
    "Hallazgo: Se identificaron 121 pedidos realizados a las 2 de la mañana los días miércoles.\n",
    "Acción: Se filtraron y mostraron algunos ejemplos de estos pedidos para analizar patrones específicos de comportamiento de los usuarios en ese horario.\n",
    "\n",
    "3. Eliminación de Pedidos Duplicados:\n",
    "\n",
    "Acción: Se utilizó el método drop_duplicates() para eliminar los pedidos duplicados del DataFrame orders. Esto resultó en un DataFrame limpio sin duplicados.\n",
    "\n",
    "4. Verificación de Duplicados Después de la Limpieza:\n",
    "\n",
    "Hallazgo: Después de la limpieza, se volvió a verificar la presencia de duplicados basados en el ID del pedido.\n",
    "Acción: Se confirmó que no quedaban pedidos duplicados en el DataFrame orders_cleaned.\n",
    "\n",
    "Resumen del Proceso: \n",
    "\n",
    "Carga de Datos: Se cargaron los datos desde archivos CSV en DataFrames utilizando pandas.\n",
    "\n",
    "Verificación Inicial: Se identificaron y contaron los pedidos duplicados en el DataFrame original.\n",
    "\n",
    "Muestreo de Duplicados: Se mostraron ejemplos de los pedidos duplicados detectados.\n",
    "\n",
    "Filtrado Específico: Se filtraron los pedidos realizados a una hora y día específicos (2 de la mañana, miércoles) para análisis adicionales.\n",
    "\n",
    "Limpieza de Datos: Se eliminaron los duplicados del DataFrame orders.\n",
    "\n",
    "Verificación Posterior: Se volvió a verificar la presencia de duplicados, asegurando que el DataFrame orders_cleaned estuviera libre de duplicados.\n",
    "\n",
    "Este proceso asegura que los datos sean consistentes y estén preparados para análisis adicionales sin la interferencia de duplicados, proporcionando una base sólida para cualquier análisis futuro de patrones de compra o comportamiento del cliente."
   ]
  },
  {
   "cell_type": "markdown",
   "id": "45e6bc46",
   "metadata": {
    "id": "45e6bc46"
   },
   "source": [
    "### `products` data frame"
   ]
  },
  {
   "cell_type": "code",
   "execution_count": 13,
   "id": "5f526b5b-8175-46fa-a0fd-441767d50e64",
   "metadata": {
    "id": "5f526b5b-8175-46fa-a0fd-441767d50e64",
    "trusted": false
   },
   "outputs": [
    {
     "name": "stdout",
     "output_type": "stream",
     "text": [
      "Número de filas totalmente duplicadas en 'products': 0\n"
     ]
    }
   ],
   "source": [
    "# Verifica si hay filas totalmente duplicadas\n",
    "# Verificar filas totalmente duplicadas en el DataFrame 'products'\n",
    "duplicated_products = products[products.duplicated()]\n",
    "\n",
    "# Contar el número de filas duplicadas\n",
    "num_duplicated_products = len(duplicated_products)\n",
    "\n",
    "# Mostrar resultados\n",
    "print(f\"Número de filas totalmente duplicadas en 'products': {num_duplicated_products}\")\n",
    "\n",
    "# Si hay duplicados, mostrar algunos ejemplos\n",
    "if num_duplicated_products > 0:\n",
    "    print(\"Ejemplos de filas totalmente duplicadas en 'products':\")\n",
    "    print(duplicated_products.head())"
   ]
  },
  {
   "cell_type": "code",
   "execution_count": 14,
   "id": "88daa4f4",
   "metadata": {
    "id": "88daa4f4",
    "trusted": false
   },
   "outputs": [
    {
     "name": "stdout",
     "output_type": "stream",
     "text": [
      "Número de IDs duplicadas de productos: 0\n"
     ]
    }
   ],
   "source": [
    "# Verifica si hay IDs duplicadas de productos\n",
    "# Verificar si hay IDs duplicadas de productos\n",
    "duplicated_product_ids = products[products['product_id'].duplicated()]\n",
    "\n",
    "# Contar el número de IDs duplicadas\n",
    "num_duplicated_product_ids = len(duplicated_product_ids)\n",
    "\n",
    "# Mostrar resultados\n",
    "print(f\"Número de IDs duplicadas de productos: {num_duplicated_product_ids}\")\n",
    "\n",
    "# Si hay IDs duplicadas, mostrar algunos ejemplos\n",
    "if num_duplicated_product_ids > 0:\n",
    "    print(\"Ejemplos de IDs duplicadas de productos:\")\n",
    "    print(duplicated_product_ids.head())"
   ]
  },
  {
   "cell_type": "code",
   "execution_count": 15,
   "id": "c773f0bf",
   "metadata": {
    "id": "c773f0bf",
    "trusted": false
   },
   "outputs": [
    {
     "name": "stdout",
     "output_type": "stream",
     "text": [
      "Número de nombres duplicados de productos: 1361\n",
      "Ejemplos de nombres duplicados de productos:\n",
      "     product_id product_name\n",
      "71           72          NaN\n",
      "109         110          NaN\n",
      "296         297          NaN\n",
      "416         417          NaN\n",
      "436         437          NaN\n"
     ]
    }
   ],
   "source": [
    "# Revisa si hay nombres duplicados de productos (convierte los nombres a letras mayúsculas para compararlos mejor)\n",
    "# Revisar si hay nombres duplicados de productos (convertir los nombres a letras mayúsculas para compararlos mejor)\n",
    "products['product_name_upper'] = products['product_name'].str.upper()\n",
    "duplicated_product_names = products[products['product_name_upper'].duplicated()]\n",
    "\n",
    "# Contar el número de nombres duplicados\n",
    "num_duplicated_product_names = len(duplicated_product_names)\n",
    "\n",
    "# Mostrar resultados\n",
    "print(f\"Número de nombres duplicados de productos: {num_duplicated_product_names}\")\n",
    "\n",
    "# Si hay nombres duplicados, mostrar algunos ejemplos\n",
    "if num_duplicated_product_names > 0:\n",
    "    print(\"Ejemplos de nombres duplicados de productos:\")\n",
    "    print(duplicated_product_names[['product_id', 'product_name']].head())"
   ]
  },
  {
   "cell_type": "code",
   "execution_count": 16,
   "id": "01efd02e",
   "metadata": {
    "id": "01efd02e",
    "trusted": false
   },
   "outputs": [
    {
     "name": "stdout",
     "output_type": "stream",
     "text": [
      "Número de nombres duplicados de productos no faltantes: 104\n",
      "Ejemplos de nombres duplicados de productos no faltantes:\n",
      "      product_id                      product_name\n",
      "2058        2059                   Biotin 1000 Mcg\n",
      "5455        5456  Green Tea With Ginseng and Honey\n",
      "5558        5559            Cream Of Mushroom Soup\n",
      "7558        7559         Cinnamon Rolls with Icing\n",
      "9037        9038            American Cheese slices\n"
     ]
    }
   ],
   "source": [
    "# Revisa si hay nombres duplicados de productos no faltantes\n",
    "# Revisar si hay nombres duplicados de productos no faltantes (nombre no nulo y no vacío)\n",
    "products_not_missing_names = products[products['product_name'].notnull() & (products['product_name'] != '')].copy()\n",
    "products_not_missing_names.loc[:, 'product_name_upper'] = products_not_missing_names['product_name'].str.upper()\n",
    "duplicated_not_missing_product_names = products_not_missing_names[products_not_missing_names['product_name_upper'].duplicated()]\n",
    "\n",
    "# Contar el número de nombres duplicados de productos no faltantes\n",
    "num_duplicated_not_missing_product_names = len(duplicated_not_missing_product_names)\n",
    "\n",
    "# Mostrar resultados\n",
    "print(f\"Número de nombres duplicados de productos no faltantes: {num_duplicated_not_missing_product_names}\")\n",
    "\n",
    "# Si hay nombres duplicados de productos no faltantes, mostrar algunos ejemplos\n",
    "if num_duplicated_not_missing_product_names > 0:\n",
    "    print(\"Ejemplos de nombres duplicados de productos no faltantes:\")\n",
    "    print(duplicated_not_missing_product_names[['product_id', 'product_name']].head())"
   ]
  },
  {
   "cell_type": "markdown",
   "id": "9da8d293",
   "metadata": {
    "id": "9da8d293"
   },
   "source": [
    "Describe brevemente tus hallazgos y lo que hiciste con ellos.\n",
    "\n",
    "1. Filas Totalmente Duplicadas:\n",
    "\n",
    "Hallazgo: No se encontraron filas totalmente duplicadas en el DataFrame products.\n",
    "Interpretación: Esto indica que cada fila en el DataFrame es única en términos de todos los atributos combinados.\n",
    "\n",
    "2. IDs Duplicadas de Productos:\n",
    "\n",
    "Hallazgo: No se encontraron IDs duplicadas en la columna product_id.\n",
    "Interpretación: Cada producto tiene un ID único, lo cual es crucial para mantener la integridad de los datos y asegurar que cada producto pueda ser identificado de manera unívoca.\n",
    "\n",
    "3. Nombres Duplicados de Productos:\n",
    "\n",
    "Hallazgo: Se encontraron 1361 nombres duplicados de productos.\n",
    "Interpretación: Esto sugiere que hay productos diferentes que comparten el mismo nombre o que hay errores en los datos donde el mismo producto se ha ingresado múltiples veces con ligeras variaciones en otros atributos.\n",
    "\n",
    "4. Nombres Duplicados de Productos No Faltantes:\n",
    "\n",
    "Hallazgo: De los nombres de productos no nulos y no vacíos, se encontraron 104 nombres duplicados.\n",
    "Interpretación: Entre los productos con nombres válidos, sigue habiendo un número significativo de duplicados. Esto podría deberse a productos con variantes menores pero con el mismo nombre o a posibles errores de entrada de datos.\n",
    "\n",
    "Conclusión:\n",
    "El análisis del DataFrame products reveló que, aunque no hay duplicados en términos de filas completas o IDs de productos, existe una cantidad considerable de nombres duplicados. Esto puede afectar la calidad del análisis y la interpretación de los datos, sugiriendo la necesidad de una revisión y posible normalización de los nombres de productos para asegurar que cada producto sea único y correctamente identificado."
   ]
  },
  {
   "cell_type": "markdown",
   "id": "60f30db1",
   "metadata": {
    "id": "60f30db1"
   },
   "source": [
    "### `departments` data frame"
   ]
  },
  {
   "cell_type": "code",
   "execution_count": 17,
   "id": "fb410ad4-0fbf-4b80-bb09-23fdea79afe3",
   "metadata": {
    "id": "fb410ad4-0fbf-4b80-bb09-23fdea79afe3",
    "trusted": false
   },
   "outputs": [
    {
     "name": "stdout",
     "output_type": "stream",
     "text": [
      "Número de filas totalmente duplicadas en 'departments': 0\n"
     ]
    }
   ],
   "source": [
    "# Revisa si hay filas totalmente duplicadas\n",
    "# Verificar si hay filas totalmente duplicadas en el DataFrame 'departments'\n",
    "duplicated_departments = departments[departments.duplicated()]\n",
    "\n",
    "# Contar el número de filas duplicadas\n",
    "num_duplicated_departments = len(duplicated_departments)\n",
    "\n",
    "# Mostrar resultados\n",
    "print(f\"Número de filas totalmente duplicadas en 'departments': {num_duplicated_departments}\")\n",
    "\n",
    "# Si hay duplicados, mostrar algunos ejemplos\n",
    "if num_duplicated_departments > 0:\n",
    "    print(\"Ejemplos de filas totalmente duplicadas en 'departments':\")\n",
    "    print(duplicated_departments.head())"
   ]
  },
  {
   "cell_type": "code",
   "execution_count": 18,
   "id": "332b12bb",
   "metadata": {
    "id": "332b12bb",
    "trusted": false
   },
   "outputs": [
    {
     "name": "stdout",
     "output_type": "stream",
     "text": [
      "Número de IDs duplicadas de departamentos: 0\n"
     ]
    }
   ],
   "source": [
    "# Revisa si hay IDs duplicadas de productos\n",
    "# Verificar si hay IDs duplicadas de departamentos\n",
    "duplicated_department_ids = departments[departments['department_id'].duplicated()]\n",
    "\n",
    "# Contar el número de IDs duplicadas\n",
    "num_duplicated_department_ids = len(duplicated_department_ids)\n",
    "\n",
    "# Mostrar resultados\n",
    "print(f\"Número de IDs duplicadas de departamentos: {num_duplicated_department_ids}\")\n",
    "\n",
    "# Si hay IDs duplicadas, mostrar algunos ejemplos\n",
    "if num_duplicated_department_ids > 0:\n",
    "    print(\"Ejemplos de IDs duplicadas de departamentos:\")\n",
    "    print(duplicated_department_ids.head())"
   ]
  },
  {
   "cell_type": "markdown",
   "id": "bd30d78e",
   "metadata": {
    "id": "bd30d78e"
   },
   "source": [
    "Describe brevemente tus hallazgos y lo que hiciste con ellos.\n",
    "\n",
    "1. Filas Totalmente Duplicadas:\n",
    "\n",
    "Hallazgo: No se encontraron filas totalmente duplicadas en el DataFrame departments.\n",
    "Interpretación: Cada fila en el DataFrame es única en términos de todos los atributos combinados, lo que indica que no hay duplicación completa de registros.\n",
    "\n",
    "2. IDs Duplicadas de Departamentos:\n",
    "\n",
    "Hallazgo: No se encontraron IDs duplicadas en la columna department_id.\n",
    "Interpretación: Cada departamento tiene un ID único, asegurando que cada departamento pueda ser identificado de manera unívoca y evitando cualquier posible confusión o error en la identificación de departamentos.\n",
    "\n",
    "Conclusión:\n",
    "El análisis del DataFrame departments reveló que no hay duplicados, ni en términos de filas completas ni en los IDs de departamentos. Esto indica que los datos del DataFrame departments son consistentes y únicos, proporcionando una base sólida y confiable para cualquier análisis adicional o procesamiento posterior."
   ]
  },
  {
   "cell_type": "markdown",
   "id": "889349c1",
   "metadata": {
    "id": "889349c1"
   },
   "source": [
    "### `aisles` data frame"
   ]
  },
  {
   "cell_type": "code",
   "execution_count": 19,
   "id": "9da89fb9-4679-40f5-ad0d-c34df753a3f8",
   "metadata": {
    "id": "9da89fb9-4679-40f5-ad0d-c34df753a3f8",
    "trusted": false
   },
   "outputs": [
    {
     "name": "stdout",
     "output_type": "stream",
     "text": [
      "Número de filas totalmente duplicadas en 'aisles': 0\n"
     ]
    }
   ],
   "source": [
    "# Revisa si hay filas totalmente duplicadas\n",
    "# Verificar si hay filas totalmente duplicadas en el DataFrame 'aisles'\n",
    "duplicated_aisles = aisles[aisles.duplicated()]\n",
    "\n",
    "# Contar el número de filas duplicadas\n",
    "num_duplicated_aisles = len(duplicated_aisles)\n",
    "\n",
    "# Mostrar resultados\n",
    "print(f\"Número de filas totalmente duplicadas en 'aisles': {num_duplicated_aisles}\")\n",
    "\n",
    "# Si hay duplicados, mostrar algunos ejemplos\n",
    "if num_duplicated_aisles > 0:\n",
    "    print(\"Ejemplos de filas totalmente duplicadas en 'aisles':\")\n",
    "    print(duplicated_aisles.head())"
   ]
  },
  {
   "cell_type": "code",
   "execution_count": 20,
   "id": "da7c2822",
   "metadata": {
    "id": "da7c2822",
    "trusted": false
   },
   "outputs": [
    {
     "name": "stdout",
     "output_type": "stream",
     "text": [
      "Número de IDs duplicadas de pasillos: 0\n"
     ]
    }
   ],
   "source": [
    "# Revisa si hay IDs duplicadas de productos\n",
    "# Verificar si hay IDs duplicadas de pasillos\n",
    "duplicated_aisle_ids = aisles[aisles['aisle_id'].duplicated()]\n",
    "\n",
    "# Contar el número de IDs duplicadas\n",
    "num_duplicated_aisle_ids = len(duplicated_aisle_ids)\n",
    "\n",
    "# Mostrar resultados\n",
    "print(f\"Número de IDs duplicadas de pasillos: {num_duplicated_aisle_ids}\")\n",
    "\n",
    "# Si hay IDs duplicadas, mostrar algunos ejemplos\n",
    "if num_duplicated_aisle_ids > 0:\n",
    "    print(\"Ejemplos de IDs duplicadas de pasillos:\")\n",
    "    print(duplicated_aisle_ids.head())"
   ]
  },
  {
   "cell_type": "markdown",
   "id": "ac63826f",
   "metadata": {
    "id": "ac63826f"
   },
   "source": [
    "Describe brevemente tus hallazgos y lo que hiciste con ellos.\n",
    "\n",
    "1. Filas Totalmente Duplicadas:\n",
    "Hallazgo: No se encontraron filas totalmente duplicadas en el DataFrame aisles.\n",
    "Interpretación: Cada fila en el DataFrame es única en términos de todos los atributos combinados, lo que indica que no hay duplicación completa de registros.\n",
    "\n",
    "2. IDs Duplicadas de Pasillos:\n",
    "Hallazgo: No se encontraron IDs duplicadas en la columna aisle_id.\n",
    "Interpretación: Cada pasillo tiene un ID único, asegurando que cada pasillo pueda ser identificado de manera unívoca y evitando cualquier posible confusión o error en la identificación de pasillos.\n",
    "\n",
    "Conclusión:\n",
    "El análisis del DataFrame aisles reveló que no hay duplicados, ni en términos de filas completas ni en los IDs de pasillos. Esto indica que los datos del DataFrame aisles son consistentes y únicos, proporcionando una base sólida y confiable para cualquier análisis adicional o procesamiento posterior."
   ]
  },
  {
   "cell_type": "markdown",
   "id": "274cd06a",
   "metadata": {
    "id": "274cd06a"
   },
   "source": [
    "### `order_products` data frame"
   ]
  },
  {
   "cell_type": "code",
   "execution_count": 21,
   "id": "52326689-84a8-4b8f-a881-7c68780f62c9",
   "metadata": {
    "id": "52326689-84a8-4b8f-a881-7c68780f62c9",
    "trusted": false
   },
   "outputs": [
    {
     "name": "stdout",
     "output_type": "stream",
     "text": [
      "Número de filas totalmente duplicadas en 'order_products': 0\n"
     ]
    }
   ],
   "source": [
    "# Revisa si hay filas totalmente duplicadas\n",
    "# Verificar si hay filas totalmente duplicadas en el DataFrame 'order_products'\n",
    "duplicated_order_products = order_products[order_products.duplicated()]\n",
    "\n",
    "# Contar el número de filas duplicadas\n",
    "num_duplicated_order_products = len(duplicated_order_products)\n",
    "\n",
    "# Mostrar resultados\n",
    "print(f\"Número de filas totalmente duplicadas en 'order_products': {num_duplicated_order_products}\")\n",
    "\n",
    "# Si hay duplicados, mostrar algunos ejemplos\n",
    "if num_duplicated_order_products > 0:\n",
    "    print(\"Ejemplos de filas totalmente duplicadas en 'order_products':\")\n",
    "    print(duplicated_order_products.head())"
   ]
  },
  {
   "cell_type": "code",
   "execution_count": 22,
   "id": "7b861391",
   "metadata": {
    "id": "7b861391",
    "trusted": false
   },
   "outputs": [
    {
     "name": "stdout",
     "output_type": "stream",
     "text": [
      "Número de duplicados basados en combinaciones de 'order_id' y 'product_id': 0\n"
     ]
    }
   ],
   "source": [
    "# Vuelve a verificar si hay cualquier otro duplicado engañoso\n",
    "# Verificar si hay duplicados basados en combinaciones de 'order_id' y 'product_id'\n",
    "duplicated_combinations = order_products[order_products.duplicated(subset=['order_id', 'product_id'])]\n",
    "\n",
    "# Contar el número de duplicados basados en combinaciones de 'order_id' y 'product_id'\n",
    "num_duplicated_combinations = len(duplicated_combinations)\n",
    "\n",
    "# Mostrar resultados\n",
    "print(f\"Número de duplicados basados en combinaciones de 'order_id' y 'product_id': {num_duplicated_combinations}\")\n",
    "\n",
    "# Si hay duplicados basados en combinaciones, mostrar algunos ejemplos\n",
    "if num_duplicated_combinations > 0:\n",
    "    print(\"Ejemplos de duplicados basados en combinaciones de 'order_id' y 'product_id':\")\n",
    "    print(duplicated_combinations.head())"
   ]
  },
  {
   "cell_type": "markdown",
   "id": "0b890492",
   "metadata": {
    "id": "0b890492"
   },
   "source": [
    "Describe brevemente tus hallazgos y lo que hiciste con ellos.\n",
    "\n",
    "1. Filas Totalmente Duplicadas:\n",
    "\n",
    "Hallazgo: No se encontraron filas totalmente duplicadas en el DataFrame order_products.\n",
    "Interpretación: Cada fila en el DataFrame es única en términos de todos los atributos combinados, lo que indica que no hay duplicación completa de registros.\n",
    "\n",
    "2. Duplicados Basados en Combinaciones de order_id y product_id:\n",
    "\n",
    "Hallazgo: No se encontraron duplicados basados en combinaciones de order_id y product_id.\n",
    "Interpretación: No hay registros donde el mismo producto aparezca más de una vez en el mismo pedido. Esto sugiere que cada combinación de pedido y producto es única, lo cual es crucial para mantener la integridad de los datos y asegurar que cada combinación de pedido-producto sea registrada correctamente."
   ]
  },
  {
   "cell_type": "markdown",
   "id": "1e46de76",
   "metadata": {
    "id": "1e46de76"
   },
   "source": [
    "## Encuentra y elimina los valores ausentes\n",
    "\n",
    "Al trabajar con valores duplicados, pudimos observar que también nos falta investigar valores ausentes:\n",
    "\n",
    "* La columna `'product_name'` de la tabla products.\n",
    "* La columna `'days_since_prior_order'` de la tabla orders.\n",
    "* La columna `'add_to_cart_order'` de la tabla order_productos."
   ]
  },
  {
   "cell_type": "markdown",
   "id": "c0aebd78",
   "metadata": {
    "id": "c0aebd78"
   },
   "source": [
    "### `products` data frame"
   ]
  },
  {
   "cell_type": "code",
   "execution_count": 23,
   "id": "fe4a8b0f",
   "metadata": {
    "id": "fe4a8b0f",
    "trusted": false
   },
   "outputs": [
    {
     "name": "stdout",
     "output_type": "stream",
     "text": [
      "Número de valores ausentes en 'product_name': 1258\n",
      "Ejemplos de valores ausentes en 'product_name':\n",
      "     product_id product_name  aisle_id  department_id product_name_upper\n",
      "37           38          NaN       100             21                NaN\n",
      "71           72          NaN       100             21                NaN\n",
      "109         110          NaN       100             21                NaN\n",
      "296         297          NaN       100             21                NaN\n",
      "416         417          NaN       100             21                NaN\n"
     ]
    }
   ],
   "source": [
    "# Encuentra los valores ausentes en la columna 'product_name'\n",
    "# Encontrar los valores ausentes en la columna 'product_name'\n",
    "missing_product_names = products[products['product_name'].isnull() | (products['product_name'] == '')]\n",
    "\n",
    "# Contar el número de valores ausentes\n",
    "num_missing_product_names = len(missing_product_names)\n",
    "\n",
    "# Mostrar resultados\n",
    "print(f\"Número de valores ausentes en 'product_name': {num_missing_product_names}\")\n",
    "\n",
    "# Si hay valores ausentes, mostrar algunos ejemplos\n",
    "if num_missing_product_names > 0:\n",
    "    print(\"Ejemplos de valores ausentes en 'product_name':\")\n",
    "    print(missing_product_names.head())"
   ]
  },
  {
   "cell_type": "markdown",
   "id": "-A6x1AbJhjkp",
   "metadata": {
    "id": "-A6x1AbJhjkp"
   },
   "source": [
    "Describe brevemente cuáles son tus hallazgos. Hay 1258 valores ausentes los cuales parecen corresponder al pasillo 100 y al departamento 21, segun el muestreo de los datos. "
   ]
  },
  {
   "cell_type": "code",
   "execution_count": 24,
   "id": "e96167bc",
   "metadata": {
    "id": "e96167bc",
    "trusted": false
   },
   "outputs": [
    {
     "name": "stdout",
     "output_type": "stream",
     "text": [
      "IDs de pasillos relacionados con nombres de productos ausentes: [100]\n",
      "¿Todos los nombres de productos ausentes están relacionados con el pasillo con ID 100? True\n"
     ]
    }
   ],
   "source": [
    "#  ¿Todos los nombres de productos ausentes están relacionados con el pasillo con ID 100?\n",
    "# Encontrar los valores ausentes en la columna 'product_name'\n",
    "missing_product_names = products[products['product_name'].isnull() | (products['product_name'] == '')]\n",
    "\n",
    "# Verificar si todos los nombres de productos ausentes están relacionados con el pasillo con ID 100\n",
    "unique_aisles_with_missing_names = missing_product_names['aisle_id'].unique()\n",
    "\n",
    "# Mostrar resultados\n",
    "print(\"IDs de pasillos relacionados con nombres de productos ausentes:\", unique_aisles_with_missing_names)\n",
    "\n",
    "# Verificar si todos los nombres de productos ausentes están en el pasillo con ID 100\n",
    "all_missing_in_aisle_100 = len(unique_aisles_with_missing_names) == 1 and unique_aisles_with_missing_names[0] == 100\n",
    "\n",
    "print(f\"¿Todos los nombres de productos ausentes están relacionados con el pasillo con ID 100? {all_missing_in_aisle_100}\")"
   ]
  },
  {
   "cell_type": "markdown",
   "id": "WRpIfXRphpSL",
   "metadata": {
    "id": "WRpIfXRphpSL"
   },
   "source": [
    "Describe brevemente cuáles son tus hallazgos.\n",
    "El análisis del DataFrame products reveló que todos los productos con nombres ausentes están relacionados con el aisle_id 100. Esto sugiere que hay un problema específico de captura de datos o mantenimiento de registros para este pasillo."
   ]
  },
  {
   "cell_type": "code",
   "execution_count": 25,
   "id": "8fd0a541",
   "metadata": {
    "id": "8fd0a541",
    "trusted": false
   },
   "outputs": [
    {
     "name": "stdout",
     "output_type": "stream",
     "text": [
      "IDs de departamentos relacionados con nombres de productos ausentes: [21]\n",
      "¿Todos los nombres de productos ausentes están relacionados con el departamento con ID 21? True\n"
     ]
    }
   ],
   "source": [
    "# ¿Todos los nombres de productos ausentes están relacionados con el departamento con ID 21?\n",
    "# Encontrar los valores ausentes en la columna 'product_name'\n",
    "missing_product_names = products[products['product_name'].isnull() | (products['product_name'] == '')]\n",
    "\n",
    "# Verificar si todos los nombres de productos ausentes están relacionados con el departamento con ID 21\n",
    "unique_departments_with_missing_names = missing_product_names['department_id'].unique()\n",
    "\n",
    "# Mostrar resultados\n",
    "print(\"IDs de departamentos relacionados con nombres de productos ausentes:\", unique_departments_with_missing_names)\n",
    "\n",
    "# Verificar si todos los nombres de productos ausentes están en el departamento con ID 21\n",
    "all_missing_in_department_21 = len(unique_departments_with_missing_names) == 1 and unique_departments_with_missing_names[0] == 21\n",
    "\n",
    "print(f\"¿Todos los nombres de productos ausentes están relacionados con el departamento con ID 21? {all_missing_in_department_21}\")"
   ]
  },
  {
   "cell_type": "markdown",
   "id": "qDpdYn1Fht_I",
   "metadata": {
    "id": "qDpdYn1Fht_I"
   },
   "source": [
    "Describe brevemente cuáles son tus hallazgos.\n",
    "El análisis del DataFrame products reveló que todos los productos con nombres ausentes están relacionados tanto con el aisle_id 100 como con el department_id 21. Esto sugiere que hay un problema específico de captura de datos o mantenimiento de registros para este pasillo y departamento."
   ]
  },
  {
   "cell_type": "code",
   "execution_count": 26,
   "id": "325c3464",
   "metadata": {
    "id": "325c3464",
    "trusted": false
   },
   "outputs": [
    {
     "name": "stdout",
     "output_type": "stream",
     "text": [
      "Datos de productos del pasillo con ID 100 y el departamento con ID 21:\n",
      "   product_id product_name  aisle_id  department_id    aisle department\n",
      "0          38          NaN       100             21  missing    missing\n",
      "1          72          NaN       100             21  missing    missing\n",
      "2         110          NaN       100             21  missing    missing\n",
      "3         297          NaN       100             21  missing    missing\n",
      "4         417          NaN       100             21  missing    missing\n"
     ]
    }
   ],
   "source": [
    "# Usa las tablas department y aisle para revisar los datos del pasillo con ID 100 y el departamento con ID 21.\n",
    "# Leer los conjuntos de datos en los DataFrames\n",
    "products = pd.read_csv('/datasets/products.csv', delimiter=';')\n",
    "aisles = pd.read_csv('/datasets/aisles.csv', delimiter=';')\n",
    "departments = pd.read_csv('/datasets/departments.csv', delimiter=';')\n",
    "\n",
    "# Filtrar los productos con aisle_id 100 y department_id 21\n",
    "filtered_products = products[(products['aisle_id'] == 100) & (products['department_id'] == 21)]\n",
    "\n",
    "# Unir los datos de products con aisles y departments para obtener más información\n",
    "merged_data = filtered_products.merge(aisles, on='aisle_id', how='left').merge(departments, on='department_id', how='left')\n",
    "\n",
    "# Mostrar los resultados\n",
    "print(\"Datos de productos del pasillo con ID 100 y el departamento con ID 21:\")\n",
    "print(merged_data.head())"
   ]
  },
  {
   "cell_type": "markdown",
   "id": "nqhSTUPhhvEJ",
   "metadata": {
    "id": "nqhSTUPhhvEJ"
   },
   "source": [
    "Describe brevemente cuáles son tus hallazgos.\n",
    "\n",
    "El análisis detallado ha revelado problemas significativos de datos faltantes en el pasillo con aisle_id 100 y el departamento con department_id 21. Estos problemas deben abordarse para mejorar la integridad y la calidad de los datos, lo cual es crucial para realizar análisis precisos y tomar decisiones informadas basadas en estos datos."
   ]
  },
  {
   "cell_type": "code",
   "execution_count": 27,
   "id": "6b295120",
   "metadata": {
    "id": "6b295120",
    "trusted": false
   },
   "outputs": [
    {
     "name": "stdout",
     "output_type": "stream",
     "text": [
      "Algunos ejemplos de productos con 'product_name' completado:\n",
      "     product_id product_name  aisle_id  department_id\n",
      "37           38      Unknown       100             21\n",
      "71           72      Unknown       100             21\n",
      "109         110      Unknown       100             21\n",
      "296         297      Unknown       100             21\n",
      "416         417      Unknown       100             21\n"
     ]
    }
   ],
   "source": [
    "# Completa los nombres de productos ausentes con 'Unknown'\n",
    "# Encontrar y completar los valores ausentes en la columna 'product_name' con 'Unknown'\n",
    "products['product_name'].fillna('Unknown', inplace=True)\n",
    "products['product_name'].replace('', 'Unknown', inplace=True)\n",
    "\n",
    "# Verificar que se han completado los valores ausentes\n",
    "missing_product_names_after = products[products['product_name'].isnull() | (products['product_name'] == 'Unknown')]\n",
    "\n",
    "# Mostrar algunos resultados\n",
    "print(\"Algunos ejemplos de productos con 'product_name' completado:\")\n",
    "print(missing_product_names_after.head())"
   ]
  },
  {
   "cell_type": "markdown",
   "id": "fc70e5ad",
   "metadata": {
    "id": "fc70e5ad"
   },
   "source": [
    "Describe brevemente tus hallazgos y lo que hiciste con ellos.\n",
    "\n",
    "Conclusión \n",
    "\n",
    "Consistencia e Integridad de los Datos: Al completar los valores ausentes con 'Unknown', se ha mejorado la consistencia y la integridad del DataFrame products. Esto permite realizar análisis futuros sin la interferencia de valores nulos o vacíos en la columna product_name.\n",
    "Reconocimiento del Problema: Aunque se ha completado el campo product_name, es importante reconocer que la presencia de 'Unknown' indica que estos productos necesitan una revisión adicional para identificar sus nombres correctos."
   ]
  },
  {
   "cell_type": "markdown",
   "id": "7eb45c86",
   "metadata": {
    "id": "7eb45c86"
   },
   "source": [
    "### `orders` data frame"
   ]
  },
  {
   "cell_type": "code",
   "execution_count": 28,
   "id": "93e41d96",
   "metadata": {
    "id": "93e41d96",
    "trusted": false
   },
   "outputs": [
    {
     "name": "stdout",
     "output_type": "stream",
     "text": [
      "Número de valores ausentes en cada columna de 'orders':\n",
      "order_id                      0\n",
      "user_id                       0\n",
      "order_number                  0\n",
      "order_dow                     0\n",
      "order_hour_of_day             0\n",
      "days_since_prior_order    28819\n",
      "dtype: int64\n",
      "Algunos ejemplos de filas con valores ausentes en 'orders':\n",
      "     order_id  user_id  order_number  order_dow  order_hour_of_day  \\\n",
      "28     133707   182261             1          3                 10   \n",
      "96     787445    25685             1          6                 18   \n",
      "100    294410   111449             1          0                 19   \n",
      "103   2869915   123958             1          4                 16   \n",
      "104   2521921    42286             1          3                 18   \n",
      "\n",
      "     days_since_prior_order  \n",
      "28                      NaN  \n",
      "96                      NaN  \n",
      "100                     NaN  \n",
      "103                     NaN  \n",
      "104                     NaN  \n"
     ]
    }
   ],
   "source": [
    "# Encuentra los valores ausentes\n",
    "# Encontrar valores ausentes en el DataFrame 'orders'\n",
    "missing_values = orders.isnull().sum()\n",
    "\n",
    "# Mostrar los resultados\n",
    "print(\"Número de valores ausentes en cada columna de 'orders':\")\n",
    "print(missing_values)\n",
    "\n",
    "# Filtrar las filas con valores ausentes\n",
    "rows_with_missing_values = orders[orders.isnull().any(axis=1)]\n",
    "\n",
    "# Mostrar algunas filas con valores ausentes\n",
    "print(\"Algunos ejemplos de filas con valores ausentes en 'orders':\")\n",
    "print(rows_with_missing_values.head())"
   ]
  },
  {
   "cell_type": "code",
   "execution_count": 29,
   "id": "166e5a86",
   "metadata": {
    "id": "166e5a86",
    "trusted": false
   },
   "outputs": [
    {
     "name": "stdout",
     "output_type": "stream",
     "text": [
      "¿Hay valores ausentes que no sean el primer pedido del cliente? No\n",
      "Número de casos: 0\n"
     ]
    }
   ],
   "source": [
    "# ¿Hay algún valor ausente que no sea el primer pedido del cliente?\n",
    "# Filtrar las filas con valores ausentes\n",
    "rows_with_missing_values = orders[orders.isnull().any(axis=1)]\n",
    "\n",
    "# Verificar si hay valores ausentes que no sean el primer pedido del cliente\n",
    "missing_not_first_order = rows_with_missing_values[rows_with_missing_values['order_number'] > 1]\n",
    "\n",
    "# Contar el número de casos\n",
    "num_missing_not_first_order = len(missing_not_first_order)\n",
    "\n",
    "# Mostrar resultados\n",
    "print(f\"¿Hay valores ausentes que no sean el primer pedido del cliente? {'Sí' if num_missing_not_first_order > 0 else 'No'}\")\n",
    "print(f\"Número de casos: {num_missing_not_first_order}\")\n",
    "\n",
    "# Si hay casos, mostrar algunos ejemplos\n",
    "if num_missing_not_first_order > 0:\n",
    "    print(\"Ejemplos de filas con valores ausentes que no son el primer pedido del cliente:\")\n",
    "    print(missing_not_first_order.head())"
   ]
  },
  {
   "cell_type": "markdown",
   "id": "4e23d089",
   "metadata": {
    "id": "4e23d089"
   },
   "source": [
    "Describe brevemente tus hallazgos y lo que hiciste con ellos.\n",
    "\n",
    "1. Valores Ausentes en days_since_prior_order:\n",
    "\n",
    "Hallazgo: Se encontraron 28,819 valores ausentes en la columna days_since_prior_order del DataFrame orders.\n",
    "Ejemplos: Algunos ejemplos de filas con valores ausentes en days_since_prior_order incluyen:\n",
    "order_id 133707, 787445, 294410, 2869915, 2521921, todos con order_number 1, indicando que son los primeros pedidos de estos usuarios.\n",
    "\n",
    "2. Relación con el Primer Pedido del Cliente:\n",
    "\n",
    "Hallazgo: Todos los valores ausentes en days_since_prior_order corresponden al primer pedido del cliente (order_number 1).\n",
    "Resultado: No se encontraron valores ausentes en days_since_prior_order para pedidos que no sean el primer pedido del cliente.\n",
    "Interpretación: Esto sugiere que la ausencia de datos en days_since_prior_order es esperada y lógica para los primeros pedidos, ya que no existe un pedido anterior para calcular la diferencia en días.\n",
    "\n",
    "Conclusión: \n",
    "\n",
    "El análisis del DataFrame orders reveló que todos los valores ausentes en la columna days_since_prior_order están relacionados únicamente con el primer pedido del cliente. No hay valores ausentes en esta columna para pedidos que no sean el primero, lo que indica que los datos son consistentes y que las ausencias son esperadas debido a la naturaleza de la información."
   ]
  },
  {
   "cell_type": "markdown",
   "id": "69dc9ca4",
   "metadata": {
    "id": "69dc9ca4"
   },
   "source": [
    "### `order_products` data frame"
   ]
  },
  {
   "cell_type": "code",
   "execution_count": 30,
   "id": "b8240253",
   "metadata": {
    "id": "b8240253",
    "trusted": false
   },
   "outputs": [
    {
     "name": "stdout",
     "output_type": "stream",
     "text": [
      "Número de valores ausentes en cada columna de 'order_products':\n",
      "order_id               0\n",
      "product_id             0\n",
      "add_to_cart_order    836\n",
      "reordered              0\n",
      "dtype: int64\n",
      "Algunos ejemplos de filas con valores ausentes en 'order_products':\n",
      "       order_id  product_id  add_to_cart_order  reordered\n",
      "737     2449164        5068                NaN          0\n",
      "9926    1968313       43867                NaN          0\n",
      "14394   2926893       11688                NaN          0\n",
      "16418   1717990        4142                NaN          0\n",
      "30114   1959075       42828                NaN          1\n"
     ]
    }
   ],
   "source": [
    "# Encuentra los valores ausentes\n",
    "# Encontrar valores ausentes en el DataFrame 'order_products'\n",
    "missing_values_order_products = order_products.isnull().sum()\n",
    "\n",
    "# Mostrar los resultados\n",
    "print(\"Número de valores ausentes en cada columna de 'order_products':\")\n",
    "print(missing_values_order_products)\n",
    "\n",
    "# Filtrar las filas con valores ausentes\n",
    "rows_with_missing_values_order_products = order_products[order_products.isnull().any(axis=1)]\n",
    "\n",
    "# Mostrar algunas filas con valores ausentes\n",
    "print(\"Algunos ejemplos de filas con valores ausentes en 'order_products':\")\n",
    "print(rows_with_missing_values_order_products.head())"
   ]
  },
  {
   "cell_type": "code",
   "execution_count": 31,
   "id": "9a78e5ee",
   "metadata": {
    "id": "9a78e5ee",
    "trusted": false
   },
   "outputs": [
    {
     "name": "stdout",
     "output_type": "stream",
     "text": [
      "Valor mínimo en la columna 'add_to_cart_order': 1.0\n",
      "Valor máximo en la columna 'add_to_cart_order': 64.0\n"
     ]
    }
   ],
   "source": [
    "# ¿Cuáles son los valores mínimos y máximos en esta columna?\n",
    "# Verificar los valores mínimos y máximos en la columna 'add_to_cart_order'\n",
    "min_add_to_cart_order = order_products['add_to_cart_order'].min()\n",
    "max_add_to_cart_order = order_products['add_to_cart_order'].max()\n",
    "\n",
    "# Mostrar los resultados\n",
    "print(f\"Valor mínimo en la columna 'add_to_cart_order': {min_add_to_cart_order}\")\n",
    "print(f\"Valor máximo en la columna 'add_to_cart_order': {max_add_to_cart_order}\")"
   ]
  },
  {
   "cell_type": "markdown",
   "id": "-Z2Ja215jW78",
   "metadata": {
    "id": "-Z2Ja215jW78"
   },
   "source": [
    "Describe brevemente cuáles son tus hallazgos.\n",
    "El análisis del DataFrame order_products reveló que hay 836 valores ausentes en la columna add_to_cart_order, lo cual necesita ser abordado para asegurar la integridad de los datos. Los valores en esta columna varían entre 1 y 64, lo cual es coherente con la funcionalidad esperada de esta columna, ya que representa la secuencia de productos añadidos al carrito."
   ]
  },
  {
   "cell_type": "code",
   "execution_count": 32,
   "id": "ab9d0c2b",
   "metadata": {
    "id": "ab9d0c2b",
    "trusted": false
   },
   "outputs": [
    {
     "name": "stdout",
     "output_type": "stream",
     "text": [
      "IDs de pedidos con valores ausentes en 'add_to_cart_order':\n",
      "   order_id\n",
      "0   2449164\n",
      "1   1968313\n",
      "2   2926893\n",
      "3   1717990\n",
      "4   1959075\n"
     ]
    }
   ],
   "source": [
    "# Guarda todas las IDs de pedidos que tengan un valor ausente en 'add_to_cart_order'\n",
    "\n",
    "# Filtrar las filas con valores ausentes en 'add_to_cart_order'\n",
    "rows_with_missing_add_to_cart_order = order_products[order_products['add_to_cart_order'].isnull()]\n",
    "\n",
    "# Obtener las IDs de pedidos que tienen un valor ausente en 'add_to_cart_order'\n",
    "order_ids_with_missing_add_to_cart_order = rows_with_missing_add_to_cart_order['order_id'].unique()\n",
    "\n",
    "# Convertir a DataFrame para guardar en CSV\n",
    "order_ids_with_missing_add_to_cart_order_df = pd.DataFrame(order_ids_with_missing_add_to_cart_order, columns=['order_id'])\n",
    "\n",
    "# Guardar las IDs de pedidos en un archivo CSV en el directorio de trabajo actual\n",
    "order_ids_with_missing_add_to_cart_order_df.to_csv('order_ids_with_missing_add_to_cart_order.csv', index=False, sep=';')\n",
    "\n",
    "# Mostrar algunos resultados\n",
    "print(\"IDs de pedidos con valores ausentes en 'add_to_cart_order':\")\n",
    "print(order_ids_with_missing_add_to_cart_order_df.head())"
   ]
  },
  {
   "cell_type": "code",
   "execution_count": 33,
   "id": "54c31695",
   "metadata": {
    "id": "54c31695",
    "trusted": false
   },
   "outputs": [
    {
     "name": "stdout",
     "output_type": "stream",
     "text": [
      "¿Todos los pedidos con valores ausentes tienen más de 64 productos? No\n",
      "Valor mínimo del conteo de productos en pedidos con datos ausentes: 1\n",
      "Número de pedidos con más de 64 productos y valores ausentes en 'add_to_cart_order': 70\n"
     ]
    }
   ],
   "source": [
    "# ¿Todos los pedidos con valores ausentes tienen más de 64 productos?\n",
    "# Filtrar las filas con valores ausentes en 'add_to_cart_order'\n",
    "rows_with_missing_add_to_cart_order = order_products[order_products['add_to_cart_order'].isnull()]\n",
    "\n",
    "# Agrupar todos los pedidos con datos ausentes por su ID de pedido\n",
    "grouped_orders_with_missing = rows_with_missing_add_to_cart_order.groupby('order_id').size()\n",
    "\n",
    "# Contar el número de 'product_id' en cada pedido y revisar el valor mínimo del conteo\n",
    "min_products_in_order_with_missing = grouped_orders_with_missing.min()\n",
    "\n",
    "# Filtrar los pedidos con más de 64 productos\n",
    "orders_with_more_than_64 = order_products.groupby('order_id').size()\n",
    "orders_with_more_than_64 = orders_with_more_than_64[orders_with_more_than_64 > 64]\n",
    "\n",
    "# Verificar si alguno de los pedidos con más de 64 productos tiene valores ausentes en 'add_to_cart_order'\n",
    "orders_with_more_than_64_with_missing = rows_with_missing_add_to_cart_order[rows_with_missing_add_to_cart_order['order_id'].isin(orders_with_more_than_64.index)]\n",
    "\n",
    "# Mostrar resultados\n",
    "print(f\"¿Todos los pedidos con valores ausentes tienen más de 64 productos? {'Sí' if min_products_in_order_with_missing > 64 else 'No'}\")\n",
    "print(f\"Valor mínimo del conteo de productos en pedidos con datos ausentes: {min_products_in_order_with_missing}\")\n",
    "print(f\"Número de pedidos con más de 64 productos y valores ausentes en 'add_to_cart_order': {orders_with_more_than_64_with_missing['order_id'].nunique()}\")"
   ]
  },
  {
   "cell_type": "markdown",
   "id": "p9V6pddtjglj",
   "metadata": {
    "id": "p9V6pddtjglj"
   },
   "source": [
    "Descripción de Hallazgos\n",
    "\n",
    "1. Agrupación de Pedidos con Valores Ausentes:\n",
    "\n",
    "Hallazgo: Se agruparon los pedidos con valores ausentes en la columna add_to_cart_order por su ID de pedido.\n",
    "\n",
    "Resultado: El valor mínimo del conteo de productos en estos pedidos es 1, indicando que hay pedidos con valores ausentes que tienen tan solo un producto.\n",
    "\n",
    "2. Pedidos con Más de 64 Productos:\n",
    "\n",
    "Hallazgo: Se identificaron pedidos con más de 64 productos para analizar la relación con los valores ausentes en add_to_cart_order.\n",
    "\n",
    "Resultado: Existen 70 pedidos que tienen más de 64 productos y también presentan valores ausentes en la columna add_to_cart_order.\n",
    "\n",
    "Conclusión:\n",
    "\n",
    "Pedidos con Valores Ausentes: No todos los pedidos con valores ausentes tienen más de 64 productos. El valor mínimo del conteo de productos en estos pedidos es 1, lo que demuestra que la presencia de valores ausentes no está limitada a pedidos grandes.\n",
    "\n",
    "Pedidos con Más de 64 Productos: Un análisis adicional revela que hay 70 pedidos con más de 64 productos que también tienen valores ausentes en add_to_cart_order. Esto indica que los valores ausentes pueden afectar tanto a pedidos pequeños como a pedidos grandes, sugiriendo que la calidad de los datos de add_to_cart_order puede ser inconsistente independientemente del tamaño del pedido."
   ]
  },
  {
   "cell_type": "code",
   "execution_count": 34,
   "id": "7a987d08",
   "metadata": {
    "id": "7a987d08",
    "trusted": false
   },
   "outputs": [
    {
     "name": "stdout",
     "output_type": "stream",
     "text": [
      "<class 'pandas.core.frame.DataFrame'>\n",
      "RangeIndex: 4545007 entries, 0 to 4545006\n",
      "Data columns (total 4 columns):\n",
      " #   Column             Dtype\n",
      "---  ------             -----\n",
      " 0   order_id           int64\n",
      " 1   product_id         int64\n",
      " 2   add_to_cart_order  int64\n",
      " 3   reordered          int64\n",
      "dtypes: int64(4)\n",
      "memory usage: 138.7 MB\n",
      "None\n",
      "   order_id  product_id  add_to_cart_order  reordered\n",
      "0   2141543       11440                 17          0\n",
      "1    567889        1560                  1          1\n",
      "2   2261212       26683                  1          1\n",
      "3    491251        8670                 35          1\n",
      "4   2571142        1940                  5          1\n"
     ]
    }
   ],
   "source": [
    "# Remplaza los valores ausentes en la columna 'add_to_cart? con 999 y convierte la columna al tipo entero.\n",
    "# Reemplazar los valores ausentes en la columna 'add_to_cart_order' con 999\n",
    "order_products['add_to_cart_order'].fillna(999, inplace=True)\n",
    "\n",
    "# Convertir la columna 'add_to_cart_order' al tipo entero\n",
    "order_products['add_to_cart_order'] = order_products['add_to_cart_order'].astype(int)\n",
    "\n",
    "# Verificar los cambios\n",
    "print(order_products.info())\n",
    "print(order_products.head())"
   ]
  },
  {
   "cell_type": "markdown",
   "id": "fea4bcc7",
   "metadata": {
    "id": "fea4bcc7"
   },
   "source": [
    "Describe brevemente tus hallazgos y lo que hiciste con ellos.\n",
    "\n",
    "1. Reemplazo de Valores Ausentes:\n",
    "Hallazgo: Se reemplazaron los valores ausentes en la columna add_to_cart_order con 999.\n",
    "Método: Se utilizó el método fillna() para reemplazar los valores ausentes.\n",
    "\n",
    "2. Conversión de Tipo de Datos:\n",
    "Hallazgo: Se convirtió la columna add_to_cart_order al tipo entero (int64).\n",
    "Método: Se utilizó el método astype(int) para convertir el tipo de datos de la columna.\n",
    "\n",
    "3. Verificación de Cambios:\n",
    "Resultado: La información del DataFrame muestra que la columna add_to_cart_order es ahora de tipo int64, lo que confirma que la conversión de tipo de datos se realizó correctamente.\n",
    "Ejemplos: Las primeras filas del DataFrame muestran los valores en la columna add_to_cart_order, pero no incluyen valores 999, ya que estos solo aparecen en filas que originalmente tenían valores ausentes.\n",
    "\n",
    "Conclusión\n",
    "El análisis y transformación del DataFrame order_products reveló que:\n",
    "1. Reemplazo y Conversión: Los valores ausentes en la columna add_to_cart_order fueron reemplazados con 999 y la columna se convirtió al tipo entero (int64). Esto asegura que todos los valores en la columna son ahora numéricos y manejables para futuros análisis.\n",
    "2. Confirmación Visual: La información del DataFrame (order_products.info()) y la visualización de las primeras filas (order_products.head()) confirman que la columna add_to_cart_order es de tipo int64 y que no hay valores nulos presentes."
   ]
  },
  {
   "cell_type": "markdown",
   "id": "RnplPFY1gSrb",
   "metadata": {
    "id": "RnplPFY1gSrb"
   },
   "source": [
    "## Conclusiones\n",
    "\n",
    "Escribe aquí tus conclusiones intermedias sobre el Paso 2. Preprocesamiento de los datos\n",
    "\n",
    "El preprocesamiento de los datos ha revelado problemas específicos de duplicados y valores ausentes en los diferentes DataFrames. Las acciones correctivas, como la eliminación de duplicados y la imputación de valores ausentes, han mejorado la consistencia y la integridad de los datos, preparando así los conjuntos de datos para análisis adicionales. Las observaciones sobre problemas sistemáticos de captura de datos proporcionan información valiosa para mejorar los procesos de entrada de datos en el futuro."
   ]
  },
  {
   "cell_type": "markdown",
   "id": "UjrOIwTcz3ri",
   "metadata": {
    "id": "UjrOIwTcz3ri"
   },
   "source": [
    "# Paso 3. Análisis de los datos\n",
    "\n",
    "Una vez los datos estén procesados y listos, haz el siguiente análisis:"
   ]
  },
  {
   "cell_type": "markdown",
   "id": "turkish-kidney",
   "metadata": {
    "id": "turkish-kidney"
   },
   "source": [
    "# [A] Fácil (deben completarse todos para aprobar)\n",
    "\n",
    "1. Verifica que los valores en las columnas `'order_hour_of_day'` y `'order_dow'` en la tabla orders sean razonables (es decir, `'order_hour_of_day'` oscile entre 0 y 23 y `'order_dow'` oscile entre 0 y 6).\n",
    "2. Crea un gráfico que muestre el número de personas que hacen pedidos dependiendo de la hora del día.\n",
    "3. Crea un gráfico que muestre qué día de la semana la gente hace sus compras.\n",
    "4. Crea un gráfico que muestre el tiempo que la gente espera hasta hacer su siguiente pedido, y comenta sobre los valores mínimos y máximos."
   ]
  },
  {
   "cell_type": "markdown",
   "id": "short-capability",
   "metadata": {
    "id": "short-capability"
   },
   "source": [
    "### [A1] Verifica que los valores sean sensibles"
   ]
  },
  {
   "cell_type": "code",
   "execution_count": 35,
   "id": "growing-fruit",
   "metadata": {
    "id": "growing-fruit",
    "trusted": false
   },
   "outputs": [],
   "source": [
    "# Verificar que los valores en 'order_hour_of_day' oscilen entre 0 y 23\n",
    "order_hour_of_day_reasonable = orders['order_hour_of_day'].between(0, 23).all()"
   ]
  },
  {
   "cell_type": "code",
   "execution_count": 36,
   "id": "accessory-malaysia",
   "metadata": {
    "id": "accessory-malaysia",
    "trusted": false
   },
   "outputs": [
    {
     "name": "stdout",
     "output_type": "stream",
     "text": [
      "¿Todos los valores en 'order_hour_of_day' son razonables? Sí\n",
      "¿Todos los valores en 'order_dow' son razonables? Sí\n",
      "No se encontraron valores no razonables en 'order_hour_of_day'.\n",
      "No se encontraron valores no razonables en 'order_dow'.\n"
     ]
    }
   ],
   "source": [
    "# Verificar que los valores en 'order_dow' oscilen entre 0 y 6\n",
    "order_dow_reasonable = orders['order_dow'].between(0, 6).all()\n",
    "\n",
    "# Mostrar los resultados\n",
    "print(f\"¿Todos los valores en 'order_hour_of_day' son razonables? {'Sí' if order_hour_of_day_reasonable else 'No'}\")\n",
    "print(f\"¿Todos los valores en 'order_dow' son razonables? {'Sí' if order_dow_reasonable else 'No'}\")\n",
    "\n",
    "# Encontrar valores no razonables en 'order_hour_of_day'\n",
    "unreasonable_order_hour_of_day = orders[~orders['order_hour_of_day'].between(0, 23)]\n",
    "\n",
    "# Encontrar valores no razonables en 'order_dow'\n",
    "unreasonable_order_dow = orders[~orders['order_dow'].between(0, 6)]\n",
    "\n",
    "# Mostrar valores no razonables si existen\n",
    "if not unreasonable_order_hour_of_day.empty:\n",
    "    print(\"Valores no razonables en 'order_hour_of_day':\")\n",
    "    print(unreasonable_order_hour_of_day)\n",
    "else:\n",
    "    print(\"No se encontraron valores no razonables en 'order_hour_of_day'.\")\n",
    "\n",
    "if not unreasonable_order_dow.empty:\n",
    "    print(\"Valores no razonables en 'order_dow':\")\n",
    "    print(unreasonable_order_dow)\n",
    "else:\n",
    "    print(\"No se encontraron valores no razonables en 'order_dow'.\")"
   ]
  },
  {
   "cell_type": "markdown",
   "id": "hmR2GNQ6lCsX",
   "metadata": {
    "id": "hmR2GNQ6lCsX"
   },
   "source": [
    "Escribe aquí tus conclusiones\n",
    "\n",
    "\n",
    "El análisis de las columnas order_hour_of_day y order_dow en la tabla orders reveló que todos los valores son razonables y están dentro de los rangos esperados. Específicamente, order_hour_of_day tiene valores entre 0 y 23, y order_dow tiene valores entre 0 y 6. No se encontraron valores fuera de estos rangos en ambas columnas.\n",
    "\n",
    "De manera puntual podemos decir que:\n",
    "\n",
    "1. No se encontraron valores no razonables en la columna order_dow, lo que indica que los datos del día de la semana del pedido están dentro del rango esperado de 7 días de la semana.\n",
    "2. No se encontraron valores no razonables en la columna order_hour_of_day, lo que indica que los datos de la hora del pedido están dentro del rango esperado de 24 horas del día."
   ]
  },
  {
   "cell_type": "markdown",
   "id": "a6743a70",
   "metadata": {
    "id": "a6743a70"
   },
   "source": [
    "### [A2] Para cada hora del día, ¿cuántas personas hacen órdenes?"
   ]
  },
  {
   "cell_type": "code",
   "execution_count": 37,
   "id": "a36cca27",
   "metadata": {
    "id": "a36cca27",
    "trusted": false
   },
   "outputs": [
    {
     "data": {
      "image/png": "[encoded data removed]",
      "text/plain": [
       "<Figure size 1200x600 with 1 Axes>"
      ]
     },
     "metadata": {},
     "output_type": "display_data"
    }
   ],
   "source": [
    "\n",
    "# Leer el conjunto de datos en el DataFrame\n",
    "orders = pd.read_csv('/datasets/instacart_orders.csv', delimiter=';')\n",
    "\n",
    "# Contar el número de pedidos por cada hora del día\n",
    "orders_per_hour = orders['order_hour_of_day'].value_counts().sort_index()\n",
    "\n",
    "# Crear el gráfico\n",
    "plt.figure(figsize=(12, 6))\n",
    "orders_per_hour.plot(kind='bar', color='skyblue')\n",
    "plt.title('Número de Personas que Hacen Pedidos Dependiendo de la Hora del Día')\n",
    "plt.xlabel('Hora del Día')\n",
    "plt.ylabel('Número de Pedidos')\n",
    "plt.xticks(rotation=0)\n",
    "plt.grid(axis='y', linestyle='--', alpha=0.7)\n",
    "plt.show()"
   ]
  },
  {
   "cell_type": "markdown",
   "id": "11270eed",
   "metadata": {
    "id": "11270eed"
   },
   "source": [
    "Escribe aquí tus conclusiones\n",
    "\n",
    "Conclusiones sobre el Gráfico del Número de Pedidos Dependiendo de la Hora del Día\n",
    "\n",
    "Patrones de Pedidos a lo Largo del Día:\n",
    "\n",
    "Madrugada (0:00 - 5:00):\n",
    "Observación: El número de pedidos es muy bajo durante estas horas, lo cual es esperado ya que la mayoría de las personas duermen durante la madrugada.\n",
    "\n",
    "Mañana (6:00 - 11:00):\n",
    "Observación: A partir de las 6:00 de la mañana, se observa un aumento significativo en el número de pedidos. Este aumento continúa de manera pronunciada hasta las 11:00 de la mañana.\n",
    "Conclusión: Las personas tienden a realizar pedidos en la mañana, posiblemente antes de comenzar sus actividades diarias.\n",
    "\n",
    "Mediodía y Tarde (12:00 - 17:00):\n",
    "Observación: El número de pedidos alcanza su punto máximo entre las 10:00 y las 15:00, manteniéndose alto durante estas horas.\n",
    "Conclusión: La mayor cantidad de pedidos se realiza durante el mediodía y la tarde. Esto puede estar relacionado con el tiempo disponible durante las horas de almuerzo y la finalización de la jornada laboral.\n",
    "\n",
    "Noche (18:00 - 23:00):\n",
    "Observación: Después de las 15:00, el número de pedidos comienza a disminuir gradualmente, con una caída más pronunciada después de las 20:00.\n",
    "Conclusión: La tendencia a realizar pedidos disminuye en la noche, lo cual es coherente con la finalización de las actividades diarias y el tiempo de descanso.\n",
    "\n",
    "Resumen:\n",
    "\n",
    "El gráfico muestra claramente que la actividad de pedidos es más alta durante la mañana y la tarde, alcanzando su punto máximo alrededor de las 10:00 a las 15:00. Hay una disminución notable en el número de pedidos durante la noche y la madrugada. Estos patrones son consistentes con los hábitos diarios de la mayoría de las personas, quienes tienden a realizar sus pedidos durante las horas en que están más activos y disponibles."
   ]
  },
  {
   "cell_type": "markdown",
   "id": "documented-command",
   "metadata": {
    "id": "documented-command"
   },
   "source": [
    "### [A3] ¿Qué día de la semana compran víveres las personas?"
   ]
  },
  {
   "cell_type": "code",
   "execution_count": 38,
   "id": "chief-digit",
   "metadata": {
    "id": "chief-digit",
    "trusted": false
   },
   "outputs": [
    {
     "data": {
      "image/png": "[encoded data removed]",
      "text/plain": [
       "<Figure size 1200x600 with 1 Axes>"
      ]
     },
     "metadata": {},
     "output_type": "display_data"
    }
   ],
   "source": [
    "# Contar el número de pedidos por cada día de la semana\n",
    "orders_per_day = orders['order_dow'].value_counts().sort_index()\n",
    "\n",
    "# Crear el gráfico\n",
    "plt.figure(figsize=(12, 6))\n",
    "orders_per_day.plot(kind='bar', color='skyblue')\n",
    "plt.title('Número de Personas que Hacen Pedidos Dependiendo del Día de la Semana')\n",
    "plt.xlabel('Día de la Semana')\n",
    "plt.ylabel('Número de Pedidos')\n",
    "plt.xticks(ticks=range(7), labels=['Domingo', 'Lunes', 'Martes', 'Miércoles', 'Jueves', 'Viernes', 'Sábado'], rotation=0)\n",
    "plt.grid(axis='y', linestyle='--', alpha=0.7)\n",
    "plt.show()"
   ]
  },
  {
   "cell_type": "markdown",
   "id": "dominant-lightning",
   "metadata": {
    "id": "dominant-lightning"
   },
   "source": [
    "Escribe aquí tus conclusiones\n",
    "\n",
    "Conclusiones sobre el Gráfico del Número de Pedidos Dependiendo del Día de la Semana\n",
    "\n",
    "Patrones de Pedidos a lo Largo de la Semana:\n",
    "\n",
    "Domingo:\n",
    "Observación: El número de pedidos es más alto los domingos, alcanzando más de 80,000 pedidos.\n",
    "Conclusión: Muchas personas aprovechan el tiempo libre durante el fin de semana para realizar sus compras, lo que explica el pico en los pedidos.\n",
    "\n",
    "Lunes:\n",
    "Observación: Los lunes también tienen un número alto de pedidos, similar al domingo.\n",
    "Conclusión: El inicio de la semana laboral puede motivar a las personas a realizar compras para abastecerse para la semana.\n",
    "\n",
    "Martes:\n",
    "Observación: Hay una disminución notable en el número de pedidos los martes.\n",
    "Conclusión: Es posible que después de realizar compras el domingo y el lunes, haya menos necesidad de realizar pedidos el martes.\n",
    "\n",
    "Miércoles a Viernes:\n",
    "Observación: El número de pedidos se mantiene relativamente constante de miércoles a viernes, aunque ligeramente menor que los picos del domingo y lunes.\n",
    "Conclusión: La actividad de compras se estabiliza a lo largo de la semana laboral.\n",
    "\n",
    "Sábado:\n",
    "Observación: El número de pedidos aumenta nuevamente el sábado, aunque no alcanza los niveles del domingo.\n",
    "Conclusión: Similar al domingo, el sábado también es un día popular para las compras debido al tiempo libre de las personas.\n",
    "\n",
    "Resumen:\n",
    "\n",
    "El gráfico muestra que los días más populares para realizar pedidos son el domingo y el lunes, seguidos por el sábado. Los días menos populares son el martes, con un número notablemente menor de pedidos. De miércoles a viernes, la actividad de pedidos se mantiene relativamente constante. Estos patrones reflejan cómo las personas distribuyen sus actividades de compra a lo largo de la semana, con picos durante los días de fin de semana y el inicio de la semana laboral."
   ]
  },
  {
   "cell_type": "markdown",
   "id": "cutting-concert",
   "metadata": {
    "id": "cutting-concert"
   },
   "source": [
    "### [A4] ¿Cuánto tiempo esperan las personas hasta hacer otro pedido? Comenta sobre los valores mínimos y máximos."
   ]
  },
  {
   "cell_type": "code",
   "execution_count": 39,
   "id": "c231f523",
   "metadata": {
    "id": "c231f523",
    "trusted": false
   },
   "outputs": [
    {
     "data": {
      "image/png": "[encoded data removed]",
      "text/plain": [
       "<Figure size 1200x600 with 1 Axes>"
      ]
     },
     "metadata": {},
     "output_type": "display_data"
    },
    {
     "name": "stdout",
     "output_type": "stream",
     "text": [
      "Valor mínimo de 'days_since_prior_order': 0.0 días\n",
      "Valor máximo de 'days_since_prior_order': 30.0 días\n"
     ]
    }
   ],
   "source": [
    "# Eliminar valores nulos en la columna 'days_since_prior_order' para el análisis\n",
    "days_since_prior_order = orders['days_since_prior_order'].dropna()\n",
    "\n",
    "# Encontrar valores mínimos y máximos\n",
    "min_days_since_prior_order = days_since_prior_order.min()\n",
    "max_days_since_prior_order = days_since_prior_order.max()\n",
    "\n",
    "# Crear el gráfico\n",
    "plt.figure(figsize=(12, 6))\n",
    "days_since_prior_order.hist(bins=30, color='skyblue', edgecolor='black')\n",
    "plt.title('Tiempo de Espera hasta el Siguiente Pedido')\n",
    "plt.xlabel('Días desde el Pedido Anterior')\n",
    "plt.ylabel('Número de Pedidos')\n",
    "plt.grid(axis='y', linestyle='--', alpha=0.7)\n",
    "plt.show()\n",
    "\n",
    "# Mostrar valores mínimos y máximos\n",
    "print(f\"Valor mínimo de 'days_since_prior_order': {min_days_since_prior_order} días\")\n",
    "print(f\"Valor máximo de 'days_since_prior_order': {max_days_since_prior_order} días\")"
   ]
  },
  {
   "cell_type": "markdown",
   "id": "discrete-vertex",
   "metadata": {
    "id": "discrete-vertex"
   },
   "source": [
    "Escribe aquí tus conclusiones\n",
    "\n",
    "Conclusiones sobre el Gráfico del Tiempo de Espera hasta el Siguiente Pedido\n",
    "\n",
    "Valores Mínimos y Máximos:\n",
    "\n",
    "Valor Mínimo: El valor mínimo de days_since_prior_order es 0 días.\n",
    "\n",
    "Valor Máximo: El valor máximo de days_since_prior_order es 30 días.\n",
    "\n",
    "Patrones de Frecuencia de Pedidos:\n",
    "\n",
    "Pico en el Día 0:\n",
    "Observación: Hay un pequeño número de pedidos que se realizan el mismo día (0 días desde el pedido anterior).\n",
    "Conclusión: Esto puede indicar que algunos usuarios realizan múltiples pedidos en un solo día.\n",
    "\n",
    "Incremento Gradual y Pico en el Día 7:\n",
    "Observación: La frecuencia de pedidos aumenta gradualmente y alcanza un pico significativo alrededor del día 7.\n",
    "Conclusión: Muchos usuarios tienden a realizar pedidos semanalmente.\n",
    "\n",
    "Distribución entre el Día 8 y el Día 14:\n",
    "Observación: La frecuencia de pedidos es relativamente alta entre el día 8 y el día 14.\n",
    "Conclusión: Una buena parte de los usuarios realiza pedidos cada dos semanas.\n",
    "\n",
    "Reducción Gradual y Pico en el Día 30:\n",
    "Observación: Después del día 14, la frecuencia de pedidos disminuye gradualmente, pero hay un pico notable en el día 30.\n",
    "Conclusión: Algunos usuarios prefieren realizar sus pedidos mensualmente, lo que explica el pico en el día 30.\n",
    "\n",
    "Resumen:\n",
    "\n",
    "El gráfico muestra que el comportamiento de los usuarios al realizar pedidos varía, con picos en los días 0, 7 y 30. La mayoría de los pedidos se realizan semanalmente, seguidos por una tendencia significativa de pedidos cada dos semanas y mensualmente. Estos patrones sugieren que los usuarios tienen diferentes hábitos de compra, con algunos prefiriendo una frecuencia semanal y otros una frecuencia mensual."
   ]
  },
  {
   "cell_type": "markdown",
   "id": "tight-staff",
   "metadata": {
    "id": "tight-staff"
   },
   "source": [
    "# [B] Intermedio (deben completarse todos para aprobar)\n",
    "\n",
    "1. ¿Existe alguna diferencia entre las distribuciones `'order_hour_of_day'` de los miércoles y los sábados? Traza gráficos de barra de `'order_hour_of_day'` para ambos días en la misma figura y describe las diferencias que observes.\n",
    "2. Grafica la distribución para el número de órdenes que hacen los clientes (es decir, cuántos clientes hicieron solo 1 pedido, cuántos hicieron 2, cuántos 3, y así sucesivamente...).\n",
    "3. ¿Cuáles son los 20 principales productos que se piden con más frecuencia (muestra su identificación y nombre)?"
   ]
  },
  {
   "cell_type": "markdown",
   "id": "packed-classic",
   "metadata": {
    "id": "packed-classic"
   },
   "source": [
    "### [B1] Diferencia entre miércoles y sábados para  `'order_hour_of_day'`. Traza gráficos de barra para los dos días y describe las diferencias que veas."
   ]
  },
  {
   "cell_type": "code",
   "execution_count": 40,
   "id": "d89b8403",
   "metadata": {
    "id": "d89b8403",
    "trusted": false
   },
   "outputs": [],
   "source": [
    "# Importar librerías\n",
    "import pandas as pd\n",
    "import matplotlib.pyplot as plt\n",
    "\n",
    "# Leer el conjunto de datos en el DataFrame\n",
    "orders = pd.read_csv('/datasets/instacart_orders.csv', delimiter=';')"
   ]
  },
  {
   "cell_type": "code",
   "execution_count": 41,
   "id": "94e54e8a",
   "metadata": {
    "id": "94e54e8a",
    "trusted": false
   },
   "outputs": [],
   "source": [
    "# Filtrar los pedidos para los miércoles (día 3) y los sábados (día 6)\n",
    "wednesday_orders = orders[orders['order_dow'] == 3]\n",
    "saturday_orders = orders[orders['order_dow'] == 6]"
   ]
  },
  {
   "cell_type": "code",
   "execution_count": 42,
   "id": "797c90a8",
   "metadata": {
    "id": "797c90a8",
    "trusted": false
   },
   "outputs": [],
   "source": [
    "# Contar el número de pedidos por hora del día para miércoles y sábados\n",
    "wednesday_orders_per_hour = wednesday_orders['order_hour_of_day'].value_counts().sort_index()\n",
    "saturday_orders_per_hour = saturday_orders['order_hour_of_day'].value_counts().sort_index()\n"
   ]
  },
  {
   "cell_type": "code",
   "execution_count": 43,
   "id": "35bcea30",
   "metadata": {
    "id": "35bcea30",
    "trusted": false
   },
   "outputs": [
    {
     "data": {
      "image/png": "[encoded data removed]",
      "text/plain": [
       "<Figure size 1200x600 with 1 Axes>"
      ]
     },
     "metadata": {},
     "output_type": "display_data"
    },
    {
     "name": "stdout",
     "output_type": "stream",
     "text": [
      "Total de pedidos el miércoles: 60912\n",
      "Total de pedidos el sábado: 62649\n"
     ]
    }
   ],
   "source": [
    "# Crear el gráfico\n",
    "plt.figure(figsize=(12, 6))\n",
    "\n",
    "# Graficar los pedidos por hora del día para los miércoles\n",
    "plt.bar(wednesday_orders_per_hour.index - 0.2, wednesday_orders_per_hour, width=0.4, label='Miércoles', color='skyblue')\n",
    "\n",
    "# Graficar los pedidos por hora del día para los sábados\n",
    "plt.bar(saturday_orders_per_hour.index + 0.2, saturday_orders_per_hour, width=0.4, label='Sábado', color='lightgreen')\n",
    "\n",
    "# Personalizar el gráfico\n",
    "plt.title('Número de Pedidos por Hora del Día (Miércoles vs. Sábado)')\n",
    "plt.xlabel('Hora del Día')\n",
    "plt.ylabel('Número de Pedidos')\n",
    "plt.xticks(range(24))\n",
    "plt.legend()\n",
    "plt.grid(axis='y', linestyle='--', alpha=0.7)\n",
    "plt.show()\n",
    "\n",
    "# Mostrar valores mínimos y máximos\n",
    "print(f\"Total de pedidos el miércoles: {wednesday_orders_per_hour.sum()}\")\n",
    "print(f\"Total de pedidos el sábado: {saturday_orders_per_hour.sum()}\")\n"
   ]
  },
  {
   "cell_type": "markdown",
   "id": "charitable-congo",
   "metadata": {
    "id": "charitable-congo"
   },
   "source": [
    "Escribe aquí tus conclusiones \n",
    "\n",
    "Conclusiones sobre el Gráfico del Número de Pedidos por Hora del Día (Miércoles vs. Sábado)\n",
    "\n",
    "Patrones Generales:\n",
    "\n",
    "Miércoles:\n",
    "Observación: El número de pedidos comienza a aumentar a partir de las 6:00 a.m., alcanzando su pico alrededor de las 10:00 a.m. a 11:00 a.m., y luego se mantiene relativamente alto hasta las 4:00 p.m. Después de esto, los pedidos disminuyen gradualmente hasta las 11:00 p.m.\n",
    "\n",
    "Sábado:\n",
    "Observación: Los sábados muestran un patrón similar, con un aumento en los pedidos a partir de las 7:00 a.m., alcanzando picos en las mismas horas (10:00 a.m. a 1:00 p.m.), y luego disminuyendo gradualmente hasta las 11:00 p.m.\n",
    "\n",
    "Comparación de Picos de Actividad:\n",
    "\n",
    "Miércoles:\n",
    "Observación: Los picos de actividad son ligeramente más altos en la mañana en comparación con los sábados, especialmente alrededor de las 9:00 a.m. a 10:00 a.m.\n",
    "Conclusión: Esto sugiere que las personas tienden a realizar pedidos más temprano en el día durante los días laborales.\n",
    "\n",
    "Sábado:\n",
    "Observación: Aunque el patrón general es similar al de los miércoles, los picos son ligeramente más distribuidos, con un pico notable más alto a las 10:00 a.m.\n",
    "\n",
    "Conclusión: Esto indica que, aunque la gente hace pedidos temprano en el día durante el fin de semana, la actividad de pedidos se mantiene alta un poco más tarde en el día comparado con los miércoles.\n",
    "\n",
    "Volumen Total de Pedidos:\n",
    "\n",
    "Miércoles:\n",
    "Observación: El volumen total de pedidos parece ser un poco menor comparado con los sábados.\n",
    "Conclusión: Los días laborales tienden a tener un volumen menor de pedidos, posiblemente debido a la ocupación de las personas con sus trabajos y otras actividades.\n",
    "\n",
    "Sábado:\n",
    "Observación: Hay un volumen total de pedidos mayor, lo que sugiere que más personas aprovechan el tiempo libre durante el fin de semana para realizar sus compras.\n",
    "Conclusión: El fin de semana es un período más popular para realizar compras, lo que puede reflejarse en el volumen total de pedidos.\n",
    "\n",
    "Resumen: \n",
    "\n",
    "El gráfico muestra que tanto los miércoles como los sábados tienen patrones similares en términos de distribución de pedidos por hora del día, con picos significativos durante la mañana y disminuciones graduales hacia la noche. Sin embargo, los sábados tienen un volumen total de pedidos ligeramente mayor y los picos de actividad están más distribuidos a lo largo del día. Estas diferencias reflejan las distintas rutinas y hábitos de las personas entre los días laborales y el fin de semana."
   ]
  },
  {
   "cell_type": "markdown",
   "id": "e3891143",
   "metadata": {
    "id": "e3891143"
   },
   "source": [
    "### [B2] ¿Cuál es la distribución para el número de pedidos por cliente?"
   ]
  },
  {
   "cell_type": "code",
   "execution_count": 44,
   "id": "d8c26c23",
   "metadata": {
    "id": "d8c26c23",
    "trusted": false
   },
   "outputs": [
    {
     "name": "stdout",
     "output_type": "stream",
     "text": [
      "1    55355\n",
      "2    36508\n",
      "3    21548\n",
      "4    13498\n",
      "5     8778\n",
      "Name: user_id, dtype: int64\n"
     ]
    }
   ],
   "source": [
    "# Importar librerías\n",
    "import pandas as pd\n",
    "import matplotlib.pyplot as plt\n",
    "\n",
    "# Leer el conjunto de datos en el DataFrame\n",
    "orders = pd.read_csv('/datasets/instacart_orders.csv', delimiter=';')\n",
    "\n",
    "# Calcular el número de pedidos por cliente\n",
    "orders_per_customer = orders['user_id'].value_counts()\n",
    "\n",
    "# Agrupar los clientes por la cantidad de pedidos realizados\n",
    "orders_distribution = orders_per_customer.value_counts().sort_index()\n",
    "\n",
    "# Mostrar una muestra de los datos calculados\n",
    "print(orders_distribution.head())\n"
   ]
  },
  {
   "cell_type": "code",
   "execution_count": 45,
   "id": "00e69a66",
   "metadata": {
    "id": "00e69a66",
    "trusted": false
   },
   "outputs": [
    {
     "data": {
      "image/png": "[encoded data removed]",
      "text/plain": [
       "<Figure size 1200x600 with 1 Axes>"
      ]
     },
     "metadata": {},
     "output_type": "display_data"
    }
   ],
   "source": [
    "# Crear el gráfico\n",
    "plt.figure(figsize=(12, 6))\n",
    "orders_distribution.plot(kind='bar', color='skyblue', edgecolor='black')\n",
    "plt.title('Distribución del Número de Pedidos por Cliente')\n",
    "plt.xlabel('Número de Pedidos')\n",
    "plt.ylabel('Número de Clientes')\n",
    "plt.xticks(rotation=0)\n",
    "plt.grid(axis='y', linestyle='--', alpha=0.7)\n",
    "plt.show()\n"
   ]
  },
  {
   "cell_type": "markdown",
   "id": "d2eff7d5",
   "metadata": {
    "id": "d2eff7d5"
   },
   "source": [
    "Escribe aquí tus conclusiones\n",
    "\n",
    "Conclusión sobre la Distribución del Número de Pedidos por Cliente\n",
    "\n",
    "1. Patrones Generales:\n",
    "\n",
    "Clientes con 1 Pedido:\n",
    "Observación: La mayoría de los clientes han realizado solo 1 pedido, con más de 50,000 clientes en esta categoría.\n",
    "Conclusión: Hay una gran proporción de clientes que utilizan el servicio solo una vez.\n",
    "\n",
    "Clientes con 2-5 Pedidos:\n",
    "Observación: El número de clientes disminuye rápidamente a medida que aumenta el número de pedidos. Hay aproximadamente 30,000 \n",
    "clientes que realizaron 2 pedidos, y el número sigue disminuyendo a medida que aumenta el número de pedidos.\n",
    "Conclusión: Aunque hay una disminución, aún hay un número significativo de clientes que realizan entre 2 y 5 pedidos.\n",
    "\n",
    "Clientes con 6 o Más Pedidos:\n",
    "Observación: El número de clientes que realizaron 6 o más pedidos disminuye drásticamente. Pocos clientes han realizado más de 10 pedidos.\n",
    "Conclusión: Un pequeño grupo de clientes es muy leal y realiza un número alto de pedidos, pero representan una minoría en \n",
    "comparación con aquellos que realizan pocos pedidos.\n",
    "\n",
    "2. Distribución de Pedidos:\n",
    "\n",
    "Observación: La distribución tiene una forma exponencial decreciente, con la mayoría de los clientes concentrados en el extremo inferior del número de pedidos.\n",
    "Conclusión: La plataforma tiene una gran base de clientes que prueba el servicio con pocos pedidos, pero retener a estos clientes para que realicen más pedidos parece ser un desafío.\n",
    "\n",
    "3. Estrategias de Retención:\n",
    "\n",
    "Observación: Dado que la mayoría de los clientes realizan solo 1 pedido, hay una oportunidad significativa para implementar estrategias de retención que incentiven a estos clientes a realizar más pedidos.\n",
    "Conclusión: Estrategias como promociones, programas de lealtad y mejor atención al cliente pueden ser efectivas para aumentar la frecuencia de pedidos y retener a más clientes."
   ]
  },
  {
   "cell_type": "markdown",
   "id": "54a0319c",
   "metadata": {
    "id": "54a0319c"
   },
   "source": [
    "### [B3] ¿Cuáles son los 20 productos más populares (muestra su ID y nombre)?"
   ]
  },
  {
   "cell_type": "code",
   "execution_count": 46,
   "id": "exterior-arizona",
   "metadata": {
    "id": "exterior-arizona",
    "scrolled": true,
    "trusted": false
   },
   "outputs": [
    {
     "name": "stdout",
     "output_type": "stream",
     "text": [
      "24852    66050\n",
      "13176    53297\n",
      "21137    37039\n",
      "21903    33971\n",
      "47209    29773\n",
      "Name: product_id, dtype: int64\n"
     ]
    }
   ],
   "source": [
    "# Importar librerías\n",
    "import pandas as pd\n",
    "\n",
    "# Leer el conjunto de datos en los DataFrames\n",
    "order_products = pd.read_csv('/datasets/order_products.csv', delimiter=';')\n",
    "products = pd.read_csv('/datasets/products.csv', delimiter=';')\n",
    "\n",
    "# Contar las frecuencias de cada producto en los pedidos\n",
    "product_frequencies = order_products['product_id'].value_counts()\n",
    "\n",
    "# Mostrar una muestra de los datos calculados\n",
    "print(product_frequencies.head())\n"
   ]
  },
  {
   "cell_type": "code",
   "execution_count": 47,
   "id": "universal-facial",
   "metadata": {
    "id": "universal-facial",
    "trusted": false
   },
   "outputs": [
    {
     "name": "stdout",
     "output_type": "stream",
     "text": [
      "24852    66050\n",
      "13176    53297\n",
      "21137    37039\n",
      "21903    33971\n",
      "47209    29773\n",
      "47766    24689\n",
      "47626    21495\n",
      "16797    20018\n",
      "26209    19690\n",
      "27845    19600\n",
      "27966    19197\n",
      "22935    15898\n",
      "24964    15292\n",
      "45007    14584\n",
      "39275    13879\n",
      "49683    13675\n",
      "28204    12544\n",
      "5876     12232\n",
      "8277     11993\n",
      "40706    11781\n",
      "Name: product_id, dtype: int64\n"
     ]
    }
   ],
   "source": [
    "# Seleccionar los 20 principales productos por frecuencia\n",
    "top_20_products = product_frequencies.head(20)\n",
    "\n",
    "# Mostrar los 20 principales productos (ID y frecuencia)\n",
    "print(top_20_products)\n"
   ]
  },
  {
   "cell_type": "code",
   "execution_count": 48,
   "id": "bbcdd20b",
   "metadata": {
    "id": "bbcdd20b",
    "trusted": false
   },
   "outputs": [
    {
     "name": "stdout",
     "output_type": "stream",
     "text": [
      "    product_id              product_name  frequency\n",
      "0        24852                    Banana      66050\n",
      "1        13176    Bag of Organic Bananas      53297\n",
      "2        21137      Organic Strawberries      37039\n",
      "3        21903      Organic Baby Spinach      33971\n",
      "4        47209      Organic Hass Avocado      29773\n",
      "5        47766           Organic Avocado      24689\n",
      "6        47626               Large Lemon      21495\n",
      "7        16797              Strawberries      20018\n",
      "8        26209                     Limes      19690\n",
      "9        27845        Organic Whole Milk      19600\n",
      "10       27966       Organic Raspberries      19197\n",
      "11       22935      Organic Yellow Onion      15898\n",
      "12       24964            Organic Garlic      15292\n",
      "13       45007          Organic Zucchini      14584\n",
      "14       39275       Organic Blueberries      13879\n",
      "15       49683            Cucumber Kirby      13675\n",
      "16       28204        Organic Fuji Apple      12544\n",
      "17        5876             Organic Lemon      12232\n",
      "18        8277  Apple Honeycrisp Organic      11993\n",
      "19       40706    Organic Grape Tomatoes      11781\n"
     ]
    }
   ],
   "source": [
    "# Unir los datos con el DataFrame de productos para obtener los nombres\n",
    "top_20_products_df = top_20_products.reset_index().merge(products[['product_id', 'product_name']], left_on='index', right_on='product_id')\n",
    "\n",
    "# Seleccionar y mostrar solo las columnas relevantes (ID y nombre del producto)\n",
    "top_20_products_df = top_20_products_df[['index', 'product_name', 'product_id_x']]\n",
    "top_20_products_df.columns = ['product_id', 'product_name', 'frequency']\n",
    "\n",
    "# Mostrar el resultado final\n",
    "print(top_20_products_df)\n"
   ]
  },
  {
   "cell_type": "markdown",
   "id": "7df00f47",
   "metadata": {
    "id": "7df00f47"
   },
   "source": [
    "Escribe aquí tus conclusiones\n",
    "\n",
    "\n",
    "Conclusión sobre los 20 Principales Productos que se Piden con Más Frecuencia\n",
    "\n",
    "Productos Orgánicos Dominantes:\n",
    "\n",
    "Observación: La mayoría de los productos en la lista son orgánicos, como los plátanos orgánicos, fresas orgánicas, espinacas para bebé orgánicas y aguacates orgánicos.\n",
    "Conclusión: Existe una fuerte preferencia por los productos orgánicos entre los clientes, lo que sugiere una tendencia hacia elecciones más saludables y sostenibles.\n",
    "\n",
    "Productos Frescos y Frutas Populares:\n",
    "\n",
    "Observación: Frutas y verduras frescas como bananas, fresas, limones, y limas están entre los productos más pedidos.\n",
    "Conclusión: Los clientes parecen priorizar la compra de productos frescos, lo que puede indicar la importancia de una dieta saludable y la preferencia por ingredientes frescos en sus compras.\n",
    "\n",
    "Frecuencia de Pedidos:\n",
    "\n",
    "Observación: El producto más frecuentemente pedido es la banana, con 66,050 pedidos, seguido por la bolsa de plátanos orgánicos con 53,297 pedidos.\n",
    "Conclusión: Las bananas son un alimento básico popular, posiblemente debido a su conveniencia, valor nutricional y versatilidad.\n",
    "\n",
    "Diversidad de Productos:\n",
    "\n",
    "Observación: La lista incluye una variedad de productos que van desde frutas y verduras hasta productos lácteos como la leche entera orgánica.\n",
    "Conclusión: Los clientes tienen una amplia variedad de necesidades alimenticias que abarcan diferentes tipos de productos, lo que subraya la importancia de mantener un inventario diverso.\n",
    "\n",
    "Preferencias de los Clientes:\n",
    "\n",
    "Observación: Productos como las fresas, los aguacates y las frambuesas tienen una alta frecuencia de pedidos.\n",
    "Conclusión: Estos productos probablemente sean populares debido a su uso en una variedad de recetas y su percepción como alimentos saludables.\n",
    "\n",
    "Resumen: \n",
    "\n",
    "El análisis de los 20 productos más frecuentemente pedidos revela que los clientes prefieren productos frescos y orgánicos. Las bananas lideran la lista, seguidas por otros productos populares como las fresas y los aguacates. La diversidad de los productos solicitados destaca la importancia de mantener un inventario variado para satisfacer las diferentes necesidades y preferencias de los clientes."
   ]
  },
  {
   "cell_type": "markdown",
   "id": "gross-theme",
   "metadata": {
    "id": "gross-theme"
   },
   "source": [
    "# [C] Difícil \n",
    "\n",
    "1. ¿Cuántos artículos suelen comprar las personas en un pedido? ¿Cómo es la distribución?\n",
    "2. ¿Cuáles son los 20 principales artículos que vuelven a pedirse con mayor frecuencia (muestra sus nombres e IDs de los productos)?\n",
    "3. Para cada producto, ¿cuál es la tasa de repetición del pedido (número de repeticiones de pedido/total de pedidos?\n",
    "4. Para cada cliente, ¿qué proporción de los productos que pidió ya los había pedido? Calcula la tasa de repetición de pedido para cada usuario en lugar de para cada producto.\n",
    "5. ¿Cuáles son los 20 principales artículos que la gente pone primero en sus carritos (muestra las IDs de los productos, sus nombres, y el número de veces en que fueron el primer artículo en añadirse al carrito)?"
   ]
  },
  {
   "cell_type": "markdown",
   "id": "romantic-deposit",
   "metadata": {
    "id": "romantic-deposit"
   },
   "source": [
    "### [C1] ¿Cuántos artículos compran normalmente las personas en un pedido? ¿Cómo es la distribución?"
   ]
  },
  {
   "cell_type": "code",
   "execution_count": 64,
   "id": "virtual-punch",
   "metadata": {
    "id": "virtual-punch",
    "trusted": false
   },
   "outputs": [
    {
     "name": "stdout",
     "output_type": "stream",
     "text": [
      "order_id\n",
      "4     13\n",
      "9     15\n",
      "11     5\n",
      "19     3\n",
      "20     8\n",
      "dtype: int64\n"
     ]
    }
   ],
   "source": [
    "# Leer el conjunto de datos en el DataFrame\n",
    "order_products = pd.read_csv('/datasets/order_products.csv', delimiter=';')\n",
    "\n",
    "# Calcular el número de artículos por pedido\n",
    "items_per_order = order_products.groupby('order_id').size()\n",
    "\n",
    "# Mostrar una muestra de los datos calculados\n",
    "print(items_per_order.head())\n"
   ]
  },
  {
   "cell_type": "code",
   "execution_count": 50,
   "id": "sensitive-breathing",
   "metadata": {
    "id": "sensitive-breathing",
    "trusted": false
   },
   "outputs": [
    {
     "name": "stdout",
     "output_type": "stream",
     "text": [
      "count    450046.000000\n",
      "mean         10.098983\n",
      "std           7.540206\n",
      "min           1.000000\n",
      "25%           5.000000\n",
      "50%           8.000000\n",
      "75%          14.000000\n",
      "max         127.000000\n",
      "dtype: float64\n"
     ]
    }
   ],
   "source": [
    "# Calcular estadísticas descriptivas\n",
    "items_per_order_stats = items_per_order.describe()\n",
    "\n",
    "# Mostrar estadísticas descriptivas\n",
    "print(items_per_order_stats)\n"
   ]
  },
  {
   "cell_type": "code",
   "execution_count": 51,
   "id": "completed-frank",
   "metadata": {
    "id": "completed-frank",
    "trusted": false
   },
   "outputs": [
    {
     "data": {
      "image/png": "[encoded data removed]",
      "text/plain": [
       "<Figure size 1200x600 with 1 Axes>"
      ]
     },
     "metadata": {},
     "output_type": "display_data"
    }
   ],
   "source": [
    "# Crear el box plot\n",
    "plt.figure(figsize=(12, 6))\n",
    "plt.boxplot(items_per_order, vert=False)\n",
    "plt.title('Box Plot del Número de Artículos por Pedido')\n",
    "plt.xlabel('Número de Artículos')\n",
    "plt.ylabel('Número de pedidos')\n",
    "plt.show()\n"
   ]
  },
  {
   "cell_type": "markdown",
   "id": "designed-mortality",
   "metadata": {
    "id": "designed-mortality"
   },
   "source": [
    "Escribe aquí tus conclusiones\n",
    "\n",
    "Conclusión sobre el Box Plot del Número de Artículos por Pedido\n",
    "\n",
    "Mediana y Rango Intercuartílico:\n",
    "\n",
    "Observación: La mediana del número de artículos por pedido está cerca de 10.\n",
    "Conclusión: La mayoría de los pedidos contienen aproximadamente 10 artículos, lo que sugiere que los clientes suelen hacer pedidos de tamaño moderado.\n",
    "\n",
    "Rango Intercuartílico (IQR):\n",
    "\n",
    "Observación: El rango intercuartílico, que abarca desde el primer cuartil (Q1) hasta el tercer cuartil (Q3), está aproximadamente entre 5 y 15 artículos.\n",
    "Conclusión: El 50% central de los pedidos tiene entre 5 y 15 artículos, lo que indica que hay una variabilidad moderada en el tamaño de los pedidos típicos.\n",
    "\n",
    "Valores Atípicos:\n",
    "\n",
    "Observación: Hay un número significativo de valores atípicos, que son pedidos con más de 20 artículos. Algunos pedidos tienen hasta más de 100 artículos.\n",
    "Conclusión: Aunque la mayoría de los pedidos contienen entre 5 y 15 artículos, existe una fracción de clientes que realiza pedidos significativamente más grandes, superando los 20 artículos. Estos valores atípicos pueden representar compras grandes o abastecimientos ocasionales.\n",
    "\n",
    "Rango General:\n",
    "\n",
    "Observación: La mayoría de los pedidos están dentro del rango de 0 a 20 artículos, con algunos valores atípicos que se extienden hasta más de 100 artículos.\n",
    "Conclusión: Los clientes suelen hacer pedidos con un número moderado de artículos, pero ocasionalmente hay pedidos mucho más grandes.\n",
    "\n",
    "Resumen\n",
    "El box plot muestra que los clientes generalmente hacen pedidos con alrededor de 10 artículos, y la mayoría de los pedidos tienen entre 5 y 15 artículos. Sin embargo, hay una presencia notable de pedidos significativamente más grandes, lo que sugiere que algunos clientes realizan compras más grandes con menor frecuencia."
   ]
  },
  {
   "cell_type": "markdown",
   "id": "5e6b5537",
   "metadata": {
    "id": "5e6b5537"
   },
   "source": [
    "### [C2] ¿Cuáles son los 20 principales artículos que vuelven a pedirse con mayor frecuencia (muestra sus nombres e IDs de los productos)?"
   ]
  },
  {
   "cell_type": "code",
   "execution_count": 52,
   "id": "9374e55a",
   "metadata": {
    "id": "9374e55a",
    "trusted": false
   },
   "outputs": [
    {
     "name": "stdout",
     "output_type": "stream",
     "text": [
      "24852    55763\n",
      "13176    44450\n",
      "21137    28639\n",
      "21903    26233\n",
      "47209    23629\n",
      "Name: product_id, dtype: int64\n"
     ]
    }
   ],
   "source": [
    "# Leer el conjunto de datos en los DataFrames\n",
    "order_products = pd.read_csv('/datasets/order_products.csv', delimiter=';')\n",
    "products = pd.read_csv('/datasets/products.csv', delimiter=';')\n",
    "\n",
    "# Filtrar los productos que han sido pedidos nuevamente\n",
    "reordered_products = order_products[order_products['reordered'] == 1]\n",
    "\n",
    "# Contar las frecuencias de cada producto que ha sido pedido nuevamente\n",
    "reordered_frequencies = reordered_products['product_id'].value_counts()\n",
    "\n",
    "# Mostrar una muestra de los datos calculados\n",
    "print(reordered_frequencies.head())"
   ]
  },
  {
   "cell_type": "code",
   "execution_count": 53,
   "id": "possible-change",
   "metadata": {
    "id": "possible-change",
    "scrolled": true,
    "trusted": false
   },
   "outputs": [
    {
     "name": "stdout",
     "output_type": "stream",
     "text": [
      "24852    55763\n",
      "13176    44450\n",
      "21137    28639\n",
      "21903    26233\n",
      "47209    23629\n",
      "47766    18743\n",
      "27845    16251\n",
      "47626    15044\n",
      "27966    14748\n",
      "16797    13945\n",
      "26209    13327\n",
      "22935    11145\n",
      "24964    10411\n",
      "45007    10076\n",
      "49683     9538\n",
      "28204     8989\n",
      "8277      8836\n",
      "39275     8799\n",
      "5876      8412\n",
      "49235     8389\n",
      "Name: product_id, dtype: int64\n"
     ]
    }
   ],
   "source": [
    "# Seleccionar los 20 principales productos por frecuencia de reorden\n",
    "top_20_reordered_products = reordered_frequencies.head(20)\n",
    "\n",
    "# Mostrar los 20 principales productos (ID y frecuencia)\n",
    "print(top_20_reordered_products)\n"
   ]
  },
  {
   "cell_type": "code",
   "execution_count": 54,
   "id": "professional-surfing",
   "metadata": {
    "id": "professional-surfing",
    "scrolled": true,
    "trusted": false
   },
   "outputs": [
    {
     "name": "stdout",
     "output_type": "stream",
     "text": [
      "   index  product_id_x  product_id_y            product_name\n",
      "0  24852         55763         24852                  Banana\n",
      "1  13176         44450         13176  Bag of Organic Bananas\n",
      "2  21137         28639         21137    Organic Strawberries\n",
      "3  21903         26233         21903    Organic Baby Spinach\n",
      "4  47209         23629         47209    Organic Hass Avocado\n",
      "Index(['index', 'product_id_x', 'product_id_y', 'product_name'], dtype='object')\n"
     ]
    }
   ],
   "source": [
    "# Unir los datos con el DataFrame de productos para obtener los nombres\n",
    "top_20_reordered_products_df = top_20_reordered_products.reset_index().merge(products[['product_id', 'product_name']], left_on='index', right_on='product_id')\n",
    "\n",
    "# Mostrar una muestra de los datos unidos\n",
    "print(top_20_reordered_products_df.head())\n",
    "\n",
    "# Mostrar las columnas del DataFrame resultante\n",
    "print(top_20_reordered_products_df.columns)\n",
    "\n"
   ]
  },
  {
   "cell_type": "code",
   "execution_count": 55,
   "id": "48dd3658",
   "metadata": {
    "id": "48dd3658",
    "trusted": false
   },
   "outputs": [
    {
     "name": "stdout",
     "output_type": "stream",
     "text": [
      "    product_id              product_name  frequency\n",
      "0        24852                    Banana      24852\n",
      "1        13176    Bag of Organic Bananas      13176\n",
      "2        21137      Organic Strawberries      21137\n",
      "3        21903      Organic Baby Spinach      21903\n",
      "4        47209      Organic Hass Avocado      47209\n",
      "5        47766           Organic Avocado      47766\n",
      "6        27845        Organic Whole Milk      27845\n",
      "7        47626               Large Lemon      47626\n",
      "8        27966       Organic Raspberries      27966\n",
      "9        16797              Strawberries      16797\n",
      "10       26209                     Limes      26209\n",
      "11       22935      Organic Yellow Onion      22935\n",
      "12       24964            Organic Garlic      24964\n",
      "13       45007          Organic Zucchini      45007\n",
      "14       49683            Cucumber Kirby      49683\n",
      "15       28204        Organic Fuji Apple      28204\n",
      "16        8277  Apple Honeycrisp Organic       8277\n",
      "17       39275       Organic Blueberries      39275\n",
      "18        5876             Organic Lemon       5876\n",
      "19       49235       Organic Half & Half      49235\n"
     ]
    }
   ],
   "source": [
    "# Seleccionar y mostrar solo las columnas relevantes (ID, nombre del producto y frecuencia)\n",
    "top_20_reordered_products_df = top_20_reordered_products_df[['product_id_y', 'product_name', 'index']]\n",
    "top_20_reordered_products_df.columns = ['product_id', 'product_name', 'frequency']\n",
    "\n",
    "# Mostrar el resultado final\n",
    "print(top_20_reordered_products_df)\n"
   ]
  },
  {
   "cell_type": "markdown",
   "id": "80e70c74",
   "metadata": {
    "id": "80e70c74"
   },
   "source": [
    "Escribe aquí tus conclusiones\n",
    "\n",
    "Conclusión sobre los 20 Principales Artículos que Vuelven a Pedirse con Mayor Frecuencia\n",
    "\n",
    "El análisis de los 20 productos más frecuentemente reordenados revela una clara preferencia por productos frescos y orgánicos entre los clientes. Las bananas, tanto convencionales como orgánicas, lideran la lista con 24,852 y 13,176 reordenes respectivamente. Estas frutas básicas son altamente demandadas debido a su conveniencia, valor nutricional y versatilidad en la dieta diaria. Los productos orgánicos como las fresas (21,137), espinacas para bebé (21,903), y aguacates (47,209) también muestran una alta frecuencia de reorden, lo que indica una fuerte inclinación hacia opciones de alimentación más saludables y sostenibles.\n",
    "\n",
    "Al observar más de cerca las similitudes, notamos que la mayoría de los productos reordenados son frutas y verduras frescas. Por ejemplo, además de las bananas, las fresas convencionales (16,797) y los limones grandes (47,626) están entre los productos más reordenados. Esta preferencia por frutas y verduras frescas sugiere que los clientes valoran la inclusión de estos alimentos en su dieta regular. Además, productos específicos como el \"Cucumber Kirby\" (49,683) y la leche entera orgánica (27,845) muestran que los clientes también buscan artículos específicos que cumplan con sus necesidades dietéticas y de estilo de vida.\n",
    "\n",
    "Sin embargo, también hay diferencias notables. Algunos productos, como el \"Organic Half & Half\" (49,235) y el \"Organic Blueberries\" (39,275), tienen una frecuencia de reorden alta, lo que destaca la popularidad de productos lácteos orgánicos y frutas específicas. Estos productos no solo satisfacen las necesidades básicas, sino que también atienden a clientes que buscan opciones orgánicas y especializadas.\n",
    "\n",
    "La alta frecuencia de reorden de estos productos sugiere que son elementos esenciales en las compras recurrentes de los clientes. Para mejorar la satisfacción del cliente y fomentar la lealtad, es crucial asegurar la disponibilidad constante de estos productos populares. Desarrollar campañas de marketing que destaquen los beneficios de estos productos y ofrecer promociones en los artículos más solicitados pueden ayudar a aumentar las ventas y la retención de clientes. Analizar las tendencias de compra estacionales y las razones detrás de la popularidad de ciertos productos también puede proporcionar información valiosa para ajustar la oferta y las estrategias promocionales en consecuencia. Esta comprensión detallada de las preferencias de los clientes permite una mejor planificación de inventario y estrategias de marketing más efectivas."
   ]
  },
  {
   "cell_type": "markdown",
   "id": "9d312b14",
   "metadata": {
    "id": "9d312b14"
   },
   "source": [
    "### [C3] Para cada producto, ¿cuál es la proporción de las veces que se pide y que se vuelve a pedir?"
   ]
  },
  {
   "cell_type": "code",
   "execution_count": 56,
   "id": "8ae9f4b1",
   "metadata": {
    "id": "8ae9f4b1",
    "trusted": false
   },
   "outputs": [
    {
     "name": "stdout",
     "output_type": "stream",
     "text": [
      "24852    66050\n",
      "13176    53297\n",
      "21137    37039\n",
      "21903    33971\n",
      "47209    29773\n",
      "Name: product_id, dtype: int64\n",
      "24852    55763\n",
      "13176    44450\n",
      "21137    28639\n",
      "21903    26233\n",
      "47209    23629\n",
      "Name: product_id, dtype: int64\n"
     ]
    }
   ],
   "source": [
    "# Leer el conjunto de datos en los DataFrames\n",
    "order_products = pd.read_csv('/datasets/order_products.csv', delimiter=';')\n",
    "products = pd.read_csv('/datasets/products.csv', delimiter=';')\n",
    "\n",
    "# Contar las frecuencias de cada producto en los pedidos\n",
    "product_frequencies = order_products['product_id'].value_counts()\n",
    "\n",
    "# Filtrar los productos que han sido pedidos nuevamente\n",
    "reordered_products = order_products[order_products['reordered'] == 1]\n",
    "\n",
    "# Contar las frecuencias de cada producto que ha sido pedido nuevamente\n",
    "reordered_frequencies = reordered_products['product_id'].value_counts()\n",
    "\n",
    "# Mostrar una muestra de los datos calculados\n",
    "print(product_frequencies.head())\n",
    "print(reordered_frequencies.head())"
   ]
  },
  {
   "cell_type": "code",
   "execution_count": 57,
   "id": "103e7fe1",
   "metadata": {
    "id": "103e7fe1",
    "trusted": false
   },
   "outputs": [
    {
     "name": "stdout",
     "output_type": "stream",
     "text": [
      "   product_id  reorder_proportion\n",
      "0           1            0.564286\n",
      "1           2                 NaN\n",
      "2           3            0.738095\n",
      "3           4            0.510204\n",
      "4           7            0.500000\n"
     ]
    }
   ],
   "source": [
    "# Calcular la proporción de reorden para cada producto\n",
    "reorder_proportion = reordered_frequencies / product_frequencies\n",
    "\n",
    "# Convertir a DataFrame y resetear el índice\n",
    "reorder_proportion_df = reorder_proportion.reset_index()\n",
    "reorder_proportion_df.columns = ['product_id', 'reorder_proportion']\n",
    "\n",
    "# Mostrar una muestra de los datos calculados\n",
    "print(reorder_proportion_df.head())\n"
   ]
  },
  {
   "cell_type": "code",
   "execution_count": 58,
   "id": "social-individual",
   "metadata": {
    "id": "social-individual",
    "trusted": false
   },
   "outputs": [
    {
     "name": "stdout",
     "output_type": "stream",
     "text": [
      "     product_id  reorder_proportion  \\\n",
      "138         154                 1.0   \n",
      "154         173                 1.0   \n",
      "155         174                 1.0   \n",
      "173         193                 1.0   \n",
      "207         230                 1.0   \n",
      "301         337                 1.0   \n",
      "334         374                 1.0   \n",
      "369         414                 1.0   \n",
      "423         475                 1.0   \n",
      "426         479                 1.0   \n",
      "432         485                 1.0   \n",
      "439         492                 1.0   \n",
      "501         559                 1.0   \n",
      "534         596                 1.0   \n",
      "547         609                 1.0   \n",
      "556         619                 1.0   \n",
      "596         661                 1.0   \n",
      "620         687                 1.0   \n",
      "633         700                 1.0   \n",
      "641         709                 1.0   \n",
      "\n",
      "                                          product_name  \n",
      "138              Corn Dogs- Mini- Honey Crunchy Flavor  \n",
      "154      Habanero Lime Shrimp Flavor Ramen Noodle Soup  \n",
      "155                     Vanishing Acne Treatment Cream  \n",
      "173        fruitwater® Strawberry Kiwi Sparkling Water  \n",
      "207                                 Vanilla Cream Soda  \n",
      "301         Soap- Pure-Castile- 18-in-1 Hemp- Lavender  \n",
      "334                               Sliced Kosher Salami  \n",
      "369                  Gluten Free Chicken Rustica Pizza  \n",
      "423                           Organic Reposado Tequila  \n",
      "426            Most Wanted Cabernet Sauvignon Red Wine  \n",
      "432         Country Stew Choice Cuts In Gravy Dog Food  \n",
      "439                 Couscous- Israeli- Garlic Jalapeno  \n",
      "501  Cookie Chips Crunchy Dark Chocolate Chocolate ...  \n",
      "534                     Dailyfoods Vitamin D-3 2000 IU  \n",
      "547                               Clarified Lime Juice  \n",
      "556                                    Spanish Peanuts  \n",
      "596                         Sweet Lemon Rain Dance Bar  \n",
      "620                               Cocktail Time Hummus  \n",
      "633              Jet Fuel Dark Roast Whole Bean Coffee  \n",
      "641                 Soft Eating Mango Flavor Liquorice  \n"
     ]
    }
   ],
   "source": [
    "# Unir los datos con el DataFrame de productos para obtener los nombres\n",
    "reorder_proportion_df = reorder_proportion_df.merge(products[['product_id', 'product_name']], on='product_id')\n",
    "\n",
    "# Seleccionar y mostrar los 20 principales productos por proporción de reorden\n",
    "top_20_reorder_proportion = reorder_proportion_df.nlargest(20, 'reorder_proportion')\n",
    "\n",
    "# Mostrar el resultado final\n",
    "print(top_20_reorder_proportion)\n",
    "\n"
   ]
  },
  {
   "cell_type": "markdown",
   "id": "I10dEIAyldcO",
   "metadata": {
    "id": "I10dEIAyldcO"
   },
   "source": [
    "Escribe aquí tus conclusiones\n",
    "\n",
    "El análisis de la proporción de reorden de productos revela que los 20 principales productos por ejemplo, tienen una proporción del 100%, lo que significa que cada vez que estos productos se pidieron, fueron reordenados en pedidos subsecuentes. Esta lista está dominada por productos especializados y de nicho, como \"Corn Dogs- Mini- Honey Crunchy Flavor\", \"Habanero Lime Shrimp Flavor Ramen Noodle Soup\" y \"Organic Reposado Tequila\". La presencia de estos productos sugiere una alta satisfacción y lealtad entre los clientes que los compran, a pesar de que no son tan comúnmente pedidos en general.\n",
    "\n",
    "La ausencia de productos como las bananas en esta lista puede explicarse por su alta frecuencia total de pedidos. Aunque las bananas son uno de los productos más frecuentemente pedidos, la proporción de reorden puede no ser tan alta porque no todos los pedidos resultan en una reorden. En otras palabras, debido a su alta popularidad y frecuencia de compra, las bananas pueden tener más pedidos únicos y, por lo tanto, una menor proporción de reorden en comparación con productos más especializados que son reordenados cada vez que se compran.\n",
    "\n",
    "Estos resultados resaltan la importancia de considerar tanto la frecuencia total de pedidos como la proporción de reorden para entender completamente el comportamiento de los clientes. Los productos especializados y de nicho que aparecen en esta lista indican una fuerte lealtad y satisfacción del cliente, lo que sugiere que cumplen con expectativas específicas y de alta calidad. Por otro lado, productos populares como las bananas, aunque tienen un alto volumen de pedidos, pueden no tener la misma tasa de reorden debido a su uso más generalizado y menos específico."
   ]
  },
  {
   "cell_type": "markdown",
   "id": "subject-boxing",
   "metadata": {
    "id": "subject-boxing"
   },
   "source": [
    "### [C4] Para cada cliente, ¿qué proporción de sus productos ya los había pedido?"
   ]
  },
  {
   "cell_type": "code",
   "execution_count": 59,
   "id": "medical-couple",
   "metadata": {
    "id": "medical-couple",
    "scrolled": true,
    "trusted": false
   },
   "outputs": [
    {
     "name": "stdout",
     "output_type": "stream",
     "text": [
      "user_id\n",
      "2    0.038462\n",
      "4    0.000000\n",
      "5    0.666667\n",
      "6    0.000000\n",
      "7    0.928571\n",
      "Name: reordered, dtype: float64\n"
     ]
    }
   ],
   "source": [
    "# Leer el conjunto de datos en los DataFrames\n",
    "order_products = pd.read_csv('/datasets/order_products.csv', delimiter=';')\n",
    "orders = pd.read_csv('/datasets/instacart_orders.csv', delimiter=';')\n",
    "\n",
    "# Combinar los datos de pedidos y órdenes para obtener los 'user_id'\n",
    "order_products_with_user = order_products.merge(orders[['order_id', 'user_id']], on='order_id')\n",
    "\n",
    "# Calcular la proporción de productos reordenados por cliente\n",
    "reorder_proportion_by_customer = order_products_with_user.groupby('user_id')['reordered'].mean()\n",
    "\n",
    "# Mostrar una muestra de los datos calculados\n",
    "print(reorder_proportion_by_customer.head())"
   ]
  },
  {
   "cell_type": "code",
   "execution_count": 60,
   "id": "8892e4b4",
   "metadata": {
    "id": "8892e4b4",
    "trusted": false
   },
   "outputs": [
    {
     "name": "stdout",
     "output_type": "stream",
     "text": [
      "     user_id  reorder_proportion\n",
      "15        22                 1.0\n",
      "48        68                 1.0\n",
      "65        88                 1.0\n",
      "71        97                 1.0\n",
      "77       104                 1.0\n",
      "85       113                 1.0\n",
      "130      178                 1.0\n",
      "141      192                 1.0\n",
      "162      218                 1.0\n",
      "203      279                 1.0\n",
      "210      287                 1.0\n",
      "226      307                 1.0\n",
      "246      333                 1.0\n",
      "266      365                 1.0\n",
      "285      392                 1.0\n",
      "299      413                 1.0\n",
      "308      427                 1.0\n",
      "334      457                 1.0\n",
      "336      459                 1.0\n",
      "348      476                 1.0\n"
     ]
    }
   ],
   "source": [
    "# Convertir a DataFrame y resetear el índice\n",
    "reorder_proportion_by_customer_df = reorder_proportion_by_customer.reset_index()\n",
    "reorder_proportion_by_customer_df.columns = ['user_id', 'reorder_proportion']\n",
    "\n",
    "# Seleccionar y mostrar los 20 clientes con la mayor proporción de productos reordenados\n",
    "top_20_reorder_proportion_by_customer = reorder_proportion_by_customer_df.nlargest(20, 'reorder_proportion')\n",
    "\n",
    "# Mostrar el resultado final\n",
    "print(top_20_reorder_proportion_by_customer)\n"
   ]
  },
  {
   "cell_type": "markdown",
   "id": "BgJSvXDsleXz",
   "metadata": {
    "id": "BgJSvXDsleXz"
   },
   "source": [
    "Escribe aquí tus conclusiones\n",
    "\n",
    "Conclusión sobre la Proporción de Productos Reordenados por Cliente\n",
    "\n",
    "El análisis de la proporción de productos reordenados por cliente revela que hay un grupo de clientes que han reordenado el 100% de sus productos comprados. Es decir, cada vez que estos clientes compraron un producto, lo volvieron a pedir en pedidos subsecuentes. Este hallazgo sugiere una fuerte lealtad y satisfacción hacia los productos que estos clientes han adquirido, lo que podría ser indicativo de la alta calidad percibida y la adecuación de estos productos a sus necesidades.\n",
    "\n",
    "Los datos muestran que todos los clientes en el top 20 tienen una proporción de reorden del 100%, lo que resalta su comportamiento de compra consistente y predecible. Estos clientes podrían ser objetivos ideales para campañas de marketing dirigidas, programas de lealtad y promociones personalizadas, ya que es más probable que respondan positivamente a ofertas en productos que ya han demostrado preferir.\n",
    "\n",
    "La identificación de estos clientes leales también proporciona una oportunidad para las empresas de explorar las características y preferencias comunes entre ellos. Esto puede incluir análisis demográficos, hábitos de compra y otros factores que puedan ayudar a segmentar y comprender mejor a esta base de clientes fieles. Al hacerlo, las empresas pueden replicar este éxito en otros segmentos del mercado.\n",
    "\n",
    "En resumen, la proporción de reorden del 100% entre los principales 20 clientes destaca la importancia de mantener un inventario constante de los productos preferidos por estos clientes y de seguir desarrollando estrategias que fortalezcan la relación con ellos. Este enfoque no solo mejora la satisfacción del cliente, sino que también puede conducir a un aumento en la retención de clientes y en las ventas a largo plazo."
   ]
  },
  {
   "cell_type": "markdown",
   "id": "92d35137",
   "metadata": {
    "id": "92d35137"
   },
   "source": [
    "### [C5] ¿Cuáles son los 20 principales artículos que las personas ponen primero en sus carritos?"
   ]
  },
  {
   "cell_type": "code",
   "execution_count": 61,
   "id": "0ae57274",
   "metadata": {
    "id": "0ae57274",
    "scrolled": true,
    "trusted": false
   },
   "outputs": [
    {
     "name": "stdout",
     "output_type": "stream",
     "text": [
      "    order_id  product_id  add_to_cart_order  reordered\n",
      "1     567889        1560                1.0          1\n",
      "2    2261212       26683                1.0          1\n",
      "14   1961225       37553                1.0          1\n",
      "16    639939       10017                1.0          1\n",
      "23    750040        8518                1.0          0\n"
     ]
    }
   ],
   "source": [
    "# Filtrar los productos que fueron agregados primero al carrito\n",
    "first_added_products = order_products[order_products['add_to_cart_order'] == 1]\n",
    "\n",
    "# Mostrar una muestra de los datos filtrados\n",
    "print(first_added_products.head())"
   ]
  },
  {
   "cell_type": "code",
   "execution_count": 62,
   "id": "forty-netherlands",
   "metadata": {
    "id": "forty-netherlands",
    "scrolled": true,
    "trusted": false
   },
   "outputs": [
    {
     "name": "stdout",
     "output_type": "stream",
     "text": [
      "24852    15562\n",
      "13176    11026\n",
      "27845     4363\n",
      "21137     3946\n",
      "47209     3390\n",
      "Name: product_id, dtype: int64\n"
     ]
    }
   ],
   "source": [
    "# Contar las frecuencias de cada producto agregado primero al carrito\n",
    "first_added_frequencies = first_added_products['product_id'].value_counts()\n",
    "\n",
    "# Mostrar una muestra de los datos calculados\n",
    "print(first_added_frequencies.head())\n"
   ]
  },
  {
   "cell_type": "code",
   "execution_count": 63,
   "id": "08e41ec2",
   "metadata": {
    "id": "08e41ec2",
    "trusted": false
   },
   "outputs": [
    {
     "name": "stdout",
     "output_type": "stream",
     "text": [
      "    product_id  frequency                 product_name\n",
      "0        24852      15562                       Banana\n",
      "1        13176      11026       Bag of Organic Bananas\n",
      "2        27845       4363           Organic Whole Milk\n",
      "3        21137       3946         Organic Strawberries\n",
      "4        47209       3390         Organic Hass Avocado\n",
      "5        21903       3336         Organic Baby Spinach\n",
      "6        47766       3044              Organic Avocado\n",
      "7        19660       2336                 Spring Water\n",
      "8        16797       2308                 Strawberries\n",
      "9        27966       2024          Organic Raspberries\n",
      "10       44632       1914   Sparkling Water Grapefruit\n",
      "11       49235       1797          Organic Half & Half\n",
      "12       47626       1737                  Large Lemon\n",
      "13         196       1733                         Soda\n",
      "14       38689       1397     Organic Reduced Fat Milk\n",
      "15       26209       1370                        Limes\n",
      "16       12341       1340                Hass Avocados\n",
      "17        5785       1310  Organic Reduced Fat 2% Milk\n",
      "18       27086       1309                  Half & Half\n",
      "19       22935       1246         Organic Yellow Onion\n"
     ]
    }
   ],
   "source": [
    "# Seleccionar los 20 principales productos por frecuencia de primer agregado al carrito\n",
    "top_20_first_added_products = first_added_frequencies.head(20)\n",
    "\n",
    "# Convertir a DataFrame y resetear el índice\n",
    "top_20_first_added_products_df = top_20_first_added_products.reset_index()\n",
    "top_20_first_added_products_df.columns = ['product_id', 'frequency']\n",
    "\n",
    "# Unir los datos con el DataFrame de productos para obtener los nombres\n",
    "top_20_first_added_products_df = top_20_first_added_products_df.merge(products[['product_id', 'product_name']], on='product_id')\n",
    "\n",
    "# Mostrar el resultado final\n",
    "print(top_20_first_added_products_df)\n"
   ]
  },
  {
   "cell_type": "markdown",
   "id": "8c7a239a",
   "metadata": {
    "id": "28ce9872"
   },
   "source": [
    "Escribe aquí tus conclusiones\n",
    "\n",
    "El análisis de los 20 principales artículos que las personas ponen primero en sus carritos revela una clara preferencia por productos frescos, orgánicos y básicos. Las bananas y los plátanos orgánicos son los productos más frecuentemente agregados primero, lo que resalta la importancia de estos alimentos en la dieta diaria de los clientes. Los productos básicos como el agua de manantial y la soda también son populares, subrayando la necesidad constante de estos artículos en los hogares. La variedad de productos en la lista muestra que los clientes están planificando compras completas que abarcan diferentes categorías de alimentos, priorizando tanto la salud como la conveniencia."
   ]
  },
  {
   "cell_type": "markdown",
   "id": "uITbFCEoDosC",
   "metadata": {
    "id": "uITbFCEoDosC"
   },
   "source": [
    "### Conclusion general del proyecto:"
   ]
  },
  {
   "cell_type": "markdown",
   "id": "9a2f7358",
   "metadata": {},
   "source": [
    "El análisis detallado de los datos de pedidos de Instacart ha revelado patrones importantes sobre los hábitos de compra de los clientes, proporcionando una comprensión más profunda de sus preferencias y comportamientos. A través de diversas métricas y cálculos, hemos identificado que los productos frescos y orgánicos son altamente preferidos, tanto en términos de frecuencia total de pedidos como de reorden. Las bananas y los plátanos orgánicos, por ejemplo, son productos líderes, lo que sugiere que los consumidores están enfocados en opciones saludables y sostenibles para su dieta diaria. Esta tendencia hacia productos frescos y orgánicos resalta la importancia de mantener un inventario robusto de estos artículos para satisfacer la demanda constante.\n",
    "\n",
    "Además, el análisis de la proporción de reorden de productos ha mostrado que los clientes tienen una fuerte lealtad hacia ciertos productos especializados y de nicho. Productos como el \"Corn Dogs- Mini- Honey Crunchy Flavor\" y el \"Organic Reposado Tequila\" tienen una tasa de reorden del 100%, indicando que cada vez que se compran, son reordenados en futuros pedidos. Esto sugiere una alta satisfacción y confianza en la calidad de estos productos específicos. En contraste, aunque las bananas y otros productos populares tienen una alta frecuencia de pedidos, su proporción de reorden no es tan alta debido a la amplia base de clientes que las compra una sola vez. Esta distinción es crucial para comprender que, mientras que algunos productos tienen una base de clientes amplia, otros generan una lealtad más fuerte aunque en una base de clientes más pequeña.\n",
    "\n",
    "La revisión de los primeros productos agregados al carrito ha proporcionado otra capa de entendimiento sobre los hábitos de compra. Los clientes tienden a comenzar sus compras con productos básicos y comunes, como las bananas, la leche orgánica y el agua de manantial. Esto indica que los consumidores priorizan sus necesidades más esenciales al inicio de sus compras, lo cual es un dato valioso para optimizar la disposición de productos y las estrategias de marketing. Además, la variedad de productos agregados primero también muestra que los clientes planifican compras que cubren múltiples categorías, reflejando una compra bien pensada y diversificada. Esto sugiere que las estrategias de marketing deben considerar tanto la prominencia de estos productos básicos en las primeras etapas de la compra como la diversidad de productos para mantener el interés del cliente a lo largo de su experiencia de compra.\n",
    "\n",
    "Finalmente, la proporción de productos reordenados por cliente ha revelado información sobre la lealtad del cliente. Aquellos con una alta proporción de reorden son indicativos de satisfacción con sus compras anteriores, lo que sugiere que mantener la disponibilidad de estos productos es crucial para retener a estos clientes leales. Además, hemos encontrado que no todos los pedidos con valores ausentes en add_to_cart_order tienen más de 64 productos. De hecho, algunos pedidos con valores ausentes tienen tan solo un producto, lo que indica que la presencia de valores ausentes no está limitada a pedidos grandes. Esta observación subraya la importancia de revisar la consistencia y calidad de los datos en todos los tamaños de pedidos. A través de esta investigación, se pueden desarrollar estrategias de marketing más precisas, optimizar la gestión de inventarios y mejorar la experiencia general del cliente. En conjunto, estos hallazgos proporcionan una base sólida para decisiones estratégicas que pueden mejorar significativamente la satisfacción del cliente y la eficiencia operativa."
   ]
  }
 ],
 "metadata": {
  "ExecuteTimeLog": [
   {
    "duration": 492,
    "start_time": "2024-07-20T02:15:43.760Z"
   },
   {
    "duration": 4493,
    "start_time": "2024-07-20T02:15:44.832Z"
   },
   {
    "duration": 44,
    "start_time": "2024-07-20T02:15:49.330Z"
   },
   {
    "duration": 19,
    "start_time": "2024-07-20T02:15:49.377Z"
   },
   {
    "duration": 14,
    "start_time": "2024-07-20T02:15:49.400Z"
   },
   {
    "duration": 13,
    "start_time": "2024-07-20T02:15:49.418Z"
   },
   {
    "duration": 12,
    "start_time": "2024-07-20T02:15:58.112Z"
   },
   {
    "duration": 301,
    "start_time": "2024-07-20T02:37:24.967Z"
   },
   {
    "duration": 1204,
    "start_time": "2024-07-20T02:40:45.947Z"
   },
   {
    "duration": 8,
    "start_time": "2024-07-20T02:43:24.332Z"
   },
   {
    "duration": 3,
    "start_time": "2024-07-20T02:49:48.451Z"
   },
   {
    "duration": 3,
    "start_time": "2024-07-20T02:49:51.935Z"
   },
   {
    "duration": 77,
    "start_time": "2024-07-20T02:51:00.738Z"
   },
   {
    "duration": 3,
    "start_time": "2024-07-20T02:52:12.959Z"
   },
   {
    "duration": 3,
    "start_time": "2024-07-20T02:52:42.733Z"
   },
   {
    "duration": 7,
    "start_time": "2024-07-20T02:52:49.790Z"
   },
   {
    "duration": 308,
    "start_time": "2024-07-20T02:53:47.799Z"
   },
   {
    "duration": 5,
    "start_time": "2024-07-20T02:54:21.685Z"
   },
   {
    "duration": 458,
    "start_time": "2024-07-20T06:42:26.745Z"
   },
   {
    "duration": 29,
    "start_time": "2024-07-20T06:42:32.248Z"
   },
   {
    "duration": 4,
    "start_time": "2024-07-20T06:43:05.919Z"
   },
   {
    "duration": 346,
    "start_time": "2024-07-20T06:44:12.778Z"
   },
   {
    "duration": 3,
    "start_time": "2024-07-20T06:50:10.427Z"
   },
   {
    "duration": 4,
    "start_time": "2024-07-20T06:50:12.959Z"
   },
   {
    "duration": 35,
    "start_time": "2024-07-20T06:55:33.558Z"
   },
   {
    "duration": 433,
    "start_time": "2024-07-20T06:56:40.476Z"
   },
   {
    "duration": 4252,
    "start_time": "2024-07-20T06:56:41.197Z"
   },
   {
    "duration": 45,
    "start_time": "2024-07-20T06:56:45.455Z"
   },
   {
    "duration": 31,
    "start_time": "2024-07-20T06:56:45.503Z"
   },
   {
    "duration": 14,
    "start_time": "2024-07-20T06:56:45.539Z"
   },
   {
    "duration": 14,
    "start_time": "2024-07-20T06:56:45.556Z"
   },
   {
    "duration": 11,
    "start_time": "2024-07-20T06:56:47.795Z"
   },
   {
    "duration": 276,
    "start_time": "2024-07-20T06:57:02.828Z"
   },
   {
    "duration": 280,
    "start_time": "2024-07-20T06:58:41.692Z"
   },
   {
    "duration": 266,
    "start_time": "2024-07-20T06:58:44.143Z"
   },
   {
    "duration": 885,
    "start_time": "2024-07-20T07:00:47.027Z"
   },
   {
    "duration": 295,
    "start_time": "2024-07-20T07:00:53.372Z"
   },
   {
    "duration": 3,
    "start_time": "2024-07-20T07:01:59.878Z"
   },
   {
    "duration": 3973,
    "start_time": "2024-07-20T07:02:00.531Z"
   },
   {
    "duration": 41,
    "start_time": "2024-07-20T07:02:04.508Z"
   },
   {
    "duration": 17,
    "start_time": "2024-07-20T07:02:04.552Z"
   },
   {
    "duration": 16,
    "start_time": "2024-07-20T07:02:04.573Z"
   },
   {
    "duration": 49,
    "start_time": "2024-07-20T07:02:04.592Z"
   },
   {
    "duration": 12,
    "start_time": "2024-07-20T07:02:04.644Z"
   },
   {
    "duration": 271,
    "start_time": "2024-07-20T07:02:08.344Z"
   },
   {
    "duration": 74,
    "start_time": "2024-07-20T07:02:10.469Z"
   },
   {
    "duration": 92,
    "start_time": "2024-07-20T07:03:06.165Z"
   },
   {
    "duration": 89,
    "start_time": "2024-07-20T07:03:23.351Z"
   },
   {
    "duration": 97,
    "start_time": "2024-07-20T07:05:52.972Z"
   },
   {
    "duration": 476,
    "start_time": "2024-07-20T07:06:23.017Z"
   },
   {
    "duration": 4549,
    "start_time": "2024-07-20T07:06:23.777Z"
   },
   {
    "duration": 36,
    "start_time": "2024-07-20T07:06:28.333Z"
   },
   {
    "duration": 42,
    "start_time": "2024-07-20T07:06:28.373Z"
   },
   {
    "duration": 26,
    "start_time": "2024-07-20T07:06:28.424Z"
   },
   {
    "duration": 20,
    "start_time": "2024-07-20T07:06:28.454Z"
   },
   {
    "duration": 14,
    "start_time": "2024-07-20T07:06:28.477Z"
   },
   {
    "duration": 283,
    "start_time": "2024-07-20T07:06:31.674Z"
   },
   {
    "duration": 1194,
    "start_time": "2024-07-20T07:06:35.517Z"
   },
   {
    "duration": 1572,
    "start_time": "2024-07-20T07:07:45.597Z"
   },
   {
    "duration": 1596,
    "start_time": "2024-07-20T07:08:31.851Z"
   },
   {
    "duration": 1503,
    "start_time": "2024-07-20T07:08:43.817Z"
   },
   {
    "duration": 12,
    "start_time": "2024-07-20T07:10:25.470Z"
   },
   {
    "duration": 151,
    "start_time": "2024-07-20T07:10:34.358Z"
   },
   {
    "duration": 12,
    "start_time": "2024-07-20T07:10:36.358Z"
   },
   {
    "duration": 5,
    "start_time": "2024-07-20T07:16:19.364Z"
   },
   {
    "duration": 3942,
    "start_time": "2024-07-20T07:16:19.800Z"
   },
   {
    "duration": 39,
    "start_time": "2024-07-20T07:16:23.745Z"
   },
   {
    "duration": 18,
    "start_time": "2024-07-20T07:16:23.787Z"
   },
   {
    "duration": 14,
    "start_time": "2024-07-20T07:16:23.832Z"
   },
   {
    "duration": 13,
    "start_time": "2024-07-20T07:16:23.851Z"
   },
   {
    "duration": 12,
    "start_time": "2024-07-20T07:16:23.868Z"
   },
   {
    "duration": 312,
    "start_time": "2024-07-20T07:16:25.938Z"
   },
   {
    "duration": 94,
    "start_time": "2024-07-20T07:16:29.410Z"
   },
   {
    "duration": 1681,
    "start_time": "2024-07-20T07:17:24.976Z"
   },
   {
    "duration": 4,
    "start_time": "2024-07-20T07:17:37.824Z"
   },
   {
    "duration": 3894,
    "start_time": "2024-07-20T07:17:38.584Z"
   },
   {
    "duration": 33,
    "start_time": "2024-07-20T07:17:42.484Z"
   },
   {
    "duration": 17,
    "start_time": "2024-07-20T07:17:42.534Z"
   },
   {
    "duration": 13,
    "start_time": "2024-07-20T07:17:42.555Z"
   },
   {
    "duration": 14,
    "start_time": "2024-07-20T07:17:42.572Z"
   },
   {
    "duration": 52,
    "start_time": "2024-07-20T07:17:42.589Z"
   },
   {
    "duration": 278,
    "start_time": "2024-07-20T07:17:44.864Z"
   },
   {
    "duration": 1582,
    "start_time": "2024-07-20T07:17:47.449Z"
   },
   {
    "duration": 144,
    "start_time": "2024-07-20T07:18:05.259Z"
   },
   {
    "duration": 1481,
    "start_time": "2024-07-20T07:18:08.376Z"
   },
   {
    "duration": 481,
    "start_time": "2024-07-20T07:18:22.510Z"
   },
   {
    "duration": 4524,
    "start_time": "2024-07-20T07:18:22.995Z"
   },
   {
    "duration": 49,
    "start_time": "2024-07-20T07:18:27.524Z"
   },
   {
    "duration": 17,
    "start_time": "2024-07-20T07:18:27.576Z"
   },
   {
    "duration": 38,
    "start_time": "2024-07-20T07:18:27.597Z"
   },
   {
    "duration": 16,
    "start_time": "2024-07-20T07:18:27.639Z"
   },
   {
    "duration": 14,
    "start_time": "2024-07-20T07:18:27.660Z"
   },
   {
    "duration": 282,
    "start_time": "2024-07-20T07:18:32.903Z"
   },
   {
    "duration": 1649,
    "start_time": "2024-07-20T07:18:35.263Z"
   },
   {
    "duration": 1553,
    "start_time": "2024-07-20T07:19:16.939Z"
   },
   {
    "duration": 439,
    "start_time": "2024-07-20T07:19:50.894Z"
   },
   {
    "duration": 4165,
    "start_time": "2024-07-20T07:19:52.345Z"
   },
   {
    "duration": 49,
    "start_time": "2024-07-20T07:19:56.514Z"
   },
   {
    "duration": 14,
    "start_time": "2024-07-20T07:19:59.685Z"
   },
   {
    "duration": 13,
    "start_time": "2024-07-20T07:20:03.762Z"
   },
   {
    "duration": 12,
    "start_time": "2024-07-20T07:20:04.514Z"
   },
   {
    "duration": 11,
    "start_time": "2024-07-20T07:20:05.192Z"
   },
   {
    "duration": 281,
    "start_time": "2024-07-20T07:20:11.652Z"
   },
   {
    "duration": 1586,
    "start_time": "2024-07-20T07:20:19.048Z"
   },
   {
    "duration": 188,
    "start_time": "2024-07-20T07:25:55.411Z"
   },
   {
    "duration": 180,
    "start_time": "2024-07-20T07:25:59.595Z"
   },
   {
    "duration": 177,
    "start_time": "2024-07-20T07:26:19.648Z"
   },
   {
    "duration": 5,
    "start_time": "2024-07-20T07:27:43.044Z"
   },
   {
    "duration": 44,
    "start_time": "2024-07-20T07:27:50.289Z"
   },
   {
    "duration": 454,
    "start_time": "2024-07-20T07:29:58.081Z"
   },
   {
    "duration": 4004,
    "start_time": "2024-07-20T07:29:59.228Z"
   },
   {
    "duration": 43,
    "start_time": "2024-07-20T07:30:03.239Z"
   },
   {
    "duration": 15,
    "start_time": "2024-07-20T07:30:05.098Z"
   },
   {
    "duration": 13,
    "start_time": "2024-07-20T07:30:06.231Z"
   },
   {
    "duration": 12,
    "start_time": "2024-07-20T07:30:07.275Z"
   },
   {
    "duration": 13,
    "start_time": "2024-07-20T07:30:08.033Z"
   },
   {
    "duration": 273,
    "start_time": "2024-07-20T07:30:14.986Z"
   },
   {
    "duration": 1605,
    "start_time": "2024-07-20T07:30:18.932Z"
   },
   {
    "duration": 1593,
    "start_time": "2024-07-20T07:31:13.977Z"
   },
   {
    "duration": 211,
    "start_time": "2024-07-20T07:31:19.995Z"
   },
   {
    "duration": 153,
    "start_time": "2024-07-20T07:31:27.943Z"
   },
   {
    "duration": 179,
    "start_time": "2024-07-20T07:31:40.337Z"
   },
   {
    "duration": 151,
    "start_time": "2024-07-20T07:31:41.357Z"
   },
   {
    "duration": 44,
    "start_time": "2024-07-20T07:31:42.517Z"
   },
   {
    "duration": 485,
    "start_time": "2024-07-20T07:37:34.340Z"
   },
   {
    "duration": 3901,
    "start_time": "2024-07-20T07:37:34.890Z"
   },
   {
    "duration": 52,
    "start_time": "2024-07-20T07:37:38.795Z"
   },
   {
    "duration": 19,
    "start_time": "2024-07-20T07:37:38.850Z"
   },
   {
    "duration": 13,
    "start_time": "2024-07-20T07:37:38.874Z"
   },
   {
    "duration": 17,
    "start_time": "2024-07-20T07:37:40.373Z"
   },
   {
    "duration": 11,
    "start_time": "2024-07-20T07:37:41.250Z"
   },
   {
    "duration": 285,
    "start_time": "2024-07-20T07:37:47.011Z"
   },
   {
    "duration": 1664,
    "start_time": "2024-07-20T07:37:51.791Z"
   },
   {
    "duration": 178,
    "start_time": "2024-07-20T07:37:55.102Z"
   },
   {
    "duration": 168,
    "start_time": "2024-07-20T07:37:57.697Z"
   },
   {
    "duration": 47,
    "start_time": "2024-07-20T07:37:58.849Z"
   },
   {
    "duration": 24,
    "start_time": "2024-07-20T07:40:52.864Z"
   },
   {
    "duration": 8,
    "start_time": "2024-07-20T07:42:13.007Z"
   },
   {
    "duration": 3,
    "start_time": "2024-07-20T07:43:31.958Z"
   },
   {
    "duration": 60,
    "start_time": "2024-07-20T07:43:41.758Z"
   },
   {
    "duration": 51,
    "start_time": "2024-07-20T07:46:00.995Z"
   },
   {
    "duration": 61,
    "start_time": "2024-07-20T07:48:08.230Z"
   },
   {
    "duration": 3,
    "start_time": "2024-07-20T07:58:40.135Z"
   },
   {
    "duration": 7,
    "start_time": "2024-07-20T07:58:45.019Z"
   },
   {
    "duration": 8,
    "start_time": "2024-07-20T07:59:52.336Z"
   },
   {
    "duration": 9,
    "start_time": "2024-07-20T08:04:30.787Z"
   },
   {
    "duration": 8,
    "start_time": "2024-07-20T08:04:43.121Z"
   },
   {
    "duration": 8,
    "start_time": "2024-07-20T08:09:39.836Z"
   },
   {
    "duration": 8,
    "start_time": "2024-07-20T08:10:48.723Z"
   },
   {
    "duration": 1407,
    "start_time": "2024-07-20T08:21:20.847Z"
   },
   {
    "duration": 1179,
    "start_time": "2024-07-20T08:22:13.980Z"
   },
   {
    "duration": 17,
    "start_time": "2024-07-20T08:28:20.135Z"
   },
   {
    "duration": 354,
    "start_time": "2024-07-20T08:32:42.265Z"
   },
   {
    "duration": 14,
    "start_time": "2024-07-20T08:33:18.325Z"
   },
   {
    "duration": 16,
    "start_time": "2024-07-20T08:35:46.531Z"
   },
   {
    "duration": 77,
    "start_time": "2024-07-20T08:38:04.350Z"
   },
   {
    "duration": 26,
    "start_time": "2024-07-20T08:41:49.274Z"
   },
   {
    "duration": 32,
    "start_time": "2024-07-20T08:46:24.696Z"
   },
   {
    "duration": 465,
    "start_time": "2024-07-20T15:19:29.914Z"
   },
   {
    "duration": 518,
    "start_time": "2024-07-20T15:19:40.377Z"
   },
   {
    "duration": 5659,
    "start_time": "2024-07-20T15:19:41.012Z"
   },
   {
    "duration": 37,
    "start_time": "2024-07-20T15:19:46.676Z"
   },
   {
    "duration": 20,
    "start_time": "2024-07-20T15:19:46.734Z"
   },
   {
    "duration": 15,
    "start_time": "2024-07-20T15:19:46.758Z"
   },
   {
    "duration": 14,
    "start_time": "2024-07-20T15:19:49.357Z"
   },
   {
    "duration": 16,
    "start_time": "2024-07-20T15:19:50.772Z"
   },
   {
    "duration": 343,
    "start_time": "2024-07-20T15:19:54.674Z"
   },
   {
    "duration": 2280,
    "start_time": "2024-07-20T15:19:57.426Z"
   },
   {
    "duration": 256,
    "start_time": "2024-07-20T15:20:03.150Z"
   },
   {
    "duration": 215,
    "start_time": "2024-07-20T15:20:08.926Z"
   },
   {
    "duration": 76,
    "start_time": "2024-07-20T15:20:10.697Z"
   },
   {
    "duration": 33,
    "start_time": "2024-07-20T15:20:13.797Z"
   },
   {
    "duration": 9,
    "start_time": "2024-07-20T15:20:14.869Z"
   },
   {
    "duration": 57,
    "start_time": "2024-07-20T15:20:15.966Z"
   },
   {
    "duration": 82,
    "start_time": "2024-07-20T15:20:16.973Z"
   },
   {
    "duration": 8,
    "start_time": "2024-07-20T15:20:19.762Z"
   },
   {
    "duration": 8,
    "start_time": "2024-07-20T15:20:20.625Z"
   },
   {
    "duration": 10,
    "start_time": "2024-07-20T15:20:24.390Z"
   },
   {
    "duration": 9,
    "start_time": "2024-07-20T15:20:25.569Z"
   },
   {
    "duration": 1772,
    "start_time": "2024-07-20T15:20:28.395Z"
   },
   {
    "duration": 1546,
    "start_time": "2024-07-20T15:20:30.179Z"
   },
   {
    "duration": 35,
    "start_time": "2024-07-20T15:20:34.995Z"
   },
   {
    "duration": 16,
    "start_time": "2024-07-20T15:20:37.303Z"
   },
   {
    "duration": 23,
    "start_time": "2024-07-20T15:20:39.518Z"
   },
   {
    "duration": 77,
    "start_time": "2024-07-20T15:20:41.075Z"
   },
   {
    "duration": 30,
    "start_time": "2024-07-20T15:20:42.624Z"
   },
   {
    "duration": 21,
    "start_time": "2024-07-20T15:20:48.896Z"
   },
   {
    "duration": 15,
    "start_time": "2024-07-20T15:35:00.821Z"
   },
   {
    "duration": 87,
    "start_time": "2024-07-20T15:40:26.781Z"
   },
   {
    "duration": 76,
    "start_time": "2024-07-20T15:41:11.518Z"
   },
   {
    "duration": 3,
    "start_time": "2024-07-20T15:47:13.180Z"
   },
   {
    "duration": 970,
    "start_time": "2024-07-20T15:49:39.228Z"
   },
   {
    "duration": 150,
    "start_time": "2024-07-20T15:51:27.439Z"
   },
   {
    "duration": 28,
    "start_time": "2024-07-20T15:52:35.313Z"
   },
   {
    "duration": 14,
    "start_time": "2024-07-20T15:56:51.890Z"
   },
   {
    "duration": 45,
    "start_time": "2024-07-20T16:05:52.994Z"
   },
   {
    "duration": 6,
    "start_time": "2024-07-20T16:20:28.611Z"
   },
   {
    "duration": 6,
    "start_time": "2024-07-20T16:20:40.087Z"
   },
   {
    "duration": 16,
    "start_time": "2024-07-20T16:21:04.170Z"
   },
   {
    "duration": 44,
    "start_time": "2024-07-20T16:28:07.877Z"
   },
   {
    "duration": 6326,
    "start_time": "2024-07-20T16:28:58.946Z"
   },
   {
    "duration": 272,
    "start_time": "2024-07-20T16:34:47.576Z"
   },
   {
    "duration": 323,
    "start_time": "2024-07-20T16:42:37.284Z"
   },
   {
    "duration": 191,
    "start_time": "2024-07-20T16:54:30.311Z"
   },
   {
    "duration": 182,
    "start_time": "2024-07-20T16:57:25.198Z"
   },
   {
    "duration": 20,
    "start_time": "2024-07-20T16:57:25.837Z"
   },
   {
    "duration": 9,
    "start_time": "2024-07-20T16:57:26.449Z"
   },
   {
    "duration": 586,
    "start_time": "2024-07-20T16:57:27.088Z"
   },
   {
    "duration": 201,
    "start_time": "2024-07-20T17:19:20.659Z"
   },
   {
    "duration": 298,
    "start_time": "2024-07-20T17:19:58.783Z"
   },
   {
    "duration": 204,
    "start_time": "2024-07-20T17:24:13.633Z"
   },
   {
    "duration": 373,
    "start_time": "2024-07-20T17:24:26.693Z"
   },
   {
    "duration": 194,
    "start_time": "2024-07-20T17:25:45.860Z"
   },
   {
    "duration": 284,
    "start_time": "2024-07-20T17:25:58.793Z"
   },
   {
    "duration": 200,
    "start_time": "2024-07-20T17:29:40.590Z"
   },
   {
    "duration": 374,
    "start_time": "2024-07-20T17:29:43.514Z"
   },
   {
    "duration": 1415,
    "start_time": "2024-07-20T17:38:58.580Z"
   },
   {
    "duration": 4,
    "start_time": "2024-07-20T17:39:18.260Z"
   },
   {
    "duration": 702,
    "start_time": "2024-07-20T17:39:28.749Z"
   },
   {
    "duration": 1409,
    "start_time": "2024-07-20T17:40:28.795Z"
   },
   {
    "duration": 6,
    "start_time": "2024-07-20T17:40:44.924Z"
   },
   {
    "duration": 71,
    "start_time": "2024-07-20T17:40:55.298Z"
   },
   {
    "duration": 1422,
    "start_time": "2024-07-20T17:42:30.677Z"
   },
   {
    "duration": 5,
    "start_time": "2024-07-20T17:42:42.809Z"
   },
   {
    "duration": 20,
    "start_time": "2024-07-20T17:42:55.966Z"
   },
   {
    "duration": 1741,
    "start_time": "2024-07-20T17:58:54.533Z"
   },
   {
    "duration": 22,
    "start_time": "2024-07-20T17:59:13.588Z"
   },
   {
    "duration": 354,
    "start_time": "2024-07-20T17:59:29.106Z"
   },
   {
    "duration": 254,
    "start_time": "2024-07-20T18:02:07.624Z"
   },
   {
    "duration": 350,
    "start_time": "2024-07-20T18:02:37.267Z"
   },
   {
    "duration": 2247,
    "start_time": "2024-07-20T18:03:18.522Z"
   },
   {
    "duration": 353,
    "start_time": "2024-07-20T18:04:22.050Z"
   },
   {
    "duration": 246,
    "start_time": "2024-07-20T18:10:10.097Z"
   },
   {
    "duration": 352,
    "start_time": "2024-07-20T18:27:06.550Z"
   },
   {
    "duration": 277,
    "start_time": "2024-07-20T18:27:19.845Z"
   },
   {
    "duration": 445,
    "start_time": "2024-07-20T18:30:31.332Z"
   },
   {
    "duration": 254,
    "start_time": "2024-07-20T18:31:24.846Z"
   },
   {
    "duration": 258,
    "start_time": "2024-07-20T18:31:58.109Z"
   },
   {
    "duration": 1561,
    "start_time": "2024-07-20T18:41:07.077Z"
   },
   {
    "duration": 5,
    "start_time": "2024-07-20T18:41:36.342Z"
   },
   {
    "duration": 20,
    "start_time": "2024-07-20T18:42:05.629Z"
   },
   {
    "duration": 101,
    "start_time": "2024-07-20T18:42:24.218Z"
   },
   {
    "duration": 1603,
    "start_time": "2024-07-20T18:43:36.798Z"
   },
   {
    "duration": 11,
    "start_time": "2024-07-20T18:43:47.638Z"
   },
   {
    "duration": 20,
    "start_time": "2024-07-20T18:44:00.632Z"
   },
   {
    "duration": 72,
    "start_time": "2024-07-20T18:44:12.594Z"
   },
   {
    "duration": 18,
    "start_time": "2024-07-20T18:45:20.035Z"
   },
   {
    "duration": 60,
    "start_time": "2024-07-20T18:45:37.258Z"
   },
   {
    "duration": 455,
    "start_time": "2024-07-20T18:46:05.640Z"
   },
   {
    "duration": 3792,
    "start_time": "2024-07-20T18:46:06.099Z"
   },
   {
    "duration": 45,
    "start_time": "2024-07-20T18:46:09.894Z"
   },
   {
    "duration": 19,
    "start_time": "2024-07-20T18:46:09.942Z"
   },
   {
    "duration": 14,
    "start_time": "2024-07-20T18:46:09.964Z"
   },
   {
    "duration": 14,
    "start_time": "2024-07-20T18:46:09.982Z"
   },
   {
    "duration": 17,
    "start_time": "2024-07-20T18:46:10.034Z"
   },
   {
    "duration": 294,
    "start_time": "2024-07-20T18:46:10.054Z"
   },
   {
    "duration": 1616,
    "start_time": "2024-07-20T18:46:10.351Z"
   },
   {
    "duration": 195,
    "start_time": "2024-07-20T18:46:11.971Z"
   },
   {
    "duration": 183,
    "start_time": "2024-07-20T18:46:12.169Z"
   },
   {
    "duration": 48,
    "start_time": "2024-07-20T18:46:12.355Z"
   },
   {
    "duration": 23,
    "start_time": "2024-07-20T18:46:14.049Z"
   },
   {
    "duration": 6,
    "start_time": "2024-07-20T18:46:15.178Z"
   },
   {
    "duration": 51,
    "start_time": "2024-07-20T18:46:15.739Z"
   },
   {
    "duration": 53,
    "start_time": "2024-07-20T18:46:15.983Z"
   },
   {
    "duration": 6,
    "start_time": "2024-07-20T18:46:16.766Z"
   },
   {
    "duration": 6,
    "start_time": "2024-07-20T18:46:17.045Z"
   },
   {
    "duration": 7,
    "start_time": "2024-07-20T18:46:17.808Z"
   },
   {
    "duration": 6,
    "start_time": "2024-07-20T18:46:18.085Z"
   },
   {
    "duration": 1355,
    "start_time": "2024-07-20T18:46:18.915Z"
   },
   {
    "duration": 1182,
    "start_time": "2024-07-20T18:46:20.274Z"
   },
   {
    "duration": 17,
    "start_time": "2024-07-20T18:46:21.459Z"
   },
   {
    "duration": 16,
    "start_time": "2024-07-20T18:46:21.479Z"
   },
   {
    "duration": 15,
    "start_time": "2024-07-20T18:46:22.920Z"
   },
   {
    "duration": 451,
    "start_time": "2024-07-20T18:46:41.099Z"
   },
   {
    "duration": 3786,
    "start_time": "2024-07-20T18:46:41.553Z"
   },
   {
    "duration": 32,
    "start_time": "2024-07-20T18:46:45.343Z"
   },
   {
    "duration": 18,
    "start_time": "2024-07-20T18:46:45.380Z"
   },
   {
    "duration": 45,
    "start_time": "2024-07-20T18:46:45.401Z"
   },
   {
    "duration": 17,
    "start_time": "2024-07-20T18:46:45.449Z"
   },
   {
    "duration": 12,
    "start_time": "2024-07-20T18:46:45.470Z"
   },
   {
    "duration": 313,
    "start_time": "2024-07-20T18:46:45.486Z"
   },
   {
    "duration": 1568,
    "start_time": "2024-07-20T18:46:45.802Z"
   },
   {
    "duration": 186,
    "start_time": "2024-07-20T18:46:47.376Z"
   },
   {
    "duration": 186,
    "start_time": "2024-07-20T18:46:47.565Z"
   },
   {
    "duration": 43,
    "start_time": "2024-07-20T18:46:47.754Z"
   },
   {
    "duration": 48,
    "start_time": "2024-07-20T18:46:47.800Z"
   },
   {
    "duration": 6,
    "start_time": "2024-07-20T18:46:47.851Z"
   },
   {
    "duration": 45,
    "start_time": "2024-07-20T18:46:47.861Z"
   },
   {
    "duration": 52,
    "start_time": "2024-07-20T18:46:47.934Z"
   },
   {
    "duration": 8,
    "start_time": "2024-07-20T18:46:47.990Z"
   },
   {
    "duration": 33,
    "start_time": "2024-07-20T18:46:48.001Z"
   },
   {
    "duration": 8,
    "start_time": "2024-07-20T18:46:48.038Z"
   },
   {
    "duration": 8,
    "start_time": "2024-07-20T18:46:48.049Z"
   },
   {
    "duration": 1383,
    "start_time": "2024-07-20T18:46:48.060Z"
   },
   {
    "duration": 1182,
    "start_time": "2024-07-20T18:46:49.445Z"
   },
   {
    "duration": 16,
    "start_time": "2024-07-20T18:46:50.634Z"
   },
   {
    "duration": 16,
    "start_time": "2024-07-20T18:46:50.653Z"
   },
   {
    "duration": 16,
    "start_time": "2024-07-20T18:46:50.672Z"
   },
   {
    "duration": 115,
    "start_time": "2024-07-20T18:46:50.691Z"
   },
   {
    "duration": 29,
    "start_time": "2024-07-20T18:46:50.808Z"
   },
   {
    "duration": 19,
    "start_time": "2024-07-20T18:46:50.845Z"
   },
   {
    "duration": 15,
    "start_time": "2024-07-20T18:46:50.867Z"
   },
   {
    "duration": 91,
    "start_time": "2024-07-20T18:46:50.885Z"
   },
   {
    "duration": 75,
    "start_time": "2024-07-20T18:46:50.980Z"
   },
   {
    "duration": 28,
    "start_time": "2024-07-20T18:46:51.058Z"
   },
   {
    "duration": 11,
    "start_time": "2024-07-20T18:46:51.090Z"
   },
   {
    "duration": 62,
    "start_time": "2024-07-20T18:46:51.104Z"
   },
   {
    "duration": 5,
    "start_time": "2024-07-20T18:46:51.169Z"
   },
   {
    "duration": 16,
    "start_time": "2024-07-20T18:46:51.178Z"
   },
   {
    "duration": 926,
    "start_time": "2024-07-20T18:46:51.197Z"
   },
   {
    "duration": 286,
    "start_time": "2024-07-20T18:46:52.134Z"
   },
   {
    "duration": 320,
    "start_time": "2024-07-20T18:46:52.432Z"
   },
   {
    "duration": 189,
    "start_time": "2024-07-20T18:46:52.755Z"
   },
   {
    "duration": 15,
    "start_time": "2024-07-20T18:46:52.947Z"
   },
   {
    "duration": 7,
    "start_time": "2024-07-20T18:46:52.965Z"
   },
   {
    "duration": 539,
    "start_time": "2024-07-20T18:46:52.975Z"
   },
   {
    "duration": 218,
    "start_time": "2024-07-20T18:46:53.517Z"
   },
   {
    "duration": 400,
    "start_time": "2024-07-20T18:46:53.737Z"
   },
   {
    "duration": 1439,
    "start_time": "2024-07-20T18:46:54.139Z"
   },
   {
    "duration": 6,
    "start_time": "2024-07-20T18:46:55.580Z"
   },
   {
    "duration": 22,
    "start_time": "2024-07-20T18:46:55.590Z"
   },
   {
    "duration": 1740,
    "start_time": "2024-07-20T18:46:55.634Z"
   },
   {
    "duration": 22,
    "start_time": "2024-07-20T18:46:57.377Z"
   },
   {
    "duration": 275,
    "start_time": "2024-07-20T18:46:57.402Z"
   },
   {
    "duration": 1480,
    "start_time": "2024-07-20T18:46:57.681Z"
   },
   {
    "duration": 6,
    "start_time": "2024-07-20T18:46:59.164Z"
   },
   {
    "duration": 21,
    "start_time": "2024-07-20T18:46:59.172Z"
   },
   {
    "duration": 1017,
    "start_time": "2024-07-20T18:46:59.196Z"
   },
   {
    "duration": 18,
    "start_time": "2024-07-20T18:48:23.524Z"
   },
   {
    "duration": 21,
    "start_time": "2024-07-20T18:48:27.530Z"
   },
   {
    "duration": 62,
    "start_time": "2024-07-20T18:49:20.706Z"
   },
   {
    "duration": 9,
    "start_time": "2024-07-20T18:50:23.154Z"
   },
   {
    "duration": 1706,
    "start_time": "2024-07-20T19:06:08.427Z"
   },
   {
    "duration": 20,
    "start_time": "2024-07-20T19:07:16.143Z"
   },
   {
    "duration": 34,
    "start_time": "2024-07-20T19:07:52.123Z"
   },
   {
    "duration": 29,
    "start_time": "2024-07-20T19:14:07.114Z"
   },
   {
    "duration": 16,
    "start_time": "2024-07-20T19:14:17.459Z"
   },
   {
    "duration": 27,
    "start_time": "2024-07-20T19:14:20.104Z"
   },
   {
    "duration": 2703,
    "start_time": "2024-07-20T19:25:25.766Z"
   },
   {
    "duration": 25,
    "start_time": "2024-07-20T19:26:44.923Z"
   },
   {
    "duration": 20,
    "start_time": "2024-07-20T19:29:38.041Z"
   },
   {
    "duration": 3826,
    "start_time": "2024-07-20T19:30:27.377Z"
   },
   {
    "duration": 129,
    "start_time": "2024-07-20T19:30:36.973Z"
   },
   {
    "duration": 2345,
    "start_time": "2024-07-20T19:33:17.096Z"
   },
   {
    "duration": 1533,
    "start_time": "2024-07-20T19:34:19.964Z"
   },
   {
    "duration": 40,
    "start_time": "2024-07-20T19:43:44.917Z"
   },
   {
    "duration": 13,
    "start_time": "2024-07-20T19:44:11.753Z"
   },
   {
    "duration": 21,
    "start_time": "2024-07-20T19:44:29.256Z"
   },
   {
    "duration": 15,
    "start_time": "2024-07-20T19:50:16.037Z"
   },
   {
    "duration": 13,
    "start_time": "2024-07-20T19:51:10.100Z"
   },
   {
    "duration": 28,
    "start_time": "2024-07-20T19:52:07.128Z"
   },
   {
    "duration": 13,
    "start_time": "2024-07-20T19:53:40.490Z"
   },
   {
    "duration": 12,
    "start_time": "2024-07-21T07:59:10.934Z"
   },
   {
    "duration": 6,
    "start_time": "2024-07-21T07:59:50.237Z"
   },
   {
    "duration": 5,
    "start_time": "2024-07-21T08:00:34.028Z"
   },
   {
    "duration": 6,
    "start_time": "2024-07-21T08:00:36.628Z"
   },
   {
    "duration": 7,
    "start_time": "2024-07-21T08:01:50.882Z"
   },
   {
    "duration": 6,
    "start_time": "2024-07-21T08:05:07.131Z"
   },
   {
    "duration": 5315,
    "start_time": "2024-07-21T08:08:24.167Z"
   },
   {
    "duration": 4753,
    "start_time": "2024-07-21T08:08:29.486Z"
   },
   {
    "duration": 38,
    "start_time": "2024-07-21T08:08:34.242Z"
   },
   {
    "duration": 17,
    "start_time": "2024-07-21T08:08:34.284Z"
   },
   {
    "duration": 15,
    "start_time": "2024-07-21T08:08:34.330Z"
   },
   {
    "duration": 16,
    "start_time": "2024-07-21T08:08:34.348Z"
   },
   {
    "duration": 24,
    "start_time": "2024-07-21T08:08:34.367Z"
   },
   {
    "duration": 320,
    "start_time": "2024-07-21T08:08:34.395Z"
   },
   {
    "duration": 1699,
    "start_time": "2024-07-21T08:08:34.718Z"
   },
   {
    "duration": 194,
    "start_time": "2024-07-21T08:08:36.423Z"
   },
   {
    "duration": 198,
    "start_time": "2024-07-21T08:08:36.620Z"
   },
   {
    "duration": 61,
    "start_time": "2024-07-21T08:08:36.822Z"
   },
   {
    "duration": 51,
    "start_time": "2024-07-21T08:08:36.886Z"
   },
   {
    "duration": 9,
    "start_time": "2024-07-21T08:08:36.939Z"
   },
   {
    "duration": 76,
    "start_time": "2024-07-21T08:08:36.954Z"
   },
   {
    "duration": 53,
    "start_time": "2024-07-21T08:08:37.034Z"
   },
   {
    "duration": 9,
    "start_time": "2024-07-21T08:08:37.090Z"
   },
   {
    "duration": 7,
    "start_time": "2024-07-21T08:08:37.131Z"
   },
   {
    "duration": 11,
    "start_time": "2024-07-21T08:08:37.145Z"
   },
   {
    "duration": 8,
    "start_time": "2024-07-21T08:08:37.167Z"
   },
   {
    "duration": 1409,
    "start_time": "2024-07-21T08:08:37.179Z"
   },
   {
    "duration": 1203,
    "start_time": "2024-07-21T08:08:38.591Z"
   },
   {
    "duration": 32,
    "start_time": "2024-07-21T08:08:39.798Z"
   },
   {
    "duration": 18,
    "start_time": "2024-07-21T08:08:39.833Z"
   },
   {
    "duration": 17,
    "start_time": "2024-07-21T08:08:39.854Z"
   },
   {
    "duration": 130,
    "start_time": "2024-07-21T08:08:39.875Z"
   },
   {
    "duration": 23,
    "start_time": "2024-07-21T08:08:40.009Z"
   },
   {
    "duration": 22,
    "start_time": "2024-07-21T08:08:40.042Z"
   },
   {
    "duration": 16,
    "start_time": "2024-07-21T08:08:40.067Z"
   },
   {
    "duration": 100,
    "start_time": "2024-07-21T08:08:40.087Z"
   },
   {
    "duration": 76,
    "start_time": "2024-07-21T08:08:40.190Z"
   },
   {
    "duration": 30,
    "start_time": "2024-07-21T08:08:40.270Z"
   },
   {
    "duration": 25,
    "start_time": "2024-07-21T08:08:40.305Z"
   },
   {
    "duration": 52,
    "start_time": "2024-07-21T08:08:40.333Z"
   },
   {
    "duration": 6,
    "start_time": "2024-07-21T08:08:40.388Z"
   },
   {
    "duration": 41,
    "start_time": "2024-07-21T08:08:40.398Z"
   },
   {
    "duration": 699,
    "start_time": "2024-07-21T08:08:40.442Z"
   },
   {
    "duration": 308,
    "start_time": "2024-07-21T08:08:41.144Z"
   },
   {
    "duration": 370,
    "start_time": "2024-07-21T08:08:41.454Z"
   },
   {
    "duration": 220,
    "start_time": "2024-07-21T08:08:41.832Z"
   },
   {
    "duration": 22,
    "start_time": "2024-07-21T08:08:42.056Z"
   },
   {
    "duration": 10,
    "start_time": "2024-07-21T08:08:42.081Z"
   },
   {
    "duration": 512,
    "start_time": "2024-07-21T08:08:42.095Z"
   },
   {
    "duration": 263,
    "start_time": "2024-07-21T08:08:42.610Z"
   },
   {
    "duration": 408,
    "start_time": "2024-07-21T08:08:42.875Z"
   },
   {
    "duration": 1472,
    "start_time": "2024-07-21T08:08:43.286Z"
   },
   {
    "duration": 7,
    "start_time": "2024-07-21T08:08:44.761Z"
   },
   {
    "duration": 22,
    "start_time": "2024-07-21T08:08:44.772Z"
   },
   {
    "duration": 1805,
    "start_time": "2024-07-21T08:08:44.797Z"
   },
   {
    "duration": 33,
    "start_time": "2024-07-21T08:08:46.605Z"
   },
   {
    "duration": 268,
    "start_time": "2024-07-21T08:08:46.642Z"
   },
   {
    "duration": 1508,
    "start_time": "2024-07-21T08:08:46.913Z"
   },
   {
    "duration": 7,
    "start_time": "2024-07-21T08:08:48.424Z"
   },
   {
    "duration": 21,
    "start_time": "2024-07-21T08:08:48.435Z"
   },
   {
    "duration": 10,
    "start_time": "2024-07-21T08:08:48.459Z"
   },
   {
    "duration": 1688,
    "start_time": "2024-07-21T08:08:48.473Z"
   },
   {
    "duration": 19,
    "start_time": "2024-07-21T08:08:50.166Z"
   },
   {
    "duration": 51,
    "start_time": "2024-07-21T08:08:50.190Z"
   },
   {
    "duration": 1180,
    "start_time": "2024-07-21T08:08:50.244Z"
   },
   {
    "duration": 1774,
    "start_time": "2024-07-21T08:08:51.430Z"
   },
   {
    "duration": 56,
    "start_time": "2024-07-21T08:08:53.208Z"
   },
   {
    "duration": 17,
    "start_time": "2024-07-21T08:08:53.267Z"
   },
   {
    "duration": 50,
    "start_time": "2024-07-21T08:08:53.286Z"
   },
   {
    "duration": 3019,
    "start_time": "2024-07-21T08:19:48.362Z"
   },
   {
    "duration": 16,
    "start_time": "2024-07-21T08:20:17.625Z"
   },
   {
    "duration": 486,
    "start_time": "2024-07-21T08:38:19.174Z"
   },
   {
    "duration": 42,
    "start_time": "2024-07-21T08:39:01.112Z"
   },
   {
    "duration": 706,
    "start_time": "2024-07-21T09:02:38.914Z"
   },
   {
    "duration": 3873,
    "start_time": "2024-07-21T09:02:39.623Z"
   },
   {
    "duration": 45,
    "start_time": "2024-07-21T09:02:43.499Z"
   },
   {
    "duration": 15,
    "start_time": "2024-07-21T09:02:43.550Z"
   },
   {
    "duration": 16,
    "start_time": "2024-07-21T09:02:43.568Z"
   },
   {
    "duration": 55,
    "start_time": "2024-07-21T09:02:43.587Z"
   },
   {
    "duration": 14,
    "start_time": "2024-07-21T09:02:43.645Z"
   },
   {
    "duration": 296,
    "start_time": "2024-07-21T09:02:43.661Z"
   },
   {
    "duration": 1648,
    "start_time": "2024-07-21T09:02:43.961Z"
   },
   {
    "duration": 187,
    "start_time": "2024-07-21T09:02:45.615Z"
   },
   {
    "duration": 183,
    "start_time": "2024-07-21T09:02:45.805Z"
   },
   {
    "duration": 52,
    "start_time": "2024-07-21T09:02:45.991Z"
   },
   {
    "duration": 27,
    "start_time": "2024-07-21T09:02:46.046Z"
   },
   {
    "duration": 7,
    "start_time": "2024-07-21T09:02:46.075Z"
   },
   {
    "duration": 74,
    "start_time": "2024-07-21T09:02:46.086Z"
   },
   {
    "duration": 68,
    "start_time": "2024-07-21T09:02:46.163Z"
   },
   {
    "duration": 8,
    "start_time": "2024-07-21T09:02:46.234Z"
   },
   {
    "duration": 7,
    "start_time": "2024-07-21T09:02:46.245Z"
   },
   {
    "duration": 10,
    "start_time": "2024-07-21T09:02:46.255Z"
   },
   {
    "duration": 7,
    "start_time": "2024-07-21T09:02:46.268Z"
   },
   {
    "duration": 1405,
    "start_time": "2024-07-21T09:02:46.278Z"
   },
   {
    "duration": 1163,
    "start_time": "2024-07-21T09:02:47.686Z"
   },
   {
    "duration": 18,
    "start_time": "2024-07-21T09:02:48.851Z"
   },
   {
    "duration": 17,
    "start_time": "2024-07-21T09:02:48.872Z"
   },
   {
    "duration": 47,
    "start_time": "2024-07-21T09:02:48.892Z"
   },
   {
    "duration": 88,
    "start_time": "2024-07-21T09:02:48.942Z"
   },
   {
    "duration": 21,
    "start_time": "2024-07-21T09:02:49.034Z"
   },
   {
    "duration": 20,
    "start_time": "2024-07-21T09:02:49.064Z"
   },
   {
    "duration": 51,
    "start_time": "2024-07-21T09:02:49.087Z"
   },
   {
    "duration": 56,
    "start_time": "2024-07-21T09:02:49.143Z"
   },
   {
    "duration": 66,
    "start_time": "2024-07-21T09:02:49.202Z"
   },
   {
    "duration": 27,
    "start_time": "2024-07-21T09:02:49.271Z"
   },
   {
    "duration": 526,
    "start_time": "2024-07-21T09:02:49.301Z"
   },
   {
    "duration": 42,
    "start_time": "2024-07-21T09:02:49.832Z"
   },
   {
    "duration": 6,
    "start_time": "2024-07-21T09:02:49.877Z"
   },
   {
    "duration": 50,
    "start_time": "2024-07-21T09:02:49.886Z"
   },
   {
    "duration": 610,
    "start_time": "2024-07-21T09:02:49.939Z"
   },
   {
    "duration": 284,
    "start_time": "2024-07-21T09:02:50.552Z"
   },
   {
    "duration": 322,
    "start_time": "2024-07-21T09:02:50.839Z"
   },
   {
    "duration": 199,
    "start_time": "2024-07-21T09:02:51.165Z"
   },
   {
    "duration": 19,
    "start_time": "2024-07-21T09:02:51.367Z"
   },
   {
    "duration": 9,
    "start_time": "2024-07-21T09:02:51.390Z"
   },
   {
    "duration": 478,
    "start_time": "2024-07-21T09:02:51.430Z"
   },
   {
    "duration": 255,
    "start_time": "2024-07-21T09:02:51.914Z"
   },
   {
    "duration": 413,
    "start_time": "2024-07-21T09:02:52.172Z"
   },
   {
    "duration": 1546,
    "start_time": "2024-07-21T09:02:52.589Z"
   },
   {
    "duration": 6,
    "start_time": "2024-07-21T09:02:54.138Z"
   },
   {
    "duration": 21,
    "start_time": "2024-07-21T09:02:54.147Z"
   },
   {
    "duration": 1851,
    "start_time": "2024-07-21T09:02:54.171Z"
   },
   {
    "duration": 24,
    "start_time": "2024-07-21T09:02:56.026Z"
   },
   {
    "duration": 282,
    "start_time": "2024-07-21T09:02:56.055Z"
   },
   {
    "duration": 1611,
    "start_time": "2024-07-21T09:02:56.340Z"
   },
   {
    "duration": 6,
    "start_time": "2024-07-21T09:02:57.954Z"
   },
   {
    "duration": 21,
    "start_time": "2024-07-21T09:02:57.963Z"
   },
   {
    "duration": 10,
    "start_time": "2024-07-21T09:02:57.988Z"
   },
   {
    "duration": 1769,
    "start_time": "2024-07-21T09:02:58.033Z"
   },
   {
    "duration": 32,
    "start_time": "2024-07-21T09:02:59.806Z"
   },
   {
    "duration": 32,
    "start_time": "2024-07-21T09:02:59.841Z"
   },
   {
    "duration": 3236,
    "start_time": "2024-07-21T09:02:59.876Z"
   },
   {
    "duration": 28,
    "start_time": "2024-07-21T09:03:03.115Z"
   },
   {
    "duration": 52,
    "start_time": "2024-07-21T09:03:03.147Z"
   },
   {
    "duration": 38,
    "start_time": "2024-07-21T09:03:03.202Z"
   },
   {
    "duration": 26,
    "start_time": "2024-07-21T09:03:03.242Z"
   },
   {
    "duration": 1847,
    "start_time": "2024-07-21T09:03:09.367Z"
   },
   {
    "duration": 14,
    "start_time": "2024-07-22T03:53:13.914Z"
   }
  ],
  "colab": {
   "provenance": []
  },
  "kernelspec": {
   "display_name": "Python 3 (ipykernel)",
   "language": "python",
   "name": "python3"
  },
  "language_info": {
   "codemirror_mode": {
    "name": "ipython",
    "version": 3
   },
   "file_extension": ".py",
   "mimetype": "text/x-python",
   "name": "python",
   "nbconvert_exporter": "python",
   "pygments_lexer": "ipython3",
   "version": "3.9.19"
  },
  "toc": {
   "base_numbering": 1,
   "nav_menu": {},
   "number_sections": true,
   "sideBar": true,
   "skip_h1_title": true,
   "title_cell": "Table of Contents",
   "title_sidebar": "Contents",
   "toc_cell": false,
   "toc_position": {},
   "toc_section_display": true,
   "toc_window_display": false
  },
  "vscode": {
   "interpreter": {
    "hash": "01a7be9ec63e704a62cefc5fe7a4756944464ee731be31632bdf42a4cb4688cf"
   }
  }
 },
 "nbformat": 4,
 "nbformat_minor": 5
}
