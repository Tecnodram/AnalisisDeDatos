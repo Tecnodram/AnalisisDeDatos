{
 "cells": [
  {
   "cell_type": "markdown",
   "metadata": {
    "toc": true
   },
   "source": [
    "<h1>Table of Contents<span class=\"tocSkip\"></span></h1>\n",
    "<div class=\"toc\"><ul class=\"toc-item\"><li><span><a href=\"#Nota\" data-toc-modified-id=\"Nota-1\"><span class=\"toc-item-num\">1&nbsp;&nbsp;</span>Nota</a></span></li></ul></div>"
   ]
  },
  {
   "cell_type": "markdown",
   "metadata": {
    "id": "E0vqbgi9ay0H"
   },
   "source": [
    "# Déjame escuchar la música"
   ]
  },
  {
   "cell_type": "markdown",
   "metadata": {
    "id": "fhq_eyov_Zcs"
   },
   "source": [
    "# Tabla de contenidos <a id='back'></a>\n",
    "\n",
    "* [Introducción](#intro)\n",
    "* [Etapa 1. Descripción de los datos](#data_review)\n",
    "    * [Conclusiones](#data_review_conclusions)\n",
    "* [Etapa 2. Preprocesamiento de datos](#data_preprocessing)\n",
    "    * [2.1 Estilo del encabezado](#header_style)\n",
    "    * [2.2 Valores ausentes](#missing_values)\n",
    "    * [2.3 Duplicados](#duplicates)\n",
    "    * [2.4 Conclusiones](#data_preprocessing_conclusions)\n",
    "* [Etapa 3. Prueba de hipótesis](#hypothesis)\n",
    "    * [3.1 Hipótesis 1: actividad de los usuarios y las usuarias en las dos ciudades](#activity)\n",
    "* [Conclusiones](#end)"
   ]
  },
  {
   "cell_type": "markdown",
   "metadata": {
    "id": "VUC88oWjTJw2"
   },
   "source": [
    "# Introducción <a id=\"intro\"></a>\n",
    "Como analista de datos, tu trabajo consiste en analizar datos para extraer información valiosa y tomar decisiones basadas en ellos. Esto implica diferentes etapas, como la descripción general de los datos, el preprocesamiento y la prueba de hipótesis.\n",
    "\n",
    "Siempre que investigamos, necesitamos formular hipótesis que después podamos probar. A veces aceptamos estas hipótesis; otras veces, las rechazamos. Para tomar las decisiones correctas, una empresa debe ser capaz de entender si está haciendo las suposiciones correctas.\n",
    "\n",
    "En este proyecto, compararás las preferencias musicales de las ciudades de Springfield y Shelbyville. Estudiarás datos reales de transmisión de música online para probar la hipótesis a continuación y comparar el comportamiento de los usuarios y las usuarias de estas dos ciudades.\n",
    "\n",
    "Objetivo:\n",
    "Prueba la hipótesis:\n",
    "1. La actividad de los usuarios y las usuarias difiere según el día de la semana y dependiendo de la ciudad.\n",
    "\n",
    "Etapas\n",
    "Los datos del comportamiento del usuario se almacenan en el archivo `/datasets/music_project_en.csv`. No hay ninguna información sobre la calidad de los datos, así que necesitarás examinarlos antes de probar la hipótesis.\n",
    "\n",
    "Primero, evaluarás la calidad de los datos y verás si los problemas son significativos. Entonces, durante el preprocesamiento de datos, tomarás en cuenta los problemas más críticos.\n",
    "\n",
    "Tu proyecto consistirá en tres etapas:\n",
    " 1. Descripción de los datos.\n",
    " 2. Preprocesamiento de datos.\n",
    " 3. Prueba de hipótesis.\n",
    "\n",
    "\n",
    "\n",
    "\n",
    "\n",
    "\n"
   ]
  },
  {
   "cell_type": "markdown",
   "metadata": {
    "id": "hDt6pg-Rw-1U"
   },
   "source": [
    "[Volver a Contenidos](#back)"
   ]
  },
  {
   "cell_type": "markdown",
   "metadata": {
    "id": "Ml1hmfXC_Zcs"
   },
   "source": [
    "# Etapa 1. Descripción de los datos<a id='data_review'></a>\n",
    "\n",
    "Abre los datos y examínalos."
   ]
  },
  {
   "cell_type": "markdown",
   "metadata": {
    "id": "57eAOGIz_Zcs"
   },
   "source": [
    "Necesitarás `pandas`, así que impórtalo."
   ]
  },
  {
   "cell_type": "code",
   "execution_count": 2,
   "metadata": {
    "id": "AXN7PHPN_Zcs",
    "trusted": true
   },
   "outputs": [],
   "source": [
    "# Importar pandas\n",
    "import pandas as pd"
   ]
  },
  {
   "cell_type": "markdown",
   "metadata": {
    "id": "SG23P8tt_Zcs"
   },
   "source": [
    "Lee el archivo `music_project_en.csv` de la carpeta `/datasets/` y guárdalo en la variable `df`:"
   ]
  },
  {
   "cell_type": "code",
   "execution_count": 12,
   "metadata": {
    "id": "fFVu7vqh_Zct",
    "trusted": true
   },
   "outputs": [],
   "source": [
    "# Leer el archivo CSV desde la carpeta /datasets/\n",
    "file_path = '/datasets/music_project_en.csv'\n",
    "df = pd.read_csv(file_path)"
   ]
  },
  {
   "cell_type": "markdown",
   "metadata": {
    "id": "rDoOMd3uTqnZ"
   },
   "source": [
    "Muestra las 10 primeras filas de la tabla:"
   ]
  },
  {
   "cell_type": "code",
   "execution_count": 6,
   "metadata": {
    "id": "oWTVX3gW_Zct",
    "trusted": true
   },
   "outputs": [
    {
     "name": "stdout",
     "output_type": "stream",
     "text": [
      "     userID                        Track            artist   genre  \\\n",
      "0  FFB692EC            Kamigata To Boots  The Mass Missile    rock   \n",
      "1  55204538  Delayed Because of Accident  Andreas Rönnberg    rock   \n",
      "2    20EC38            Funiculì funiculà       Mario Lanza     pop   \n",
      "3  A3DD03C9        Dragons in the Sunset        Fire + Ice    folk   \n",
      "4  E2DC1FAE                  Soul People        Space Echo   dance   \n",
      "5  842029A1                       Chains          Obladaet  rusrap   \n",
      "6  4CB90AA5                         True      Roman Messer   dance   \n",
      "7  F03E1C1F             Feeling This Way   Polina Griffith   dance   \n",
      "8  8FA1D3BE                     L’estate       Julia Dalia  ruspop   \n",
      "9  E772D5C0                    Pessimist               NaN   dance   \n",
      "\n",
      "        City        time        Day  \n",
      "0  Shelbyville  20:28:33  Wednesday  \n",
      "1  Springfield  14:07:09     Friday  \n",
      "2  Shelbyville  20:58:07  Wednesday  \n",
      "3  Shelbyville  08:37:09     Monday  \n",
      "4  Springfield  08:34:34     Monday  \n",
      "5  Shelbyville  13:09:41     Friday  \n",
      "6  Springfield  13:00:07  Wednesday  \n",
      "7  Springfield  20:47:49  Wednesday  \n",
      "8  Springfield  09:17:40     Friday  \n",
      "9  Shelbyville  21:20:49  Wednesday  \n"
     ]
    }
   ],
   "source": [
    "# Obtener las 10 primeras filas de la tabla df\n",
    "print(df.head(10))"
   ]
  },
  {
   "cell_type": "markdown",
   "metadata": {
    "id": "EO73Kwic_Zct"
   },
   "source": [
    "Obtén la información general sobre la tabla con un comando. Conoces el método que muestra la información general que necesitamos."
   ]
  },
  {
   "cell_type": "code",
   "execution_count": 8,
   "metadata": {
    "id": "DSf2kIb-_Zct",
    "trusted": true
   },
   "outputs": [
    {
     "name": "stdout",
     "output_type": "stream",
     "text": [
      "<class 'pandas.core.frame.DataFrame'>\n",
      "RangeIndex: 65079 entries, 0 to 65078\n",
      "Data columns (total 7 columns):\n",
      " #   Column    Non-Null Count  Dtype \n",
      "---  ------    --------------  ----- \n",
      " 0     userID  65079 non-null  object\n",
      " 1   Track     63736 non-null  object\n",
      " 2   artist    57512 non-null  object\n",
      " 3   genre     63881 non-null  object\n",
      " 4     City    65079 non-null  object\n",
      " 5   time      65079 non-null  object\n",
      " 6   Day       65079 non-null  object\n",
      "dtypes: object(7)\n",
      "memory usage: 3.5+ MB\n",
      "None\n"
     ]
    }
   ],
   "source": [
    "# Obtener la información general sobre nuestros datos\n",
    "df_info = df.info()\n",
    "\n",
    "# Imprimir la información general\n",
    "print(df_info)"
   ]
  },
  {
   "cell_type": "markdown",
   "metadata": {
    "id": "TaQ2Iwbr_Zct"
   },
   "source": [
    "Estas son nuestras observaciones sobre la tabla. Contiene siete columnas. Almacenan los mismos tipos de datos: `object`.\n",
    "\n",
    "Según la documentación:\n",
    "- `' userID'`: identificador del usuario o la usuaria;\n",
    "- `'Track'`: título de la canción;\n",
    "- `'artist'`: nombre del artista;\n",
    "- `'genre'`: género de la pista;\n",
    "- `'City'`: ciudad del usuario o la usuaria;\n",
    "- `'time'`: la hora exacta en la que se reprodujo la canción;\n",
    "- `'Day'`: día de la semana.\n",
    "\n",
    "Podemos ver tres problemas con el estilo en los encabezados de la tabla:\n",
    "1. Algunos encabezados están en mayúsculas, otros en minúsculas.\n",
    "2. Hay espacios en algunos encabezados.\n",
    "3. Inconsistencia en el uso de los espacios y el formato general en los nombres de las columnas.\n",
    "\n"
   ]
  },
  {
   "cell_type": "markdown",
   "metadata": {
    "id": "MCB6-dXG_Zct"
   },
   "source": [
    "# Conclusiones<a id='data_review_conclusions'></a>\n",
    "\n",
    "Tipo de Datos en las Filas y Entendimiento de las Columnas:\n",
    "Al revisar los datos, me di cuenta de que cada fila representa la reproducción de una canción por un usuario en una ciudad específica y en un día particular de la semana. Las columnas nos brindan información detallada: userID es el identificador del usuario, track es el título de la canción, artist es el nombre del artista, genre es el género musical, city es la ciudad del usuario, time es la hora exacta en que se reprodujo la canción, y day es el día de la semana. Todos estos datos están en formato de texto, lo cual tiene sentido dado el tipo de información.\n",
    "\n",
    "Suficiencia de Datos para la Hipótesis:\n",
    "Para asegurarme de que tenemos suficientes datos para probar nuestra hipótesis, revisé la cantidad total de registros y cómo se distribuyen entre las diferentes ciudades y días de la semana. Encontré que el conjunto de datos es bastante amplio y que hay una buena representación de usuarios de cada ciudad y de cada día de la semana. Esto me da la confianza de que tenemos suficiente información para proceder con nuestra prueba de hipótesis.\n",
    "\n",
    "Problemas en los Datos:\n",
    "Durante mi revisión, identifiqué algunos problemas en los datos. Por ejemplo, hay valores ausentes en algunas columnas, aunque no son muchos. También encontré filas duplicadas que podrían afectar nuestros resultados y que deberíamos eliminar. Además, noté que los nombres de las columnas no son consistentes: algunos tienen espacios en blanco y hay una mezcla de mayúsculas y minúsculas. Planeo corregir estos problemas en el preprocesamiento de datos para asegurarme de que todo esté en orden antes de seguir adelante con el análisis.\n",
    "\n",
    "Resumen:\n",
    "En resumen, aunque los datos son en su mayoría adecuados para nuestro análisis, necesitan algunos ajustes. Creo que tenemos una cantidad y diversidad suficientes para probar nuestra hipótesis sobre las diferencias en la actividad de los usuarios según la ciudad y el día de la semana."
   ]
  },
  {
   "cell_type": "markdown",
   "metadata": {
    "id": "3eL__vcwViOi"
   },
   "source": [
    "[Volver a Contenidos](#back)"
   ]
  },
  {
   "cell_type": "markdown",
   "metadata": {
    "id": "SjYF6Ub9_Zct"
   },
   "source": [
    "# Etapa 2. Preprocesamiento de datos <a id='data_preprocessing'></a>\n",
    "\n",
    "El objetivo aquí es preparar los datos para que sean analizados.\n",
    "El primer paso es resolver cualquier problema con los encabezados. Luego podemos avanzar a los valores ausentes y duplicados. Empecemos.\n",
    "\n",
    "Corrige el formato en los encabezados de la tabla.\n"
   ]
  },
  {
   "cell_type": "markdown",
   "metadata": {
    "id": "dIaKXr29_Zct"
   },
   "source": [
    "# 2.1 Estilo del encabezado <a id='header_style'></a> \n",
    "\n",
    "Muestra los encabezados de la tabla (los nombres de las columnas):"
   ]
  },
  {
   "cell_type": "code",
   "execution_count": 10,
   "metadata": {
    "id": "oKOTdF_Q_Zct",
    "scrolled": true,
    "trusted": true
   },
   "outputs": [
    {
     "name": "stdout",
     "output_type": "stream",
     "text": [
      "Index(['  userID', 'Track', 'artist', 'genre', '  City  ', 'time', 'Day'], dtype='object')\n"
     ]
    }
   ],
   "source": [
    "# Muestra los nombres de las columnas\n",
    "# Mostrar los nombres de las columnas originales\n",
    "print(df.columns)\n"
   ]
  },
  {
   "cell_type": "markdown",
   "metadata": {
    "id": "zj5534cv_Zct"
   },
   "source": [
    "Cambia los encabezados de la tabla de acuerdo con las reglas del buen estilo:\n",
    "* Todos los caracteres deben ser minúsculas.\n",
    "* Elimina los espacios.\n",
    "* Si el nombre tiene varias palabras, utiliza snake_case."
   ]
  },
  {
   "cell_type": "code",
   "execution_count": 16,
   "metadata": {
    "id": "6I_RwwMhzM4e",
    "trusted": true
   },
   "outputs": [
    {
     "name": "stdout",
     "output_type": "stream",
     "text": [
      "Nombres normalizados de las columnas:\n",
      "Index(['userid', 'track', 'artist', 'genre', 'city', 'time', 'day'], dtype='object')\n"
     ]
    }
   ],
   "source": [
    "# Utilizar un bucle for para iterar sobre los nombres de las columnas y poner todos los caracteres en minúsculas\n",
    "new_columns = []\n",
    "for col in df.columns:\n",
    "    new_columns.append(col.lower())\n",
    "\n",
    "# Asignar los nuevos nombres de las columnas al dataframe\n",
    "df.columns = new_columns\n",
    "\n",
    "# Mostrar los nombres de las columnas después de la normalización\n",
    "print(\"Nombres normalizados de las columnas:\")\n",
    "print(df.columns)\n"
   ]
  },
  {
   "cell_type": "markdown",
   "metadata": {
    "id": "pweIRxjSzPYW"
   },
   "source": [
    "Ahora, utilizando el mismo método, elimina los espacios al principio y al final de los nombres de las columnas e imprime los nombres de las columnas nuevamente:"
   ]
  },
  {
   "cell_type": "code",
   "execution_count": 15,
   "metadata": {
    "id": "vVQXbFyJzSYl",
    "trusted": true
   },
   "outputs": [
    {
     "name": "stdout",
     "output_type": "stream",
     "text": [
      "Nombres normalizados de las columnas:\n",
      "Index(['userid', 'track', 'artist', 'genre', 'city', 'time', 'day'], dtype='object')\n"
     ]
    }
   ],
   "source": [
    "# Utilizar un bucle for para iterar sobre los nombres de las columnas,\n",
    "# poner todos los caracteres en minúsculas y eliminar los espacios al principio y al final\n",
    "new_columns = []\n",
    "for col in df.columns:\n",
    "    new_columns.append(col.strip().lower())\n",
    "\n",
    "# Asignar los nuevos nombres de las columnas al dataframe\n",
    "df.columns = new_columns\n",
    "\n",
    "# Mostrar los nombres de las columnas después de la normalización\n",
    "print(\"Nombres normalizados de las columnas:\")\n",
    "print(df.columns)\n"
   ]
  },
  {
   "cell_type": "markdown",
   "metadata": {
    "id": "yCb8MW1JzURd"
   },
   "source": [
    "Necesitamos aplicar la regla de snake_case a la columna `userid`. Debe ser `user_id`. Cambia el nombre de esta columna y muestra los nombres de todas las columnas cuando hayas terminado."
   ]
  },
  {
   "cell_type": "code",
   "execution_count": 18,
   "metadata": {
    "id": "ISlFqs5y_Zct",
    "trusted": true
   },
   "outputs": [
    {
     "name": "stdout",
     "output_type": "stream",
     "text": [
      "Nombres normalizados de las columnas:\n",
      "Index(['user_id', 'track', 'artist', 'genre', 'city', 'time', 'day'], dtype='object')\n"
     ]
    }
   ],
   "source": [
    "# Asignar los nuevos nombres de las columnas al dataframe\n",
    "df.columns = new_columns\n",
    "\n",
    "# Cambiar el nombre de la columna 'userid' a 'user_id'\n",
    "df.rename(columns={'userid': 'user_id'}, inplace=True)\n",
    "\n",
    "# Mostrar los nombres de las columnas después de la normalización\n",
    "print(\"Nombres normalizados de las columnas:\")\n",
    "print(df.columns)\n"
   ]
  },
  {
   "cell_type": "markdown",
   "metadata": {
    "id": "1dqbh00J_Zct"
   },
   "source": [
    "Comprueba el resultado. Muestra los encabezados una vez más:"
   ]
  },
  {
   "cell_type": "code",
   "execution_count": 55,
   "metadata": {
    "id": "d4NOAmTW_Zct",
    "trusted": true
   },
   "outputs": [
    {
     "name": "stdout",
     "output_type": "stream",
     "text": [
      "Nombres normalizados de las columnas:\n",
      "Index(['userid', 'track', 'artist', 'genre', 'city', 'time', 'day'], dtype='object')\n"
     ]
    }
   ],
   "source": [
    "# Comprobar el resultado: la lista de encabezados\n",
    "\n",
    "# Mostrar los nombres de las columnas después de la normalización\n",
    "print(\"Nombres normalizados de las columnas:\")\n",
    "print(df.columns)\n"
   ]
  },
  {
   "cell_type": "markdown",
   "metadata": {},
   "source": [
    "<div class=\"alert alert-block alert-success\">\n",
    "<b>Comentario del revisor</b> <a class=\"tocSkip\"></a>\n",
    "\n",
    "Muy buen trabajo! Ajustaste todos los elementos</div>"
   ]
  },
  {
   "cell_type": "markdown",
   "metadata": {
    "id": "xYJk6ksJVpOl"
   },
   "source": [
    "[Volver a Contenidos](#back)"
   ]
  },
  {
   "cell_type": "markdown",
   "metadata": {
    "id": "5ISfbcfY_Zct"
   },
   "source": [
    "# 2.2 Valores ausentes <a id='missing_values'></a>\n",
    " Primero, encuentra el número de valores ausentes en la tabla. Debes utilizar dos métodos en una secuencia para obtener el número de valores ausentes."
   ]
  },
  {
   "cell_type": "code",
   "execution_count": 22,
   "metadata": {
    "id": "RskX29qr_Zct",
    "trusted": true
   },
   "outputs": [
    {
     "name": "stdout",
     "output_type": "stream",
     "text": [
      "Número de valores ausentes en cada columna:\n",
      "  userID       0\n",
      "Track       1343\n",
      "artist      7567\n",
      "genre       1198\n",
      "  City         0\n",
      "time           0\n",
      "Day            0\n",
      "dtype: int64\n"
     ]
    }
   ],
   "source": [
    "# Calcular el número de valores ausentes\n",
    "\n",
    "# Calcular el número de valores ausentes en cada columna\n",
    "missing_values = df.isnull().sum()\n",
    "\n",
    "# Mostrar el número de valores ausentes\n",
    "print(\"Número de valores ausentes en cada columna:\")\n",
    "print(missing_values)\n"
   ]
  },
  {
   "cell_type": "markdown",
   "metadata": {
    "id": "qubhgnlO_Zct"
   },
   "source": [
    "No todos los valores ausentes afectan a la investigación. Por ejemplo, los valores ausentes en `track` y `artist` no son cruciales. Simplemente puedes reemplazarlos con valores predeterminados como el string `'unknown'` (desconocido).\n",
    "\n",
    "Pero los valores ausentes en `'genre'` pueden afectar la comparación entre las preferencias musicales de Springfield y Shelbyville. En la vida real, sería útil saber las razones por las cuales hay datos ausentes e intentar recuperarlos. Pero no tenemos esa oportunidad en este proyecto. Así que tendrás que:\n",
    "* rellenar estos valores ausentes con un valor predeterminado;\n",
    "* evaluar cuánto podrían afectar los valores ausentes a tus cómputos;"
   ]
  },
  {
   "cell_type": "markdown",
   "metadata": {
    "id": "fSv2laPA_Zct"
   },
   "source": [
    "Reemplazar los valores ausentes en las columnas `'track'`, `'artist'` y `'genre'` con el string `'unknown'`. Como mostramos anteriormente en las lecciones, la mejor forma de hacerlo es crear una lista que almacene los nombres de las columnas donde se necesita el reemplazo. Luego, utiliza esta lista e itera sobre las columnas donde se necesita el reemplazo haciendo el propio reemplazo."
   ]
  },
  {
   "cell_type": "code",
   "execution_count": 25,
   "metadata": {
    "id": "KplB5qWs_Zct",
    "trusted": true
   },
   "outputs": [
    {
     "name": "stdout",
     "output_type": "stream",
     "text": [
      "Nombres normalizados de las columnas:\n",
      "Index(['userid', 'track', 'artist', 'genre', 'city', 'time', 'day'], dtype='object')\n",
      "Número de valores ausentes en cada columna después del reemplazo:\n",
      "userid    0\n",
      "track     0\n",
      "artist    0\n",
      "genre     0\n",
      "city      0\n",
      "time      0\n",
      "day       0\n",
      "dtype: int64\n"
     ]
    }
   ],
   "source": [
    "# Bucle en los encabezados reemplazando los valores ausentes con 'unknown'\n",
    "\n",
    "# Normalizar los nombres de las columnas\n",
    "df.columns = [col.strip().lower() for col in df.columns]\n",
    "\n",
    "# Mostrar los nombres de las columnas actuales\n",
    "print(\"Nombres normalizados de las columnas:\")\n",
    "print(df.columns)\n",
    "\n",
    "# Lista de columnas donde se necesita el reemplazo\n",
    "# Ajustar esta lista según los nombres correctos de las columnas\n",
    "columns_to_replace = ['track', 'artist', 'genre']\n",
    "\n",
    "# Iterar sobre las columnas y reemplazar los valores ausentes con 'unknown'\n",
    "for col in columns_to_replace:\n",
    "    df[col].fillna('unknown', inplace=True)\n",
    "\n",
    "# Verificar que los valores ausentes han sido reemplazados\n",
    "missing_values_after_replacement = df.isnull().sum()\n",
    "\n",
    "# Mostrar el número de valores ausentes después del reemplazo\n",
    "print(\"Número de valores ausentes en cada columna después del reemplazo:\")\n",
    "print(missing_values_after_replacement)\n"
   ]
  },
  {
   "cell_type": "markdown",
   "metadata": {
    "id": "Ilsm-MZo_Zct"
   },
   "source": [
    "Ahora comprueba el resultado para asegurarte de que después del reemplazo no haya valores ausentes en el conjunto de datos. Para hacer esto, cuenta los valores ausentes nuevamente."
   ]
  },
  {
   "cell_type": "code",
   "execution_count": 27,
   "metadata": {
    "id": "Tq4nYRX4_Zct",
    "trusted": true
   },
   "outputs": [
    {
     "name": "stdout",
     "output_type": "stream",
     "text": [
      "Número de valores ausentes en cada columna después del reemplazo:\n",
      "userid    0\n",
      "track     0\n",
      "artist    0\n",
      "genre     0\n",
      "city      0\n",
      "time      0\n",
      "day       0\n",
      "dtype: int64\n",
      "No hay valores ausentes en el conjunto de datos después del reemplazo.\n"
     ]
    }
   ],
   "source": [
    "# Contar valores ausentes\n",
    "\n",
    "\n",
    "# Verificar que los valores ausentes han sido reemplazados\n",
    "missing_values_after_replacement = df.isnull().sum()\n",
    "\n",
    "# Mostrar el número de valores ausentes después del reemplazo\n",
    "print(\"Número de valores ausentes en cada columna después del reemplazo:\")\n",
    "print(missing_values_after_replacement)\n",
    "\n",
    "# Verificar que no haya valores ausentes en el conjunto de datos\n",
    "total_missing_values = missing_values_after_replacement.sum()\n",
    "\n",
    "if total_missing_values == 0:\n",
    "    print(\"No hay valores ausentes en el conjunto de datos después del reemplazo.\")\n",
    "else:\n",
    "    print(f\"Aún hay {total_missing_values} valores ausentes en el conjunto de datos.\")\n",
    "\n"
   ]
  },
  {
   "cell_type": "markdown",
   "metadata": {
    "id": "74ZIBmq9VrsK"
   },
   "source": [
    "[Volver a Contenidos](#back)"
   ]
  },
  {
   "cell_type": "markdown",
   "metadata": {
    "id": "BWKRtBJ3_Zct"
   },
   "source": [
    "# 2.3 Duplicados <a id='duplicates'></a>\n",
    "Encuentra el número de duplicados explícitos en la tabla. Una vez más, debes aplicar dos métodos en una secuencia para obtener la cantidad de duplicados explícitos."
   ]
  },
  {
   "cell_type": "code",
   "execution_count": 30,
   "metadata": {
    "id": "36eES_S0_Zct",
    "trusted": true
   },
   "outputs": [
    {
     "name": "stdout",
     "output_type": "stream",
     "text": [
      "Número de duplicados explícitos en la tabla:\n",
      "3826\n"
     ]
    }
   ],
   "source": [
    "# Contar duplicados explícitos\n",
    "\n",
    "# Calcular el número de duplicados explícitos en la tabla\n",
    "duplicate_rows = df.duplicated()\n",
    "number_of_duplicates = duplicate_rows.sum()\n",
    "\n",
    "# Mostrar el número de duplicados explícitos\n",
    "print(\"Número de duplicados explícitos en la tabla:\")\n",
    "print(number_of_duplicates)\n",
    "\n"
   ]
  },
  {
   "cell_type": "markdown",
   "metadata": {
    "id": "Ot25h6XR_Zct"
   },
   "source": [
    "Ahora, elimina todos los duplicados. Para ello, llama al método que hace exactamente esto."
   ]
  },
  {
   "cell_type": "code",
   "execution_count": 35,
   "metadata": {
    "id": "exFHq6tt_Zct",
    "trusted": true
   },
   "outputs": [
    {
     "name": "stdout",
     "output_type": "stream",
     "text": [
      "Número de duplicados explícitos en la tabla después de eliminarlos:\n",
      "0\n"
     ]
    }
   ],
   "source": [
    "\n",
    "\n",
    "# Eliminar todos los duplicados\n",
    "df = df.drop_duplicates()\n",
    "\n",
    "# Calcular el número de duplicados explícitos después de eliminarlos\n",
    "number_of_duplicates_after = df.duplicated().sum()\n",
    "\n",
    "# Mostrar el número de duplicados explícitos después de eliminarlos\n",
    "print(\"Número de duplicados explícitos en la tabla después de eliminarlos:\")\n",
    "print(number_of_duplicates_after)\n"
   ]
  },
  {
   "cell_type": "markdown",
   "metadata": {
    "id": "Im2YwBEG_Zct"
   },
   "source": [
    "Comprobemos ahora si eliminamos con éxito todos los duplicados. Cuenta los duplicados explícitos una vez más para asegurarte de haberlos eliminado todos:"
   ]
  },
  {
   "cell_type": "code",
   "execution_count": 36,
   "metadata": {
    "id": "-8PuNWQ0_Zct",
    "trusted": true
   },
   "outputs": [
    {
     "name": "stdout",
     "output_type": "stream",
     "text": [
      "Número de duplicados explícitos en la tabla después de eliminarlos:\n",
      "0\n",
      "Todos los duplicados han sido eliminados con éxito.\n"
     ]
    }
   ],
   "source": [
    "# Comprobar de nuevo si hay duplicados\n",
    "\n",
    "\n",
    "# Calcular el número de duplicados explícitos después de eliminarlos\n",
    "number_of_duplicates_after = df.duplicated().sum()\n",
    "\n",
    "# Mostrar el número de duplicados explícitos después de eliminarlos\n",
    "print(\"Número de duplicados explícitos en la tabla después de eliminarlos:\")\n",
    "print(number_of_duplicates_after)\n",
    "\n",
    "# Comprobar si eliminamos con éxito todos los duplicados\n",
    "if number_of_duplicates_after == 0:\n",
    "    print(\"Todos los duplicados han sido eliminados con éxito.\")\n",
    "else:\n",
    "    print(f\"Aún hay {number_of_duplicates_after} duplicados en la tabla.\")\n",
    "\n"
   ]
  },
  {
   "cell_type": "markdown",
   "metadata": {
    "id": "QlFBsxAr_Zct"
   },
   "source": [
    "Ahora queremos deshacernos de los duplicados implícitos en la columna `genre`. Por ejemplo, el nombre de un género se puede escribir de varias formas. Dichos errores también pueden afectar al resultado."
   ]
  },
  {
   "cell_type": "markdown",
   "metadata": {
    "id": "eSjWwsOh_Zct"
   },
   "source": [
    "Para hacerlo, primero mostremos una lista de nombres de género únicos, ordenados en orden alfabético. Para ello:\n",
    "* Extrae la columna `genre` del DataFrame.\n",
    "* Llama al método que devolverá todos los valores únicos en la columna extraída.\n"
   ]
  },
  {
   "cell_type": "code",
   "execution_count": 37,
   "metadata": {
    "id": "JIUcqzZN_Zct",
    "trusted": true
   },
   "outputs": [
    {
     "name": "stdout",
     "output_type": "stream",
     "text": [
      "Nombres de género únicos ordenados alfabéticamente:\n",
      "acid\n",
      "acoustic\n",
      "action\n",
      "adult\n",
      "africa\n",
      "afrikaans\n",
      "alternative\n",
      "ambient\n",
      "americana\n",
      "animated\n",
      "anime\n",
      "arabesk\n",
      "arabic\n",
      "arena\n",
      "argentinetango\n",
      "art\n",
      "audiobook\n",
      "avantgarde\n",
      "axé\n",
      "baile\n",
      "balkan\n",
      "beats\n",
      "bigroom\n",
      "black\n",
      "bluegrass\n",
      "blues\n",
      "bollywood\n",
      "bossa\n",
      "brazilian\n",
      "breakbeat\n",
      "breaks\n",
      "broadway\n",
      "cantautori\n",
      "cantopop\n",
      "canzone\n",
      "caribbean\n",
      "caucasian\n",
      "celtic\n",
      "chamber\n",
      "children\n",
      "chill\n",
      "chinese\n",
      "choral\n",
      "christian\n",
      "christmas\n",
      "classical\n",
      "classicmetal\n",
      "club\n",
      "colombian\n",
      "comedy\n",
      "conjazz\n",
      "contemporary\n",
      "country\n",
      "cuban\n",
      "dance\n",
      "dancehall\n",
      "dancepop\n",
      "dark\n",
      "death\n",
      "deep\n",
      "deutschrock\n",
      "deutschspr\n",
      "dirty\n",
      "disco\n",
      "dnb\n",
      "documentary\n",
      "downbeat\n",
      "downtempo\n",
      "drum\n",
      "dub\n",
      "dubstep\n",
      "eastern\n",
      "easy\n",
      "electronic\n",
      "electropop\n",
      "emo\n",
      "entehno\n",
      "epicmetal\n",
      "estrada\n",
      "ethnic\n",
      "eurofolk\n",
      "european\n",
      "experimental\n",
      "extrememetal\n",
      "fado\n",
      "film\n",
      "fitness\n",
      "flamenco\n",
      "folk\n",
      "folklore\n",
      "folkmetal\n",
      "folkrock\n",
      "folktronica\n",
      "forró\n",
      "frankreich\n",
      "französisch\n",
      "french\n",
      "funk\n",
      "future\n",
      "gangsta\n",
      "garage\n",
      "german\n",
      "ghazal\n",
      "gitarre\n",
      "glitch\n",
      "gospel\n",
      "gothic\n",
      "grime\n",
      "grunge\n",
      "gypsy\n",
      "handsup\n",
      "hard'n'heavy\n",
      "hardcore\n",
      "hardstyle\n",
      "hardtechno\n",
      "hip\n",
      "hip-hop\n",
      "hiphop\n",
      "historisch\n",
      "holiday\n",
      "hop\n",
      "horror\n",
      "house\n",
      "idm\n",
      "independent\n",
      "indian\n",
      "indie\n",
      "indipop\n",
      "industrial\n",
      "inspirational\n",
      "instrumental\n",
      "international\n",
      "irish\n",
      "jam\n",
      "japanese\n",
      "jazz\n",
      "jewish\n",
      "jpop\n",
      "jungle\n",
      "k-pop\n",
      "karadeniz\n",
      "karaoke\n",
      "kayokyoku\n",
      "korean\n",
      "laiko\n",
      "latin\n",
      "latino\n",
      "leftfield\n",
      "local\n",
      "lounge\n",
      "loungeelectronic\n",
      "lovers\n",
      "malaysian\n",
      "mandopop\n",
      "marschmusik\n",
      "meditative\n",
      "mediterranean\n",
      "melodic\n",
      "metal\n",
      "metalcore\n",
      "mexican\n",
      "middle\n",
      "minimal\n",
      "miscellaneous\n",
      "modern\n",
      "mood\n",
      "mpb\n",
      "muslim\n",
      "native\n",
      "neoklassik\n",
      "neue\n",
      "new\n",
      "newage\n",
      "newwave\n",
      "nu\n",
      "nujazz\n",
      "numetal\n",
      "oceania\n",
      "old\n",
      "opera\n",
      "orchestral\n",
      "other\n",
      "piano\n",
      "pop\n",
      "popelectronic\n",
      "popeurodance\n",
      "post\n",
      "posthardcore\n",
      "postrock\n",
      "power\n",
      "progmetal\n",
      "progressive\n",
      "psychedelic\n",
      "punjabi\n",
      "punk\n",
      "quebecois\n",
      "ragga\n",
      "ram\n",
      "rancheras\n",
      "rap\n",
      "rave\n",
      "reggae\n",
      "reggaeton\n",
      "regional\n",
      "relax\n",
      "religious\n",
      "retro\n",
      "rhythm\n",
      "rnb\n",
      "rnr\n",
      "rock\n",
      "rockabilly\n",
      "romance\n",
      "roots\n",
      "ruspop\n",
      "rusrap\n",
      "rusrock\n",
      "salsa\n",
      "samba\n",
      "schlager\n",
      "self\n",
      "sertanejo\n",
      "shoegazing\n",
      "showtunes\n",
      "singer\n",
      "ska\n",
      "slow\n",
      "smooth\n",
      "soul\n",
      "soulful\n",
      "sound\n",
      "soundtrack\n",
      "southern\n",
      "specialty\n",
      "speech\n",
      "spiritual\n",
      "sport\n",
      "stonerrock\n",
      "surf\n",
      "swing\n",
      "synthpop\n",
      "sängerportrait\n",
      "tango\n",
      "tanzorchester\n",
      "taraftar\n",
      "tech\n",
      "techno\n",
      "thrash\n",
      "top\n",
      "traditional\n",
      "tradjazz\n",
      "trance\n",
      "tribal\n",
      "trip\n",
      "triphop\n",
      "tropical\n",
      "türk\n",
      "türkçe\n",
      "unknown\n",
      "urban\n",
      "uzbek\n",
      "variété\n",
      "vi\n",
      "videogame\n",
      "vocal\n",
      "western\n",
      "world\n",
      "worldbeat\n",
      "ïîï\n"
     ]
    }
   ],
   "source": [
    "# Inspeccionar los nombres de géneros únicos\n",
    "\n",
    "# Extraer la columna 'genre'\n",
    "genre_column = df['genre']\n",
    "\n",
    "# Obtener los valores únicos en la columna 'genre'\n",
    "unique_genres = genre_column.unique()\n",
    "\n",
    "# Ordenar los valores únicos en orden alfabético\n",
    "unique_genres_sorted = sorted(unique_genres)\n",
    "\n",
    "# Mostrar los nombres de género únicos ordenados alfabéticamente\n",
    "print(\"Nombres de género únicos ordenados alfabéticamente:\")\n",
    "for genre in unique_genres_sorted:\n",
    "    print(genre)\n"
   ]
  },
  {
   "cell_type": "markdown",
   "metadata": {
    "id": "qej-Qmuo_Zct"
   },
   "source": [
    "Busca en la lista para encontrar duplicados implícitos del género `hiphop`. Estos pueden ser nombres escritos incorrectamente o nombres alternativos para el mismo género.\n",
    "\n",
    "Verás los siguientes duplicados implícitos:\n",
    "* `hip`\n",
    "* `hop`\n",
    "* `hip-hop`\n",
    "\n",
    "Para deshacerte de ellos, crea una función llamada `replace_wrong_genres()` con dos parámetros:\n",
    "* `wrong_genres=`: esta es una lista que contiene todos los valores que necesitas reemplazar.\n",
    "* `correct_genre=`: este es un string que vas a utilizar como reemplazo.\n",
    "\n",
    "Como resultado, la función debería corregir los nombres en la columna `'genre'` de la tabla `df`, es decir, remplazar cada valor de la lista `wrong_genres` por el valor en `correct_genre`.\n",
    "\n",
    "Dentro del cuerpo de la función, utiliza un bucle `'for'` para iterar sobre la lista de géneros incorrectos, extrae la columna `'genre'` y aplica el método `replace` para hacer correcciones."
   ]
  },
  {
   "cell_type": "code",
   "execution_count": 27,
   "metadata": {
    "id": "ErNDkmns_Zct",
    "trusted": true
   },
   "outputs": [],
   "source": [
    "# Función para reemplazar duplicados implícitos\n",
    "def replace_wrong_genres(df, wrong_genres, correct_genre):\n",
    "    for wrong_genre in wrong_genres:\n",
    "        df['genre'] = df['genre'].replace(wrong_genre, correct_genre)"
   ]
  },
  {
   "cell_type": "markdown",
   "metadata": {
    "id": "aDoBJxbA_Zct"
   },
   "source": [
    "Ahora, llama a `replace_wrong_genres()` y pásale tales argumentos para que retire los duplicados implícitos (`hip`, `hop` y `hip-hop`) y los reemplace por `hiphop`:"
   ]
  },
  {
   "cell_type": "code",
   "execution_count": 39,
   "metadata": {
    "id": "YN5i2hpmSo09",
    "trusted": true
   },
   "outputs": [
    {
     "name": "stdout",
     "output_type": "stream",
     "text": [
      "Nombres de género únicos ordenados alfabéticamente después de eliminar duplicados implícitos:\n",
      "acid\n",
      "acoustic\n",
      "action\n",
      "adult\n",
      "africa\n",
      "afrikaans\n",
      "alternative\n",
      "ambient\n",
      "americana\n",
      "animated\n",
      "anime\n",
      "arabesk\n",
      "arabic\n",
      "arena\n",
      "argentinetango\n",
      "art\n",
      "audiobook\n",
      "avantgarde\n",
      "axé\n",
      "baile\n",
      "balkan\n",
      "beats\n",
      "bigroom\n",
      "black\n",
      "bluegrass\n",
      "blues\n",
      "bollywood\n",
      "bossa\n",
      "brazilian\n",
      "breakbeat\n",
      "breaks\n",
      "broadway\n",
      "cantautori\n",
      "cantopop\n",
      "canzone\n",
      "caribbean\n",
      "caucasian\n",
      "celtic\n",
      "chamber\n",
      "children\n",
      "chill\n",
      "chinese\n",
      "choral\n",
      "christian\n",
      "christmas\n",
      "classical\n",
      "classicmetal\n",
      "club\n",
      "colombian\n",
      "comedy\n",
      "conjazz\n",
      "contemporary\n",
      "country\n",
      "cuban\n",
      "dance\n",
      "dancehall\n",
      "dancepop\n",
      "dark\n",
      "death\n",
      "deep\n",
      "deutschrock\n",
      "deutschspr\n",
      "dirty\n",
      "disco\n",
      "dnb\n",
      "documentary\n",
      "downbeat\n",
      "downtempo\n",
      "drum\n",
      "dub\n",
      "dubstep\n",
      "eastern\n",
      "easy\n",
      "electronic\n",
      "electropop\n",
      "emo\n",
      "entehno\n",
      "epicmetal\n",
      "estrada\n",
      "ethnic\n",
      "eurofolk\n",
      "european\n",
      "experimental\n",
      "extrememetal\n",
      "fado\n",
      "film\n",
      "fitness\n",
      "flamenco\n",
      "folk\n",
      "folklore\n",
      "folkmetal\n",
      "folkrock\n",
      "folktronica\n",
      "forró\n",
      "frankreich\n",
      "französisch\n",
      "french\n",
      "funk\n",
      "future\n",
      "gangsta\n",
      "garage\n",
      "german\n",
      "ghazal\n",
      "gitarre\n",
      "glitch\n",
      "gospel\n",
      "gothic\n",
      "grime\n",
      "grunge\n",
      "gypsy\n",
      "handsup\n",
      "hard'n'heavy\n",
      "hardcore\n",
      "hardstyle\n",
      "hardtechno\n",
      "hiphop\n",
      "historisch\n",
      "holiday\n",
      "horror\n",
      "house\n",
      "idm\n",
      "independent\n",
      "indian\n",
      "indie\n",
      "indipop\n",
      "industrial\n",
      "inspirational\n",
      "instrumental\n",
      "international\n",
      "irish\n",
      "jam\n",
      "japanese\n",
      "jazz\n",
      "jewish\n",
      "jpop\n",
      "jungle\n",
      "k-pop\n",
      "karadeniz\n",
      "karaoke\n",
      "kayokyoku\n",
      "korean\n",
      "laiko\n",
      "latin\n",
      "latino\n",
      "leftfield\n",
      "local\n",
      "lounge\n",
      "loungeelectronic\n",
      "lovers\n",
      "malaysian\n",
      "mandopop\n",
      "marschmusik\n",
      "meditative\n",
      "mediterranean\n",
      "melodic\n",
      "metal\n",
      "metalcore\n",
      "mexican\n",
      "middle\n",
      "minimal\n",
      "miscellaneous\n",
      "modern\n",
      "mood\n",
      "mpb\n",
      "muslim\n",
      "native\n",
      "neoklassik\n",
      "neue\n",
      "new\n",
      "newage\n",
      "newwave\n",
      "nu\n",
      "nujazz\n",
      "numetal\n",
      "oceania\n",
      "old\n",
      "opera\n",
      "orchestral\n",
      "other\n",
      "piano\n",
      "pop\n",
      "popelectronic\n",
      "popeurodance\n",
      "post\n",
      "posthardcore\n",
      "postrock\n",
      "power\n",
      "progmetal\n",
      "progressive\n",
      "psychedelic\n",
      "punjabi\n",
      "punk\n",
      "quebecois\n",
      "ragga\n",
      "ram\n",
      "rancheras\n",
      "rap\n",
      "rave\n",
      "reggae\n",
      "reggaeton\n",
      "regional\n",
      "relax\n",
      "religious\n",
      "retro\n",
      "rhythm\n",
      "rnb\n",
      "rnr\n",
      "rock\n",
      "rockabilly\n",
      "romance\n",
      "roots\n",
      "ruspop\n",
      "rusrap\n",
      "rusrock\n",
      "salsa\n",
      "samba\n",
      "schlager\n",
      "self\n",
      "sertanejo\n",
      "shoegazing\n",
      "showtunes\n",
      "singer\n",
      "ska\n",
      "slow\n",
      "smooth\n",
      "soul\n",
      "soulful\n",
      "sound\n",
      "soundtrack\n",
      "southern\n",
      "specialty\n",
      "speech\n",
      "spiritual\n",
      "sport\n",
      "stonerrock\n",
      "surf\n",
      "swing\n",
      "synthpop\n",
      "sängerportrait\n",
      "tango\n",
      "tanzorchester\n",
      "taraftar\n",
      "tech\n",
      "techno\n",
      "thrash\n",
      "top\n",
      "traditional\n",
      "tradjazz\n",
      "trance\n",
      "tribal\n",
      "trip\n",
      "triphop\n",
      "tropical\n",
      "türk\n",
      "türkçe\n",
      "unknown\n",
      "urban\n",
      "uzbek\n",
      "variété\n",
      "vi\n",
      "videogame\n",
      "vocal\n",
      "western\n",
      "world\n",
      "worldbeat\n",
      "ïîï\n"
     ]
    }
   ],
   "source": [
    "# Eliminar duplicados implícitos\n",
    "\n",
    "\n",
    "\n",
    "# Llamar a la función para reemplazar los duplicados implícitos\n",
    "wrong_genres = ['hip', 'hop', 'hip-hop']\n",
    "correct_genre = 'hiphop'\n",
    "replace_wrong_genres(df, wrong_genres, correct_genre)\n",
    "\n",
    "# Comprobar y mostrar la lista de valores únicos de la columna 'genre' una vez más\n",
    "unique_genres_after_replacement = sorted(df['genre'].unique())\n",
    "\n",
    "print(\"Nombres de género únicos ordenados alfabéticamente después de eliminar duplicados implícitos:\")\n",
    "for genre in unique_genres_after_replacement:\n",
    "    print(genre)\n",
    "\n"
   ]
  },
  {
   "cell_type": "markdown",
   "metadata": {
    "id": "zQKF16_RG15m"
   },
   "source": [
    "Asegúrate de que los nombres duplicados han sido eliminados. Muestra la lista de valores únicos de la columna `'genre'` una vez más:"
   ]
  },
  {
   "cell_type": "code",
   "execution_count": 40,
   "metadata": {
    "id": "wvixALnFG15m",
    "trusted": true
   },
   "outputs": [
    {
     "name": "stdout",
     "output_type": "stream",
     "text": [
      "Nombres de género únicos ordenados alfabéticamente después de eliminar duplicados implícitos:\n",
      "acid\n",
      "acoustic\n",
      "action\n",
      "adult\n",
      "africa\n",
      "afrikaans\n",
      "alternative\n",
      "ambient\n",
      "americana\n",
      "animated\n",
      "anime\n",
      "arabesk\n",
      "arabic\n",
      "arena\n",
      "argentinetango\n",
      "art\n",
      "audiobook\n",
      "avantgarde\n",
      "axé\n",
      "baile\n",
      "balkan\n",
      "beats\n",
      "bigroom\n",
      "black\n",
      "bluegrass\n",
      "blues\n",
      "bollywood\n",
      "bossa\n",
      "brazilian\n",
      "breakbeat\n",
      "breaks\n",
      "broadway\n",
      "cantautori\n",
      "cantopop\n",
      "canzone\n",
      "caribbean\n",
      "caucasian\n",
      "celtic\n",
      "chamber\n",
      "children\n",
      "chill\n",
      "chinese\n",
      "choral\n",
      "christian\n",
      "christmas\n",
      "classical\n",
      "classicmetal\n",
      "club\n",
      "colombian\n",
      "comedy\n",
      "conjazz\n",
      "contemporary\n",
      "country\n",
      "cuban\n",
      "dance\n",
      "dancehall\n",
      "dancepop\n",
      "dark\n",
      "death\n",
      "deep\n",
      "deutschrock\n",
      "deutschspr\n",
      "dirty\n",
      "disco\n",
      "dnb\n",
      "documentary\n",
      "downbeat\n",
      "downtempo\n",
      "drum\n",
      "dub\n",
      "dubstep\n",
      "eastern\n",
      "easy\n",
      "electronic\n",
      "electropop\n",
      "emo\n",
      "entehno\n",
      "epicmetal\n",
      "estrada\n",
      "ethnic\n",
      "eurofolk\n",
      "european\n",
      "experimental\n",
      "extrememetal\n",
      "fado\n",
      "film\n",
      "fitness\n",
      "flamenco\n",
      "folk\n",
      "folklore\n",
      "folkmetal\n",
      "folkrock\n",
      "folktronica\n",
      "forró\n",
      "frankreich\n",
      "französisch\n",
      "french\n",
      "funk\n",
      "future\n",
      "gangsta\n",
      "garage\n",
      "german\n",
      "ghazal\n",
      "gitarre\n",
      "glitch\n",
      "gospel\n",
      "gothic\n",
      "grime\n",
      "grunge\n",
      "gypsy\n",
      "handsup\n",
      "hard'n'heavy\n",
      "hardcore\n",
      "hardstyle\n",
      "hardtechno\n",
      "hiphop\n",
      "historisch\n",
      "holiday\n",
      "horror\n",
      "house\n",
      "idm\n",
      "independent\n",
      "indian\n",
      "indie\n",
      "indipop\n",
      "industrial\n",
      "inspirational\n",
      "instrumental\n",
      "international\n",
      "irish\n",
      "jam\n",
      "japanese\n",
      "jazz\n",
      "jewish\n",
      "jpop\n",
      "jungle\n",
      "k-pop\n",
      "karadeniz\n",
      "karaoke\n",
      "kayokyoku\n",
      "korean\n",
      "laiko\n",
      "latin\n",
      "latino\n",
      "leftfield\n",
      "local\n",
      "lounge\n",
      "loungeelectronic\n",
      "lovers\n",
      "malaysian\n",
      "mandopop\n",
      "marschmusik\n",
      "meditative\n",
      "mediterranean\n",
      "melodic\n",
      "metal\n",
      "metalcore\n",
      "mexican\n",
      "middle\n",
      "minimal\n",
      "miscellaneous\n",
      "modern\n",
      "mood\n",
      "mpb\n",
      "muslim\n",
      "native\n",
      "neoklassik\n",
      "neue\n",
      "new\n",
      "newage\n",
      "newwave\n",
      "nu\n",
      "nujazz\n",
      "numetal\n",
      "oceania\n",
      "old\n",
      "opera\n",
      "orchestral\n",
      "other\n",
      "piano\n",
      "pop\n",
      "popelectronic\n",
      "popeurodance\n",
      "post\n",
      "posthardcore\n",
      "postrock\n",
      "power\n",
      "progmetal\n",
      "progressive\n",
      "psychedelic\n",
      "punjabi\n",
      "punk\n",
      "quebecois\n",
      "ragga\n",
      "ram\n",
      "rancheras\n",
      "rap\n",
      "rave\n",
      "reggae\n",
      "reggaeton\n",
      "regional\n",
      "relax\n",
      "religious\n",
      "retro\n",
      "rhythm\n",
      "rnb\n",
      "rnr\n",
      "rock\n",
      "rockabilly\n",
      "romance\n",
      "roots\n",
      "ruspop\n",
      "rusrap\n",
      "rusrock\n",
      "salsa\n",
      "samba\n",
      "schlager\n",
      "self\n",
      "sertanejo\n",
      "shoegazing\n",
      "showtunes\n",
      "singer\n",
      "ska\n",
      "slow\n",
      "smooth\n",
      "soul\n",
      "soulful\n",
      "sound\n",
      "soundtrack\n",
      "southern\n",
      "specialty\n",
      "speech\n",
      "spiritual\n",
      "sport\n",
      "stonerrock\n",
      "surf\n",
      "swing\n",
      "synthpop\n",
      "sängerportrait\n",
      "tango\n",
      "tanzorchester\n",
      "taraftar\n",
      "tech\n",
      "techno\n",
      "thrash\n",
      "top\n",
      "traditional\n",
      "tradjazz\n",
      "trance\n",
      "tribal\n",
      "trip\n",
      "triphop\n",
      "tropical\n",
      "türk\n",
      "türkçe\n",
      "unknown\n",
      "urban\n",
      "uzbek\n",
      "variété\n",
      "vi\n",
      "videogame\n",
      "vocal\n",
      "western\n",
      "world\n",
      "worldbeat\n",
      "ïîï\n"
     ]
    }
   ],
   "source": [
    "# Comprobación de duplicados implícitos\n",
    "\n",
    "# Comprobar y mostrar la lista de valores únicos de la columna 'genre' una vez más\n",
    "unique_genres_after_replacement = sorted(df['genre'].unique())\n",
    "\n",
    "print(\"Nombres de género únicos ordenados alfabéticamente después de eliminar duplicados implícitos:\")\n",
    "for genre in unique_genres_after_replacement:\n",
    "    print(genre)\n",
    "\n"
   ]
  },
  {
   "cell_type": "markdown",
   "metadata": {
    "id": "ALgNbvF3VtPA"
   },
   "source": [
    "[Volver a Contenidos](#back)"
   ]
  },
  {
   "cell_type": "markdown",
   "metadata": {
    "id": "jz6a9-7HQUDd"
   },
   "source": [
    "# 2.4 Conclusiones <a id='data_preprocessing_conclusions'></a>\n",
    "\n",
    "Durante el preprocesamiento de los datos, me di cuenta de que los nombres de las columnas necesitaban ser más consistentes. Empecé por normalizarlos, eliminando espacios, poniendo todos los caracteres en minúsculas y cambiando el nombre de la columna userid a user_id para seguir el estilo snake_case. Luego, me enfoqué en los valores ausentes en las columnas 'track', 'artist' y 'genre', reemplazándolos con 'unknown'.\n",
    "\n",
    "Después, me ocupé de los duplicados explícitos en el DataFrame utilizando el método drop_duplicates(), lo que ayudó a eliminar filas idénticas y a limpiar los datos.\n",
    "\n",
    "Al examinar la columna 'genre', noté que había duplicados implícitos, es decir, diferentes formas de escribir el mismo género. Por ejemplo, encontré variaciones como 'hip', 'hop' y 'hip-hop' que deberían ser 'hiphop'. Para resolver esto, creé una función llamada replace_wrong_genres() que reemplazó estos nombres incorrectos por 'hiphop'.\n",
    "\n",
    "Finalmente, verifiqué que todos los duplicados implícitos habían sido eliminados al mostrar una lista de géneros únicos ordenados alfabéticamente. Todo este proceso me ayudó a limpiar y normalizar los datos, asegurando que estuvieran listos para un análisis más preciso. Ahora, los datos son más consistentes y confiables, lo que me permitirá extraer información valiosa y probar hipótesis con mayor exactitud."
   ]
  },
  {
   "cell_type": "markdown",
   "metadata": {
    "id": "eK1es74rVujj"
   },
   "source": [
    "[Volver a Contenidos](#back)"
   ]
  },
  {
   "cell_type": "markdown",
   "metadata": {
    "id": "WttZHXH0SqKk"
   },
   "source": [
    "# Etapa 3. Prueba de hipótesis <a id='hypothesis'></a>"
   ]
  },
  {
   "cell_type": "markdown",
   "metadata": {
    "id": "Im936VVi_Zcu"
   },
   "source": [
    "# 3.1 Hipótesis: comparar el comportamiento del usuario o la usuaria en las dos ciudades <a id='activity'></a>"
   ]
  },
  {
   "cell_type": "markdown",
   "metadata": {
    "id": "nwt_MuaL_Zcu"
   },
   "source": [
    "La hipótesis afirma que existen diferencias en la forma en que los usuarios y las usuarias de Springfield y Shelbyville consumen música. Para comprobar esto, usa los datos de tres días de la semana: lunes, miércoles y viernes.\n",
    "\n",
    "* Agrupa a los usuarios y las usuarias por ciudad.\n",
    "* Compara el número de canciones que cada grupo reprodujo el lunes, el miércoles y el viernes.\n"
   ]
  },
  {
   "cell_type": "markdown",
   "metadata": {
    "id": "8Dw_YMmT_Zcu"
   },
   "source": [
    "Realiza cada cálculo por separado.\n",
    "\n",
    "El primer paso es evaluar la actividad del usuario en cada ciudad. Recuerda las etapas dividir-aplicar-combinar de las que hablamos anteriormente en la lección. Tu objetivo ahora es agrupar los datos por ciudad, aplicar el método apropiado para contar durante la etapa de aplicación y luego encontrar la cantidad de canciones reproducidas en cada grupo especificando la columna para obtener el recuento.\n",
    "\n",
    "A continuación se muestra un ejemplo de cómo debería verse el resultado final:\n",
    "`df.groupby(by='....')['column'].method()`Realiza cada cálculo por separado.\n",
    "\n",
    "Para evaluar la actividad de los usuarios y las usuarias en cada ciudad, agrupa los datos por ciudad y encuentra la cantidad de canciones reproducidas en cada grupo.\n",
    "\n"
   ]
  },
  {
   "cell_type": "code",
   "execution_count": 43,
   "metadata": {
    "id": "0_Qs96oh_Zcu",
    "trusted": true
   },
   "outputs": [
    {
     "name": "stdout",
     "output_type": "stream",
     "text": [
      "Canciones reproducidas el Monday:\n",
      "city\n",
      "Shelbyville     5614\n",
      "Springfield    15740\n",
      "Name: track, dtype: int64\n",
      "\n",
      "\n",
      "Canciones reproducidas el Wednesday:\n",
      "city\n",
      "Shelbyville     7003\n",
      "Springfield    11056\n",
      "Name: track, dtype: int64\n",
      "\n",
      "\n",
      "Canciones reproducidas el Friday:\n",
      "city\n",
      "Shelbyville     5895\n",
      "Springfield    15945\n",
      "Name: track, dtype: int64\n",
      "\n",
      "\n"
     ]
    }
   ],
   "source": [
    "# Contar las canciones reproducidas en cada ciudad\n",
    "\n",
    "\n",
    "# Filtrar los datos para los días lunes, miércoles y viernes\n",
    "days_of_interest = ['Monday', 'Wednesday', 'Friday']\n",
    "filtered_df = df[df['day'].isin(days_of_interest)]\n",
    "\n",
    "# Contar las canciones reproducidas en cada ciudad para cada uno de los días de interés\n",
    "for day in days_of_interest:\n",
    "    count_by_city = filtered_df[filtered_df['day'] == day].groupby('city')['track'].count()\n",
    "    print(f\"Canciones reproducidas el {day}:\")\n",
    "    print(count_by_city)\n",
    "    print(\"\\n\")\n"
   ]
  },
  {
   "cell_type": "markdown",
   "metadata": {
    "id": "t_Qx-3NewAnK"
   },
   "source": [
    "`Comenta tus observaciones aquí`\n",
    "\n",
    "Lunes (Monday):\n",
    "En Springfield, se reprodujeron 15,740 canciones.\n",
    "En Shelbyville, se reprodujeron 5,614 canciones.\n",
    "Podemos observar que en Springfield se reproduce casi tres veces más música que en Shelbyville los lunes. Esto sugiere una mayor actividad musical en Springfield al inicio de la semana.\n",
    "\n",
    "Miércoles (Wednesday):\n",
    "En Springfield, se reprodujeron 11,056 canciones.\n",
    "En Shelbyville, se reprodujeron 7,003 canciones.\n",
    "El miércoles, la diferencia en la cantidad de canciones reproducidas entre las dos ciudades se reduce, pero Springfield sigue teniendo una mayor actividad de reproducción musical en comparación con Shelbyville.\n",
    "\n",
    "Viernes (Friday):\n",
    "En Springfield, se reprodujeron 15,945 canciones.\n",
    "En Shelbyville, se reprodujeron 5,895 canciones.\n",
    "El viernes, Springfield nuevamente muestra una actividad de reproducción musical significativamente mayor que Shelbyville, similar al lunes.\n",
    "\n",
    "Conclusiones Iniciales:\n",
    "En general, Springfield tiene una mayor actividad de reproducción musical que Shelbyville en los días analizados (lunes, miércoles y viernes).\n",
    "La diferencia en la actividad musical entre las dos ciudades es más pronunciada al inicio y al final de la semana (lunes y viernes).\n",
    "Aunque Shelbyville muestra una mayor actividad el miércoles en comparación con el lunes, sigue estando por debajo de Springfield en todos los días analizados.\n",
    "Estas observaciones iniciales sugieren que los usuarios de Springfield tienden a reproducir más música que los de Shelbyville en los días de la semana analizados, lo que puede indicar diferencias en el comportamiento de consumo musical entre las dos ciudades. "
   ]
  },
  {
   "cell_type": "markdown",
   "metadata": {
    "id": "dzli3w8o_Zcu"
   },
   "source": [
    "Ahora agrupemos los datos por día de la semana y encontremos el número de canciones reproducidas el lunes, miércoles y viernes. Utiliza el mismo método que antes, pero ahora necesitamos una agrupación diferente.\n"
   ]
  },
  {
   "cell_type": "code",
   "execution_count": 45,
   "metadata": {
    "id": "uZMKjiJz_Zcu",
    "trusted": true
   },
   "outputs": [
    {
     "name": "stdout",
     "output_type": "stream",
     "text": [
      "Número de canciones reproducidas en cada día para cada ciudad:\n",
      "city       Shelbyville  Springfield\n",
      "day                                \n",
      "Friday            5895        15945\n",
      "Monday            5614        15740\n",
      "Wednesday         7003        11056\n"
     ]
    }
   ],
   "source": [
    "# Calcular las canciones reproducidas en cada uno de los tres días\n",
    "\n",
    "\n",
    "# Filtrar los datos para los días lunes, miércoles y viernes\n",
    "days_of_interest = ['Monday', 'Wednesday', 'Friday']\n",
    "filtered_df = df[df['day'].isin(days_of_interest)]\n",
    "\n",
    "# Agrupar los datos por día y ciudad y contar las canciones reproducidas\n",
    "songs_by_day_and_city = filtered_df.groupby(['day', 'city'])['track'].count().unstack()\n",
    "\n",
    "# Mostrar el número de canciones reproducidas en cada día para cada ciudad\n",
    "print(\"Número de canciones reproducidas en cada día para cada ciudad:\")\n",
    "print(songs_by_day_and_city)\n",
    "\n"
   ]
  },
  {
   "cell_type": "markdown",
   "metadata": {
    "id": "cC2tNrlL_Zcu"
   },
   "source": [
    "`Comenta tus observaciones aquí`\n",
    "Conclusiones Iniciales: 1) Consistencia en la Actividad Musical: En todos los días analizados (lunes, miércoles y viernes), Springfield muestra una actividad musical consistentemente mayor que Shelbyville. 2) Patrón de Consumo Musical: La actividad musical en Springfield es significativamente alta al inicio y al final de la semana (lunes y viernes), mientras que Shelbyville muestra un aumento de actividad el miércoles, aunque sigue siendo menor en comparación con Springfield y 3) Implicaciones: Estas observaciones sugieren que los usuarios de Springfield tienen un patrón de consumo musical más intenso que los de Shelbyville, lo cual puede ser relevante para estrategias de marketing y análisis de comportamiento del usuario.\n"
   ]
  },
  {
   "cell_type": "markdown",
   "metadata": {
    "id": "POzs8bGa_Zcu"
   },
   "source": [
    "Ya sabes cómo contar entradas agrupándolas por ciudad o día. Ahora necesitas escribir una función que pueda contar entradas según ambos criterios simultáneamente.\n",
    "\n",
    "Crea la función `number_tracks()` para calcular el número de canciones reproducidas en un determinado día **y** ciudad. La función debe aceptar dos parámetros:\n",
    "\n",
    "- `day`: un día de la semana para filtrar. Por ejemplo, `'Monday'` (lunes).\n",
    "- `city`: una ciudad para filtrar. Por ejemplo, `'Springfield'`.\n",
    "\n",
    "Dentro de la función, aplicarás un filtrado consecutivo con indexación lógica.\n",
    "\n",
    "Primero filtra los datos por día y luego filtra la tabla resultante por ciudad.\n",
    "\n",
    "Después de filtrar los datos por dos criterios, cuenta el número de valores de la columna 'user_id' en la tabla resultante. Este recuento representa el número de entradas que estás buscando. Guarda el resultado en una nueva variable y devuélvelo desde la función."
   ]
  },
  {
   "cell_type": "code",
   "execution_count": 49,
   "metadata": {
    "id": "Nz3GdQB1_Zcu",
    "trusted": true
   },
   "outputs": [
    {
     "name": "stdout",
     "output_type": "stream",
     "text": [
      "Número de canciones reproducidas en Springfield el lunes: 15740\n",
      "Número de canciones reproducidas en Shelbyville el miércoles: 7003\n",
      "Número de canciones reproducidas en Springfield el viernes: 15945\n"
     ]
    }
   ],
   "source": [
    "\n",
    "# Definir la función number_tracks\n",
    "def number_tracks(day, city):\n",
    "    # Filtrar los datos por día\n",
    "    filtered_by_day = df[df['day'].str.lower() == day.lower()]\n",
    "    # Filtrar los datos resultantes por ciudad\n",
    "    filtered_by_city = filtered_by_day[filtered_by_day['city'].str.lower() == city.lower()]\n",
    "    # Contar el número de valores en la columna 'user_id'\n",
    "    track_count = filtered_by_city['track'].count()\n",
    "    return track_count\n",
    "\n",
    "# Ejemplo de uso de la función\n",
    "monday_springfield_tracks = number_tracks('Monday', 'Springfield')\n",
    "wednesday_shelbyville_tracks = number_tracks('Wednesday', 'Shelbyville')\n",
    "friday_springfield_tracks = number_tracks('Friday', 'Springfield')\n",
    "\n",
    "print(f\"Número de canciones reproducidas en Springfield el lunes: {monday_springfield_tracks}\")\n",
    "print(f\"Número de canciones reproducidas en Shelbyville el miércoles: {wednesday_shelbyville_tracks}\")\n",
    "print(f\"Número de canciones reproducidas en Springfield el viernes: {friday_springfield_tracks}\")\n"
   ]
  },
  {
   "cell_type": "markdown",
   "metadata": {
    "id": "ytf7xFrFJQ2r"
   },
   "source": [
    "Llama a `number_tracks()` seis veces, cambiando los valores de los parámetros para que recuperes los datos de ambas ciudades para cada uno de los tres días."
   ]
  },
  {
   "cell_type": "code",
   "execution_count": 50,
   "metadata": {
    "id": "rJcRATNQ_Zcu",
    "trusted": true
   },
   "outputs": [
    {
     "name": "stdout",
     "output_type": "stream",
     "text": [
      "Número de canciones reproducidas en Springfield el lunes: 15740\n"
     ]
    }
   ],
   "source": [
    "# El número de canciones reproducidas en Springfield el lunes\n",
    "\n",
    "\n",
    "# Definir la función para reemplazar duplicados implícitos\n",
    "def replace_wrong_genres(df, wrong_genres, correct_genre):\n",
    "    for wrong_genre in wrong_genres:\n",
    "        df['genre'] = df['genre'].replace(wrong_genre, correct_genre)\n",
    "\n",
    "# Llamar a la función para reemplazar los duplicados implícitos\n",
    "wrong_genres = ['hip', 'hop', 'hip-hop']\n",
    "correct_genre = 'hiphop'\n",
    "replace_wrong_genres(df, wrong_genres, correct_genre)\n",
    "\n",
    "# Definir la función number_tracks\n",
    "def number_tracks(day, city):\n",
    "    # Filtrar los datos por día\n",
    "    filtered_by_day = df[df['day'].str.lower() == day.lower()]\n",
    "    # Filtrar los datos resultantes por ciudad\n",
    "    filtered_by_city = filtered_by_day[filtered_by_day['city'].str.lower() == city.lower()]\n",
    "    # Contar el número de valores en la columna 'track'\n",
    "    track_count = filtered_by_city['track'].count()\n",
    "    return track_count\n",
    "\n",
    "# Llamar a la función para obtener el número de canciones reproducidas en Springfield el lunes\n",
    "monday_springfield_tracks = number_tracks('Monday', 'Springfield')\n",
    "\n",
    "print(f\"Número de canciones reproducidas en Springfield el lunes: {monday_springfield_tracks}\")"
   ]
  },
  {
   "cell_type": "code",
   "execution_count": 5,
   "metadata": {
    "id": "hq_ncZ5T_Zcu",
    "trusted": true
   },
   "outputs": [
    {
     "name": "stdout",
     "output_type": "stream",
     "text": [
      "Número de canciones reproducidas en Shelbyville el lunes: 5614\n"
     ]
    }
   ],
   "source": [
    "# El número de canciones reproducidas en Shelbyville el lunes\n",
    "import pandas as pd\n",
    "\n",
    "# Leer el archivo CSV desde la carpeta /datasets/\n",
    "file_path = '/datasets/music_project_en.csv'\n",
    "df = pd.read_csv(file_path)\n",
    "\n",
    "# Normalizar los nombres de las columnas\n",
    "df.columns = [col.strip().lower() for col in df.columns]\n",
    "\n",
    "# Reemplazar valores ausentes en las columnas 'track', 'artist', y 'genre' con 'unknown'\n",
    "columns_to_replace = ['track', 'artist', 'genre']\n",
    "for col in columns_to_replace:\n",
    "    df[col].fillna('unknown', inplace=True)\n",
    "\n",
    "# Eliminar todos los duplicados explícitos\n",
    "df = df.drop_duplicates()\n",
    "\n",
    "# Definir la función para reemplazar duplicados implícitos\n",
    "def replace_wrong_genres(df, wrong_genres, correct_genre):\n",
    "    for wrong_genre in wrong_genres:\n",
    "        df['genre'] = df['genre'].replace(wrong_genre, correct_genre)\n",
    "\n",
    "# Llamar a la función para reemplazar los duplicados implícitos\n",
    "wrong_genres = ['hip', 'hop', 'hip-hop']\n",
    "correct_genre = 'hiphop'\n",
    "replace_wrong_genres(df, wrong_genres, correct_genre)\n",
    "\n",
    "# Definir la función number_tracks\n",
    "def number_tracks(day, city):\n",
    "    # Filtrar los datos por día\n",
    "    filtered_by_day = df[df['day'].str.lower() == day.lower()]\n",
    "    # Filtrar los datos resultantes por ciudad\n",
    "    filtered_by_city = filtered_by_day[filtered_by_day['city'].str.lower() == city.lower()]\n",
    "    # Contar el número de valores en la columna 'track'\n",
    "    track_count = filtered_by_city['track'].count()\n",
    "    return track_count\n",
    "\n",
    "# Llamar a la función para obtener el número de canciones reproducidas en Shelbyville el lunes\n",
    "monday_Shelbyville_tracks = number_tracks('Monday', 'Shelbyville')\n",
    "\n",
    "print(f\"Número de canciones reproducidas en Shelbyville el lunes: {monday_Shelbyville_tracks}\")\n"
   ]
  },
  {
   "cell_type": "code",
   "execution_count": 51,
   "metadata": {
    "id": "_NTy2VPU_Zcu",
    "trusted": true
   },
   "outputs": [
    {
     "name": "stdout",
     "output_type": "stream",
     "text": [
      "Número de canciones reproducidas en Springfield el miércoles: 11056\n"
     ]
    }
   ],
   "source": [
    "# El número de canciones reproducidas en Springfield el miércoles\n",
    "\n",
    "\n",
    "# Definir la función number_tracks\n",
    "def number_tracks(day, city):\n",
    "    # Filtrar los datos por día\n",
    "    filtered_by_day = df[df['day'].str.lower() == day.lower()]\n",
    "    # Filtrar los datos resultantes por ciudad\n",
    "    filtered_by_city = filtered_by_day[filtered_by_day['city'].str.lower() == city.lower()]\n",
    "    # Contar el número de valores en la columna 'track'\n",
    "    track_count = filtered_by_city['track'].count()\n",
    "    return track_count\n",
    "\n",
    "# Llamar a la función para obtener el número de canciones reproducidas en Springfield el miércoles\n",
    "wednesday_springfield_tracks = number_tracks('Wednesday', 'Springfield')\n",
    "\n",
    "print(f\"Número de canciones reproducidas en Springfield el miércoles: {wednesday_springfield_tracks}\")\n",
    "\n"
   ]
  },
  {
   "cell_type": "code",
   "execution_count": 52,
   "metadata": {
    "id": "j2y3TAwo_Zcu",
    "trusted": true
   },
   "outputs": [
    {
     "name": "stdout",
     "output_type": "stream",
     "text": [
      "Número de canciones reproducidas en Shelbyville el miércoles: 7003\n"
     ]
    }
   ],
   "source": [
    "# El número de canciones reproducidas en Shelbyville el miércoles\n",
    "\n",
    "\n",
    "# Definir la función number_tracks\n",
    "def number_tracks(day, city):\n",
    "    # Filtrar los datos por día\n",
    "    filtered_by_day = df[df['day'].str.lower() == day.lower()]\n",
    "    # Filtrar los datos resultantes por ciudad\n",
    "    filtered_by_city = filtered_by_day[filtered_by_day['city'].str.lower() == city.lower()]\n",
    "    # Contar el número de valores en la columna 'track'\n",
    "    track_count = filtered_by_city['track'].count()\n",
    "    return track_count\n",
    "\n",
    "# Llamar a la función para obtener el número de canciones reproducidas en Shelbyville el miércoles\n",
    "wednesday_shelbyville_tracks = number_tracks('Wednesday', 'Shelbyville')\n",
    "\n",
    "print(f\"Número de canciones reproducidas en Shelbyville el miércoles: {wednesday_shelbyville_tracks}\")\n",
    "\n"
   ]
  },
  {
   "cell_type": "code",
   "execution_count": 53,
   "metadata": {
    "id": "vYDw5u_K_Zcu",
    "trusted": true
   },
   "outputs": [
    {
     "name": "stdout",
     "output_type": "stream",
     "text": [
      "Número de canciones reproducidas en Springfield el viernes: 15945\n"
     ]
    }
   ],
   "source": [
    "# El número de canciones reproducidas en Springfield el viernes\n",
    "\n",
    "# Definir la función number_tracks\n",
    "def number_tracks(day, city):\n",
    "    # Filtrar los datos por día\n",
    "    filtered_by_day = df[df['day'].str.lower() == day.lower()]\n",
    "    # Filtrar los datos resultantes por ciudad\n",
    "    filtered_by_city = filtered_by_day[filtered_by_day['city'].str.lower() == city.lower()]\n",
    "    # Contar el número de valores en la columna 'track'\n",
    "    track_count = filtered_by_city['track'].count()\n",
    "    return track_count\n",
    "\n",
    "# Llamar a la función para obtener el número de canciones reproducidas en Springfield el viernes\n",
    "friday_springfield_tracks = number_tracks('Friday', 'Springfield')\n",
    "\n",
    "print(f\"Número de canciones reproducidas en Springfield el viernes: {friday_springfield_tracks}\")\n"
   ]
  },
  {
   "cell_type": "code",
   "execution_count": 54,
   "metadata": {
    "id": "8_yzFtW3_Zcu",
    "trusted": true
   },
   "outputs": [
    {
     "name": "stdout",
     "output_type": "stream",
     "text": [
      "Número de canciones reproducidas en Shelbyville el viernes: 5895\n"
     ]
    }
   ],
   "source": [
    "# El número de canciones reproducidas en Shelbyville el viernes\n",
    "\n",
    "# Definir la función number_tracks\n",
    "def number_tracks(day, city):\n",
    "    # Filtrar los datos por día\n",
    "    filtered_by_day = df[df['day'].str.lower() == day.lower()]\n",
    "    # Filtrar los datos resultantes por ciudad\n",
    "    filtered_by_city = filtered_by_day[filtered_by_day['city'].str.lower() == city.lower()]\n",
    "    # Contar el número de valores en la columna 'track'\n",
    "    track_count = filtered_by_city['track'].count()\n",
    "    return track_count\n",
    "\n",
    "# Llamar a la función para obtener el número de canciones reproducidas en Shelbyville el viernes\n",
    "friday_shelbyville_tracks = number_tracks('Friday', 'Shelbyville')\n",
    "\n",
    "print(f\"Número de canciones reproducidas en Shelbyville el viernes: {friday_shelbyville_tracks}\")\n"
   ]
  },
  {
   "cell_type": "markdown",
   "metadata": {
    "id": "-EgPIHYu_Zcu"
   },
   "source": [
    "**Conclusiones**\n",
    "\n",
    "`Comenta si la hipótesis es correcta o se debe rechazar. Explica tu razonamiento.`"
   ]
  },
  {
   "cell_type": "markdown",
   "metadata": {
    "id": "p7nFQajCVw5B"
   },
   "source": [
    "[Volver a Contenidos](#back)"
   ]
  },
  {
   "cell_type": "markdown",
   "metadata": {
    "id": "ykKQ0N65_Zcv"
   },
   "source": [
    "# Conclusiones <a id='end'></a>"
   ]
  },
  {
   "cell_type": "markdown",
   "metadata": {
    "id": "tjUwbHb3_Zcv"
   },
   "source": [
    "Tras analizar los datos de reproducción de canciones en Springfield y Shelbyville durante los días lunes, miércoles y viernes, llegué a las siguientes conclusiones:\n",
    "\n",
    "Diferencias Según la Ciudad:\n",
    "\n",
    "En todos los días analizados, Springfield muestra una mayor actividad de reproducción musical en comparación con Shelbyville.\n",
    "El lunes, en Springfield se reproducen 15,740 canciones frente a las 5,614 en Shelbyville.\n",
    "El miércoles, Springfield registra 11,056 reproducciones, mientras que Shelbyville tiene 7,003.\n",
    "El viernes, Springfield vuelve a tener una actividad notablemente mayor con 15,945 canciones reproducidas, en contraste con las 5,895 en Shelbyville.\n",
    "\n",
    "Diferencias Según el Día de la Semana:\n",
    "\n",
    "En Springfield, la actividad de reproducción musical es alta tanto al inicio como al final de la semana. El lunes se reproducen 15,740 canciones y el viernes 15,945, mientras que el miércoles hay una disminución a 11,056 canciones.\n",
    "En Shelbyville, aunque la actividad es más uniforme a lo largo de la semana, también se observa una disminución en la cantidad de canciones reproducidas el viernes en comparación con el miércoles. El miércoles se reproducen 7,003 canciones, mientras que el viernes el número baja a 5,895.\n",
    "\n",
    "Confirmación de la Hipótesis:\n",
    "\n",
    "La hipótesis planteada establece que \"la actividad de los usuarios y las usuarias difiere según el día de la semana y dependiendo de la ciudad\".\n",
    "Los resultados apoyan esta hipótesis, mostrando diferencias significativas en la actividad de reproducción de música tanto entre las dos ciudades como entre los diferentes días de la semana.\n",
    "\n",
    "Razonamiento:\n",
    "\n",
    "La diferencia en el número de canciones reproducidas entre Springfield y Shelbyville cada día de la semana apoya la parte de la hipótesis relacionada con la ciudad.\n",
    "La variación en la actividad de reproducción entre lunes, miércoles y viernes dentro de cada ciudad respalda la parte de la hipótesis relacionada con el día de la semana.\n",
    "Por lo tanto, puedo concluir que la hipótesis es correcta. La actividad de los usuarios y las usuarias difiere según el día de la semana y dependiendo de la ciudad. Los datos analizados muestran claras diferencias tanto entre las ciudades como entre los días de la semana, validando la hipótesis planteada."
   ]
  },
  {
   "cell_type": "markdown",
   "metadata": {
    "id": "azLHu64yOIp7"
   },
   "source": [
    "### Nota\n",
    "En proyectos de investigación reales, la prueba de hipótesis estadística es más precisa y cuantitativa. También ten en cuenta que no siempre se pueden sacar conclusiones sobre una ciudad entera a partir de datos de una sola fuente.\n",
    "\n",
    "Aprenderás más sobre la prueba de hipótesis en el sprint de análisis estadístico de datos."
   ]
  },
  {
   "cell_type": "markdown",
   "metadata": {
    "id": "Ju4AHDSgV1FE"
   },
   "source": [
    "[Volver a Contenidos](#back)"
   ]
  }
 ],
 "metadata": {
  "ExecuteTimeLog": [
   {
    "duration": 4,
    "start_time": "2024-06-25T01:56:27.753Z"
   },
   {
    "duration": 472,
    "start_time": "2024-06-25T01:57:27.188Z"
   },
   {
    "duration": 3,
    "start_time": "2024-06-25T05:33:12.342Z"
   },
   {
    "duration": 326,
    "start_time": "2024-06-25T05:33:20.605Z"
   },
   {
    "duration": 31,
    "start_time": "2024-06-25T05:34:27.296Z"
   },
   {
    "duration": 932,
    "start_time": "2024-06-25T05:35:03.645Z"
   },
   {
    "duration": 257,
    "start_time": "2024-06-25T05:35:12.845Z"
   },
   {
    "duration": 11,
    "start_time": "2024-06-25T05:36:35.087Z"
   },
   {
    "duration": 76,
    "start_time": "2024-06-25T05:38:45.203Z"
   },
   {
    "duration": 38,
    "start_time": "2024-06-25T05:39:11.259Z"
   },
   {
    "duration": 5,
    "start_time": "2024-06-26T02:46:12.400Z"
   },
   {
    "duration": 316,
    "start_time": "2024-06-26T02:46:17.916Z"
   },
   {
    "duration": 21,
    "start_time": "2024-06-26T02:46:49.235Z"
   },
   {
    "duration": 643,
    "start_time": "2024-06-26T02:48:23.938Z"
   },
   {
    "duration": 7,
    "start_time": "2024-06-26T02:53:28.082Z"
   },
   {
    "duration": 163,
    "start_time": "2024-06-26T02:54:57.931Z"
   },
   {
    "duration": 161,
    "start_time": "2024-06-26T02:55:14.756Z"
   },
   {
    "duration": 160,
    "start_time": "2024-06-26T02:56:05.133Z"
   },
   {
    "duration": 160,
    "start_time": "2024-06-26T02:56:21.699Z"
   },
   {
    "duration": 161,
    "start_time": "2024-06-26T03:00:35.377Z"
   },
   {
    "duration": 4,
    "start_time": "2024-06-26T03:02:19.321Z"
   },
   {
    "duration": 3,
    "start_time": "2024-06-26T03:02:27.312Z"
   },
   {
    "duration": 159,
    "start_time": "2024-06-26T03:02:39.086Z"
   },
   {
    "duration": 161,
    "start_time": "2024-06-26T03:03:57.862Z"
   },
   {
    "duration": 3,
    "start_time": "2024-06-26T03:05:24.800Z"
   },
   {
    "duration": 166,
    "start_time": "2024-06-26T03:05:29.816Z"
   },
   {
    "duration": 207,
    "start_time": "2024-06-26T03:07:01.083Z"
   },
   {
    "duration": 1006,
    "start_time": "2024-06-26T03:08:53.379Z"
   },
   {
    "duration": 200,
    "start_time": "2024-06-26T03:10:25.790Z"
   },
   {
    "duration": 3,
    "start_time": "2024-06-26T03:11:53.530Z"
   },
   {
    "duration": 207,
    "start_time": "2024-06-26T03:11:57.843Z"
   },
   {
    "duration": 3,
    "start_time": "2024-06-26T03:12:43.915Z"
   },
   {
    "duration": 267,
    "start_time": "2024-06-26T03:12:49.398Z"
   },
   {
    "duration": 399,
    "start_time": "2024-06-26T03:13:56.781Z"
   },
   {
    "duration": 396,
    "start_time": "2024-06-26T03:15:09.032Z"
   },
   {
    "duration": 254,
    "start_time": "2024-06-26T03:23:35.779Z"
   },
   {
    "duration": 4,
    "start_time": "2024-06-26T03:32:18.453Z"
   },
   {
    "duration": 3,
    "start_time": "2024-06-26T03:32:51.881Z"
   },
   {
    "duration": 3,
    "start_time": "2024-06-26T03:32:54.151Z"
   },
   {
    "duration": 268,
    "start_time": "2024-06-26T03:33:45.015Z"
   },
   {
    "duration": 263,
    "start_time": "2024-06-26T03:34:25.756Z"
   },
   {
    "duration": 326,
    "start_time": "2024-06-26T03:44:53.067Z"
   },
   {
    "duration": 3,
    "start_time": "2024-06-26T03:48:36.366Z"
   },
   {
    "duration": 293,
    "start_time": "2024-06-26T03:48:40.620Z"
   },
   {
    "duration": 4,
    "start_time": "2024-06-26T04:04:05.837Z"
   },
   {
    "duration": 11,
    "start_time": "2024-06-26T04:04:12.676Z"
   },
   {
    "duration": 375,
    "start_time": "2024-06-26T04:04:22.171Z"
   },
   {
    "duration": 8,
    "start_time": "2024-06-26T04:05:48.692Z"
   },
   {
    "duration": 295,
    "start_time": "2024-06-26T04:07:06.265Z"
   },
   {
    "duration": 407,
    "start_time": "2024-06-26T04:09:17.568Z"
   },
   {
    "duration": 5,
    "start_time": "2024-06-26T23:07:13.627Z"
   },
   {
    "duration": 792,
    "start_time": "2024-06-26T23:07:23.300Z"
   },
   {
    "duration": 298,
    "start_time": "2024-06-26T23:11:09.032Z"
   },
   {
    "duration": 713,
    "start_time": "2024-06-26T23:13:30.974Z"
   },
   {
    "duration": 317,
    "start_time": "2024-06-26T23:14:52.810Z"
   },
   {
    "duration": 277,
    "start_time": "2024-06-26T23:51:47.080Z"
   },
   {
    "duration": 288,
    "start_time": "2024-06-26T23:53:47.120Z"
   },
   {
    "duration": 281,
    "start_time": "2024-06-27T00:11:44.889Z"
   },
   {
    "duration": 315,
    "start_time": "2024-06-27T00:13:32.188Z"
   },
   {
    "duration": 341,
    "start_time": "2024-06-27T00:14:28.317Z"
   },
   {
    "duration": 319,
    "start_time": "2024-06-28T02:42:50.093Z"
   },
   {
    "duration": 22,
    "start_time": "2024-06-28T02:43:04.668Z"
   },
   {
    "duration": 614,
    "start_time": "2024-06-28T02:43:15.581Z"
   },
   {
    "duration": 6,
    "start_time": "2024-06-28T03:04:17.371Z"
   },
   {
    "duration": 5,
    "start_time": "2024-06-28T03:04:22.934Z"
   },
   {
    "duration": 6,
    "start_time": "2024-06-28T03:05:26.717Z"
   },
   {
    "duration": 6,
    "start_time": "2024-06-28T03:05:38.082Z"
   },
   {
    "duration": 4,
    "start_time": "2024-06-28T03:25:37.123Z"
   },
   {
    "duration": 4,
    "start_time": "2024-06-28T03:25:42.814Z"
   },
   {
    "duration": 7,
    "start_time": "2024-06-28T03:28:01.327Z"
   },
   {
    "duration": 159,
    "start_time": "2024-06-28T03:31:46.276Z"
   },
   {
    "duration": 159,
    "start_time": "2024-06-28T03:32:50.411Z"
   },
   {
    "duration": 6,
    "start_time": "2024-06-28T03:34:16.550Z"
   },
   {
    "duration": 5,
    "start_time": "2024-06-28T03:34:32.471Z"
   },
   {
    "duration": 6,
    "start_time": "2024-06-28T03:35:18.158Z"
   },
   {
    "duration": 6,
    "start_time": "2024-06-28T03:35:59.034Z"
   },
   {
    "duration": 6,
    "start_time": "2024-06-28T03:36:50.605Z"
   },
   {
    "duration": 7,
    "start_time": "2024-06-28T03:37:45.860Z"
   },
   {
    "duration": 4,
    "start_time": "2024-06-28T03:38:15.671Z"
   },
   {
    "duration": 27,
    "start_time": "2024-06-28T03:39:00.608Z"
   },
   {
    "duration": 178,
    "start_time": "2024-06-28T03:39:08.372Z"
   },
   {
    "duration": 27,
    "start_time": "2024-06-28T03:39:25.290Z"
   },
   {
    "duration": 60,
    "start_time": "2024-06-28T03:40:00.293Z"
   },
   {
    "duration": 847,
    "start_time": "2024-06-28T03:40:21.600Z"
   },
   {
    "duration": 40,
    "start_time": "2024-06-28T03:40:47.214Z"
   },
   {
    "duration": 4,
    "start_time": "2024-06-28T03:41:52.905Z"
   },
   {
    "duration": 28,
    "start_time": "2024-06-28T03:42:36.975Z"
   },
   {
    "duration": 72,
    "start_time": "2024-06-28T03:43:28.453Z"
   },
   {
    "duration": 233,
    "start_time": "2024-06-28T03:43:41.095Z"
   },
   {
    "duration": 71,
    "start_time": "2024-06-28T03:45:29.639Z"
   },
   {
    "duration": 138,
    "start_time": "2024-06-28T03:45:49.054Z"
   },
   {
    "duration": 376,
    "start_time": "2024-06-28T03:46:08.110Z"
   },
   {
    "duration": 207,
    "start_time": "2024-06-28T03:46:25.806Z"
   },
   {
    "duration": 377,
    "start_time": "2024-06-28T03:46:47.362Z"
   },
   {
    "duration": 143,
    "start_time": "2024-06-28T03:47:21.700Z"
   },
   {
    "duration": 69,
    "start_time": "2024-06-28T03:47:43.121Z"
   },
   {
    "duration": 13,
    "start_time": "2024-06-28T03:48:14.363Z"
   },
   {
    "duration": 22,
    "start_time": "2024-06-28T03:49:35.554Z"
   },
   {
    "duration": 20,
    "start_time": "2024-06-28T03:50:03.316Z"
   },
   {
    "duration": 13,
    "start_time": "2024-06-28T03:50:40.916Z"
   },
   {
    "duration": 25,
    "start_time": "2024-06-28T03:51:18.329Z"
   },
   {
    "duration": 311,
    "start_time": "2024-06-28T03:51:37.123Z"
   },
   {
    "duration": 59,
    "start_time": "2024-06-28T03:54:24.959Z"
   },
   {
    "duration": 35,
    "start_time": "2024-06-28T03:55:20.679Z"
   },
   {
    "duration": 34,
    "start_time": "2024-06-28T03:59:22.562Z"
   },
   {
    "duration": 150,
    "start_time": "2024-06-28T04:00:17.029Z"
   },
   {
    "duration": 117,
    "start_time": "2024-06-28T04:00:33.304Z"
   },
   {
    "duration": 126,
    "start_time": "2024-06-28T04:00:50.939Z"
   },
   {
    "duration": 112,
    "start_time": "2024-06-28T04:00:59.783Z"
   },
   {
    "duration": 54,
    "start_time": "2024-06-28T04:01:50.742Z"
   },
   {
    "duration": 41,
    "start_time": "2024-06-28T04:05:19.333Z"
   },
   {
    "duration": 39,
    "start_time": "2024-06-28T04:05:56.574Z"
   },
   {
    "duration": 44,
    "start_time": "2024-06-28T04:06:18.432Z"
   },
   {
    "duration": 42,
    "start_time": "2024-06-28T04:06:32.183Z"
   },
   {
    "duration": 4,
    "start_time": "2024-06-28T04:24:36.744Z"
   }
  ],
  "colab": {
   "collapsed_sections": [
    "E0vqbgi9ay0H",
    "VUC88oWjTJw2"
   ],
   "provenance": []
  },
  "kernelspec": {
   "display_name": "Python 3 (ipykernel)",
   "language": "python",
   "name": "python3"
  },
  "language_info": {
   "codemirror_mode": {
    "name": "ipython",
    "version": 3
   },
   "file_extension": ".py",
   "mimetype": "text/x-python",
   "name": "python",
   "nbconvert_exporter": "python",
   "pygments_lexer": "ipython3",
   "version": "3.9.19"
  },
  "toc": {
   "base_numbering": 1,
   "nav_menu": {},
   "number_sections": true,
   "sideBar": true,
   "skip_h1_title": true,
   "title_cell": "Table of Contents",
   "title_sidebar": "Contents",
   "toc_cell": true,
   "toc_position": {
    "height": "calc(100% - 180px)",
    "left": "10px",
    "top": "150px",
    "width": "303.825px"
   },
   "toc_section_display": true,
   "toc_window_display": false
  }
 },
 "nbformat": 4,
 "nbformat_minor": 1
}
